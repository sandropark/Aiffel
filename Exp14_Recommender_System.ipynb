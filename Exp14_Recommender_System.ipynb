{
 "cells": [
  {
   "cell_type": "markdown",
   "id": "752f88cc",
   "metadata": {},
   "source": [
    "# 14. 아이유팬이 좋아할 만한 다른 아티스트 찾기\n",
    "\n",
    "\n",
    "### 실습 목표\n",
    "- 추천 시스템의 개념과 목적을 이해한다.\n",
    "\n",
    "- Implicit 라이브러리를 활용하여 Matrix Factorization(이하 MF) 기반의 추천 모델을 만들어 본다.\n",
    "\n",
    "- 음악 감상 기록을 활용하여 비슷한 아티스트를 찾고 아티스트를 추천해 본다.\n",
    "\n",
    "- 추천 시스템에서 자주 사용되는 데이터 구조인 CSR Matrix을 익힌다\n",
    "\n",
    "- 유저의 행위 데이터 중 Explicit data와 Implicit data의 차이점을 익힌다.\n",
    "\n",
    "- 새로운 데이터셋으로 직접 추천 모델을 만들어 본다\n",
    "\n",
    "### 목차\n",
    "- 추천 시스템이란 게 뭔가요?\n",
    "\n",
    "- 데이터 탐색하기와 전처리\n",
    "\n",
    "- 사용자의 명시적/암묵적 평가\n",
    "\n",
    "- Matrix Factorization(MF)\n",
    "\n",
    "- CSR(Compressed Sparse Row) Matrix\n",
    "\n",
    "- MF 모델 학습하기\n",
    "\n",
    "- 비슷한 아티스트 찾기 + 유저에게 추천하기\n",
    "\n",
    "- 프로젝트 - MovieLens 영화 추천 실습"
   ]
  },
  {
   "cell_type": "markdown",
   "id": "db5509fd",
   "metadata": {},
   "source": [
    "### 데이터 준비\n",
    "\n",
    "데이터를 로드한다. 데이터에 컬럼명이 없어서 지정해준다."
   ]
  },
  {
   "cell_type": "code",
   "execution_count": 3,
   "id": "70adb930",
   "metadata": {
    "scrolled": true
   },
   "outputs": [],
   "source": [
    "import pandas as pd\n",
    "import os\n",
    "\n",
    "fname = os.getenv('HOME') + '/aiffel/recommendata_iu/data/lastfm-dataset-360K/usersha1-artmbid-artname-plays.tsv'\n",
    "col_names = ['user_id', 'artist_MBID', 'artist', 'play']   # 임의로 지정한 컬럼명\n",
    "data = pd.read_csv(fname, sep='\\t', names= col_names)      # sep='\\t'로 주어야 tsv를 열 수 있습니다.  \n",
    "data.head()"
   ]
  },
  {
   "cell_type": "markdown",
   "id": "e081e257",
   "metadata": {},
   "source": [
    "artist_MBID 컬럼은 사용하지 않는다. 제거한다."
   ]
  },
  {
   "cell_type": "code",
   "execution_count": 9,
   "id": "899c8310",
   "metadata": {},
   "outputs": [
    {
     "data": {
      "text/html": [
       "<div>\n",
       "<style scoped>\n",
       "    .dataframe tbody tr th:only-of-type {\n",
       "        vertical-align: middle;\n",
       "    }\n",
       "\n",
       "    .dataframe tbody tr th {\n",
       "        vertical-align: top;\n",
       "    }\n",
       "\n",
       "    .dataframe thead th {\n",
       "        text-align: right;\n",
       "    }\n",
       "</style>\n",
       "<table border=\"1\" class=\"dataframe\">\n",
       "  <thead>\n",
       "    <tr style=\"text-align: right;\">\n",
       "      <th></th>\n",
       "      <th>user_id</th>\n",
       "      <th>artist</th>\n",
       "      <th>play</th>\n",
       "    </tr>\n",
       "  </thead>\n",
       "  <tbody>\n",
       "    <tr>\n",
       "      <th>0</th>\n",
       "      <td>00000c289a1829a808ac09c00daf10bc3c4e223b</td>\n",
       "      <td>betty blowtorch</td>\n",
       "      <td>2137</td>\n",
       "    </tr>\n",
       "    <tr>\n",
       "      <th>1</th>\n",
       "      <td>00000c289a1829a808ac09c00daf10bc3c4e223b</td>\n",
       "      <td>die Ärzte</td>\n",
       "      <td>1099</td>\n",
       "    </tr>\n",
       "    <tr>\n",
       "      <th>2</th>\n",
       "      <td>00000c289a1829a808ac09c00daf10bc3c4e223b</td>\n",
       "      <td>melissa etheridge</td>\n",
       "      <td>897</td>\n",
       "    </tr>\n",
       "    <tr>\n",
       "      <th>3</th>\n",
       "      <td>00000c289a1829a808ac09c00daf10bc3c4e223b</td>\n",
       "      <td>elvenking</td>\n",
       "      <td>717</td>\n",
       "    </tr>\n",
       "    <tr>\n",
       "      <th>4</th>\n",
       "      <td>00000c289a1829a808ac09c00daf10bc3c4e223b</td>\n",
       "      <td>juliette &amp; the licks</td>\n",
       "      <td>706</td>\n",
       "    </tr>\n",
       "  </tbody>\n",
       "</table>\n",
       "</div>"
      ],
      "text/plain": [
       "                                    user_id                artist  play\n",
       "0  00000c289a1829a808ac09c00daf10bc3c4e223b       betty blowtorch  2137\n",
       "1  00000c289a1829a808ac09c00daf10bc3c4e223b             die Ärzte  1099\n",
       "2  00000c289a1829a808ac09c00daf10bc3c4e223b     melissa etheridge   897\n",
       "3  00000c289a1829a808ac09c00daf10bc3c4e223b             elvenking   717\n",
       "4  00000c289a1829a808ac09c00daf10bc3c4e223b  juliette & the licks   706"
      ]
     },
     "execution_count": 9,
     "metadata": {},
     "output_type": "execute_result"
    }
   ],
   "source": [
    "# 사용하는 컬럼만 남겨줍니다.\n",
    "using_cols = ['user_id', 'artist', 'play']\n",
    "data = data[using_cols]\n",
    "data.head()"
   ]
  },
  {
   "cell_type": "code",
   "execution_count": 10,
   "id": "ffb4a33d",
   "metadata": {},
   "outputs": [
    {
     "data": {
      "text/html": [
       "<div>\n",
       "<style scoped>\n",
       "    .dataframe tbody tr th:only-of-type {\n",
       "        vertical-align: middle;\n",
       "    }\n",
       "\n",
       "    .dataframe tbody tr th {\n",
       "        vertical-align: top;\n",
       "    }\n",
       "\n",
       "    .dataframe thead th {\n",
       "        text-align: right;\n",
       "    }\n",
       "</style>\n",
       "<table border=\"1\" class=\"dataframe\">\n",
       "  <thead>\n",
       "    <tr style=\"text-align: right;\">\n",
       "      <th></th>\n",
       "      <th>user_id</th>\n",
       "      <th>artist</th>\n",
       "      <th>play</th>\n",
       "    </tr>\n",
       "  </thead>\n",
       "  <tbody>\n",
       "    <tr>\n",
       "      <th>0</th>\n",
       "      <td>00000c289a1829a808ac09c00daf10bc3c4e223b</td>\n",
       "      <td>betty blowtorch</td>\n",
       "      <td>2137</td>\n",
       "    </tr>\n",
       "    <tr>\n",
       "      <th>1</th>\n",
       "      <td>00000c289a1829a808ac09c00daf10bc3c4e223b</td>\n",
       "      <td>die ärzte</td>\n",
       "      <td>1099</td>\n",
       "    </tr>\n",
       "    <tr>\n",
       "      <th>2</th>\n",
       "      <td>00000c289a1829a808ac09c00daf10bc3c4e223b</td>\n",
       "      <td>melissa etheridge</td>\n",
       "      <td>897</td>\n",
       "    </tr>\n",
       "    <tr>\n",
       "      <th>3</th>\n",
       "      <td>00000c289a1829a808ac09c00daf10bc3c4e223b</td>\n",
       "      <td>elvenking</td>\n",
       "      <td>717</td>\n",
       "    </tr>\n",
       "    <tr>\n",
       "      <th>4</th>\n",
       "      <td>00000c289a1829a808ac09c00daf10bc3c4e223b</td>\n",
       "      <td>juliette &amp; the licks</td>\n",
       "      <td>706</td>\n",
       "    </tr>\n",
       "  </tbody>\n",
       "</table>\n",
       "</div>"
      ],
      "text/plain": [
       "                                    user_id                artist  play\n",
       "0  00000c289a1829a808ac09c00daf10bc3c4e223b       betty blowtorch  2137\n",
       "1  00000c289a1829a808ac09c00daf10bc3c4e223b             die ärzte  1099\n",
       "2  00000c289a1829a808ac09c00daf10bc3c4e223b     melissa etheridge   897\n",
       "3  00000c289a1829a808ac09c00daf10bc3c4e223b             elvenking   717\n",
       "4  00000c289a1829a808ac09c00daf10bc3c4e223b  juliette & the licks   706"
      ]
     },
     "execution_count": 10,
     "metadata": {},
     "output_type": "execute_result"
    }
   ],
   "source": [
    "# 검색을 쉽게 하기 위해 아티스트 문자열을 소문자로 바꿔줍시다.\n",
    "data['artist'] = data['artist'].str.lower() \n",
    "data.head()"
   ]
  },
  {
   "cell_type": "markdown",
   "id": "99d31579",
   "metadata": {},
   "source": [
    "첫번째 유저가 어떤 아티스트의 노래를 듣는지 확인"
   ]
  },
  {
   "cell_type": "code",
   "execution_count": 4,
   "id": "ddfe4016",
   "metadata": {},
   "outputs": [
    {
     "data": {
      "text/html": [
       "<div>\n",
       "<style scoped>\n",
       "    .dataframe tbody tr th:only-of-type {\n",
       "        vertical-align: middle;\n",
       "    }\n",
       "\n",
       "    .dataframe tbody tr th {\n",
       "        vertical-align: top;\n",
       "    }\n",
       "\n",
       "    .dataframe thead th {\n",
       "        text-align: right;\n",
       "    }\n",
       "</style>\n",
       "<table border=\"1\" class=\"dataframe\">\n",
       "  <thead>\n",
       "    <tr style=\"text-align: right;\">\n",
       "      <th></th>\n",
       "      <th>user_id</th>\n",
       "      <th>artist</th>\n",
       "      <th>play</th>\n",
       "    </tr>\n",
       "  </thead>\n",
       "  <tbody>\n",
       "    <tr>\n",
       "      <th>0</th>\n",
       "      <td>00000c289a1829a808ac09c00daf10bc3c4e223b</td>\n",
       "      <td>betty blowtorch</td>\n",
       "      <td>2137</td>\n",
       "    </tr>\n",
       "    <tr>\n",
       "      <th>1</th>\n",
       "      <td>00000c289a1829a808ac09c00daf10bc3c4e223b</td>\n",
       "      <td>die ärzte</td>\n",
       "      <td>1099</td>\n",
       "    </tr>\n",
       "    <tr>\n",
       "      <th>2</th>\n",
       "      <td>00000c289a1829a808ac09c00daf10bc3c4e223b</td>\n",
       "      <td>melissa etheridge</td>\n",
       "      <td>897</td>\n",
       "    </tr>\n",
       "    <tr>\n",
       "      <th>3</th>\n",
       "      <td>00000c289a1829a808ac09c00daf10bc3c4e223b</td>\n",
       "      <td>elvenking</td>\n",
       "      <td>717</td>\n",
       "    </tr>\n",
       "    <tr>\n",
       "      <th>4</th>\n",
       "      <td>00000c289a1829a808ac09c00daf10bc3c4e223b</td>\n",
       "      <td>juliette &amp; the licks</td>\n",
       "      <td>706</td>\n",
       "    </tr>\n",
       "    <tr>\n",
       "      <th>5</th>\n",
       "      <td>00000c289a1829a808ac09c00daf10bc3c4e223b</td>\n",
       "      <td>red hot chili peppers</td>\n",
       "      <td>691</td>\n",
       "    </tr>\n",
       "    <tr>\n",
       "      <th>6</th>\n",
       "      <td>00000c289a1829a808ac09c00daf10bc3c4e223b</td>\n",
       "      <td>magica</td>\n",
       "      <td>545</td>\n",
       "    </tr>\n",
       "    <tr>\n",
       "      <th>7</th>\n",
       "      <td>00000c289a1829a808ac09c00daf10bc3c4e223b</td>\n",
       "      <td>the black dahlia murder</td>\n",
       "      <td>507</td>\n",
       "    </tr>\n",
       "    <tr>\n",
       "      <th>8</th>\n",
       "      <td>00000c289a1829a808ac09c00daf10bc3c4e223b</td>\n",
       "      <td>the murmurs</td>\n",
       "      <td>424</td>\n",
       "    </tr>\n",
       "    <tr>\n",
       "      <th>9</th>\n",
       "      <td>00000c289a1829a808ac09c00daf10bc3c4e223b</td>\n",
       "      <td>lunachicks</td>\n",
       "      <td>403</td>\n",
       "    </tr>\n",
       "    <tr>\n",
       "      <th>10</th>\n",
       "      <td>00000c289a1829a808ac09c00daf10bc3c4e223b</td>\n",
       "      <td>walls of jericho</td>\n",
       "      <td>393</td>\n",
       "    </tr>\n",
       "    <tr>\n",
       "      <th>11</th>\n",
       "      <td>00000c289a1829a808ac09c00daf10bc3c4e223b</td>\n",
       "      <td>letzte instanz</td>\n",
       "      <td>387</td>\n",
       "    </tr>\n",
       "    <tr>\n",
       "      <th>12</th>\n",
       "      <td>00000c289a1829a808ac09c00daf10bc3c4e223b</td>\n",
       "      <td>goldfrapp</td>\n",
       "      <td>361</td>\n",
       "    </tr>\n",
       "    <tr>\n",
       "      <th>13</th>\n",
       "      <td>00000c289a1829a808ac09c00daf10bc3c4e223b</td>\n",
       "      <td>horrorpops</td>\n",
       "      <td>358</td>\n",
       "    </tr>\n",
       "    <tr>\n",
       "      <th>14</th>\n",
       "      <td>00000c289a1829a808ac09c00daf10bc3c4e223b</td>\n",
       "      <td>the butchies</td>\n",
       "      <td>329</td>\n",
       "    </tr>\n",
       "    <tr>\n",
       "      <th>15</th>\n",
       "      <td>00000c289a1829a808ac09c00daf10bc3c4e223b</td>\n",
       "      <td>jack off jill</td>\n",
       "      <td>316</td>\n",
       "    </tr>\n",
       "    <tr>\n",
       "      <th>16</th>\n",
       "      <td>00000c289a1829a808ac09c00daf10bc3c4e223b</td>\n",
       "      <td>babes in toyland</td>\n",
       "      <td>310</td>\n",
       "    </tr>\n",
       "    <tr>\n",
       "      <th>17</th>\n",
       "      <td>00000c289a1829a808ac09c00daf10bc3c4e223b</td>\n",
       "      <td>dropkick murphys</td>\n",
       "      <td>302</td>\n",
       "    </tr>\n",
       "    <tr>\n",
       "      <th>18</th>\n",
       "      <td>00000c289a1829a808ac09c00daf10bc3c4e223b</td>\n",
       "      <td>all:my:faults</td>\n",
       "      <td>288</td>\n",
       "    </tr>\n",
       "    <tr>\n",
       "      <th>19</th>\n",
       "      <td>00000c289a1829a808ac09c00daf10bc3c4e223b</td>\n",
       "      <td>le tigre</td>\n",
       "      <td>281</td>\n",
       "    </tr>\n",
       "    <tr>\n",
       "      <th>20</th>\n",
       "      <td>00000c289a1829a808ac09c00daf10bc3c4e223b</td>\n",
       "      <td>schandmaul</td>\n",
       "      <td>244</td>\n",
       "    </tr>\n",
       "    <tr>\n",
       "      <th>21</th>\n",
       "      <td>00000c289a1829a808ac09c00daf10bc3c4e223b</td>\n",
       "      <td>edguy</td>\n",
       "      <td>232</td>\n",
       "    </tr>\n",
       "    <tr>\n",
       "      <th>22</th>\n",
       "      <td>00000c289a1829a808ac09c00daf10bc3c4e223b</td>\n",
       "      <td>maximum the hormone</td>\n",
       "      <td>231</td>\n",
       "    </tr>\n",
       "    <tr>\n",
       "      <th>23</th>\n",
       "      <td>00000c289a1829a808ac09c00daf10bc3c4e223b</td>\n",
       "      <td>all ends</td>\n",
       "      <td>229</td>\n",
       "    </tr>\n",
       "    <tr>\n",
       "      <th>24</th>\n",
       "      <td>00000c289a1829a808ac09c00daf10bc3c4e223b</td>\n",
       "      <td>jack johnson</td>\n",
       "      <td>227</td>\n",
       "    </tr>\n",
       "    <tr>\n",
       "      <th>25</th>\n",
       "      <td>00000c289a1829a808ac09c00daf10bc3c4e223b</td>\n",
       "      <td>eluveitie</td>\n",
       "      <td>222</td>\n",
       "    </tr>\n",
       "    <tr>\n",
       "      <th>26</th>\n",
       "      <td>00000c289a1829a808ac09c00daf10bc3c4e223b</td>\n",
       "      <td>rasputina</td>\n",
       "      <td>220</td>\n",
       "    </tr>\n",
       "    <tr>\n",
       "      <th>27</th>\n",
       "      <td>00000c289a1829a808ac09c00daf10bc3c4e223b</td>\n",
       "      <td>london after midnight</td>\n",
       "      <td>210</td>\n",
       "    </tr>\n",
       "    <tr>\n",
       "      <th>28</th>\n",
       "      <td>00000c289a1829a808ac09c00daf10bc3c4e223b</td>\n",
       "      <td>the killers</td>\n",
       "      <td>208</td>\n",
       "    </tr>\n",
       "    <tr>\n",
       "      <th>29</th>\n",
       "      <td>00000c289a1829a808ac09c00daf10bc3c4e223b</td>\n",
       "      <td>mutyumu</td>\n",
       "      <td>205</td>\n",
       "    </tr>\n",
       "    <tr>\n",
       "      <th>30</th>\n",
       "      <td>00000c289a1829a808ac09c00daf10bc3c4e223b</td>\n",
       "      <td>judas priest</td>\n",
       "      <td>198</td>\n",
       "    </tr>\n",
       "    <tr>\n",
       "      <th>31</th>\n",
       "      <td>00000c289a1829a808ac09c00daf10bc3c4e223b</td>\n",
       "      <td>rob zombie</td>\n",
       "      <td>198</td>\n",
       "    </tr>\n",
       "    <tr>\n",
       "      <th>32</th>\n",
       "      <td>00000c289a1829a808ac09c00daf10bc3c4e223b</td>\n",
       "      <td>the bosshoss</td>\n",
       "      <td>189</td>\n",
       "    </tr>\n",
       "    <tr>\n",
       "      <th>33</th>\n",
       "      <td>00000c289a1829a808ac09c00daf10bc3c4e223b</td>\n",
       "      <td>blue öyster cult</td>\n",
       "      <td>185</td>\n",
       "    </tr>\n",
       "    <tr>\n",
       "      <th>34</th>\n",
       "      <td>00000c289a1829a808ac09c00daf10bc3c4e223b</td>\n",
       "      <td>sandra nasic</td>\n",
       "      <td>183</td>\n",
       "    </tr>\n",
       "    <tr>\n",
       "      <th>35</th>\n",
       "      <td>00000c289a1829a808ac09c00daf10bc3c4e223b</td>\n",
       "      <td>john mayer</td>\n",
       "      <td>182</td>\n",
       "    </tr>\n",
       "    <tr>\n",
       "      <th>36</th>\n",
       "      <td>00000c289a1829a808ac09c00daf10bc3c4e223b</td>\n",
       "      <td>sleater-kinney</td>\n",
       "      <td>175</td>\n",
       "    </tr>\n",
       "    <tr>\n",
       "      <th>37</th>\n",
       "      <td>00000c289a1829a808ac09c00daf10bc3c4e223b</td>\n",
       "      <td>the who</td>\n",
       "      <td>168</td>\n",
       "    </tr>\n",
       "    <tr>\n",
       "      <th>38</th>\n",
       "      <td>00000c289a1829a808ac09c00daf10bc3c4e223b</td>\n",
       "      <td>disciple</td>\n",
       "      <td>154</td>\n",
       "    </tr>\n",
       "    <tr>\n",
       "      <th>39</th>\n",
       "      <td>00000c289a1829a808ac09c00daf10bc3c4e223b</td>\n",
       "      <td>tanzwut</td>\n",
       "      <td>153</td>\n",
       "    </tr>\n",
       "    <tr>\n",
       "      <th>40</th>\n",
       "      <td>00000c289a1829a808ac09c00daf10bc3c4e223b</td>\n",
       "      <td>guano apes</td>\n",
       "      <td>151</td>\n",
       "    </tr>\n",
       "    <tr>\n",
       "      <th>41</th>\n",
       "      <td>00000c289a1829a808ac09c00daf10bc3c4e223b</td>\n",
       "      <td>the rolling stones</td>\n",
       "      <td>150</td>\n",
       "    </tr>\n",
       "    <tr>\n",
       "      <th>42</th>\n",
       "      <td>00000c289a1829a808ac09c00daf10bc3c4e223b</td>\n",
       "      <td>little big town</td>\n",
       "      <td>145</td>\n",
       "    </tr>\n",
       "    <tr>\n",
       "      <th>43</th>\n",
       "      <td>00000c289a1829a808ac09c00daf10bc3c4e223b</td>\n",
       "      <td>team dresch</td>\n",
       "      <td>137</td>\n",
       "    </tr>\n",
       "    <tr>\n",
       "      <th>44</th>\n",
       "      <td>00000c289a1829a808ac09c00daf10bc3c4e223b</td>\n",
       "      <td>betty</td>\n",
       "      <td>135</td>\n",
       "    </tr>\n",
       "    <tr>\n",
       "      <th>45</th>\n",
       "      <td>00000c289a1829a808ac09c00daf10bc3c4e223b</td>\n",
       "      <td>l7</td>\n",
       "      <td>135</td>\n",
       "    </tr>\n",
       "    <tr>\n",
       "      <th>46</th>\n",
       "      <td>00000c289a1829a808ac09c00daf10bc3c4e223b</td>\n",
       "      <td>bif naked</td>\n",
       "      <td>134</td>\n",
       "    </tr>\n",
       "    <tr>\n",
       "      <th>47</th>\n",
       "      <td>00000c289a1829a808ac09c00daf10bc3c4e223b</td>\n",
       "      <td>girlschool</td>\n",
       "      <td>134</td>\n",
       "    </tr>\n",
       "    <tr>\n",
       "      <th>48</th>\n",
       "      <td>00000c289a1829a808ac09c00daf10bc3c4e223b</td>\n",
       "      <td>the wallflowers</td>\n",
       "      <td>131</td>\n",
       "    </tr>\n",
       "  </tbody>\n",
       "</table>\n",
       "</div>"
      ],
      "text/plain": [
       "                                     user_id                   artist  play\n",
       "0   00000c289a1829a808ac09c00daf10bc3c4e223b          betty blowtorch  2137\n",
       "1   00000c289a1829a808ac09c00daf10bc3c4e223b                die ärzte  1099\n",
       "2   00000c289a1829a808ac09c00daf10bc3c4e223b        melissa etheridge   897\n",
       "3   00000c289a1829a808ac09c00daf10bc3c4e223b                elvenking   717\n",
       "4   00000c289a1829a808ac09c00daf10bc3c4e223b     juliette & the licks   706\n",
       "5   00000c289a1829a808ac09c00daf10bc3c4e223b    red hot chili peppers   691\n",
       "6   00000c289a1829a808ac09c00daf10bc3c4e223b                   magica   545\n",
       "7   00000c289a1829a808ac09c00daf10bc3c4e223b  the black dahlia murder   507\n",
       "8   00000c289a1829a808ac09c00daf10bc3c4e223b              the murmurs   424\n",
       "9   00000c289a1829a808ac09c00daf10bc3c4e223b               lunachicks   403\n",
       "10  00000c289a1829a808ac09c00daf10bc3c4e223b         walls of jericho   393\n",
       "11  00000c289a1829a808ac09c00daf10bc3c4e223b           letzte instanz   387\n",
       "12  00000c289a1829a808ac09c00daf10bc3c4e223b                goldfrapp   361\n",
       "13  00000c289a1829a808ac09c00daf10bc3c4e223b               horrorpops   358\n",
       "14  00000c289a1829a808ac09c00daf10bc3c4e223b             the butchies   329\n",
       "15  00000c289a1829a808ac09c00daf10bc3c4e223b            jack off jill   316\n",
       "16  00000c289a1829a808ac09c00daf10bc3c4e223b         babes in toyland   310\n",
       "17  00000c289a1829a808ac09c00daf10bc3c4e223b         dropkick murphys   302\n",
       "18  00000c289a1829a808ac09c00daf10bc3c4e223b            all:my:faults   288\n",
       "19  00000c289a1829a808ac09c00daf10bc3c4e223b                 le tigre   281\n",
       "20  00000c289a1829a808ac09c00daf10bc3c4e223b               schandmaul   244\n",
       "21  00000c289a1829a808ac09c00daf10bc3c4e223b                    edguy   232\n",
       "22  00000c289a1829a808ac09c00daf10bc3c4e223b      maximum the hormone   231\n",
       "23  00000c289a1829a808ac09c00daf10bc3c4e223b                 all ends   229\n",
       "24  00000c289a1829a808ac09c00daf10bc3c4e223b             jack johnson   227\n",
       "25  00000c289a1829a808ac09c00daf10bc3c4e223b                eluveitie   222\n",
       "26  00000c289a1829a808ac09c00daf10bc3c4e223b                rasputina   220\n",
       "27  00000c289a1829a808ac09c00daf10bc3c4e223b    london after midnight   210\n",
       "28  00000c289a1829a808ac09c00daf10bc3c4e223b              the killers   208\n",
       "29  00000c289a1829a808ac09c00daf10bc3c4e223b                  mutyumu   205\n",
       "30  00000c289a1829a808ac09c00daf10bc3c4e223b             judas priest   198\n",
       "31  00000c289a1829a808ac09c00daf10bc3c4e223b               rob zombie   198\n",
       "32  00000c289a1829a808ac09c00daf10bc3c4e223b             the bosshoss   189\n",
       "33  00000c289a1829a808ac09c00daf10bc3c4e223b         blue öyster cult   185\n",
       "34  00000c289a1829a808ac09c00daf10bc3c4e223b             sandra nasic   183\n",
       "35  00000c289a1829a808ac09c00daf10bc3c4e223b               john mayer   182\n",
       "36  00000c289a1829a808ac09c00daf10bc3c4e223b           sleater-kinney   175\n",
       "37  00000c289a1829a808ac09c00daf10bc3c4e223b                  the who   168\n",
       "38  00000c289a1829a808ac09c00daf10bc3c4e223b                 disciple   154\n",
       "39  00000c289a1829a808ac09c00daf10bc3c4e223b                  tanzwut   153\n",
       "40  00000c289a1829a808ac09c00daf10bc3c4e223b               guano apes   151\n",
       "41  00000c289a1829a808ac09c00daf10bc3c4e223b       the rolling stones   150\n",
       "42  00000c289a1829a808ac09c00daf10bc3c4e223b          little big town   145\n",
       "43  00000c289a1829a808ac09c00daf10bc3c4e223b              team dresch   137\n",
       "44  00000c289a1829a808ac09c00daf10bc3c4e223b                    betty   135\n",
       "45  00000c289a1829a808ac09c00daf10bc3c4e223b                       l7   135\n",
       "46  00000c289a1829a808ac09c00daf10bc3c4e223b                bif naked   134\n",
       "47  00000c289a1829a808ac09c00daf10bc3c4e223b               girlschool   134\n",
       "48  00000c289a1829a808ac09c00daf10bc3c4e223b          the wallflowers   131"
      ]
     },
     "execution_count": 4,
     "metadata": {},
     "output_type": "execute_result"
    }
   ],
   "source": [
    "condition = (data['user_id']== data.loc[0, 'user_id'])\n",
    "data.loc[condition]"
   ]
  },
  {
   "cell_type": "markdown",
   "id": "2d647369",
   "metadata": {},
   "source": [
    "생소한 아티스트들이 많다. 추천 시스템을 잘 사용하려면 도메인 지식이 중요하다. 검증을 해야하기 때문이다."
   ]
  },
  {
   "cell_type": "markdown",
   "id": "2fe723e4",
   "metadata": {},
   "source": [
    "### 데이터 탐색 \n",
    "\n",
    "추천 모델을 만들기 전에 데이터의 기본적인 정보를 확인한다. \n",
    "\n",
    "- 유저 수, 아티스트 수, 인기 많은 아티스트\n",
    "- 유저들이 몇 명의 아티스트를 듣고 있는지에 대한 통계\n",
    "- 유저 play 횟수 중앙값 통계"
   ]
  },
  {
   "cell_type": "code",
   "execution_count": 11,
   "id": "dbfa31ab",
   "metadata": {},
   "outputs": [
    {
     "data": {
      "text/plain": [
       "358868"
      ]
     },
     "execution_count": 11,
     "metadata": {},
     "output_type": "execute_result"
    }
   ],
   "source": [
    "# 총 유저 수\n",
    "data['user_id'].nunique()"
   ]
  },
  {
   "cell_type": "code",
   "execution_count": 12,
   "id": "42ba73ab",
   "metadata": {},
   "outputs": [
    {
     "data": {
      "text/plain": [
       "291346"
      ]
     },
     "execution_count": 12,
     "metadata": {},
     "output_type": "execute_result"
    }
   ],
   "source": [
    "# 총 아티스트 수\n",
    "data['artist'].nunique()"
   ]
  },
  {
   "cell_type": "code",
   "execution_count": 13,
   "id": "f1cbce6e",
   "metadata": {},
   "outputs": [
    {
     "data": {
      "text/plain": [
       "artist\n",
       "radiohead                77254\n",
       "the beatles              76245\n",
       "coldplay                 66658\n",
       "red hot chili peppers    48924\n",
       "muse                     46954\n",
       "metallica                45233\n",
       "pink floyd               44443\n",
       "the killers              41229\n",
       "linkin park              39773\n",
       "nirvana                  39479\n",
       "system of a down         37267\n",
       "queen                    34174\n",
       "u2                       33206\n",
       "daft punk                33001\n",
       "the cure                 32624\n",
       "led zeppelin             32295\n",
       "placebo                  32072\n",
       "depeche mode             31916\n",
       "david bowie              31862\n",
       "bob dylan                31799\n",
       "death cab for cutie      31482\n",
       "arctic monkeys           30348\n",
       "foo fighters             30144\n",
       "air                      29795\n",
       "the rolling stones       29754\n",
       "nine inch nails          28946\n",
       "sigur rós                28901\n",
       "green day                28732\n",
       "massive attack           28691\n",
       "moby                     28232\n",
       "Name: user_id, dtype: int64"
      ]
     },
     "execution_count": 13,
     "metadata": {},
     "output_type": "execute_result"
    }
   ],
   "source": [
    "# 인기 많은 아티스트\n",
    "artist_count = data.groupby('artist')['user_id'].count()\n",
    "artist_count.sort_values(ascending=False).head(30)"
   ]
  },
  {
   "cell_type": "code",
   "execution_count": 14,
   "id": "88fc0635",
   "metadata": {},
   "outputs": [
    {
     "data": {
      "text/plain": [
       "count    358868.000000\n",
       "mean         48.863234\n",
       "std           8.524272\n",
       "min           1.000000\n",
       "25%          46.000000\n",
       "50%          49.000000\n",
       "75%          51.000000\n",
       "max         166.000000\n",
       "Name: artist, dtype: float64"
      ]
     },
     "execution_count": 14,
     "metadata": {},
     "output_type": "execute_result"
    }
   ],
   "source": [
    "# 유저별 몇 명의 아티스트를 듣고 있는지 통계\n",
    "user_count = data.groupby('user_id')['artist'].count()\n",
    "user_count.describe()"
   ]
  },
  {
   "cell_type": "code",
   "execution_count": 15,
   "id": "90349292",
   "metadata": {},
   "outputs": [
    {
     "data": {
      "text/plain": [
       "count    358868.000000\n",
       "mean        142.187676\n",
       "std         213.089902\n",
       "min           1.000000\n",
       "25%          32.000000\n",
       "50%          83.000000\n",
       "75%         180.000000\n",
       "max       50142.000000\n",
       "Name: play, dtype: float64"
      ]
     },
     "execution_count": 15,
     "metadata": {},
     "output_type": "execute_result"
    }
   ],
   "source": [
    "# 유저별 play횟수 중앙값 통계\n",
    "user_median = data.groupby('user_id')['play'].median()\n",
    "user_median.describe()"
   ]
  },
  {
   "cell_type": "markdown",
   "id": "d9ecb822",
   "metadata": {},
   "source": [
    "### 모델 검증을 위한 사용자 초기 정보 세팅\n",
    "\n",
    "자신이 좋아하는 아티스트를 등록한다."
   ]
  },
  {
   "cell_type": "code",
   "execution_count": 16,
   "id": "6342470d",
   "metadata": {},
   "outputs": [
    {
     "data": {
      "text/html": [
       "<div>\n",
       "<style scoped>\n",
       "    .dataframe tbody tr th:only-of-type {\n",
       "        vertical-align: middle;\n",
       "    }\n",
       "\n",
       "    .dataframe tbody tr th {\n",
       "        vertical-align: top;\n",
       "    }\n",
       "\n",
       "    .dataframe thead th {\n",
       "        text-align: right;\n",
       "    }\n",
       "</style>\n",
       "<table border=\"1\" class=\"dataframe\">\n",
       "  <thead>\n",
       "    <tr style=\"text-align: right;\">\n",
       "      <th></th>\n",
       "      <th>user_id</th>\n",
       "      <th>artist</th>\n",
       "      <th>play</th>\n",
       "    </tr>\n",
       "  </thead>\n",
       "  <tbody>\n",
       "    <tr>\n",
       "      <th>17535650</th>\n",
       "      <td>sep 20, 2008</td>\n",
       "      <td>turbostaat</td>\n",
       "      <td>12</td>\n",
       "    </tr>\n",
       "    <tr>\n",
       "      <th>17535651</th>\n",
       "      <td>sep 20, 2008</td>\n",
       "      <td>cuba missouri</td>\n",
       "      <td>11</td>\n",
       "    </tr>\n",
       "    <tr>\n",
       "      <th>17535652</th>\n",
       "      <td>sep 20, 2008</td>\n",
       "      <td>little man tate</td>\n",
       "      <td>11</td>\n",
       "    </tr>\n",
       "    <tr>\n",
       "      <th>17535653</th>\n",
       "      <td>sep 20, 2008</td>\n",
       "      <td>sigur rós</td>\n",
       "      <td>10</td>\n",
       "    </tr>\n",
       "    <tr>\n",
       "      <th>17535654</th>\n",
       "      <td>sep 20, 2008</td>\n",
       "      <td>the smiths</td>\n",
       "      <td>10</td>\n",
       "    </tr>\n",
       "    <tr>\n",
       "      <th>0</th>\n",
       "      <td>zimin</td>\n",
       "      <td>black eyed peas</td>\n",
       "      <td>30</td>\n",
       "    </tr>\n",
       "    <tr>\n",
       "      <th>1</th>\n",
       "      <td>zimin</td>\n",
       "      <td>maroon5</td>\n",
       "      <td>30</td>\n",
       "    </tr>\n",
       "    <tr>\n",
       "      <th>2</th>\n",
       "      <td>zimin</td>\n",
       "      <td>jason mraz</td>\n",
       "      <td>30</td>\n",
       "    </tr>\n",
       "    <tr>\n",
       "      <th>3</th>\n",
       "      <td>zimin</td>\n",
       "      <td>coldplay</td>\n",
       "      <td>30</td>\n",
       "    </tr>\n",
       "    <tr>\n",
       "      <th>4</th>\n",
       "      <td>zimin</td>\n",
       "      <td>beyoncé</td>\n",
       "      <td>30</td>\n",
       "    </tr>\n",
       "  </tbody>\n",
       "</table>\n",
       "</div>"
      ],
      "text/plain": [
       "               user_id           artist  play\n",
       "17535650  sep 20, 2008       turbostaat    12\n",
       "17535651  sep 20, 2008    cuba missouri    11\n",
       "17535652  sep 20, 2008  little man tate    11\n",
       "17535653  sep 20, 2008        sigur rós    10\n",
       "17535654  sep 20, 2008       the smiths    10\n",
       "0                zimin  black eyed peas    30\n",
       "1                zimin          maroon5    30\n",
       "2                zimin       jason mraz    30\n",
       "3                zimin         coldplay    30\n",
       "4                zimin          beyoncé    30"
      ]
     },
     "execution_count": 16,
     "metadata": {},
     "output_type": "execute_result"
    }
   ],
   "source": [
    "# 본인이 좋아하시는 아티스트 데이터로 바꿔서 추가하셔도 됩니다! 단, 이름은 꼭 데이터셋에 있는 것과 동일하게 맞춰주세요. \n",
    "my_favorite = ['black eyed peas' , 'maroon5' ,'jason mraz' ,'coldplay' ,'beyoncé']\n",
    "\n",
    "# 'zimin'이라는 user_id가 위 아티스트의 노래를 30회씩 들었다고 가정하겠습니다.\n",
    "my_playlist = pd.DataFrame({'user_id': ['zimin']*5, 'artist': my_favorite, 'play':[30]*5})\n",
    "\n",
    "if not data.isin({'user_id':['zimin']})['user_id'].any():  # user_id에 'zimin'이라는 데이터가 없다면\n",
    "    data = data.append(my_playlist)                           # 위에 임의로 만든 my_favorite 데이터를 추가해 줍니다. \n",
    "\n",
    "data.tail(10)       # 잘 추가되었는지 확인해 봅시다."
   ]
  },
  {
   "cell_type": "markdown",
   "id": "d16624b2",
   "metadata": {},
   "source": [
    "### 모델에 활용하기 위한 전처리 (실습)\n",
    "\n",
    "user와 artist 각각에 인덱싱을 해준다. "
   ]
  },
  {
   "cell_type": "code",
   "execution_count": 17,
   "id": "1b9b6cab",
   "metadata": {},
   "outputs": [],
   "source": [
    "# 고유한 유저, 아티스트를 찾아낸다.\n",
    "user_unique = data['user_id'].unique()\n",
    "artist_unique = data['artist'].unique()\n",
    "\n",
    "# 유저, 아티스트 indexing 인덱싱\n",
    "user_to_idx = {v:k for k,v in enumerate(user_unique)}\n",
    "artist_to_idx = {v:k for k,v in enumerate(artist_unique)}"
   ]
  },
  {
   "cell_type": "code",
   "execution_count": 18,
   "id": "95b25734",
   "metadata": {},
   "outputs": [
    {
     "name": "stdout",
     "output_type": "stream",
     "text": [
      "358868\n",
      "376\n"
     ]
    }
   ],
   "source": [
    "# 인덱싱이 잘 되었는지 확인해 봅니다. \n",
    "print(user_to_idx['zimin'])    # 358869명의 유저 중 마지막으로 추가된 유저이니 358868이 나와야 합니다. \n",
    "print(artist_to_idx['black eyed peas'])"
   ]
  },
  {
   "cell_type": "code",
   "execution_count": 19,
   "id": "39c3f85d",
   "metadata": {},
   "outputs": [
    {
     "name": "stdout",
     "output_type": "stream",
     "text": [
      "user_id column indexing OK!!\n",
      "artist column indexing OK!!\n"
     ]
    },
    {
     "data": {
      "text/html": [
       "<div>\n",
       "<style scoped>\n",
       "    .dataframe tbody tr th:only-of-type {\n",
       "        vertical-align: middle;\n",
       "    }\n",
       "\n",
       "    .dataframe tbody tr th {\n",
       "        vertical-align: top;\n",
       "    }\n",
       "\n",
       "    .dataframe thead th {\n",
       "        text-align: right;\n",
       "    }\n",
       "</style>\n",
       "<table border=\"1\" class=\"dataframe\">\n",
       "  <thead>\n",
       "    <tr style=\"text-align: right;\">\n",
       "      <th></th>\n",
       "      <th>user_id</th>\n",
       "      <th>artist</th>\n",
       "      <th>play</th>\n",
       "    </tr>\n",
       "  </thead>\n",
       "  <tbody>\n",
       "    <tr>\n",
       "      <th>0</th>\n",
       "      <td>0</td>\n",
       "      <td>0</td>\n",
       "      <td>2137</td>\n",
       "    </tr>\n",
       "    <tr>\n",
       "      <th>1</th>\n",
       "      <td>0</td>\n",
       "      <td>1</td>\n",
       "      <td>1099</td>\n",
       "    </tr>\n",
       "    <tr>\n",
       "      <th>2</th>\n",
       "      <td>0</td>\n",
       "      <td>2</td>\n",
       "      <td>897</td>\n",
       "    </tr>\n",
       "    <tr>\n",
       "      <th>3</th>\n",
       "      <td>0</td>\n",
       "      <td>3</td>\n",
       "      <td>717</td>\n",
       "    </tr>\n",
       "    <tr>\n",
       "      <th>4</th>\n",
       "      <td>0</td>\n",
       "      <td>4</td>\n",
       "      <td>706</td>\n",
       "    </tr>\n",
       "  </tbody>\n",
       "</table>\n",
       "</div>"
      ],
      "text/plain": [
       "   user_id  artist  play\n",
       "0        0       0  2137\n",
       "1        0       1  1099\n",
       "2        0       2   897\n",
       "3        0       3   717\n",
       "4        0       4   706"
      ]
     },
     "execution_count": 19,
     "metadata": {},
     "output_type": "execute_result"
    }
   ],
   "source": [
    "# indexing을 통해 데이터 컬럼 내 값을 바꾸는 코드\n",
    "# dictionary 자료형의 get 함수는 https://wikidocs.net/16 을 참고하세요.\n",
    "\n",
    "# user_to_idx.get을 통해 user_id 컬럼의 모든 값을 인덱싱한 Series를 구해 봅시다. \n",
    "# 혹시 정상적으로 인덱싱되지 않은 row가 있다면 인덱스가 NaN이 될 테니 dropna()로 제거합니다. \n",
    "temp_user_data = data['user_id'].map(user_to_idx.get).dropna()\n",
    "if len(temp_user_data) == len(data):   # 모든 row가 정상적으로 인덱싱되었다면\n",
    "    print('user_id column indexing OK!!')\n",
    "    data['user_id'] = temp_user_data   # data['user_id']을 인덱싱된 Series로 교체해 줍니다. \n",
    "else:\n",
    "    print('user_id column indexing Fail!!')\n",
    "\n",
    "# artist_to_idx을 통해 artist 컬럼도 동일한 방식으로 인덱싱해 줍니다. \n",
    "temp_artist_data = data['artist'].map(artist_to_idx.get).dropna()\n",
    "if len(temp_artist_data) == len(data):\n",
    "    print('artist column indexing OK!!')\n",
    "    data['artist'] = temp_artist_data\n",
    "else:\n",
    "    print('artist column indexing Fail!!')\n",
    "\n",
    "data.head()"
   ]
  },
  {
   "cell_type": "markdown",
   "id": "f5c19605",
   "metadata": {},
   "source": [
    "## 사용자의 명시적/암묵적 평가"
   ]
  },
  {
   "cell_type": "markdown",
   "id": "9b6e0fd7",
   "metadata": {},
   "source": [
    "1회만 플레이한 데이터의 비율을 확인"
   ]
  },
  {
   "cell_type": "code",
   "execution_count": 24,
   "id": "26abd27a",
   "metadata": {},
   "outputs": [
    {
     "name": "stdout",
     "output_type": "stream",
     "text": [
      "147740,17535660\n",
      "Ratio of only_one over all data is 0.84%\n"
     ]
    }
   ],
   "source": [
    "only_one = data[data['play']<2]\n",
    "one, all_data = len(only_one), len(data)\n",
    "print(f'{one},{all_data}')\n",
    "print(f'Ratio of only_one over all data is {one/all_data:.2%}')"
   ]
  },
  {
   "cell_type": "markdown",
   "id": "329fd89f",
   "metadata": {},
   "source": [
    "우리 모델은 암묵적 데이터의 해석을 위해 \n",
    "\n",
    "1) 한 번이라도 들었으면 선호한다고 판단.\n",
    "\n",
    "2) 많이 재생한 아티스트에 대해 가중치를 줘서 확실히 좋아한다고 판단."
   ]
  },
  {
   "cell_type": "markdown",
   "id": "fde08563",
   "metadata": {},
   "source": [
    "## Matrix Factorization(MF)"
   ]
  },
  {
   "attachments": {
    "image-2.png": {
     "image/png": "[encoded data removed]"
    },
    "image.png": {
     "image/png": "[encoded data removed]"
    }
   },
   "cell_type": "markdown",
   "id": "b56cefe3",
   "metadata": {},
   "source": [
    "이제 모델을 만들 차례다.\n",
    "\n",
    "m명의 사용자들이 n명의 아티스트에 대해 평가한 데이터를 포함한 (m,n)사이즈의 평가 행렬을 만든다. 행렬 중 일부는 데이터가 비어있다. 추천 시스템중 하나인 `협업 필터링`은 이런 평가 행렬을 전제로 한다. 만약 우리가 완벽하게 데이터가 채워진 평가 행렬을 얻을 수 있으면 그야말로 완벽한 추천이 가능하다. \n",
    "\n",
    "우리는 추천 시스템 모델 중 하나인 **MF**모델을 사용한다. \n",
    "(m,n)사이즈의 행렬 R을 (m,k) 사이즈의 행렬 P와 (k,n) 사이즈의 행렬 Q로 분해한다면 R은 그저 P와 Q의 행렬곱으로 표현할 수 있다는 간단한 아이디어다. 대체로 k는 m이나 n보다 훨씬 작은 값이기 때문에 계산량 측면으로도 훨씬 유리해진다. MF모델은 성능이 준수하고 Scalability가 좋아서 많이 사용되는 모델이다.\n",
    "\n",
    "![image.png](attachment:image.png)\n",
    "\n",
    "(m,k) 사이즈의 Feature Matrix P는 k차원의 벡터를 사용자 수만큼 모아놓은 행렬이다. 아래 그림에서 첫 번째 벡터 $P_0=(1,0.1)$은 바로 빨간 모자를 쓴 첫 번째 **사용자의 특성(Feature)벡터**가 된다.\n",
    "같은 방식으로 Q행렬의 첫 번째 벡터 $Q_0=(0.9,-0.2)$는 해리포터 **영화의 특성 벡터**가 된다. MF모델은 두 벡터를 내적해서 얻어지는 0.88이 바로 $R_{0,0}$으로 정의되는 사용자의 영화 선호도로 보는 모델이다.\n",
    "\n",
    "![image-2.png](attachment:image-2.png)\n",
    "\n",
    "모델의 목표는 모든 유저와 아이템에 대해 k-dimension의 벡터를 잘 만드는 것이다. \n",
    "벡터를 잘 만드는 기준은 **유저 i의 벡터($U_i$)와 아이템 j의 벡터($I_j$)를 내적했을 때 유저 i가 아이템 j에 대해 평가한 수치 ($M_{ij}$)와 비슷한지**이다. $$U_i\\cdot I_j = M_{ij}$$\n",
    "\n",
    "이전 스탭에서 'black eyed peas'를 플레이한 데이터를 추가했기 때문에 'zimin'벡터와 'black eyed peas'의 벡터를 곱했을 때 1에 가까워야 모델이 잘 학습한 것이다. \n",
    "\n",
    "모델의 목표는 해당 유저가 해당 아티스트를 선호하는지 맞추는 것이기 때문에 5번을 들었어도 5에 가까워지는 것이 아니라 1에 가까워져야 한다. \n",
    "\n",
    "만약 목표가 유저의 재생횟수를 맞추는 것이면 그에 맞는 다른 모델을 사용해야 한다."
   ]
  },
  {
   "attachments": {
    "image.png": {
     "image/png": "[encoded data removed]"
    }
   },
   "cell_type": "markdown",
   "id": "a7f31ec7",
   "metadata": {},
   "source": [
    "## CSR(Compressed Sparse Row) Matrix\n",
    "\n",
    "유저 X 아이템 평가 행렬을 생각해본다. 유저는 36만 명이고 아티스트는 29만 명이다. 이를 행렬로 표현하고 행렬의 각 원소에 정수 한 개 (1byte)가 들어간다면 36만 * 29만 * 1byte = 97GB가 필요하다.\n",
    "\n",
    "데이터가 이렇게 커지는 이유는 유저가 들어보지 못한 아티스트에 대한 정보도 함께 포함하고 있어서 그렇다. \n",
    "이럴경우 CSR Matrix를 사용하면 좋다. \n",
    "\n",
    "CSR Matrix는 Sparse(데이터가 듬성듬성있는)한 Matrix에서 0이 아닌 유효한 데이터로 채워지는 데이터의 값과 좌표 정보만으로 구성하여 메모리 사용량을 최소화하면서도 Sparse한 Matrix와 동일한 행렬을 표현할 수 있다. \n",
    "\n",
    "CSR Matrix는 data,indices,indptr로 행렬을 압축해서 표현한다. \n",
    "\n",
    "![image.png](attachment:image.png)\n",
    "\n",
    "- data : 0이 아닌 원소를 차례로 기입한 값.\n",
    "\n",
    "`data = [1,2,3,4,5,6]`\n",
    "\n",
    "- indices : data의 각 요소가 어느 열에 있는지 표현\n",
    "\n",
    "`indices = [0,4,1,3,0,3]`\n",
    "\n",
    "- indptr : 각 행에서 0이 아닌 첫 번째 원소가 data리스트에서 몇 번째에 해당하는지와 마지막에 data벡터의 길이를 추가한 값이다. 이를통해 data의 요소들이 어느 행에 있는지 알 수 있다. 다만 예시의 세 번째 행처럼 0이 아닌 원소가 없는 경우 그 다음 행의 값과 같은 값을 넣는다.\n",
    "\n",
    "`indptr = [0,2,4,4,6]`\n",
    "\n",
    "- 이를 통해 data[0:2]는 첫 번째 행, data[2:4]는 두 번째 행, data[4:4]는 세 번째 행, data[4:6]는 네 번째 행인 것을 나타낼 수 있다. \n"
   ]
  },
  {
   "cell_type": "markdown",
   "id": "d280f8de",
   "metadata": {},
   "source": [
    "### 우리 data를 가지고 CSR Matrix에 맞게 바꿔본다."
   ]
  },
  {
   "cell_type": "code",
   "execution_count": 25,
   "id": "febb13ef",
   "metadata": {},
   "outputs": [
    {
     "data": {
      "text/plain": [
       "<358869x291347 sparse matrix of type '<class 'numpy.int64'>'\n",
       "\twith 17535578 stored elements in Compressed Sparse Row format>"
      ]
     },
     "execution_count": 25,
     "metadata": {},
     "output_type": "execute_result"
    }
   ],
   "source": [
    "# 실습 위에 설명보고 이해해서 만들어보기\n",
    "from scipy.sparse import csr_matrix\n",
    "\n",
    "num_user = data['user_id'].nunique()\n",
    "num_artist = data['artist'].nunique()\n",
    "\n",
    "csr_data = csr_matrix((data.play, (data.user_id, data.artist)), shape= (num_user, num_artist))\n",
    "csr_data"
   ]
  },
  {
   "cell_type": "markdown",
   "id": "f7e8c368",
   "metadata": {},
   "source": [
    "## MF 모델 학습하기"
   ]
  },
  {
   "cell_type": "markdown",
   "id": "ac0a8bff",
   "metadata": {},
   "source": [
    "Matrix Factorization 모델을 implicit패키지를 사용해서 학습한다.\n",
    "\n",
    "- implicit 패키지는 암묵적 dataset을 사용하는 다양한 모델을 굉장히 빠르게 학습할 수 있는 패키지다.\n",
    "\n",
    "- 이 패키지에 구현된 `als` 모델을 사용한다. `Matrix Factorization`에서 쪼개진 두 Feature Matrix를 한 번에 훈련하는 것은 잘 수렴하지 않는다. 그래서 한 쪽을 고정시키고 다른 쪽을 학습하는 방식을 번갈아 수행하는 AlternatingLeastSquares 방식이 효과적이다."
   ]
  },
  {
   "cell_type": "code",
   "execution_count": 26,
   "id": "a65d2131",
   "metadata": {},
   "outputs": [],
   "source": [
    "from implicit.als import AlternatingLeastSquares\n",
    "import os\n",
    "import numpy as np\n",
    "\n",
    "# implicit 라이브러리에서 권장하고 있는 부분입니다. 학습 내용과는 무관합니다.\n",
    "os.environ['OPENBLAS_NUM_THREADS']='1'\n",
    "os.environ['KMP_DUPLICATE_LIB_OK']='True'\n",
    "os.environ['MKL_NUM_THREADS']='1'"
   ]
  },
  {
   "cell_type": "markdown",
   "id": "fb25c195",
   "metadata": {},
   "source": [
    "AlternatingLeastSquares 클래스의 __init__파라미터를 살펴본다.\n",
    "\n",
    "1) factors: 유저와 아이템의 벡터를 몇 차원으로 할 것인지\n",
    "\n",
    "2) regularization: 과적합을 방지하기 위해 정규화 값을 얼마나 사용할 것인지\n",
    "\n",
    "3) use_gpu: GPU를 사용하는 지\n",
    "\n",
    "4) iterations: epochs와 같은 의미.\n",
    "\n",
    "1,4를 늘릴 수록 학습은 잘 되지만 과적합 우려가 있다. "
   ]
  },
  {
   "cell_type": "code",
   "execution_count": 27,
   "id": "b81a3295",
   "metadata": {},
   "outputs": [],
   "source": [
    "# Implicit AlternatingLeastSquares 모델의 선언\n",
    "als_model = AlternatingLeastSquares(factors=100, regularization=0.01, use_gpu=False, iterations=15, dtype=np.float32)"
   ]
  },
  {
   "cell_type": "code",
   "execution_count": 28,
   "id": "246a78fa",
   "metadata": {},
   "outputs": [
    {
     "data": {
      "text/plain": [
       "<291347x358869 sparse matrix of type '<class 'numpy.int64'>'\n",
       "\twith 17535578 stored elements in Compressed Sparse Column format>"
      ]
     },
     "execution_count": 28,
     "metadata": {},
     "output_type": "execute_result"
    }
   ],
   "source": [
    "# als 모델은 input으로 (item X user 꼴의 matrix를 받기 때문에 Transpose해줍니다.)\n",
    "csr_data_transpose = csr_data.T\n",
    "csr_data_transpose"
   ]
  },
  {
   "cell_type": "code",
   "execution_count": 29,
   "id": "5730d486",
   "metadata": {},
   "outputs": [
    {
     "data": {
      "application/vnd.jupyter.widget-view+json": {
       "model_id": "8a9c56320c054c428f228d48adf0f10c",
       "version_major": 2,
       "version_minor": 0
      },
      "text/plain": [
       "  0%|          | 0/15 [00:00<?, ?it/s]"
      ]
     },
     "metadata": {},
     "output_type": "display_data"
    }
   ],
   "source": [
    "# 모델 훈련\n",
    "als_model.fit(csr_data_transpose)"
   ]
  },
  {
   "cell_type": "markdown",
   "id": "ffe98c33",
   "metadata": {},
   "source": [
    "1) Zimin 벡터와 black eyed peas의 벡터를 어떻게 만들고 있는지\n",
    "\n",
    "2) 두 벡터를 곱하면 어떤 값이 나오는지\n",
    "\n",
    "두 가지를 확인해본다."
   ]
  },
  {
   "cell_type": "code",
   "execution_count": 30,
   "id": "ce497483",
   "metadata": {},
   "outputs": [
    {
     "name": "stdout",
     "output_type": "stream",
     "text": [
      "슝=3\n"
     ]
    }
   ],
   "source": [
    "zimin, black_eyed_peas = user_to_idx['zimin'], artist_to_idx['black eyed peas']\n",
    "zimin_vector, black_eyed_peas_vector = als_model.user_factors[zimin], als_model.item_factors[black_eyed_peas]\n",
    "\n",
    "print('슝=3')"
   ]
  },
  {
   "cell_type": "code",
   "execution_count": 31,
   "id": "472f8805",
   "metadata": {},
   "outputs": [
    {
     "data": {
      "text/plain": [
       "array([ 0.41348216,  0.78341556, -0.24294652, -0.1912244 , -0.48446283,\n",
       "       -1.3138978 ,  0.21714865,  0.8313483 , -0.6571444 , -0.34520116,\n",
       "        0.03773383, -1.2697508 , -0.920961  , -1.0470322 , -0.4477589 ,\n",
       "       -0.5119132 , -0.09184418,  0.63000786, -0.25090334,  1.1988573 ,\n",
       "       -0.7208264 ,  0.17246607,  0.66913545,  0.9967889 ,  0.29428768,\n",
       "        0.6501782 , -1.1175262 , -0.3563806 ,  0.3144182 , -0.43937576,\n",
       "       -0.5717228 ,  0.19209017,  1.018463  ,  0.9639556 ,  0.64527655,\n",
       "        0.3549932 , -0.1185156 ,  0.03814609, -0.14763306,  0.22545126,\n",
       "       -0.5476294 ,  0.9240057 ,  0.01522023, -0.05180057, -0.98855615,\n",
       "       -1.044008  , -0.1154485 ,  0.5659708 , -0.7608224 , -0.6244814 ,\n",
       "       -0.6855251 ,  0.0219413 , -0.62383145, -0.05847148, -0.00410022,\n",
       "       -1.0795745 , -0.01967543,  0.04004795,  0.21706729,  0.38466594,\n",
       "       -0.06566136,  0.2165214 ,  0.25490507,  0.33903563, -1.1688515 ,\n",
       "        0.14562848,  0.6059217 , -0.7115942 ,  0.41569   , -0.40210527,\n",
       "       -0.4079305 ,  0.7086792 ,  0.16443995,  0.89843255, -0.18515083,\n",
       "        1.604542  ,  1.2326953 ,  0.47070634,  0.5847146 ,  0.9887147 ,\n",
       "       -0.06891395,  1.7381924 ,  0.00683224,  0.49222046, -0.21757866,\n",
       "       -0.79467005, -0.27947187,  0.7795135 , -0.29104176, -0.75035936,\n",
       "        0.68626493, -0.4729879 , -0.10916492,  0.574591  ,  0.04022127,\n",
       "        0.06022362,  0.902423  , -0.724875  , -0.15381712,  1.3418328 ],\n",
       "      dtype=float32)"
      ]
     },
     "execution_count": 31,
     "metadata": {},
     "output_type": "execute_result"
    }
   ],
   "source": [
    "zimin_vector"
   ]
  },
  {
   "cell_type": "code",
   "execution_count": 32,
   "id": "3dcf7138",
   "metadata": {
    "scrolled": true
   },
   "outputs": [
    {
     "data": {
      "text/plain": [
       "array([ 3.15232016e-03,  6.49665622e-03, -6.07711682e-03,  1.52285602e-02,\n",
       "       -1.27043098e-03, -1.51536427e-02,  9.93899070e-03,  3.90686840e-03,\n",
       "        4.18346375e-03,  1.44365048e-02, -2.38930434e-03, -1.21943112e-02,\n",
       "       -4.23281133e-04,  9.43488162e-03,  6.49187062e-03, -8.56875442e-03,\n",
       "        6.83572330e-03,  8.34838394e-03,  1.72242187e-02,  2.50247307e-02,\n",
       "        1.19818468e-02,  5.35464473e-03,  2.02590171e-02,  2.22671274e-02,\n",
       "        9.34739877e-03, -9.07235080e-04, -4.48724441e-03, -3.16994777e-03,\n",
       "        1.26637779e-02,  2.21536684e-04,  4.75803186e-04,  7.01601291e-03,\n",
       "        1.40243582e-02,  2.18086857e-02,  1.34216435e-02,  9.28326882e-03,\n",
       "        1.83116924e-02,  1.53775802e-02,  8.62066634e-03,  1.09357117e-02,\n",
       "       -1.86241069e-03,  2.12288834e-02,  4.15685214e-03,  8.03515140e-04,\n",
       "       -2.08968781e-02, -2.30584221e-04,  1.06508415e-02,  3.12368822e-04,\n",
       "       -2.23373249e-03,  4.49229823e-03,  3.83545202e-03, -8.63164663e-04,\n",
       "       -1.21386852e-02,  2.77960114e-03,  1.15392180e-02,  1.13066169e-03,\n",
       "        1.24757215e-02,  7.67328031e-03,  5.10295574e-03,  2.39633396e-02,\n",
       "       -3.46215745e-03,  1.74613651e-02,  1.40543794e-03,  7.98000116e-03,\n",
       "        5.72144578e-04,  1.04097510e-02,  3.20862955e-03,  5.59022836e-03,\n",
       "        4.90194373e-03, -6.60268497e-03,  6.45676721e-03,  2.30868869e-02,\n",
       "        1.78965218e-02,  2.57422235e-02,  1.82934068e-02,  2.82333829e-02,\n",
       "        2.88966298e-02,  2.49801110e-02,  1.84578672e-02,  2.12511383e-02,\n",
       "       -2.78851180e-03,  3.20218690e-02,  2.12677736e-02,  1.43066924e-02,\n",
       "        6.41089864e-03,  9.08413343e-03,  4.07947972e-03,  1.61954239e-02,\n",
       "        6.36981195e-03, -4.60878666e-03,  1.28541738e-02, -1.10441744e-02,\n",
       "        7.71139894e-05,  2.57732766e-03, -1.32356659e-02,  5.27442526e-03,\n",
       "        4.70892119e-04, -2.21833680e-02,  6.57502469e-03,  2.27783080e-02],\n",
       "      dtype=float32)"
      ]
     },
     "execution_count": 32,
     "metadata": {},
     "output_type": "execute_result"
    }
   ],
   "source": [
    "black_eyed_peas_vector"
   ]
  },
  {
   "cell_type": "code",
   "execution_count": 33,
   "id": "2fe1b2f6",
   "metadata": {},
   "outputs": [
    {
     "data": {
      "text/plain": [
       "0.50265473"
      ]
     },
     "execution_count": 33,
     "metadata": {},
     "output_type": "execute_result"
    }
   ],
   "source": [
    "# zimin과 black_eyed_peas를 내적하는 코드\n",
    "np.dot(zimin_vector, black_eyed_peas_vector)"
   ]
  },
  {
   "cell_type": "markdown",
   "id": "7abdde8c",
   "metadata": {},
   "source": [
    "1이 나와야 하지만 0.5가 나왔다. factor를 늘리거나 iteration를 늘려서 학습을 더 시켜야 한다. 일단은 이렇게 학습된 모델을 사용한다."
   ]
  },
  {
   "cell_type": "code",
   "execution_count": 34,
   "id": "27d57686",
   "metadata": {},
   "outputs": [
    {
     "data": {
      "text/plain": [
       "0.31432143"
      ]
     },
     "execution_count": 34,
     "metadata": {},
     "output_type": "execute_result"
    }
   ],
   "source": [
    "queen = artist_to_idx['queen']\n",
    "queen_vector = als_model.item_factors[queen]\n",
    "np.dot(zimin_vector, queen_vector)"
   ]
  },
  {
   "cell_type": "markdown",
   "id": "42e3a37a",
   "metadata": {},
   "source": [
    "모델을 잘 만들려면 데이터에 대한 이해도가 높아야 한다. 추천 시스템에서 사용하는 데이터는 사람에 대한 데이터기 때문이다. "
   ]
  },
  {
   "cell_type": "markdown",
   "id": "b128bdc0",
   "metadata": {},
   "source": [
    "## 비슷한 아티스트 찾기 + 유저에게 추천하기"
   ]
  },
  {
   "cell_type": "markdown",
   "id": "e4cb6c04",
   "metadata": {},
   "source": [
    "### 비슷한 아티스트 찾기\n",
    "\n",
    "AlternatingLeastSquares 클래스에 있는 similar_items메서드로 비슷한 아티스트를 찾는다. "
   ]
  },
  {
   "cell_type": "code",
   "execution_count": 35,
   "id": "4cd1ffe4",
   "metadata": {},
   "outputs": [
    {
     "data": {
      "text/plain": [
       "[(62, 0.9999999),\n",
       " (277, 0.9879517),\n",
       " (28, 0.98273236),\n",
       " (5, 0.98097545),\n",
       " (217, 0.9744012),\n",
       " (473, 0.97050965),\n",
       " (490, 0.96648014),\n",
       " (247, 0.9641517),\n",
       " (910, 0.95382994),\n",
       " (1018, 0.9535121),\n",
       " (418, 0.952978),\n",
       " (55, 0.9500043),\n",
       " (694, 0.9480594),\n",
       " (782, 0.94649255),\n",
       " (776, 0.93814546)]"
      ]
     },
     "execution_count": 35,
     "metadata": {},
     "output_type": "execute_result"
    }
   ],
   "source": [
    "favorite_artist = 'coldplay'\n",
    "\n",
    "artist_id = artist_to_idx[favorite_artist]\n",
    "similar_artist = als_model.similar_items(artist_id, N=15)\n",
    "similar_artist"
   ]
  },
  {
   "cell_type": "code",
   "execution_count": 36,
   "id": "6e34d559",
   "metadata": {},
   "outputs": [
    {
     "data": {
      "text/plain": [
       "['coldplay',\n",
       " 'muse',\n",
       " 'the killers',\n",
       " 'red hot chili peppers',\n",
       " 'radiohead',\n",
       " 'placebo',\n",
       " 'oasis',\n",
       " 'the beatles',\n",
       " 'nirvana',\n",
       " 'the smashing pumpkins',\n",
       " 'u2',\n",
       " 'arctic monkeys',\n",
       " 'foo fighters',\n",
       " 'the white stripes',\n",
       " 'the cure']"
      ]
     },
     "execution_count": 36,
     "metadata": {},
     "output_type": "execute_result"
    }
   ],
   "source": [
    "#artist_to_idx 를 뒤집어, index로부터 artist 이름을 얻는 dict를 생성합니다. \n",
    "idx_to_artist = {v:k for k,v in artist_to_idx.items()}\n",
    "[idx_to_artist[i[0]] for i in similar_artist]"
   ]
  },
  {
   "cell_type": "code",
   "execution_count": 37,
   "id": "28a49e4b",
   "metadata": {},
   "outputs": [
    {
     "name": "stdout",
     "output_type": "stream",
     "text": [
      "슝=3\n"
     ]
    }
   ],
   "source": [
    "def get_similar_artist(artist_name: str):\n",
    "    artist_id = artist_to_idx[artist_name]\n",
    "    similar_artist = als_model.similar_items(artist_id)\n",
    "    similar_artist = [idx_to_artist[i[0]] for i in similar_artist]\n",
    "    return similar_artist\n",
    "\n",
    "print(\"슝=3\")"
   ]
  },
  {
   "cell_type": "code",
   "execution_count": 38,
   "id": "14a4f3b0",
   "metadata": {},
   "outputs": [
    {
     "data": {
      "text/plain": [
       "['2pac',\n",
       " 'the game',\n",
       " 'nas',\n",
       " 'snoop dogg',\n",
       " 'notorious b.i.g.',\n",
       " 'dr. dre',\n",
       " '50 cent',\n",
       " 'jay-z',\n",
       " 'dmx',\n",
       " 'ludacris']"
      ]
     },
     "execution_count": 38,
     "metadata": {},
     "output_type": "execute_result"
    }
   ],
   "source": [
    "get_similar_artist('2pac')"
   ]
  },
  {
   "cell_type": "markdown",
   "id": "cb3d4bc7",
   "metadata": {},
   "source": [
    "마니아는 특정 장르에 선호도가 집중되어 같은 장르의 아티스트들의 벡터가 가까워져서 장르별 특성이 두드러진다."
   ]
  },
  {
   "cell_type": "code",
   "execution_count": 39,
   "id": "4a487deb",
   "metadata": {},
   "outputs": [
    {
     "data": {
      "text/plain": [
       "['lady gaga',\n",
       " 'britney spears',\n",
       " 'katy perry',\n",
       " 'rihanna',\n",
       " 'beyoncé',\n",
       " 'the pussycat dolls',\n",
       " 'kelly clarkson',\n",
       " 'christina aguilera',\n",
       " 'leona lewis',\n",
       " 'kylie minogue']"
      ]
     },
     "execution_count": 39,
     "metadata": {},
     "output_type": "execute_result"
    }
   ],
   "source": [
    "get_similar_artist('lady gaga')"
   ]
  },
  {
   "cell_type": "markdown",
   "id": "1928dfe5",
   "metadata": {},
   "source": [
    "### 유저에게 아티스트 추천하기\n",
    "\n",
    "recommend 메서드로 좋아할 만한 아티스트를 추천받는다. filter_already_liked_items는 유저가 이미 평가한 아이템은 제외한다."
   ]
  },
  {
   "cell_type": "code",
   "execution_count": 40,
   "id": "4ff5a2ba",
   "metadata": {},
   "outputs": [
    {
     "data": {
      "text/plain": [
       "[(350, 0.44248927),\n",
       " (369, 0.44070834),\n",
       " (550, 0.42143047),\n",
       " (627, 0.41593874),\n",
       " (409, 0.4145381),\n",
       " (274, 0.4095019),\n",
       " (354, 0.402414),\n",
       " (2249, 0.3952031),\n",
       " (564, 0.3937336),\n",
       " (391, 0.3898338),\n",
       " (1800, 0.38891435),\n",
       " (355, 0.38711056),\n",
       " (621, 0.3796457),\n",
       " (724, 0.37467697),\n",
       " (24, 0.36337394),\n",
       " (35, 0.35886544),\n",
       " (5, 0.3579524),\n",
       " (5555, 0.35614088),\n",
       " (382, 0.3539834),\n",
       " (28, 0.35327724)]"
      ]
     },
     "execution_count": 40,
     "metadata": {},
     "output_type": "execute_result"
    }
   ],
   "source": [
    "user = user_to_idx['zimin']\n",
    "# recommend에서는 user*item CSR Matrix를 받습니다.\n",
    "artist_recommended = als_model.recommend(user, csr_data, N=20, filter_already_liked_items=True)\n",
    "artist_recommended"
   ]
  },
  {
   "cell_type": "code",
   "execution_count": 41,
   "id": "ef333e8f",
   "metadata": {},
   "outputs": [
    {
     "data": {
      "text/plain": [
       "['rihanna',\n",
       " 'justin timberlake',\n",
       " 'britney spears',\n",
       " 'maroon 5',\n",
       " 'amy winehouse',\n",
       " 'michael jackson',\n",
       " 'nelly furtado',\n",
       " 'katy perry',\n",
       " 'kanye west',\n",
       " 'christina aguilera',\n",
       " 'lady gaga',\n",
       " 'madonna',\n",
       " 'alicia keys',\n",
       " 'lily allen',\n",
       " 'jack johnson',\n",
       " 'john mayer',\n",
       " 'red hot chili peppers',\n",
       " 'timbaland',\n",
       " 'mika',\n",
       " 'the killers']"
      ]
     },
     "execution_count": 41,
     "metadata": {},
     "output_type": "execute_result"
    }
   ],
   "source": [
    "[idx_to_artist[i[0]] for i in artist_recommended]"
   ]
  },
  {
   "cell_type": "markdown",
   "id": "dd7fbaee",
   "metadata": {},
   "source": [
    "모델은 rihanna를 추천하고 있다. AlternatingLeastSquares의 explain 메서드를 사용하면 기록을 남긴 데이터 중 **이 추천에 기여한 정도**를 확인할 수 있다."
   ]
  },
  {
   "cell_type": "code",
   "execution_count": 42,
   "id": "79a6b122",
   "metadata": {},
   "outputs": [],
   "source": [
    "rihanna = artist_to_idx['rihanna']\n",
    "explain = als_model.explain(user, csr_data, itemid=rihanna)"
   ]
  },
  {
   "cell_type": "markdown",
   "id": "008b644c",
   "metadata": {},
   "source": [
    "이 메서드는 추천한 콘텐츠의 점수에 기여한 다른 콘텐츠와 기여도를 반환한다."
   ]
  },
  {
   "cell_type": "code",
   "execution_count": 43,
   "id": "f42434c0",
   "metadata": {},
   "outputs": [
    {
     "data": {
      "text/plain": [
       "[('beyoncé', 0.20776943464843706),\n",
       " ('black eyed peas', 0.13143205371481068),\n",
       " ('jason mraz', 0.06319534278942261),\n",
       " ('coldplay', 0.04155009660497293),\n",
       " ('maroon5', 0.0002837318999075125)]"
      ]
     },
     "execution_count": 43,
     "metadata": {},
     "output_type": "execute_result"
    }
   ],
   "source": [
    "[(idx_to_artist[i[0]], i[1]) for i in explain[1]]"
   ]
  },
  {
   "cell_type": "markdown",
   "id": "44700de4",
   "metadata": {},
   "source": [
    "비욘세와 블랙아이드피스가 가장 크게 기여했다. \n",
    "\n",
    "maroon5는 이미 평가한 아이템인데 버그로 인해 출력되고 있다. 이럴경우 Pull Request를 통해서 수정을 제안할 수 있다. "
   ]
  },
  {
   "cell_type": "markdown",
   "id": "d24794ab",
   "metadata": {},
   "source": [
    "# 실습 : Movielens 영화 추천 실습"
   ]
  },
  {
   "cell_type": "markdown",
   "id": "1e15a576",
   "metadata": {},
   "source": [
    "## 규칙\n",
    "\n",
    "- MovieLens 1M Dataset 사용\n",
    "- 별점 데이터는 대표적인 explicit 데이터다. 하지만 implicit데이터로 간주하고 테스트할 수도 있다.\n",
    "- 별점을 시청횟수로 해석한다.\n",
    "- 3점 미만으로 준 데이터는 선호하지 않는다고 가정하고 제외"
   ]
  },
  {
   "cell_type": "markdown",
   "id": "97929f75",
   "metadata": {},
   "source": [
    "## 1) 데이터 준비와 전처리\n",
    "\n",
    "Movielens 데이터는 rating.dat안에 이미 인덱싱까지 완료된 사용자-영화-평점 데이터가 깔끔하게 들어있다."
   ]
  },
  {
   "cell_type": "code",
   "execution_count": 729,
   "id": "c988efa8",
   "metadata": {
    "scrolled": true
   },
   "outputs": [
    {
     "data": {
      "text/html": [
       "<div>\n",
       "<style scoped>\n",
       "    .dataframe tbody tr th:only-of-type {\n",
       "        vertical-align: middle;\n",
       "    }\n",
       "\n",
       "    .dataframe tbody tr th {\n",
       "        vertical-align: top;\n",
       "    }\n",
       "\n",
       "    .dataframe thead th {\n",
       "        text-align: right;\n",
       "    }\n",
       "</style>\n",
       "<table border=\"1\" class=\"dataframe\">\n",
       "  <thead>\n",
       "    <tr style=\"text-align: right;\">\n",
       "      <th></th>\n",
       "      <th>user_id</th>\n",
       "      <th>movie_id</th>\n",
       "      <th>ratings</th>\n",
       "      <th>timestamp</th>\n",
       "    </tr>\n",
       "  </thead>\n",
       "  <tbody>\n",
       "    <tr>\n",
       "      <th>0</th>\n",
       "      <td>1</td>\n",
       "      <td>1193</td>\n",
       "      <td>5</td>\n",
       "      <td>978300760</td>\n",
       "    </tr>\n",
       "    <tr>\n",
       "      <th>1</th>\n",
       "      <td>1</td>\n",
       "      <td>661</td>\n",
       "      <td>3</td>\n",
       "      <td>978302109</td>\n",
       "    </tr>\n",
       "    <tr>\n",
       "      <th>2</th>\n",
       "      <td>1</td>\n",
       "      <td>914</td>\n",
       "      <td>3</td>\n",
       "      <td>978301968</td>\n",
       "    </tr>\n",
       "    <tr>\n",
       "      <th>3</th>\n",
       "      <td>1</td>\n",
       "      <td>3408</td>\n",
       "      <td>4</td>\n",
       "      <td>978300275</td>\n",
       "    </tr>\n",
       "    <tr>\n",
       "      <th>4</th>\n",
       "      <td>1</td>\n",
       "      <td>2355</td>\n",
       "      <td>5</td>\n",
       "      <td>978824291</td>\n",
       "    </tr>\n",
       "  </tbody>\n",
       "</table>\n",
       "</div>"
      ],
      "text/plain": [
       "   user_id  movie_id  ratings  timestamp\n",
       "0        1      1193        5  978300760\n",
       "1        1       661        3  978302109\n",
       "2        1       914        3  978301968\n",
       "3        1      3408        4  978300275\n",
       "4        1      2355        5  978824291"
      ]
     },
     "execution_count": 729,
     "metadata": {},
     "output_type": "execute_result"
    }
   ],
   "source": [
    "import os\n",
    "rating_file_path=os.getenv('HOME') + '/aiffel/recommendata_iu/data/ml-1m/ratings.dat'\n",
    "ratings_cols = ['user_id', 'movie_id', 'ratings', 'timestamp']\n",
    "ratings = pd.read_csv(rating_file_path, sep='::', names=ratings_cols, engine='python', encoding = \"ISO-8859-1\")\n",
    "orginal_data_size = len(ratings)\n",
    "ratings.head()"
   ]
  },
  {
   "cell_type": "code",
   "execution_count": 730,
   "id": "66a14eee",
   "metadata": {},
   "outputs": [
    {
     "name": "stdout",
     "output_type": "stream",
     "text": [
      "orginal_data_size: 1000209, filtered_data_size: 836478\n",
      "Ratio of Remaining Data is 83.63%\n"
     ]
    }
   ],
   "source": [
    "# 3점 이상만 남깁니다.\n",
    "ratings = ratings[ratings['ratings']>=3]\n",
    "filtered_data_size = len(ratings)\n",
    "\n",
    "print(f'orginal_data_size: {orginal_data_size}, filtered_data_size: {filtered_data_size}')\n",
    "print(f'Ratio of Remaining Data is {filtered_data_size / orginal_data_size:.2%}')"
   ]
  },
  {
   "cell_type": "code",
   "execution_count": 731,
   "id": "c7a85bd2",
   "metadata": {},
   "outputs": [],
   "source": [
    "# ratings 컬럼의 이름을 counts로 바꿉니다.\n",
    "ratings.rename(columns={'ratings':'counts'}, inplace=True)"
   ]
  },
  {
   "cell_type": "code",
   "execution_count": 720,
   "id": "51f60ee0",
   "metadata": {
    "scrolled": false
   },
   "outputs": [
    {
     "data": {
      "text/html": [
       "<div>\n",
       "<style scoped>\n",
       "    .dataframe tbody tr th:only-of-type {\n",
       "        vertical-align: middle;\n",
       "    }\n",
       "\n",
       "    .dataframe tbody tr th {\n",
       "        vertical-align: top;\n",
       "    }\n",
       "\n",
       "    .dataframe thead th {\n",
       "        text-align: right;\n",
       "    }\n",
       "</style>\n",
       "<table border=\"1\" class=\"dataframe\">\n",
       "  <thead>\n",
       "    <tr style=\"text-align: right;\">\n",
       "      <th></th>\n",
       "      <th>movie_id</th>\n",
       "      <th>title</th>\n",
       "      <th>genre</th>\n",
       "    </tr>\n",
       "  </thead>\n",
       "  <tbody>\n",
       "    <tr>\n",
       "      <th>0</th>\n",
       "      <td>1</td>\n",
       "      <td>Toy Story (1995)</td>\n",
       "      <td>Animation|Children's|Comedy</td>\n",
       "    </tr>\n",
       "    <tr>\n",
       "      <th>1</th>\n",
       "      <td>2</td>\n",
       "      <td>Jumanji (1995)</td>\n",
       "      <td>Adventure|Children's|Fantasy</td>\n",
       "    </tr>\n",
       "    <tr>\n",
       "      <th>2</th>\n",
       "      <td>3</td>\n",
       "      <td>Grumpier Old Men (1995)</td>\n",
       "      <td>Comedy|Romance</td>\n",
       "    </tr>\n",
       "    <tr>\n",
       "      <th>3</th>\n",
       "      <td>4</td>\n",
       "      <td>Waiting to Exhale (1995)</td>\n",
       "      <td>Comedy|Drama</td>\n",
       "    </tr>\n",
       "    <tr>\n",
       "      <th>4</th>\n",
       "      <td>5</td>\n",
       "      <td>Father of the Bride Part II (1995)</td>\n",
       "      <td>Comedy</td>\n",
       "    </tr>\n",
       "  </tbody>\n",
       "</table>\n",
       "</div>"
      ],
      "text/plain": [
       "   movie_id                               title                         genre\n",
       "0         1                    Toy Story (1995)   Animation|Children's|Comedy\n",
       "1         2                      Jumanji (1995)  Adventure|Children's|Fantasy\n",
       "2         3             Grumpier Old Men (1995)                Comedy|Romance\n",
       "3         4            Waiting to Exhale (1995)                  Comedy|Drama\n",
       "4         5  Father of the Bride Part II (1995)                        Comedy"
      ]
     },
     "execution_count": 720,
     "metadata": {},
     "output_type": "execute_result"
    }
   ],
   "source": [
    "# 영화 제목을 보기 위해 메타 데이터를 읽어옵니다.\n",
    "movie_file_path=os.getenv('HOME') + '/aiffel/recommendata_iu/data/ml-1m/movies.dat'\n",
    "cols = ['movie_id', 'title', 'genre'] \n",
    "movies = pd.read_csv(movie_file_path, sep='::', names=cols, engine='python', encoding='ISO-8859-1')\n",
    "movies.head()"
   ]
  },
  {
   "cell_type": "markdown",
   "id": "344584ef",
   "metadata": {},
   "source": [
    "id를 가지고 타이틀을, 타이틀을 가지고 id를 찾기 쉽게 딕셔너리 생성"
   ]
  },
  {
   "cell_type": "code",
   "execution_count": 610,
   "id": "365090b8",
   "metadata": {
    "scrolled": false
   },
   "outputs": [],
   "source": [
    "id_to_title = {m_id:title for m_id, title in zip(movies['movie_id'], movies['title'])}\n",
    "title_to_id = {title:m_id for m_id, title in zip(movies['movie_id'], movies['title'])}"
   ]
  },
  {
   "cell_type": "markdown",
   "id": "5734b21e",
   "metadata": {},
   "source": [
    "## 2) 분석하기\n",
    "\n",
    "- ratings에 있는 유니크한 영화 개수\n",
    "- ratings에 있는 유니크한 사용자 수\n",
    "- 가장 인기 있는 영화 30개(인기순)"
   ]
  },
  {
   "cell_type": "code",
   "execution_count": 468,
   "id": "b7ac5cbc",
   "metadata": {
    "scrolled": false
   },
   "outputs": [
    {
     "name": "stdout",
     "output_type": "stream",
     "text": [
      "ratings에 있는 유니크한 영화 개수 : 3633\n",
      "ratings에 있는 유니크한 영화 개수 : 6040\n"
     ]
    }
   ],
   "source": [
    "print(f\"ratings에 있는 유니크한 영화 개수 : {ratings['movie_id'].nunique()}\")\n",
    "print(f\"ratings에 있는 유니크한 영화 개수 : {ratings['user_id'].nunique()}\")"
   ]
  },
  {
   "cell_type": "code",
   "execution_count": 571,
   "id": "8ac9fa47",
   "metadata": {
    "scrolled": false
   },
   "outputs": [
    {
     "name": "stdout",
     "output_type": "stream",
     "text": [
      "American Beauty (1999)\n",
      "Star Wars: Episode IV - A New Hope (1977)\n",
      "Star Wars: Episode V - The Empire Strikes Back (1980)\n",
      "Star Wars: Episode VI - Return of the Jedi (1983)\n",
      "Saving Private Ryan (1998)\n",
      "Terminator 2: Judgment Day (1991)\n",
      "Silence of the Lambs, The (1991)\n",
      "Raiders of the Lost Ark (1981)\n",
      "Back to the Future (1985)\n",
      "Matrix, The (1999)\n",
      "Jurassic Park (1993)\n",
      "Sixth Sense, The (1999)\n",
      "Fargo (1996)\n",
      "Braveheart (1995)\n",
      "Men in Black (1997)\n",
      "Schindler's List (1993)\n",
      "Princess Bride, The (1987)\n",
      "Shakespeare in Love (1998)\n",
      "L.A. Confidential (1997)\n",
      "Shawshank Redemption, The (1994)\n",
      "Godfather, The (1972)\n",
      "Groundhog Day (1993)\n",
      "E.T. the Extra-Terrestrial (1982)\n",
      "Being John Malkovich (1999)\n",
      "Ghostbusters (1984)\n",
      "Pulp Fiction (1994)\n",
      "Forrest Gump (1994)\n",
      "Terminator, The (1984)\n",
      "Toy Story (1995)\n",
      "Fugitive, The (1993)\n"
     ]
    }
   ],
   "source": [
    "# 가장 인기있는 영화 30가지\n",
    "most_view_movies = ratings.groupby('movie_id', as_index=False)['user_id'].count().sort_values('user_id', ascending=False)[:30]\n",
    "\n",
    "for i in most_view_movies.loc[:,'movie_id']:\n",
    "    print(id_to_title[i])"
   ]
  },
  {
   "cell_type": "markdown",
   "id": "ac8172d9",
   "metadata": {},
   "source": [
    "## 3) 내가 선호하는 영화를 5가지 골라서 ratings에 추가하기"
   ]
  },
  {
   "cell_type": "code",
   "execution_count": 716,
   "id": "5fb8d12c",
   "metadata": {
    "scrolled": false
   },
   "outputs": [
    {
     "name": "stdout",
     "output_type": "stream",
     "text": [
      "Star Maker, The (Uomo delle stelle, L') (1995)의 id는 124\n",
      "Frankie Starlight (1995)의 id는 131\n",
      "Stars Fell on Henrietta, The (1995)의 id는 197\n",
      "Star Wars: Episode IV - A New Hope (1977)의 id는 260\n",
      "Stargate (1994)의 id는 316\n",
      "Star Trek: Generations (1994)의 id는 329\n",
      "Lone Star (1996)의 id는 800\n",
      "Unhook the Stars (1996)의 id는 1038\n",
      "Star Wars: Episode V - The Empire Strikes Back (1980)의 id는 1196\n",
      "Star Wars: Episode VI - Return of the Jedi (1983)의 id는 1210\n",
      "Star Trek: First Contact (1996)의 id는 1356\n",
      "Star Trek: The Motion Picture (1979)의 id는 1371\n",
      "Star Trek VI: The Undiscovered Country (1991)의 id는 1372\n",
      "Star Trek V: The Final Frontier (1989)의 id는 1373\n",
      "Star Trek: The Wrath of Khan (1982)의 id는 1374\n",
      "Star Trek III: The Search for Spock (1984)의 id는 1375\n",
      "Star Trek IV: The Voyage Home (1986)의 id는 1376\n",
      "Evening Star, The (1996)의 id는 1410\n",
      "Star Maps (1997)의 id는 1613\n",
      "Starship Troopers (1997)의 id는 1676\n",
      "Star Kid (1997)의 id는 1750\n",
      "Stars and Bars (1988)의 id는 2246\n",
      "Stardust Memories (1980)의 id는 2290\n",
      "Star Trek: Insurrection (1998)의 id는 2393\n",
      "Star Wars: Episode I - The Phantom Menace (1999)의 id는 2628\n",
      "Brenda Starr (1989)의 id는 3166\n",
      "Even Dwarfs Started Small (Auch Zwerge haben klein angefangen) (1971)의 id는 3202\n",
      "Star Is Born, A (1937)의 id는 3217\n",
      "Starman (1984)의 id는 3699\n"
     ]
    }
   ],
   "source": [
    "# 영화 검색\n",
    "for m in movies['title']:\n",
    "    if 'Star' in m:\n",
    "        print(f\"{m}의 id는 {title_to_id[m]}\")"
   ]
  },
  {
   "cell_type": "code",
   "execution_count": 732,
   "id": "70682a10",
   "metadata": {
    "scrolled": false
   },
   "outputs": [
    {
     "data": {
      "text/html": [
       "<div>\n",
       "<style scoped>\n",
       "    .dataframe tbody tr th:only-of-type {\n",
       "        vertical-align: middle;\n",
       "    }\n",
       "\n",
       "    .dataframe tbody tr th {\n",
       "        vertical-align: top;\n",
       "    }\n",
       "\n",
       "    .dataframe thead th {\n",
       "        text-align: right;\n",
       "    }\n",
       "</style>\n",
       "<table border=\"1\" class=\"dataframe\">\n",
       "  <thead>\n",
       "    <tr style=\"text-align: right;\">\n",
       "      <th></th>\n",
       "      <th>user_id</th>\n",
       "      <th>movie_id</th>\n",
       "      <th>counts</th>\n",
       "      <th>timestamp</th>\n",
       "    </tr>\n",
       "  </thead>\n",
       "  <tbody>\n",
       "    <tr>\n",
       "      <th>836473</th>\n",
       "      <td>6040</td>\n",
       "      <td>1090</td>\n",
       "      <td>3</td>\n",
       "      <td>956715518.0</td>\n",
       "    </tr>\n",
       "    <tr>\n",
       "      <th>836474</th>\n",
       "      <td>6040</td>\n",
       "      <td>1094</td>\n",
       "      <td>5</td>\n",
       "      <td>956704887.0</td>\n",
       "    </tr>\n",
       "    <tr>\n",
       "      <th>836475</th>\n",
       "      <td>6040</td>\n",
       "      <td>562</td>\n",
       "      <td>5</td>\n",
       "      <td>956704746.0</td>\n",
       "    </tr>\n",
       "    <tr>\n",
       "      <th>836476</th>\n",
       "      <td>6040</td>\n",
       "      <td>1096</td>\n",
       "      <td>4</td>\n",
       "      <td>956715648.0</td>\n",
       "    </tr>\n",
       "    <tr>\n",
       "      <th>836477</th>\n",
       "      <td>6040</td>\n",
       "      <td>1097</td>\n",
       "      <td>4</td>\n",
       "      <td>956715569.0</td>\n",
       "    </tr>\n",
       "    <tr>\n",
       "      <th>836478</th>\n",
       "      <td>6041</td>\n",
       "      <td>47</td>\n",
       "      <td>30</td>\n",
       "      <td>NaN</td>\n",
       "    </tr>\n",
       "    <tr>\n",
       "      <th>836479</th>\n",
       "      <td>6041</td>\n",
       "      <td>1258</td>\n",
       "      <td>30</td>\n",
       "      <td>NaN</td>\n",
       "    </tr>\n",
       "    <tr>\n",
       "      <th>836480</th>\n",
       "      <td>6041</td>\n",
       "      <td>296</td>\n",
       "      <td>30</td>\n",
       "      <td>NaN</td>\n",
       "    </tr>\n",
       "    <tr>\n",
       "      <th>836481</th>\n",
       "      <td>6041</td>\n",
       "      <td>1210</td>\n",
       "      <td>30</td>\n",
       "      <td>NaN</td>\n",
       "    </tr>\n",
       "    <tr>\n",
       "      <th>836482</th>\n",
       "      <td>6041</td>\n",
       "      <td>3534</td>\n",
       "      <td>30</td>\n",
       "      <td>NaN</td>\n",
       "    </tr>\n",
       "  </tbody>\n",
       "</table>\n",
       "</div>"
      ],
      "text/plain": [
       "        user_id  movie_id  counts    timestamp\n",
       "836473     6040      1090       3  956715518.0\n",
       "836474     6040      1094       5  956704887.0\n",
       "836475     6040       562       5  956704746.0\n",
       "836476     6040      1096       4  956715648.0\n",
       "836477     6040      1097       4  956715569.0\n",
       "836478     6041        47      30          NaN\n",
       "836479     6041      1258      30          NaN\n",
       "836480     6041       296      30          NaN\n",
       "836481     6041      1210      30          NaN\n",
       "836482     6041      3534      30          NaN"
      ]
     },
     "execution_count": 732,
     "metadata": {},
     "output_type": "execute_result"
    }
   ],
   "source": [
    "# 내 영화 데이터 추가하기\n",
    "my_favorite = [47 , 1258 ,296 ,1210 ,3534]\n",
    "\n",
    "my_playlist = pd.DataFrame({'user_id': [6041]*5, 'movie_id': my_favorite, 'counts':[30]*5})\n",
    "\n",
    "if not ratings.isin({'user_id':[6041]})['user_id'].any():\n",
    "    ratings = ratings.append(my_playlist, ignore_index=True)                           \n",
    "\n",
    "ratings.tail(10)"
   ]
  },
  {
   "cell_type": "markdown",
   "id": "953a567a",
   "metadata": {},
   "source": [
    "## 4) CSR Matrix를 직접 만들어 보기"
   ]
  },
  {
   "cell_type": "code",
   "execution_count": 733,
   "id": "7aaae941",
   "metadata": {},
   "outputs": [],
   "source": [
    "from scipy.sparse import csr_matrix\n",
    "\n",
    "num_user = ratings['user_id'].nunique() + 2\n",
    "num_movie = ratings['movie_id'].nunique() + 325\n",
    "\n",
    "csr_data = csr_matrix((ratings.counts, (ratings.user_id, ratings.movie_id)), shape= (num_user, num_movie))"
   ]
  },
  {
   "cell_type": "markdown",
   "id": "b6aa87ca",
   "metadata": {},
   "source": [
    "ratings.user_id , ratings.movie_id의 최대 값보다 shape의 값이 더 커야 하기 때문에 숫자를 추가했다."
   ]
  },
  {
   "cell_type": "markdown",
   "id": "aa475ec5",
   "metadata": {},
   "source": [
    "## 5) als_model = AlternatingLeastSquares 모델을 직접 구성해서 훈련하기"
   ]
  },
  {
   "cell_type": "code",
   "execution_count": 734,
   "id": "c12c1744",
   "metadata": {},
   "outputs": [
    {
     "data": {
      "application/vnd.jupyter.widget-view+json": {
       "model_id": "befdd2cd97aa4a71830d5e254b9d1e0f",
       "version_major": 2,
       "version_minor": 0
      },
      "text/plain": [
       "  0%|          | 0/20 [00:00<?, ?it/s]"
      ]
     },
     "metadata": {},
     "output_type": "display_data"
    }
   ],
   "source": [
    "# MF모델 학습하기\n",
    "from implicit.als import AlternatingLeastSquares\n",
    "import os\n",
    "import numpy as np\n",
    "\n",
    "# implicit 라이브러리에서 권장하고 있는 부분입니다. 학습 내용과는 무관합니다.\n",
    "os.environ['OPENBLAS_NUM_THREADS']='1'\n",
    "os.environ['KMP_DUPLICATE_LIB_OK']='True'\n",
    "os.environ['MKL_NUM_THREADS']='1'\n",
    "\n",
    "# Implicit AlternatingLeastSquares 모델의 선언\n",
    "als_model = AlternatingLeastSquares(factors=150, regularization=0.01, use_gpu=False, iterations=20, dtype=np.float32)\n",
    "\n",
    "# als 모델은 input으로 (item X user 꼴의 matrix를 받기 때문에 Transpose해줍니다.)\n",
    "csr_data_transpose = csr_data.T\n",
    "\n",
    "# 모델 훈련\n",
    "als_model.fit(csr_data_transpose)"
   ]
  },
  {
   "cell_type": "markdown",
   "id": "c4e981de",
   "metadata": {},
   "source": [
    "## 6) 내가 선호하는 5가지 영화 중 하나와 그 외의 영화 하나를 골라 훈련된 모델이 예측한 나의 선호도를 파악"
   ]
  },
  {
   "cell_type": "code",
   "execution_count": 735,
   "id": "27887e0c",
   "metadata": {},
   "outputs": [
    {
     "data": {
      "text/html": [
       "<div>\n",
       "<style scoped>\n",
       "    .dataframe tbody tr th:only-of-type {\n",
       "        vertical-align: middle;\n",
       "    }\n",
       "\n",
       "    .dataframe tbody tr th {\n",
       "        vertical-align: top;\n",
       "    }\n",
       "\n",
       "    .dataframe thead th {\n",
       "        text-align: right;\n",
       "    }\n",
       "</style>\n",
       "<table border=\"1\" class=\"dataframe\">\n",
       "  <thead>\n",
       "    <tr style=\"text-align: right;\">\n",
       "      <th></th>\n",
       "      <th>user_id</th>\n",
       "      <th>movie_id</th>\n",
       "      <th>counts</th>\n",
       "      <th>timestamp</th>\n",
       "    </tr>\n",
       "  </thead>\n",
       "  <tbody>\n",
       "    <tr>\n",
       "      <th>836478</th>\n",
       "      <td>6041</td>\n",
       "      <td>47</td>\n",
       "      <td>30</td>\n",
       "      <td>NaN</td>\n",
       "    </tr>\n",
       "    <tr>\n",
       "      <th>836479</th>\n",
       "      <td>6041</td>\n",
       "      <td>1258</td>\n",
       "      <td>30</td>\n",
       "      <td>NaN</td>\n",
       "    </tr>\n",
       "    <tr>\n",
       "      <th>836480</th>\n",
       "      <td>6041</td>\n",
       "      <td>296</td>\n",
       "      <td>30</td>\n",
       "      <td>NaN</td>\n",
       "    </tr>\n",
       "    <tr>\n",
       "      <th>836481</th>\n",
       "      <td>6041</td>\n",
       "      <td>1210</td>\n",
       "      <td>30</td>\n",
       "      <td>NaN</td>\n",
       "    </tr>\n",
       "    <tr>\n",
       "      <th>836482</th>\n",
       "      <td>6041</td>\n",
       "      <td>3534</td>\n",
       "      <td>30</td>\n",
       "      <td>NaN</td>\n",
       "    </tr>\n",
       "  </tbody>\n",
       "</table>\n",
       "</div>"
      ],
      "text/plain": [
       "        user_id  movie_id  counts  timestamp\n",
       "836478     6041        47      30        NaN\n",
       "836479     6041      1258      30        NaN\n",
       "836480     6041       296      30        NaN\n",
       "836481     6041      1210      30        NaN\n",
       "836482     6041      3534      30        NaN"
      ]
     },
     "execution_count": 735,
     "metadata": {},
     "output_type": "execute_result"
    }
   ],
   "source": [
    "ratings.loc[ratings['user_id']==6041]"
   ]
  },
  {
   "cell_type": "code",
   "execution_count": 736,
   "id": "6741a18c",
   "metadata": {
    "scrolled": true
   },
   "outputs": [],
   "source": [
    "sandro, seven = 6041, 47\n",
    "sandro_vector, seven_vector = als_model.user_factors[sandro], als_model.item_factors[seven]"
   ]
  },
  {
   "cell_type": "markdown",
   "id": "8d9e7df4",
   "metadata": {},
   "source": [
    "- 내가 본 영화에 \"세븐\"에 대한 선호도"
   ]
  },
  {
   "cell_type": "code",
   "execution_count": 737,
   "id": "dcbad50b",
   "metadata": {
    "scrolled": false
   },
   "outputs": [
    {
     "data": {
      "text/plain": [
       "0.876047"
      ]
     },
     "execution_count": 737,
     "metadata": {},
     "output_type": "execute_result"
    }
   ],
   "source": [
    "np.dot(sandro_vector, seven_vector)"
   ]
  },
  {
   "cell_type": "markdown",
   "id": "145c65ae",
   "metadata": {},
   "source": [
    "벡터의 내적 수치가 0.87로 높게 나왔다."
   ]
  },
  {
   "cell_type": "markdown",
   "id": "ecbac2bb",
   "metadata": {},
   "source": [
    "내가 보지않은 영화'스타트렉'에 대한 선호도"
   ]
  },
  {
   "cell_type": "code",
   "execution_count": 739,
   "id": "586954a5",
   "metadata": {
    "scrolled": true
   },
   "outputs": [
    {
     "data": {
      "text/plain": [
       "0.045809545"
      ]
     },
     "execution_count": 739,
     "metadata": {},
     "output_type": "execute_result"
    }
   ],
   "source": [
    "Marshalls = title_to_id['Star Trek: Generations (1994)']\n",
    "Marshalls_vector = als_model.item_factors[Marshalls]\n",
    "np.dot(sandro_vector, Marshalls_vector)"
   ]
  },
  {
   "cell_type": "markdown",
   "id": "1d48c4a4",
   "metadata": {},
   "source": [
    "보지않은 영화 벡터와 내적 수치가 낮게 나왔다."
   ]
  },
  {
   "cell_type": "markdown",
   "id": "4d7add3a",
   "metadata": {},
   "source": [
    "## 7) 내가 좋아하는 영화와 비슷한 영화 추천받기"
   ]
  },
  {
   "cell_type": "code",
   "execution_count": 740,
   "id": "001e7211",
   "metadata": {},
   "outputs": [
    {
     "name": "stdout",
     "output_type": "stream",
     "text": [
      "Pulp Fiction (1994)의 id는 296\n"
     ]
    }
   ],
   "source": [
    "# 영화 검색\n",
    "for m in movies.loc[:, 'title']:\n",
    "    if 'Pulp' in m:\n",
    "        print(f\"{m}의 id는 {title_to_id[m]}\")"
   ]
  },
  {
   "cell_type": "code",
   "execution_count": 741,
   "id": "28bce8a6",
   "metadata": {
    "scrolled": true
   },
   "outputs": [
    {
     "data": {
      "text/plain": [
       "['Pulp Fiction (1994)',\n",
       " 'GoodFellas (1990)',\n",
       " 'Fargo (1996)',\n",
       " 'Usual Suspects, The (1995)',\n",
       " 'Shawshank Redemption, The (1994)',\n",
       " 'Reservoir Dogs (1992)',\n",
       " 'Silence of the Lambs, The (1991)',\n",
       " 'Good Will Hunting (1997)',\n",
       " 'Jackie Brown (1997)',\n",
       " 'Time of the Gypsies (Dom za vesanje) (1989)']"
      ]
     },
     "execution_count": 741,
     "metadata": {},
     "output_type": "execute_result"
    }
   ],
   "source": [
    "def get_similar_movie(movie_name: str):\n",
    "    movie_id = title_to_id[movie_name]\n",
    "    similar_movie = als_model.similar_items(movie_id)\n",
    "    similar_movie = [id_to_title[i[0]] for i in similar_movie]\n",
    "    return similar_movie\n",
    "\n",
    "get_similar_movie('Pulp Fiction (1994)')"
   ]
  },
  {
   "cell_type": "code",
   "execution_count": 745,
   "id": "f5dd84b1",
   "metadata": {},
   "outputs": [
    {
     "data": {
      "text/plain": [
       "['28 Days (2000)',\n",
       " 'Where the Heart Is (2000)',\n",
       " 'I Dreamed of Africa (2000)',\n",
       " 'Skulls, The (2000)',\n",
       " 'Next Best Thing, The (2000)',\n",
       " 'Center Stage (2000)',\n",
       " 'Hanging Up (2000)',\n",
       " 'Watcher, The (2000)',\n",
       " 'Autumn in New York (2000)',\n",
       " 'Whatever It Takes (2000)']"
      ]
     },
     "execution_count": 745,
     "metadata": {},
     "output_type": "execute_result"
    }
   ],
   "source": [
    "get_similar_movie('28 Days (2000)')"
   ]
  },
  {
   "cell_type": "markdown",
   "id": "81b1dd22",
   "metadata": {},
   "source": [
    "## 8) 내가 가장 좋아할 만한 영화 추천받기"
   ]
  },
  {
   "cell_type": "code",
   "execution_count": 742,
   "id": "ea541742",
   "metadata": {
    "scrolled": true
   },
   "outputs": [
    {
     "name": "stdout",
     "output_type": "stream",
     "text": [
      "Reservoir Dogs (1992)                              0.6317886114120483\n",
      "Usual Suspects, The (1995)                         0.6001904010772705\n",
      "GoodFellas (1990)                                  0.5601584315299988\n",
      "Silence of the Lambs, The (1991)                   0.5491037368774414\n",
      "Fargo (1996)                                       0.530979335308075\n",
      "Sixth Sense, The (1999)                            0.4952288568019867\n",
      "Exorcist, The (1973)                               0.4656235873699188\n",
      "Star Wars: Episode V - The Empire Strikes Back (1980) 0.4525640904903412\n",
      "Poltergeist (1982)                                 0.40651920437812805\n",
      "Erin Brockovich (2000)                             0.39488449692726135\n",
      "Psycho (1960)                                      0.38591697812080383\n",
      "Raiders of the Lost Ark (1981)                     0.36967936158180237\n",
      "Aliens (1986)                                      0.34693068265914917\n",
      "Jackie Brown (1997)                                0.3339206576347351\n",
      "Birds, The (1963)                                  0.32032081484794617\n",
      "Terminator, The (1984)                             0.31271466612815857\n",
      "Rain Man (1988)                                    0.2916887700557709\n",
      "Professional, The (a.k.a. Leon: The Professional) (1994) 0.2852093577384949\n",
      "Full Metal Jacket (1987)                           0.27545008063316345\n",
      "Indiana Jones and the Last Crusade (1989)          0.2724628448486328\n"
     ]
    }
   ],
   "source": [
    "user = 6041\n",
    "# recommend에서는 user*item CSR Matrix를 받습니다.\n",
    "movie_recommended = als_model.recommend(user, csr_data, N=20, filter_already_liked_items=True)\n",
    "\n",
    "for i in movie_recommended:\n",
    "    print(f\"{id_to_title[i[0]]:<50} {i[1]}\")"
   ]
  },
  {
   "cell_type": "markdown",
   "id": "cf040d18",
   "metadata": {},
   "source": [
    "꽤나 정확하다. 호러 영화는 별로 안 좋아하지만 \n",
    "반전 영화인 \"유주얼 서스팩트\", 쿠엔틴 타란티노의 \"저수지의 개들\", \"양들의 침묵\"은 좋아하는 영화다."
   ]
  },
  {
   "cell_type": "code",
   "execution_count": 743,
   "id": "05905510",
   "metadata": {
    "scrolled": false
   },
   "outputs": [
    {
     "name": "stdout",
     "output_type": "stream",
     "text": [
      "Pulp Fiction (1994) 의 기여도는 0.38%\n",
      "\n",
      "28 Days (2000) 의 기여도는 -0.01%\n",
      "\n",
      "Seven (Se7en) (1995) 의 기여도는 -0.03%\n",
      "\n",
      "Shining, The (1980) 의 기여도는 -0.04%\n",
      "\n",
      "Star Wars: Episode VI - Return of the Jedi (1983) 의 기여도는 -0.08%\n",
      "\n"
     ]
    }
   ],
   "source": [
    "# 추천 컨텐츠 기여도 확인\n",
    "temp_movie = title_to_id['Shawshank Redemption, The (1994)']\n",
    "explain = als_model.explain(user, csr_data, itemid=temp_movie)\n",
    "\n",
    "for idx, i in enumerate(explain[1]):\n",
    "    print(f\"{id_to_title[i[0]]} 의 기여도는 {explain[1][idx][1]:.2f}%\\n\")"
   ]
  },
  {
   "cell_type": "code",
   "execution_count": 744,
   "id": "2cdeaf34",
   "metadata": {},
   "outputs": [
    {
     "name": "stdout",
     "output_type": "stream",
     "text": [
      "Pulp Fiction (1994) 의 기여도는 0.56%\n",
      "\n",
      "Seven (Se7en) (1995) 의 기여도는 0.08%\n",
      "\n",
      "28 Days (2000) 의 기여도는 -0.02%\n",
      "\n",
      "Star Wars: Episode VI - Return of the Jedi (1983) 의 기여도는 -0.03%\n",
      "\n",
      "Shining, The (1980) 의 기여도는 -0.06%\n",
      "\n"
     ]
    }
   ],
   "source": [
    "# 추천 컨텐츠 기여도 확인\n",
    "temp_movie = title_to_id['Fargo (1996)']\n",
    "explain = als_model.explain(user, csr_data, itemid=temp_movie)\n",
    "\n",
    "for idx, i in enumerate(explain[1]):\n",
    "    print(f\"{id_to_title[i[0]]} 의 기여도는 {explain[1][idx][1]:.2f}%\\n\")"
   ]
  },
  {
   "cell_type": "markdown",
   "id": "081d851c",
   "metadata": {},
   "source": [
    "전체적으로 결과가 잘 나온 것 같다. "
   ]
  }
 ],
 "metadata": {
  "kernelspec": {
   "display_name": "Python 3 (ipykernel)",
   "language": "python",
   "name": "python3"
  },
  "language_info": {
   "codemirror_mode": {
    "name": "ipython",
    "version": 3
   },
   "file_extension": ".py",
   "mimetype": "text/x-python",
   "name": "python",
   "nbconvert_exporter": "python",
   "pygments_lexer": "ipython3",
   "version": "3.9.7"
  }
 },
 "nbformat": 4,
 "nbformat_minor": 5
}
