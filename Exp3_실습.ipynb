{
  "nbformat": 4,
  "nbformat_minor": 0,
  "metadata": {
    "colab": {
      "name": "Exp3 실습.ipynb",
      "private_outputs": true,
      "provenance": []
    },
    "kernelspec": {
      "name": "python3",
      "display_name": "Python 3"
    },
    "language_info": {
      "name": "python"
    }
  },
  "cells": [
    {
      "cell_type": "code",
      "execution_count": null,
      "metadata": {
        "id": "d-wlwDmAulxr"
      },
      "outputs": [],
      "source": [
        "import cv2\n",
        "import matplotlib.pyplot as plt\n",
        "import numpy as np\n",
        "import dlib"
      ]
    },
    {
      "cell_type": "markdown",
      "source": [
        "# 정면"
      ],
      "metadata": {
        "id": "5fSgMi7LDFwg"
      }
    },
    {
      "cell_type": "markdown",
      "source": [
        "## 1.이미지 불러오기"
      ],
      "metadata": {
        "id": "vbk0V85TvVoL"
      }
    },
    {
      "cell_type": "code",
      "source": [
        "my_image_path = '/content/drive/MyDrive/Aiffel/LMS/Exp3/f1.jpg'\n",
        "img_bgr = cv2.imread(my_image_path)    # OpenCV로 이미지를 불러옵니다\n",
        "img_show = img_bgr.copy()              # 출력용 이미지를 따로 보관합니다\n",
        "img_rgb = cv2.cvtColor(img_bgr, cv2.COLOR_BGR2RGB)        \n",
        "plt.imshow(img_rgb)\n",
        "plt.show()"
      ],
      "metadata": {
        "id": "vrU8_bsWvXKI"
      },
      "execution_count": null,
      "outputs": []
    },
    {
      "cell_type": "markdown",
      "source": [
        "## 2. 얼굴 검출, 랜드마크 검출"
      ],
      "metadata": {
        "id": "L62Ywm64xUpm"
      }
    },
    {
      "cell_type": "markdown",
      "source": [
        "### 얼굴 검출"
      ],
      "metadata": {
        "id": "0gp6SOhqxi11"
      }
    },
    {
      "cell_type": "code",
      "source": [
        "detector_hog = dlib.get_frontal_face_detector()\n",
        "# 얼굴을 찾기\n",
        "dlib_rects = detector_hog(img_rgb, 1)\n",
        "\n",
        "# 찾은 얼굴을 출력\n",
        "print(dlib_rects)\n",
        "\n",
        "for dlib_rect in dlib_rects:\n",
        "    l = dlib_rect.left()\n",
        "    t = dlib_rect.top()\n",
        "    r = dlib_rect.right()\n",
        "    b = dlib_rect.bottom()\n",
        "\n",
        "    cv2.rectangle(img_show, (l,t), (r,b), (0,255,0), 2, lineType=cv2.LINE_AA)\n",
        "\n",
        "img_show_rgb = cv2.cvtColor(img_show, cv2.COLOR_BGR2RGB)\n",
        "plt.imshow(img_show_rgb)\n",
        "plt.show()"
      ],
      "metadata": {
        "id": "0Ce44RkXxa_E"
      },
      "execution_count": null,
      "outputs": []
    },
    {
      "cell_type": "markdown",
      "source": [
        "### 랜드마크 검출"
      ],
      "metadata": {
        "id": "Exx4Fr_kxkhA"
      }
    },
    {
      "cell_type": "code",
      "source": [
        "model_path = '/content/drive/MyDrive/Aiffel/LMS/Exp3/shape_predictor_68_face_landmarks .dat'\n",
        "landmark_predictor = dlib.shape_predictor(model_path)\n",
        "\n",
        "list_landmarks = []\n",
        "\n",
        "# 얼굴 영역 박스 마다 face landmark를 찾아낸다.\n",
        "for dlib_rect in dlib_rects:\n",
        "    points = landmark_predictor(img_rgb, dlib_rect)\n",
        "    # face landmark 좌표를 저장한다.\n",
        "    list_points = list(map(lambda p: (p.x, p.y), points.parts()))\n",
        "    list_landmarks.append(list_points)\n",
        "\n",
        "print(list_landmarks)\n",
        "\n",
        "for landmark in list_landmarks:\n",
        "    for point in landmark:\n",
        "        cv2.circle(img_show, point, 2, (0,255,255), -1)\n",
        "\n",
        "img_show_rgb = cv2.cvtColor(img_show, cv2.COLOR_BGR2RGB)\n",
        "plt.imshow(img_show_rgb)\n",
        "plt.show()"
      ],
      "metadata": {
        "id": "wpWaWDmExiDd"
      },
      "execution_count": null,
      "outputs": []
    },
    {
      "cell_type": "markdown",
      "source": [
        "## 3. 스티커 적용 위치 확인"
      ],
      "metadata": {
        "id": "B3Aub9sbxs83"
      }
    },
    {
      "cell_type": "code",
      "source": [
        "# 랜드마크 좌표 확인\n",
        "for dlib_rect, landmark in zip(dlib_rects, list_landmarks):\n",
        "    print(landmark[30]) # 코의 인덱스는 30\n",
        "    x = landmark[30][0]\n",
        "    y = landmark[30][1]\n",
        "    w = h = dlib_rect.width()\n",
        "    print('(x,y) : (%d,%d)'%(x,y))\n",
        "    print('(w,h) : (%d,%d)'%(w,h))"
      ],
      "metadata": {
        "id": "Tcd6shr0xvP5"
      },
      "execution_count": null,
      "outputs": []
    },
    {
      "cell_type": "code",
      "source": [
        "# 스티커 불러오기, 사이즈 조절\n",
        "sticker_path = '/content/drive/MyDrive/Aiffel/LMS/Exp3/cat.png'\n",
        "img_sticker = cv2.imread(sticker_path)\n",
        "img_sticker = cv2.resize(img_sticker, (w,h))\n",
        "print(img_sticker.shape)"
      ],
      "metadata": {
        "id": "bggFoCCsxzKj"
      },
      "execution_count": null,
      "outputs": []
    },
    {
      "cell_type": "markdown",
      "source": [
        "고양이 스티커 위치 잡기.\n",
        "\n",
        "1. 스티커의 정중앙을 코에 맞춰야 한다.\n",
        "2. 얼굴 영역 박스의 정중앙은 코이다. \n",
        "3. 스티커의 크기와 박스크기가 같으니 박스의 시작점과 스티커의 시작점을 맞춰준다."
      ],
      "metadata": {
        "id": "QP_A-3OzEoO-"
      }
    },
    {
      "cell_type": "code",
      "source": [
        "refined_x = dlib_rect.left()\n",
        "refined_y = dlib_rect.top()\n",
        "print('(x,y) : (%d,%d)'%(refined_x,refined_y))"
      ],
      "metadata": {
        "id": "fgKuOJ96yHUJ"
      },
      "execution_count": null,
      "outputs": []
    },
    {
      "cell_type": "code",
      "source": [
        "if refined_x < 0:\n",
        "    img_sticker = img_sticker[:, -refined_x:]\n",
        "    refined_x = 0\n",
        "if refined_y < 0:\n",
        "    img_sticker = img_sticker[-refined_y:, :]\n",
        "    refined_y = 0\n",
        "\n",
        "print('(x,y) : (%d,%d)'%(refined_x,refined_y))"
      ],
      "metadata": {
        "id": "S1GDrwaIyH6t"
      },
      "execution_count": null,
      "outputs": []
    },
    {
      "cell_type": "markdown",
      "source": [
        "## 4. 스티커 적용하기"
      ],
      "metadata": {
        "id": "9Y3EMcrRyMFa"
      }
    },
    {
      "cell_type": "markdown",
      "source": [
        "`np.where()`에 인자를 넣는 순서가 중요하다. 반대로 넣게되면 스티커의 투명도가 뒤집혀서 하얀 배경에 코랑 수염만 뚫려있는 이미지가 나온다.\n",
        "\n"
      ],
      "metadata": {
        "id": "QqCJgcN8FP1o"
      }
    },
    {
      "cell_type": "code",
      "source": [
        "sticker_area = img_rgb[refined_y:refined_y +img_sticker.shape[0], refined_x:refined_x+img_sticker.shape[1]]\n",
        "\n",
        "img_rgb[refined_y:refined_y +img_sticker.shape[0], refined_x:refined_x+img_sticker.shape[1]] = \\\n",
        "    cv2.addWeighted(sticker_area, 0.5, np.where(img_sticker==0,img_sticker,sticker_area).astype(np.uint8), 0.5, 0)\n",
        "\n",
        "plt.imshow(img_rgb)\n",
        "plt.show()"
      ],
      "metadata": {
        "id": "jwxuC25fyWw-"
      },
      "execution_count": null,
      "outputs": []
    },
    {
      "cell_type": "markdown",
      "source": [
        "# 측면"
      ],
      "metadata": {
        "id": "uzlPLJk8DOZ-"
      }
    },
    {
      "cell_type": "markdown",
      "source": [
        "## 이미지 불러오기"
      ],
      "metadata": {
        "id": "nUHVUij0DV3h"
      }
    },
    {
      "cell_type": "code",
      "source": [
        "my_image_path = '/content/drive/MyDrive/Aiffel/LMS/Exp3/f2.jpg'\n",
        "img_bgr = cv2.imread(my_image_path)    # OpenCV로 이미지를 불러옵니다\n",
        "img_show = img_bgr.copy()              # 출력용 이미지를 따로 보관합니다\n",
        "img_rgb = cv2.cvtColor(img_bgr, cv2.COLOR_BGR2RGB)        \n",
        "plt.imshow(img_rgb)\n",
        "plt.show()"
      ],
      "metadata": {
        "id": "5F_sdToADV3i"
      },
      "execution_count": null,
      "outputs": []
    },
    {
      "cell_type": "markdown",
      "source": [
        "## 얼굴 검출, 랜드마크 검출"
      ],
      "metadata": {
        "id": "yR0NzlCEDV3i"
      }
    },
    {
      "cell_type": "markdown",
      "source": [
        "### 얼굴 검출"
      ],
      "metadata": {
        "id": "vqOXB2PpDV3i"
      }
    },
    {
      "cell_type": "code",
      "source": [
        "detector_hog = dlib.get_frontal_face_detector()\n",
        "# 얼굴을 찾기\n",
        "dlib_rects = detector_hog(img_rgb, 1)\n",
        "\n",
        "# 찾은 얼굴을 출력\n",
        "print(dlib_rects)\n",
        "\n",
        "for dlib_rect in dlib_rects:\n",
        "    l = dlib_rect.left()\n",
        "    t = dlib_rect.top()\n",
        "    r = dlib_rect.right()\n",
        "    b = dlib_rect.bottom()\n",
        "\n",
        "    cv2.rectangle(img_show, (l,t), (r,b), (0,255,0), 2, lineType=cv2.LINE_AA)\n",
        "\n",
        "img_show_rgb = cv2.cvtColor(img_show, cv2.COLOR_BGR2RGB)\n",
        "plt.imshow(img_show_rgb)\n",
        "plt.show()"
      ],
      "metadata": {
        "id": "3LnNnxwrDV3i"
      },
      "execution_count": null,
      "outputs": []
    },
    {
      "cell_type": "markdown",
      "source": [
        "### 랜드마크 검출"
      ],
      "metadata": {
        "id": "c5EXbTqRDV3j"
      }
    },
    {
      "cell_type": "code",
      "source": [
        "model_path = '/content/drive/MyDrive/Aiffel/LMS/Exp3/shape_predictor_68_face_landmarks .dat'\n",
        "landmark_predictor = dlib.shape_predictor(model_path)\n",
        "\n",
        "list_landmarks = []\n",
        "\n",
        "# 얼굴 영역 박스 마다 face landmark를 찾아낸다.\n",
        "for dlib_rect in dlib_rects:\n",
        "    points = landmark_predictor(img_rgb, dlib_rect)\n",
        "    # face landmark 좌표를 저장한다.\n",
        "    list_points = list(map(lambda p: (p.x, p.y), points.parts()))\n",
        "    list_landmarks.append(list_points)\n",
        "\n",
        "print(list_landmarks)\n",
        "\n",
        "for landmark in list_landmarks:\n",
        "    for point in landmark:\n",
        "        cv2.circle(img_show, point, 2, (0,255,255), -1)\n",
        "\n",
        "img_show_rgb = cv2.cvtColor(img_show, cv2.COLOR_BGR2RGB)\n",
        "plt.imshow(img_show_rgb)\n",
        "plt.show()"
      ],
      "metadata": {
        "id": "FfEMM2BtDV3j"
      },
      "execution_count": null,
      "outputs": []
    },
    {
      "cell_type": "markdown",
      "source": [
        "## 스티커 적용 위치 확인"
      ],
      "metadata": {
        "id": "Licxj53oDV3j"
      }
    },
    {
      "cell_type": "code",
      "source": [
        "# 랜드마크 좌표 확인\n",
        "for dlib_rect, landmark in zip(dlib_rects, list_landmarks):\n",
        "    print(landmark[30]) # 코의 인덱스는 30\n",
        "    x = landmark[30][0]\n",
        "    y = landmark[30][1]\n",
        "    w = h = dlib_rect.width()\n",
        "    print('(x,y) : (%d,%d)'%(x,y))\n",
        "    print('(w,h) : (%d,%d)'%(w,h))"
      ],
      "metadata": {
        "id": "rtKjHgETDV3j"
      },
      "execution_count": null,
      "outputs": []
    },
    {
      "cell_type": "code",
      "source": [
        "# 스티커 불러오기, 사이즈 조절\n",
        "sticker_path = '/content/drive/MyDrive/Aiffel/LMS/Exp3/cat.png'\n",
        "img_sticker = cv2.imread(sticker_path)\n",
        "img_sticker = cv2.resize(img_sticker, (w,h))\n",
        "print(img_sticker.shape)"
      ],
      "metadata": {
        "id": "KeXFX25lDV3k"
      },
      "execution_count": null,
      "outputs": []
    },
    {
      "cell_type": "code",
      "source": [
        "refined_x = dlib_rect.left()\n",
        "refined_y = dlib_rect.top()\n",
        "print('(x,y) : (%d,%d)'%(refined_x,refined_y))"
      ],
      "metadata": {
        "id": "-mP1gh14DV3k"
      },
      "execution_count": null,
      "outputs": []
    },
    {
      "cell_type": "code",
      "source": [
        "if refined_x < 0:\n",
        "    img_sticker = img_sticker[:, -refined_x:]\n",
        "    refined_x = 0\n",
        "if refined_y < 0:\n",
        "    img_sticker = img_sticker[-refined_y:, :]\n",
        "    refined_y = 0\n",
        "\n",
        "print('(x,y) : (%d,%d)'%(refined_x,refined_y))"
      ],
      "metadata": {
        "id": "ZFFXRoKcDV3l"
      },
      "execution_count": null,
      "outputs": []
    },
    {
      "cell_type": "markdown",
      "source": [
        "## 스티커 적용하기"
      ],
      "metadata": {
        "id": "scUesTUZDV3l"
      }
    },
    {
      "cell_type": "code",
      "source": [
        "sticker_area = img_rgb[refined_y:refined_y +img_sticker.shape[0], refined_x:refined_x+img_sticker.shape[1]]\n",
        "\n",
        "img_rgb[refined_y:refined_y +img_sticker.shape[0], refined_x:refined_x+img_sticker.shape[1]] = \\\n",
        "    cv2.addWeighted(sticker_area, 0.5, np.where(img_sticker==0,img_sticker,sticker_area).astype(np.uint8), 0.5, 0)\n",
        "\n",
        "plt.imshow(img_rgb)\n",
        "plt.show()"
      ],
      "metadata": {
        "id": "8pe2X2itDV3l"
      },
      "execution_count": null,
      "outputs": []
    },
    {
      "cell_type": "markdown",
      "source": [
        "# 마무리"
      ],
      "metadata": {
        "id": "IwuyIkHgEFhi"
      }
    },
    {
      "cell_type": "markdown",
      "source": [
        "- 생각해볼 점\n",
        "\n",
        "1. 얼굴 각도에 따라 스티커의 각도도 변해야 한다.\n",
        "3. 실시간 영상으로 스티커를 입히려면 실행속도가 중요하다.\n",
        "4. 스티커가 제자리에 있어야 하기 때문에 정확도가 중요하다.\n",
        "\n",
        "위의 문제점을 해결하기 위해서는 얼굴검출과 랜드마크 검출 후에 얼굴의 방향이 바뀌어도 마스크처럼 얼굴을 따라다녀야 한다. 그리고 그 마스크 위에 이미지를 덫씌운다.\n"
      ],
      "metadata": {
        "id": "PJLwFrPiDewN"
      }
    }
  ]
}