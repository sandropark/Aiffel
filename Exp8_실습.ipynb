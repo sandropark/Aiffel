{
  "cells": [
    {
      "cell_type": "markdown",
      "id": "f656e442",
      "metadata": {
        "id": "f656e442"
      },
      "source": [
        "# 뉴스기사 요약하기"
      ]
    },
    {
      "cell_type": "markdown",
      "id": "67415de1",
      "metadata": {
        "id": "67415de1"
      },
      "source": [
        "## 1. 데이터 불러오기"
      ]
    },
    {
      "cell_type": "code",
      "execution_count": 1,
      "id": "479ea729",
      "metadata": {
        "colab": {
          "base_uri": "https://localhost:8080/"
        },
        "id": "479ea729",
        "outputId": "752e3f25-b824-4fba-9a0d-55fd90ebe91c"
      },
      "outputs": [
        {
          "output_type": "stream",
          "name": "stdout",
          "text": [
            "[nltk_data] Downloading package stopwords to /root/nltk_data...\n",
            "[nltk_data]   Unzipping corpora/stopwords.zip.\n",
            "INFO:tensorflow:Deallocate tpu buffers before initializing tpu system.\n"
          ]
        },
        {
          "output_type": "stream",
          "name": "stderr",
          "text": [
            "INFO:tensorflow:Deallocate tpu buffers before initializing tpu system.\n"
          ]
        },
        {
          "output_type": "stream",
          "name": "stdout",
          "text": [
            "INFO:tensorflow:Initializing the TPU system: grpc://10.104.7.178:8470\n"
          ]
        },
        {
          "output_type": "stream",
          "name": "stderr",
          "text": [
            "INFO:tensorflow:Initializing the TPU system: grpc://10.104.7.178:8470\n"
          ]
        },
        {
          "output_type": "stream",
          "name": "stdout",
          "text": [
            "INFO:tensorflow:Finished initializing TPU system.\n"
          ]
        },
        {
          "output_type": "stream",
          "name": "stderr",
          "text": [
            "INFO:tensorflow:Finished initializing TPU system.\n"
          ]
        },
        {
          "output_type": "stream",
          "name": "stdout",
          "text": [
            "INFO:tensorflow:Found TPU system:\n"
          ]
        },
        {
          "output_type": "stream",
          "name": "stderr",
          "text": [
            "INFO:tensorflow:Found TPU system:\n"
          ]
        },
        {
          "output_type": "stream",
          "name": "stdout",
          "text": [
            "INFO:tensorflow:*** Num TPU Cores: 8\n"
          ]
        },
        {
          "output_type": "stream",
          "name": "stderr",
          "text": [
            "INFO:tensorflow:*** Num TPU Cores: 8\n"
          ]
        },
        {
          "output_type": "stream",
          "name": "stdout",
          "text": [
            "INFO:tensorflow:*** Num TPU Workers: 1\n"
          ]
        },
        {
          "output_type": "stream",
          "name": "stderr",
          "text": [
            "INFO:tensorflow:*** Num TPU Workers: 1\n"
          ]
        },
        {
          "output_type": "stream",
          "name": "stdout",
          "text": [
            "INFO:tensorflow:*** Num TPU Cores Per Worker: 8\n"
          ]
        },
        {
          "output_type": "stream",
          "name": "stderr",
          "text": [
            "INFO:tensorflow:*** Num TPU Cores Per Worker: 8\n"
          ]
        },
        {
          "output_type": "stream",
          "name": "stdout",
          "text": [
            "INFO:tensorflow:*** Available Device: _DeviceAttributes(/job:localhost/replica:0/task:0/device:CPU:0, CPU, 0, 0)\n"
          ]
        },
        {
          "output_type": "stream",
          "name": "stderr",
          "text": [
            "INFO:tensorflow:*** Available Device: _DeviceAttributes(/job:localhost/replica:0/task:0/device:CPU:0, CPU, 0, 0)\n"
          ]
        },
        {
          "output_type": "stream",
          "name": "stdout",
          "text": [
            "INFO:tensorflow:*** Available Device: _DeviceAttributes(/job:worker/replica:0/task:0/device:CPU:0, CPU, 0, 0)\n"
          ]
        },
        {
          "output_type": "stream",
          "name": "stderr",
          "text": [
            "INFO:tensorflow:*** Available Device: _DeviceAttributes(/job:worker/replica:0/task:0/device:CPU:0, CPU, 0, 0)\n"
          ]
        },
        {
          "output_type": "stream",
          "name": "stdout",
          "text": [
            "INFO:tensorflow:*** Available Device: _DeviceAttributes(/job:worker/replica:0/task:0/device:TPU:0, TPU, 0, 0)\n"
          ]
        },
        {
          "output_type": "stream",
          "name": "stderr",
          "text": [
            "INFO:tensorflow:*** Available Device: _DeviceAttributes(/job:worker/replica:0/task:0/device:TPU:0, TPU, 0, 0)\n"
          ]
        },
        {
          "output_type": "stream",
          "name": "stdout",
          "text": [
            "INFO:tensorflow:*** Available Device: _DeviceAttributes(/job:worker/replica:0/task:0/device:TPU:1, TPU, 0, 0)\n"
          ]
        },
        {
          "output_type": "stream",
          "name": "stderr",
          "text": [
            "INFO:tensorflow:*** Available Device: _DeviceAttributes(/job:worker/replica:0/task:0/device:TPU:1, TPU, 0, 0)\n"
          ]
        },
        {
          "output_type": "stream",
          "name": "stdout",
          "text": [
            "INFO:tensorflow:*** Available Device: _DeviceAttributes(/job:worker/replica:0/task:0/device:TPU:2, TPU, 0, 0)\n"
          ]
        },
        {
          "output_type": "stream",
          "name": "stderr",
          "text": [
            "INFO:tensorflow:*** Available Device: _DeviceAttributes(/job:worker/replica:0/task:0/device:TPU:2, TPU, 0, 0)\n"
          ]
        },
        {
          "output_type": "stream",
          "name": "stdout",
          "text": [
            "INFO:tensorflow:*** Available Device: _DeviceAttributes(/job:worker/replica:0/task:0/device:TPU:3, TPU, 0, 0)\n"
          ]
        },
        {
          "output_type": "stream",
          "name": "stderr",
          "text": [
            "INFO:tensorflow:*** Available Device: _DeviceAttributes(/job:worker/replica:0/task:0/device:TPU:3, TPU, 0, 0)\n"
          ]
        },
        {
          "output_type": "stream",
          "name": "stdout",
          "text": [
            "INFO:tensorflow:*** Available Device: _DeviceAttributes(/job:worker/replica:0/task:0/device:TPU:4, TPU, 0, 0)\n"
          ]
        },
        {
          "output_type": "stream",
          "name": "stderr",
          "text": [
            "INFO:tensorflow:*** Available Device: _DeviceAttributes(/job:worker/replica:0/task:0/device:TPU:4, TPU, 0, 0)\n"
          ]
        },
        {
          "output_type": "stream",
          "name": "stdout",
          "text": [
            "INFO:tensorflow:*** Available Device: _DeviceAttributes(/job:worker/replica:0/task:0/device:TPU:5, TPU, 0, 0)\n"
          ]
        },
        {
          "output_type": "stream",
          "name": "stderr",
          "text": [
            "INFO:tensorflow:*** Available Device: _DeviceAttributes(/job:worker/replica:0/task:0/device:TPU:5, TPU, 0, 0)\n"
          ]
        },
        {
          "output_type": "stream",
          "name": "stdout",
          "text": [
            "INFO:tensorflow:*** Available Device: _DeviceAttributes(/job:worker/replica:0/task:0/device:TPU:6, TPU, 0, 0)\n"
          ]
        },
        {
          "output_type": "stream",
          "name": "stderr",
          "text": [
            "INFO:tensorflow:*** Available Device: _DeviceAttributes(/job:worker/replica:0/task:0/device:TPU:6, TPU, 0, 0)\n"
          ]
        },
        {
          "output_type": "stream",
          "name": "stdout",
          "text": [
            "INFO:tensorflow:*** Available Device: _DeviceAttributes(/job:worker/replica:0/task:0/device:TPU:7, TPU, 0, 0)\n"
          ]
        },
        {
          "output_type": "stream",
          "name": "stderr",
          "text": [
            "INFO:tensorflow:*** Available Device: _DeviceAttributes(/job:worker/replica:0/task:0/device:TPU:7, TPU, 0, 0)\n"
          ]
        },
        {
          "output_type": "stream",
          "name": "stdout",
          "text": [
            "INFO:tensorflow:*** Available Device: _DeviceAttributes(/job:worker/replica:0/task:0/device:TPU_SYSTEM:0, TPU_SYSTEM, 0, 0)\n"
          ]
        },
        {
          "output_type": "stream",
          "name": "stderr",
          "text": [
            "INFO:tensorflow:*** Available Device: _DeviceAttributes(/job:worker/replica:0/task:0/device:TPU_SYSTEM:0, TPU_SYSTEM, 0, 0)\n"
          ]
        },
        {
          "output_type": "stream",
          "name": "stdout",
          "text": [
            "INFO:tensorflow:*** Available Device: _DeviceAttributes(/job:worker/replica:0/task:0/device:XLA_CPU:0, XLA_CPU, 0, 0)\n"
          ]
        },
        {
          "output_type": "stream",
          "name": "stderr",
          "text": [
            "INFO:tensorflow:*** Available Device: _DeviceAttributes(/job:worker/replica:0/task:0/device:XLA_CPU:0, XLA_CPU, 0, 0)\n"
          ]
        },
        {
          "output_type": "stream",
          "name": "stdout",
          "text": [
            "=3\n"
          ]
        }
      ],
      "source": [
        "import nltk\n",
        "nltk.download('stopwords')\n",
        "\n",
        "from tqdm import tqdm\n",
        "import numpy as np\n",
        "import pandas as pd\n",
        "import os\n",
        "import re\n",
        "import matplotlib.pyplot as plt\n",
        "from sklearn.model_selection import train_test_split\n",
        "from nltk.corpus import stopwords\n",
        "from bs4 import BeautifulSoup \n",
        "from tensorflow.keras.preprocessing.text import Tokenizer \n",
        "from tensorflow.keras.preprocessing.sequence import pad_sequences\n",
        "import urllib.request\n",
        "import warnings\n",
        "import tensorflow as tf\n",
        "warnings.filterwarnings(\"ignore\", category=UserWarning, module='bs4')\n",
        "resolver=tf.distribute.cluster_resolver.TPUClusterResolver(tpu='grpc://' + os.environ['COLAB_TPU_ADDR'])\n",
        "tf.config.experimental_connect_to_cluster(resolver)\n",
        "tf.tpu.experimental.initialize_tpu_system(resolver)\n",
        "strategy = tf.distribute.TPUStrategy(resolver)\n",
        "\n",
        "print('=3')"
      ]
    },
    {
      "cell_type": "code",
      "execution_count": 2,
      "id": "d81d66bb",
      "metadata": {
        "id": "d81d66bb"
      },
      "outputs": [],
      "source": [
        "urllib.request.urlretrieve(\"https://raw.githubusercontent.com/sunnysai12345/News_Summary/master/news_summary_more.csv\", filename=\"news_summary_more.csv\")\n",
        "data = pd.read_csv('news_summary_more.csv', encoding='iso-8859-1')"
      ]
    },
    {
      "cell_type": "code",
      "execution_count": 3,
      "id": "f1c6987d",
      "metadata": {
        "scrolled": true,
        "colab": {
          "base_uri": "https://localhost:8080/",
          "height": 363
        },
        "id": "f1c6987d",
        "outputId": "f6af7d70-b664-475f-b698-d633e3cbb8c9"
      },
      "outputs": [
        {
          "output_type": "execute_result",
          "data": {
            "text/html": [
              "\n",
              "  <div id=\"df-22d35287-6000-4d1a-a6a4-f6d6fedf048d\">\n",
              "    <div class=\"colab-df-container\">\n",
              "      <div>\n",
              "<style scoped>\n",
              "    .dataframe tbody tr th:only-of-type {\n",
              "        vertical-align: middle;\n",
              "    }\n",
              "\n",
              "    .dataframe tbody tr th {\n",
              "        vertical-align: top;\n",
              "    }\n",
              "\n",
              "    .dataframe thead th {\n",
              "        text-align: right;\n",
              "    }\n",
              "</style>\n",
              "<table border=\"1\" class=\"dataframe\">\n",
              "  <thead>\n",
              "    <tr style=\"text-align: right;\">\n",
              "      <th></th>\n",
              "      <th>headlines</th>\n",
              "      <th>text</th>\n",
              "    </tr>\n",
              "  </thead>\n",
              "  <tbody>\n",
              "    <tr>\n",
              "      <th>29711</th>\n",
              "      <td>Said no to many good films, wanted a personal ...</td>\n",
              "      <td>Kareena Kapoor, while talking about her career...</td>\n",
              "    </tr>\n",
              "    <tr>\n",
              "      <th>19351</th>\n",
              "      <td>Centre rushes NDRF team to Nagaland as floods ...</td>\n",
              "      <td>The Centre has rushed National Disaster Respon...</td>\n",
              "    </tr>\n",
              "    <tr>\n",
              "      <th>42091</th>\n",
              "      <td>Aussie cricketer claims Smith lied about ball-...</td>\n",
              "      <td>Australian all-rounder Moises Henriques has cl...</td>\n",
              "    </tr>\n",
              "    <tr>\n",
              "      <th>23204</th>\n",
              "      <td>Dunya Labs announces blockchain hackathon IBC ...</td>\n",
              "      <td>Blockchain knowledge company Dunya Labs is co-...</td>\n",
              "    </tr>\n",
              "    <tr>\n",
              "      <th>55713</th>\n",
              "      <td>New Zealand PM gets X-mas decor in nationwide ...</td>\n",
              "      <td>New Zealand's PM Jacinda Ardern has received a...</td>\n",
              "    </tr>\n",
              "    <tr>\n",
              "      <th>76700</th>\n",
              "      <td>Delhi Metro offers Heritage Walks in Old Delhi</td>\n",
              "      <td>The Delhi Metro is offering Heritage Walks in ...</td>\n",
              "    </tr>\n",
              "    <tr>\n",
              "      <th>7461</th>\n",
              "      <td>Migrant children seen being dropped over US bo...</td>\n",
              "      <td>A suspected smuggler was seen dropping two mig...</td>\n",
              "    </tr>\n",
              "    <tr>\n",
              "      <th>21778</th>\n",
              "      <td>BJP MLA resigns from party to pursue cow prote...</td>\n",
              "      <td>Telangana BJP MLA T Raja Singh on Sunday said ...</td>\n",
              "    </tr>\n",
              "    <tr>\n",
              "      <th>21783</th>\n",
              "      <td>Uber Eats pays tribute to the 90s in latest ca...</td>\n",
              "      <td>Uber Eats, the world's largest food delivery n...</td>\n",
              "    </tr>\n",
              "    <tr>\n",
              "      <th>19886</th>\n",
              "      <td>Facebook bans Myanmar army chief to prevent sp...</td>\n",
              "      <td>Facebook on Monday said it had removed the acc...</td>\n",
              "    </tr>\n",
              "  </tbody>\n",
              "</table>\n",
              "</div>\n",
              "      <button class=\"colab-df-convert\" onclick=\"convertToInteractive('df-22d35287-6000-4d1a-a6a4-f6d6fedf048d')\"\n",
              "              title=\"Convert this dataframe to an interactive table.\"\n",
              "              style=\"display:none;\">\n",
              "        \n",
              "  <svg xmlns=\"http://www.w3.org/2000/svg\" height=\"24px\"viewBox=\"0 0 24 24\"\n",
              "       width=\"24px\">\n",
              "    <path d=\"M0 0h24v24H0V0z\" fill=\"none\"/>\n",
              "    <path d=\"M18.56 5.44l.94 2.06.94-2.06 2.06-.94-2.06-.94-.94-2.06-.94 2.06-2.06.94zm-11 1L8.5 8.5l.94-2.06 2.06-.94-2.06-.94L8.5 2.5l-.94 2.06-2.06.94zm10 10l.94 2.06.94-2.06 2.06-.94-2.06-.94-.94-2.06-.94 2.06-2.06.94z\"/><path d=\"M17.41 7.96l-1.37-1.37c-.4-.4-.92-.59-1.43-.59-.52 0-1.04.2-1.43.59L10.3 9.45l-7.72 7.72c-.78.78-.78 2.05 0 2.83L4 21.41c.39.39.9.59 1.41.59.51 0 1.02-.2 1.41-.59l7.78-7.78 2.81-2.81c.8-.78.8-2.07 0-2.86zM5.41 20L4 18.59l7.72-7.72 1.47 1.35L5.41 20z\"/>\n",
              "  </svg>\n",
              "      </button>\n",
              "      \n",
              "  <style>\n",
              "    .colab-df-container {\n",
              "      display:flex;\n",
              "      flex-wrap:wrap;\n",
              "      gap: 12px;\n",
              "    }\n",
              "\n",
              "    .colab-df-convert {\n",
              "      background-color: #E8F0FE;\n",
              "      border: none;\n",
              "      border-radius: 50%;\n",
              "      cursor: pointer;\n",
              "      display: none;\n",
              "      fill: #1967D2;\n",
              "      height: 32px;\n",
              "      padding: 0 0 0 0;\n",
              "      width: 32px;\n",
              "    }\n",
              "\n",
              "    .colab-df-convert:hover {\n",
              "      background-color: #E2EBFA;\n",
              "      box-shadow: 0px 1px 2px rgba(60, 64, 67, 0.3), 0px 1px 3px 1px rgba(60, 64, 67, 0.15);\n",
              "      fill: #174EA6;\n",
              "    }\n",
              "\n",
              "    [theme=dark] .colab-df-convert {\n",
              "      background-color: #3B4455;\n",
              "      fill: #D2E3FC;\n",
              "    }\n",
              "\n",
              "    [theme=dark] .colab-df-convert:hover {\n",
              "      background-color: #434B5C;\n",
              "      box-shadow: 0px 1px 3px 1px rgba(0, 0, 0, 0.15);\n",
              "      filter: drop-shadow(0px 1px 2px rgba(0, 0, 0, 0.3));\n",
              "      fill: #FFFFFF;\n",
              "    }\n",
              "  </style>\n",
              "\n",
              "      <script>\n",
              "        const buttonEl =\n",
              "          document.querySelector('#df-22d35287-6000-4d1a-a6a4-f6d6fedf048d button.colab-df-convert');\n",
              "        buttonEl.style.display =\n",
              "          google.colab.kernel.accessAllowed ? 'block' : 'none';\n",
              "\n",
              "        async function convertToInteractive(key) {\n",
              "          const element = document.querySelector('#df-22d35287-6000-4d1a-a6a4-f6d6fedf048d');\n",
              "          const dataTable =\n",
              "            await google.colab.kernel.invokeFunction('convertToInteractive',\n",
              "                                                     [key], {});\n",
              "          if (!dataTable) return;\n",
              "\n",
              "          const docLinkHtml = 'Like what you see? Visit the ' +\n",
              "            '<a target=\"_blank\" href=https://colab.research.google.com/notebooks/data_table.ipynb>data table notebook</a>'\n",
              "            + ' to learn more about interactive tables.';\n",
              "          element.innerHTML = '';\n",
              "          dataTable['output_type'] = 'display_data';\n",
              "          await google.colab.output.renderOutput(dataTable, element);\n",
              "          const docLink = document.createElement('div');\n",
              "          docLink.innerHTML = docLinkHtml;\n",
              "          element.appendChild(docLink);\n",
              "        }\n",
              "      </script>\n",
              "    </div>\n",
              "  </div>\n",
              "  "
            ],
            "text/plain": [
              "                                               headlines                                               text\n",
              "29711  Said no to many good films, wanted a personal ...  Kareena Kapoor, while talking about her career...\n",
              "19351  Centre rushes NDRF team to Nagaland as floods ...  The Centre has rushed National Disaster Respon...\n",
              "42091  Aussie cricketer claims Smith lied about ball-...  Australian all-rounder Moises Henriques has cl...\n",
              "23204  Dunya Labs announces blockchain hackathon IBC ...  Blockchain knowledge company Dunya Labs is co-...\n",
              "55713  New Zealand PM gets X-mas decor in nationwide ...  New Zealand's PM Jacinda Ardern has received a...\n",
              "76700     Delhi Metro offers Heritage Walks in Old Delhi  The Delhi Metro is offering Heritage Walks in ...\n",
              "7461   Migrant children seen being dropped over US bo...  A suspected smuggler was seen dropping two mig...\n",
              "21778  BJP MLA resigns from party to pursue cow prote...  Telangana BJP MLA T Raja Singh on Sunday said ...\n",
              "21783  Uber Eats pays tribute to the 90s in latest ca...  Uber Eats, the world's largest food delivery n...\n",
              "19886  Facebook bans Myanmar army chief to prevent sp...  Facebook on Monday said it had removed the acc..."
            ]
          },
          "metadata": {},
          "execution_count": 3
        }
      ],
      "source": [
        "data.sample(10)"
      ]
    },
    {
      "cell_type": "code",
      "execution_count": 4,
      "id": "abf7ac91",
      "metadata": {
        "colab": {
          "base_uri": "https://localhost:8080/"
        },
        "id": "abf7ac91",
        "outputId": "75d40403-6923-446c-b880-920fcbc33a6d"
      },
      "outputs": [
        {
          "output_type": "execute_result",
          "data": {
            "text/plain": [
              "(98401, 2)"
            ]
          },
          "metadata": {},
          "execution_count": 4
        }
      ],
      "source": [
        "data.shape"
      ]
    },
    {
      "cell_type": "code",
      "execution_count": 5,
      "id": "af1ee584",
      "metadata": {
        "colab": {
          "base_uri": "https://localhost:8080/"
        },
        "id": "af1ee584",
        "outputId": "e7f154fe-90e1-4ef5-a3fe-7125b6d9dbc6"
      },
      "outputs": [
        {
          "output_type": "stream",
          "name": "stdout",
          "text": [
            "60 393\n"
          ]
        }
      ],
      "source": [
        "# 제목과 내용 길이 확인\n",
        "print(len(data['headlines'][4000]), len(data['text'][4000]))"
      ]
    },
    {
      "cell_type": "markdown",
      "id": "553dd6c9",
      "metadata": {
        "id": "553dd6c9"
      },
      "source": [
        "## 2. 데이터 전처리하기"
      ]
    },
    {
      "cell_type": "markdown",
      "id": "89f164aa",
      "metadata": {
        "id": "89f164aa"
      },
      "source": [
        "### 2-1. 중복 샘플 지우기"
      ]
    },
    {
      "cell_type": "code",
      "execution_count": 6,
      "id": "a385fcd5",
      "metadata": {
        "colab": {
          "base_uri": "https://localhost:8080/"
        },
        "id": "a385fcd5",
        "outputId": "a4b81226-6afd-46fb-c178-358096421312"
      },
      "outputs": [
        {
          "output_type": "stream",
          "name": "stdout",
          "text": [
            "text 열에서 중복을 배제한 유일한 샘플의 수 : 98360\n",
            "headlines 열에서 중복을 배제한 유일한 샘플의 수 : 98280\n"
          ]
        }
      ],
      "source": [
        "# 중복 샘플 확인\n",
        "print('text 열에서 중복을 배제한 유일한 샘플의 수 :', data['text'].nunique())\n",
        "print('headlines 열에서 중복을 배제한 유일한 샘플의 수 :', data['headlines'].nunique())"
      ]
    },
    {
      "cell_type": "code",
      "execution_count": 7,
      "id": "c4a2222c",
      "metadata": {
        "colab": {
          "base_uri": "https://localhost:8080/"
        },
        "id": "c4a2222c",
        "outputId": "4b4b6cfa-2fe2-4f6b-abe1-f2107bc20016"
      },
      "outputs": [
        {
          "output_type": "stream",
          "name": "stdout",
          "text": [
            "전체 샘플수 : 98360\n"
          ]
        }
      ],
      "source": [
        "# 중복된 내용 제거\n",
        "data.drop_duplicates(subset = ['text'], inplace=True)\n",
        "print('전체 샘플수 :', (len(data)))"
      ]
    },
    {
      "cell_type": "code",
      "execution_count": 8,
      "id": "3a10a0f7",
      "metadata": {
        "colab": {
          "base_uri": "https://localhost:8080/"
        },
        "id": "3a10a0f7",
        "outputId": "30ebe05e-a772-4389-bc50-9d23dbcbc48c"
      },
      "outputs": [
        {
          "output_type": "stream",
          "name": "stdout",
          "text": [
            "headlines    0\n",
            "text         0\n",
            "dtype: int64\n"
          ]
        }
      ],
      "source": [
        "# 결측치 확인\n",
        "print(data.isnull().sum())"
      ]
    },
    {
      "cell_type": "markdown",
      "id": "a223fe6b",
      "metadata": {
        "id": "a223fe6b"
      },
      "source": [
        "### 2-2. 정규화, 불용어 제거"
      ]
    },
    {
      "cell_type": "code",
      "execution_count": 9,
      "id": "399b2f6a",
      "metadata": {
        "colab": {
          "base_uri": "https://localhost:8080/"
        },
        "id": "399b2f6a",
        "outputId": "8875d89b-36c1-42a8-a689-b254ea37d972"
      },
      "outputs": [
        {
          "output_type": "stream",
          "name": "stdout",
          "text": [
            "정규화 사전의 수:  120\n"
          ]
        }
      ],
      "source": [
        "# 정규화 사전\n",
        "contractions = {\"ain't\": \"is not\", \"aren't\": \"are not\",\"can't\": \"cannot\", \"'cause\": \"because\", \"could've\": \"could have\", \"couldn't\": \"could not\",\n",
        "                           \"didn't\": \"did not\",  \"doesn't\": \"does not\", \"don't\": \"do not\", \"hadn't\": \"had not\", \"hasn't\": \"has not\", \"haven't\": \"have not\",\n",
        "                           \"he'd\": \"he would\",\"he'll\": \"he will\", \"he's\": \"he is\", \"how'd\": \"how did\", \"how'd'y\": \"how do you\", \"how'll\": \"how will\", \"how's\": \"how is\",\n",
        "                           \"I'd\": \"I would\", \"I'd've\": \"I would have\", \"I'll\": \"I will\", \"I'll've\": \"I will have\",\"I'm\": \"I am\", \"I've\": \"I have\", \"i'd\": \"i would\",\n",
        "                           \"i'd've\": \"i would have\", \"i'll\": \"i will\",  \"i'll've\": \"i will have\",\"i'm\": \"i am\", \"i've\": \"i have\", \"isn't\": \"is not\", \"it'd\": \"it would\",\n",
        "                           \"it'd've\": \"it would have\", \"it'll\": \"it will\", \"it'll've\": \"it will have\",\"it's\": \"it is\", \"let's\": \"let us\", \"ma'am\": \"madam\",\n",
        "                           \"mayn't\": \"may not\", \"might've\": \"might have\",\"mightn't\": \"might not\",\"mightn't've\": \"might not have\", \"must've\": \"must have\",\n",
        "                           \"mustn't\": \"must not\", \"mustn't've\": \"must not have\", \"needn't\": \"need not\", \"needn't've\": \"need not have\",\"o'clock\": \"of the clock\",\n",
        "                           \"oughtn't\": \"ought not\", \"oughtn't've\": \"ought not have\", \"shan't\": \"shall not\", \"sha'n't\": \"shall not\", \"shan't've\": \"shall not have\",\n",
        "                           \"she'd\": \"she would\", \"she'd've\": \"she would have\", \"she'll\": \"she will\", \"she'll've\": \"she will have\", \"she's\": \"she is\",\n",
        "                           \"should've\": \"should have\", \"shouldn't\": \"should not\", \"shouldn't've\": \"should not have\", \"so've\": \"so have\",\"so's\": \"so as\",\n",
        "                           \"this's\": \"this is\",\"that'd\": \"that would\", \"that'd've\": \"that would have\", \"that's\": \"that is\", \"there'd\": \"there would\",\n",
        "                           \"there'd've\": \"there would have\", \"there's\": \"there is\", \"here's\": \"here is\",\"they'd\": \"they would\", \"they'd've\": \"they would have\",\n",
        "                           \"they'll\": \"they will\", \"they'll've\": \"they will have\", \"they're\": \"they are\", \"they've\": \"they have\", \"to've\": \"to have\",\n",
        "                           \"wasn't\": \"was not\", \"we'd\": \"we would\", \"we'd've\": \"we would have\", \"we'll\": \"we will\", \"we'll've\": \"we will have\", \"we're\": \"we are\",\n",
        "                           \"we've\": \"we have\", \"weren't\": \"were not\", \"what'll\": \"what will\", \"what'll've\": \"what will have\", \"what're\": \"what are\",\n",
        "                           \"what's\": \"what is\", \"what've\": \"what have\", \"when's\": \"when is\", \"when've\": \"when have\", \"where'd\": \"where did\", \"where's\": \"where is\",\n",
        "                           \"where've\": \"where have\", \"who'll\": \"who will\", \"who'll've\": \"who will have\", \"who's\": \"who is\", \"who've\": \"who have\",\n",
        "                           \"why's\": \"why is\", \"why've\": \"why have\", \"will've\": \"will have\", \"won't\": \"will not\", \"won't've\": \"will not have\",\n",
        "                           \"would've\": \"would have\", \"wouldn't\": \"would not\", \"wouldn't've\": \"would not have\", \"y'all\": \"you all\",\n",
        "                           \"y'all'd\": \"you all would\",\"y'all'd've\": \"you all would have\",\"y'all're\": \"you all are\",\"y'all've\": \"you all have\",\n",
        "                           \"you'd\": \"you would\", \"you'd've\": \"you would have\", \"you'll\": \"you will\", \"you'll've\": \"you will have\",\n",
        "                           \"you're\": \"you are\", \"you've\": \"you have\"}\n",
        "\n",
        "print(\"정규화 사전의 수: \", len(contractions))"
      ]
    },
    {
      "cell_type": "markdown",
      "id": "4ec5130f",
      "metadata": {
        "id": "4ec5130f"
      },
      "source": [
        "NLTK 제공 불용어 리스트를 사용해서 불용어제거"
      ]
    },
    {
      "cell_type": "code",
      "execution_count": 10,
      "id": "fef0f382",
      "metadata": {
        "colab": {
          "base_uri": "https://localhost:8080/"
        },
        "id": "fef0f382",
        "outputId": "27b9c75d-3660-4d40-f58a-6bfd97aec0f3"
      },
      "outputs": [
        {
          "output_type": "stream",
          "name": "stdout",
          "text": [
            "불용어 개수 : 179\n",
            "['i', 'me', 'my', 'myself', 'we', 'our', 'ours', 'ourselves', 'you', \"you're\", \"you've\", \"you'll\", \"you'd\", 'your', 'yours', 'yourself', 'yourselves', 'he', 'him', 'his', 'himself', 'she', \"she's\", 'her', 'hers', 'herself', 'it', \"it's\", 'its', 'itself', 'they', 'them', 'their', 'theirs', 'themselves', 'what', 'which', 'who', 'whom', 'this', 'that', \"that'll\", 'these', 'those', 'am', 'is', 'are', 'was', 'were', 'be', 'been', 'being', 'have', 'has', 'had', 'having', 'do', 'does', 'did', 'doing', 'a', 'an', 'the', 'and', 'but', 'if', 'or', 'because', 'as', 'until', 'while', 'of', 'at', 'by', 'for', 'with', 'about', 'against', 'between', 'into', 'through', 'during', 'before', 'after', 'above', 'below', 'to', 'from', 'up', 'down', 'in', 'out', 'on', 'off', 'over', 'under', 'again', 'further', 'then', 'once', 'here', 'there', 'when', 'where', 'why', 'how', 'all', 'any', 'both', 'each', 'few', 'more', 'most', 'other', 'some', 'such', 'no', 'nor', 'not', 'only', 'own', 'same', 'so', 'than', 'too', 'very', 's', 't', 'can', 'will', 'just', 'don', \"don't\", 'should', \"should've\", 'now', 'd', 'll', 'm', 'o', 're', 've', 'y', 'ain', 'aren', \"aren't\", 'couldn', \"couldn't\", 'didn', \"didn't\", 'doesn', \"doesn't\", 'hadn', \"hadn't\", 'hasn', \"hasn't\", 'haven', \"haven't\", 'isn', \"isn't\", 'ma', 'mightn', \"mightn't\", 'mustn', \"mustn't\", 'needn', \"needn't\", 'shan', \"shan't\", 'shouldn', \"shouldn't\", 'wasn', \"wasn't\", 'weren', \"weren't\", 'won', \"won't\", 'wouldn', \"wouldn't\"]\n"
          ]
        }
      ],
      "source": [
        "# 불용어 사전 준비\n",
        "print('불용어 개수 :', len(stopwords.words('english') ))\n",
        "print(stopwords.words('english'))"
      ]
    },
    {
      "cell_type": "code",
      "execution_count": 11,
      "id": "28695907",
      "metadata": {
        "colab": {
          "base_uri": "https://localhost:8080/"
        },
        "id": "28695907",
        "outputId": "d0166ecf-95dd-43ae-d3a6-50f687f50dee"
      },
      "outputs": [
        {
          "output_type": "stream",
          "name": "stdout",
          "text": [
            "=3\n"
          ]
        }
      ],
      "source": [
        "# 데이터 전처리 함수\n",
        "def preprocess_sentence(sentence, remove_stopwords=True):\n",
        "    sentence = sentence.lower() # 텍스트 소문자화\n",
        "    sentence = BeautifulSoup(sentence, \"lxml\").text # <br />, <a href = ...> 등의 html 태그 제거\n",
        "    sentence = re.sub(r'\\([^)]*\\)', '', sentence) # 괄호로 닫힌 문자열 (...) 제거 Ex) my husband (and myself!) for => my husband for\n",
        "    sentence = re.sub('\"','', sentence) # 쌍따옴표 \" 제거\n",
        "    sentence = ' '.join([contractions[t] if t in contractions else t for t in sentence.split(\" \")]) # 약어 정규화\n",
        "    sentence = re.sub(r\"'s\\b\",\"\", sentence) # 소유격 제거. Ex) roland's -> roland\n",
        "    sentence = re.sub(\"[^a-zA-Z]\", \" \", sentence) # 영어 외 문자(숫자, 특수문자 등) 공백으로 변환\n",
        "    sentence = re.sub('[m]{2,}', 'mm', sentence) # m이 3개 이상이면 2개로 변경. Ex) ummmmmmm yeah -> umm yeah\n",
        "    \n",
        "    # 불용어 제거 (Text)\n",
        "    if remove_stopwords:\n",
        "        tokens = ' '.join(word for word in sentence.split() if not word in stopwords.words('english') if len(word) > 1)\n",
        "    # 불용어 미제거 (Summary)\n",
        "    else:\n",
        "        tokens = ' '.join(word for word in sentence.split() if len(word) > 1)\n",
        "    return tokens\n",
        "print('=3')"
      ]
    },
    {
      "cell_type": "markdown",
      "id": "0b0da6c3",
      "metadata": {
        "id": "0b0da6c3"
      },
      "source": [
        "제목과 내용 모두 불용어를 제거해본다. 나중에 성능이 별로면 기사는 불용어 제거하지 않고 테스트해본다."
      ]
    },
    {
      "cell_type": "code",
      "execution_count": 12,
      "id": "def7d7f7",
      "metadata": {
        "colab": {
          "base_uri": "https://localhost:8080/"
        },
        "id": "def7d7f7",
        "outputId": "8afc45e3-17c1-4eff-cb06-0c4ccc7be122"
      },
      "outputs": [
        {
          "output_type": "stream",
          "name": "stderr",
          "text": [
            "100%|██████████| 98360/98360 [14:52<00:00, 110.16it/s]\n",
            "100%|██████████| 98360/98360 [02:53<00:00, 567.83it/s]"
          ]
        },
        {
          "output_type": "stream",
          "name": "stdout",
          "text": [
            "text 전처리 후 결과:  ['saurav kant alumnus upgrad iiit pg program machine learning artificial intelligence sr systems engineer infosys almost years work experience program upgrad degree career support helped transition data scientist tech mahindra salary hike upgrad online power learning powered lakh careers', 'kunal shah credit card bill payment platform cred gave users chance win free food swiggy one year pranav kaushik delhi techie bagged reward spending cred coins users get one cred coin per rupee bill paid used avail rewards brands like ixigo bookmyshow ubereats cult fit', 'new zealand defeated india wickets fourth odi hamilton thursday win first match five match odi series india lost international match rohit sharma captaincy consecutive victories dating back march match witnessed india getting seventh lowest total odi cricket history', 'aegon life iterm insurance plan customers enjoy tax benefits premiums paid save taxes plan provides life cover age years also customers options insure critical illnesses disability accidental death benefit rider life cover age years', 'speaking sexual harassment allegations rajkumar hirani sonam kapoor said known hirani many years true metoo movement get derailed metoo movement always believe woman case need reserve judgment added hirani accused assistant worked sanju']\n",
            "\n",
            " headlines 전처리 후 결과:  ['upgrad learner switches career ml al salary hike', 'delhi techie wins free food swiggy one year cred', 'new zealand end rohit sharma led india match winning streak', 'aegon life iterm insurance plan helps customers save tax', 'known hirani yrs metoo claims true sonam']\n",
            "\n",
            " 정규화, 불용어 제거 완료!!\n"
          ]
        },
        {
          "output_type": "stream",
          "name": "stderr",
          "text": [
            "\n"
          ]
        }
      ],
      "source": [
        "# 정규화와 불용어 제거하기\n",
        "clean_text = []\n",
        "for s in tqdm(data['text']):\n",
        "    clean_text.append(preprocess_sentence(s))\n",
        "    \n",
        "clean_headlines = []\n",
        "for s in tqdm(data['headlines']):\n",
        "    clean_headlines.append(preprocess_sentence(s))\n",
        "    \n",
        "data['text'] = clean_text\n",
        "data['headlines'] = clean_headlines\n",
        "\n",
        "print(\"text 전처리 후 결과: \", clean_text[:5])\n",
        "print(\"\\n headlines 전처리 후 결과: \", clean_headlines[:5])\n",
        "print(\"\\n 정규화, 불용어 제거 완료!!\")"
      ]
    },
    {
      "cell_type": "code",
      "execution_count": 13,
      "id": "54094ea2",
      "metadata": {
        "id": "54094ea2"
      },
      "outputs": [],
      "source": [
        "# 빈 값을 Null 값으로 변환\n",
        "data.replace('', np.nan, inplace=True)"
      ]
    },
    {
      "cell_type": "code",
      "execution_count": 14,
      "id": "345e5eff",
      "metadata": {
        "scrolled": true,
        "colab": {
          "base_uri": "https://localhost:8080/"
        },
        "id": "345e5eff",
        "outputId": "49635dd2-1f17-4134-e32f-50a35aacab77"
      },
      "outputs": [
        {
          "output_type": "execute_result",
          "data": {
            "text/plain": [
              "headlines    0\n",
              "text         0\n",
              "dtype: int64"
            ]
          },
          "metadata": {},
          "execution_count": 14
        }
      ],
      "source": [
        "data.isnull().sum()"
      ]
    },
    {
      "cell_type": "code",
      "execution_count": 15,
      "id": "142dcc0f",
      "metadata": {
        "colab": {
          "base_uri": "https://localhost:8080/"
        },
        "id": "142dcc0f",
        "outputId": "e4464e39-1298-478f-bb5b-69f3eca66bb3"
      },
      "outputs": [
        {
          "output_type": "stream",
          "name": "stdout",
          "text": [
            "전체 샘플수 : 98360\n"
          ]
        }
      ],
      "source": [
        "print(\"전체 샘플수 :\", len(data))"
      ]
    },
    {
      "cell_type": "markdown",
      "id": "808540f0",
      "metadata": {
        "id": "808540f0"
      },
      "source": [
        "### 2-3. 훈련/테스트 셋 나누기 "
      ]
    },
    {
      "cell_type": "markdown",
      "id": "eff8bb37",
      "metadata": {
        "id": "eff8bb37"
      },
      "source": [
        "문장 최대길이 구하기"
      ]
    },
    {
      "cell_type": "code",
      "execution_count": 16,
      "id": "3dee4080",
      "metadata": {
        "colab": {
          "base_uri": "https://localhost:8080/",
          "height": 1000
        },
        "id": "3dee4080",
        "outputId": "4f9c29a1-3533-49ce-ff8d-8aabf26b374e"
      },
      "outputs": [
        {
          "output_type": "stream",
          "name": "stdout",
          "text": [
            "텍스트의 최소 길이 : 1\n",
            "텍스트의 최대 길이 : 60\n",
            "텍스트의 평균 길이 : 35.09968483123221\n",
            "텍스트의 표준편차 : 3.7993861876499637\n",
            "제목의 최소 길이 : 1\n",
            "제목의 최대 길이 : 13\n",
            "제목의 평균 길이 : 7.136183407889386\n",
            "제목의 표준편차 : 1.1624147471716224\n"
          ]
        },
        {
          "output_type": "display_data",
          "data": {
            "image/png": "[encoded data removed]",
            "text/plain": [
              "<Figure size 432x288 with 2 Axes>"
            ]
          },
          "metadata": {
            "needs_background": "light"
          }
        },
        {
          "output_type": "display_data",
          "data": {
            "image/png": "[encoded data removed]",
            "text/plain": [
              "<Figure size 432x288 with 1 Axes>"
            ]
          },
          "metadata": {
            "needs_background": "light"
          }
        },
        {
          "output_type": "display_data",
          "data": {
            "image/png": "[encoded data removed]",
            "text/plain": [
              "<Figure size 432x288 with 1 Axes>"
            ]
          },
          "metadata": {
            "needs_background": "light"
          }
        }
      ],
      "source": [
        "# 길이 분포 출력\n",
        "\n",
        "# 각 문장을 단어로 잘라서 갯수를 센다.\n",
        "text_len = [len(s.split()) for s in data['text']]\n",
        "headlines_len = [len(s.split()) for s in data['headlines']]\n",
        "\n",
        "print('텍스트의 최소 길이 : {}'.format(np.min(text_len)))\n",
        "print('텍스트의 최대 길이 : {}'.format(np.max(text_len)))\n",
        "print('텍스트의 평균 길이 : {}'.format(np.mean(text_len)))\n",
        "print('텍스트의 표준편차 : {}'.format(np.std(text_len)))\n",
        "\n",
        "print('제목의 최소 길이 : {}'.format(np.min(headlines_len)))\n",
        "print('제목의 최대 길이 : {}'.format(np.max(headlines_len)))\n",
        "print('제목의 평균 길이 : {}'.format(np.mean(headlines_len)))\n",
        "print('제목의 표준편차 : {}'.format(np.std(headlines_len)))\n",
        "\n",
        "\n",
        "plt.subplot(1,2,1)\n",
        "plt.boxplot(text_len)\n",
        "plt.title('text')\n",
        "plt.subplot(1,2,2)\n",
        "plt.boxplot(headlines_len)\n",
        "plt.title('headlines')\n",
        "plt.tight_layout()\n",
        "plt.show()\n",
        "\n",
        "plt.title('text')\n",
        "plt.hist(text_len, bins = 40)\n",
        "plt.xlabel('length of samples')\n",
        "plt.ylabel('number of samples')\n",
        "plt.show()\n",
        "\n",
        "plt.title('headlines')\n",
        "plt.hist(headlines_len, bins = 40)\n",
        "plt.xlabel('length of samples')\n",
        "plt.ylabel('number of samples')\n",
        "plt.show()"
      ]
    },
    {
      "cell_type": "markdown",
      "id": "1b5ce201",
      "metadata": {
        "id": "1b5ce201"
      },
      "source": [
        "최대 길이를 (평균 + 2 x 표준편차)로 한다."
      ]
    },
    {
      "cell_type": "code",
      "execution_count": 17,
      "id": "46317879",
      "metadata": {
        "colab": {
          "base_uri": "https://localhost:8080/"
        },
        "id": "46317879",
        "outputId": "b260d348-3a53-459e-e806-da7fea491b45"
      },
      "outputs": [
        {
          "output_type": "stream",
          "name": "stdout",
          "text": [
            "pad_sequences maxlen : 42\n",
            "전체 문장의 0.9750305002033347%가 maxlen 설정값 이내에 포함됩니다. \n"
          ]
        }
      ],
      "source": [
        "text_max_len = np.mean(text_len) + 2 * np.std(text_len)\n",
        "text_maxlen = int(text_max_len)\n",
        "print('pad_sequences maxlen :', text_maxlen)\n",
        "print('전체 문장의 {}%가 maxlen 설정값 이내에 포함됩니다. '.format(np.sum(text_len < text_max_len) / len(text_len)))"
      ]
    },
    {
      "cell_type": "code",
      "execution_count": 18,
      "id": "0823eed4",
      "metadata": {
        "scrolled": true,
        "colab": {
          "base_uri": "https://localhost:8080/"
        },
        "id": "0823eed4",
        "outputId": "91c052b1-473f-428b-8db2-2f29868d5b61"
      },
      "outputs": [
        {
          "output_type": "stream",
          "name": "stdout",
          "text": [
            "pad_sequences maxlen : 9\n",
            "전체 문장의 0.9826250508336722%가 maxlen 설정값 이내에 포함됩니다. \n"
          ]
        }
      ],
      "source": [
        "headlines_max_len = np.mean(headlines_len) + 2 * np.std(headlines_len)\n",
        "headlines_maxlen = int(headlines_max_len)\n",
        "print('pad_sequences maxlen :', headlines_maxlen)\n",
        "print('전체 문장의 {}%가 maxlen 설정값 이내에 포함됩니다. '.format(np.sum(headlines_len < headlines_max_len) / len(headlines_len)))"
      ]
    },
    {
      "cell_type": "code",
      "execution_count": 19,
      "id": "0952b94e",
      "metadata": {
        "colab": {
          "base_uri": "https://localhost:8080/"
        },
        "id": "0952b94e",
        "outputId": "33b05ea1-cafb-4578-8f41-cd500b4d944d"
      },
      "outputs": [
        {
          "output_type": "stream",
          "name": "stdout",
          "text": [
            "전체 샘플수 : 94367\n"
          ]
        }
      ],
      "source": [
        "data = data[data['text'].apply(lambda x: len(x.split()) <= text_maxlen)]\n",
        "data = data[data['headlines'].apply(lambda x: len(x.split()) <= headlines_maxlen)]\n",
        "print(\"전체 샘플수 :\", (len(data)))"
      ]
    },
    {
      "cell_type": "markdown",
      "id": "d60936ff",
      "metadata": {
        "id": "d60936ff"
      },
      "source": [
        "### 2-4. 시작 토큰과 종료 토큰 추가"
      ]
    },
    {
      "cell_type": "code",
      "execution_count": 20,
      "id": "207f4f8e",
      "metadata": {
        "colab": {
          "base_uri": "https://localhost:8080/",
          "height": 337
        },
        "id": "207f4f8e",
        "outputId": "e1c9dcb0-cbeb-488f-9b18-c47447143444"
      },
      "outputs": [
        {
          "output_type": "execute_result",
          "data": {
            "text/html": [
              "\n",
              "  <div id=\"df-3a50e194-f5a9-460a-a48e-8d732d0f122b\">\n",
              "    <div class=\"colab-df-container\">\n",
              "      <div>\n",
              "<style scoped>\n",
              "    .dataframe tbody tr th:only-of-type {\n",
              "        vertical-align: middle;\n",
              "    }\n",
              "\n",
              "    .dataframe tbody tr th {\n",
              "        vertical-align: top;\n",
              "    }\n",
              "\n",
              "    .dataframe thead th {\n",
              "        text-align: right;\n",
              "    }\n",
              "</style>\n",
              "<table border=\"1\" class=\"dataframe\">\n",
              "  <thead>\n",
              "    <tr style=\"text-align: right;\">\n",
              "      <th></th>\n",
              "      <th>headlines</th>\n",
              "      <th>text</th>\n",
              "      <th>decoder_input</th>\n",
              "      <th>decoder_target</th>\n",
              "    </tr>\n",
              "  </thead>\n",
              "  <tbody>\n",
              "    <tr>\n",
              "      <th>0</th>\n",
              "      <td>upgrad learner switches career ml al salary hike</td>\n",
              "      <td>saurav kant alumnus upgrad iiit pg program mac...</td>\n",
              "      <td>sostoken upgrad learner switches career ml al ...</td>\n",
              "      <td>upgrad learner switches career ml al salary hi...</td>\n",
              "    </tr>\n",
              "    <tr>\n",
              "      <th>3</th>\n",
              "      <td>aegon life iterm insurance plan helps customer...</td>\n",
              "      <td>aegon life iterm insurance plan customers enjo...</td>\n",
              "      <td>sostoken aegon life iterm insurance plan helps...</td>\n",
              "      <td>aegon life iterm insurance plan helps customer...</td>\n",
              "    </tr>\n",
              "    <tr>\n",
              "      <th>4</th>\n",
              "      <td>known hirani yrs metoo claims true sonam</td>\n",
              "      <td>speaking sexual harassment allegations rajkuma...</td>\n",
              "      <td>sostoken known hirani yrs metoo claims true sonam</td>\n",
              "      <td>known hirani yrs metoo claims true sonam eostoken</td>\n",
              "    </tr>\n",
              "    <tr>\n",
              "      <th>5</th>\n",
              "      <td>rahat fateh ali khan denies getting notice smu...</td>\n",
              "      <td>pakistani singer rahat fateh ali khan denied r...</td>\n",
              "      <td>sostoken rahat fateh ali khan denies getting n...</td>\n",
              "      <td>rahat fateh ali khan denies getting notice smu...</td>\n",
              "    </tr>\n",
              "    <tr>\n",
              "      <th>6</th>\n",
              "      <td>india get lowest odi total new zealand</td>\n",
              "      <td>india recorded lowest odi total new zealand ge...</td>\n",
              "      <td>sostoken india get lowest odi total new zealand</td>\n",
              "      <td>india get lowest odi total new zealand eostoken</td>\n",
              "    </tr>\n",
              "  </tbody>\n",
              "</table>\n",
              "</div>\n",
              "      <button class=\"colab-df-convert\" onclick=\"convertToInteractive('df-3a50e194-f5a9-460a-a48e-8d732d0f122b')\"\n",
              "              title=\"Convert this dataframe to an interactive table.\"\n",
              "              style=\"display:none;\">\n",
              "        \n",
              "  <svg xmlns=\"http://www.w3.org/2000/svg\" height=\"24px\"viewBox=\"0 0 24 24\"\n",
              "       width=\"24px\">\n",
              "    <path d=\"M0 0h24v24H0V0z\" fill=\"none\"/>\n",
              "    <path d=\"M18.56 5.44l.94 2.06.94-2.06 2.06-.94-2.06-.94-.94-2.06-.94 2.06-2.06.94zm-11 1L8.5 8.5l.94-2.06 2.06-.94-2.06-.94L8.5 2.5l-.94 2.06-2.06.94zm10 10l.94 2.06.94-2.06 2.06-.94-2.06-.94-.94-2.06-.94 2.06-2.06.94z\"/><path d=\"M17.41 7.96l-1.37-1.37c-.4-.4-.92-.59-1.43-.59-.52 0-1.04.2-1.43.59L10.3 9.45l-7.72 7.72c-.78.78-.78 2.05 0 2.83L4 21.41c.39.39.9.59 1.41.59.51 0 1.02-.2 1.41-.59l7.78-7.78 2.81-2.81c.8-.78.8-2.07 0-2.86zM5.41 20L4 18.59l7.72-7.72 1.47 1.35L5.41 20z\"/>\n",
              "  </svg>\n",
              "      </button>\n",
              "      \n",
              "  <style>\n",
              "    .colab-df-container {\n",
              "      display:flex;\n",
              "      flex-wrap:wrap;\n",
              "      gap: 12px;\n",
              "    }\n",
              "\n",
              "    .colab-df-convert {\n",
              "      background-color: #E8F0FE;\n",
              "      border: none;\n",
              "      border-radius: 50%;\n",
              "      cursor: pointer;\n",
              "      display: none;\n",
              "      fill: #1967D2;\n",
              "      height: 32px;\n",
              "      padding: 0 0 0 0;\n",
              "      width: 32px;\n",
              "    }\n",
              "\n",
              "    .colab-df-convert:hover {\n",
              "      background-color: #E2EBFA;\n",
              "      box-shadow: 0px 1px 2px rgba(60, 64, 67, 0.3), 0px 1px 3px 1px rgba(60, 64, 67, 0.15);\n",
              "      fill: #174EA6;\n",
              "    }\n",
              "\n",
              "    [theme=dark] .colab-df-convert {\n",
              "      background-color: #3B4455;\n",
              "      fill: #D2E3FC;\n",
              "    }\n",
              "\n",
              "    [theme=dark] .colab-df-convert:hover {\n",
              "      background-color: #434B5C;\n",
              "      box-shadow: 0px 1px 3px 1px rgba(0, 0, 0, 0.15);\n",
              "      filter: drop-shadow(0px 1px 2px rgba(0, 0, 0, 0.3));\n",
              "      fill: #FFFFFF;\n",
              "    }\n",
              "  </style>\n",
              "\n",
              "      <script>\n",
              "        const buttonEl =\n",
              "          document.querySelector('#df-3a50e194-f5a9-460a-a48e-8d732d0f122b button.colab-df-convert');\n",
              "        buttonEl.style.display =\n",
              "          google.colab.kernel.accessAllowed ? 'block' : 'none';\n",
              "\n",
              "        async function convertToInteractive(key) {\n",
              "          const element = document.querySelector('#df-3a50e194-f5a9-460a-a48e-8d732d0f122b');\n",
              "          const dataTable =\n",
              "            await google.colab.kernel.invokeFunction('convertToInteractive',\n",
              "                                                     [key], {});\n",
              "          if (!dataTable) return;\n",
              "\n",
              "          const docLinkHtml = 'Like what you see? Visit the ' +\n",
              "            '<a target=\"_blank\" href=https://colab.research.google.com/notebooks/data_table.ipynb>data table notebook</a>'\n",
              "            + ' to learn more about interactive tables.';\n",
              "          element.innerHTML = '';\n",
              "          dataTable['output_type'] = 'display_data';\n",
              "          await google.colab.output.renderOutput(dataTable, element);\n",
              "          const docLink = document.createElement('div');\n",
              "          docLink.innerHTML = docLinkHtml;\n",
              "          element.appendChild(docLink);\n",
              "        }\n",
              "      </script>\n",
              "    </div>\n",
              "  </div>\n",
              "  "
            ],
            "text/plain": [
              "                                           headlines  ...                                     decoder_target\n",
              "0   upgrad learner switches career ml al salary hike  ...  upgrad learner switches career ml al salary hi...\n",
              "3  aegon life iterm insurance plan helps customer...  ...  aegon life iterm insurance plan helps customer...\n",
              "4           known hirani yrs metoo claims true sonam  ...  known hirani yrs metoo claims true sonam eostoken\n",
              "5  rahat fateh ali khan denies getting notice smu...  ...  rahat fateh ali khan denies getting notice smu...\n",
              "6             india get lowest odi total new zealand  ...    india get lowest odi total new zealand eostoken\n",
              "\n",
              "[5 rows x 4 columns]"
            ]
          },
          "metadata": {},
          "execution_count": 20
        }
      ],
      "source": [
        "# 제목에 시작 토큰과 종료 토큰을 추가한다.\n",
        "data['decoder_input'] = data['headlines'].apply(lambda x: 'sostoken '+ x)\n",
        "data['decoder_target'] = data['headlines'].apply(lambda x: x + ' eostoken')\n",
        "data.head()"
      ]
    },
    {
      "cell_type": "markdown",
      "id": "438f4d23",
      "metadata": {
        "id": "438f4d23"
      },
      "source": [
        "넘파이 배열로 생성"
      ]
    },
    {
      "cell_type": "code",
      "execution_count": 21,
      "id": "6ab4b9fa",
      "metadata": {
        "id": "6ab4b9fa"
      },
      "outputs": [],
      "source": [
        "encoder_input = np.array(data['text']) # 인코더의 입력\n",
        "decoder_input = np.array(data['decoder_input']) # 디코더의 입력\n",
        "decoder_target = np.array(data['decoder_target']) # 디코더의 레이블"
      ]
    },
    {
      "cell_type": "markdown",
      "id": "8603be8f",
      "metadata": {
        "id": "8603be8f"
      },
      "source": [
        "### 2-5. 훈련/테스트 셋 분리"
      ]
    },
    {
      "cell_type": "code",
      "execution_count": 22,
      "id": "5a14ecf1",
      "metadata": {
        "colab": {
          "base_uri": "https://localhost:8080/"
        },
        "id": "5a14ecf1",
        "outputId": "ab9f7568-8788-4b40-dc56-37591d1036ab"
      },
      "outputs": [
        {
          "output_type": "stream",
          "name": "stdout",
          "text": [
            "(75493,) (75493,) (75493,)\n",
            "(18874,) (18874,) (18874,)\n"
          ]
        }
      ],
      "source": [
        "encoder_input_train, encoder_input_test, decoder_input_train, decoder_input_test, decoder_target_train, decoder_target_test = train_test_split(encoder_input, \n",
        "                                                                                                                                               decoder_input, \n",
        "                                                                                                                                               decoder_target, \n",
        "                                                                                                                                               test_size=0.2, \n",
        "                                                                                                                                               random_state=42)\n",
        "\n",
        "print(encoder_input_train.shape, decoder_input_train.shape, decoder_target_train.shape)\n",
        "print(encoder_input_test.shape, decoder_input_test.shape, decoder_target_test.shape)"
      ]
    },
    {
      "cell_type": "markdown",
      "id": "84cc555b",
      "metadata": {
        "id": "84cc555b"
      },
      "source": [
        "### 2-6. 정수 인코딩"
      ]
    },
    {
      "cell_type": "markdown",
      "id": "e8073b4f",
      "metadata": {
        "id": "e8073b4f"
      },
      "source": [
        "text 데이터를 정수인코딩한다."
      ]
    },
    {
      "cell_type": "code",
      "execution_count": 23,
      "id": "9f54525f",
      "metadata": {
        "id": "9f54525f"
      },
      "outputs": [],
      "source": [
        "src_tokenizer = Tokenizer() # 토크나이저 정의\n",
        "src_tokenizer.fit_on_texts(encoder_input_train) # 입력된 데이터로부터 단어 집합 생성"
      ]
    },
    {
      "cell_type": "code",
      "execution_count": 24,
      "id": "bddd7cbd",
      "metadata": {
        "colab": {
          "base_uri": "https://localhost:8080/"
        },
        "id": "bddd7cbd",
        "outputId": "eb768dd3-e305-46f3-985b-04278a3a2c73"
      },
      "outputs": [
        {
          "output_type": "execute_result",
          "data": {
            "text/plain": [
              "{'said': 1,\n",
              " 'india': 2,\n",
              " 'added': 3,\n",
              " 'year': 4,\n",
              " 'us': 5,\n",
              " 'also': 6,\n",
              " 'government': 7,\n",
              " 'first': 8,\n",
              " 'police': 9,\n",
              " 'people': 10,\n",
              " 'two': 11,\n",
              " 'indian': 12,\n",
              " 'old': 13,\n",
              " 'film': 14,\n",
              " 'minister': 15,\n",
              " 'president': 16,\n",
              " 'one': 17,\n",
              " 'crore': 18,\n",
              " 'court': 19,\n",
              " 'world': 20,\n",
              " 'state': 21,\n",
              " 'would': 22,\n",
              " 'years': 23,\n",
              " 'reportedly': 24,\n",
              " 'new': 25,\n",
              " 'time': 26,\n",
              " 'delhi': 27,\n",
              " 'last': 28,\n",
              " 'reports': 29,\n",
              " 'former': 30,\n",
              " 'three': 31,\n",
              " 'company': 32,\n",
              " 'earlier': 33,\n",
              " 'man': 34,\n",
              " 'congress': 35,\n",
              " 'like': 36,\n",
              " 'country': 37,\n",
              " 'bjp': 38,\n",
              " 'based': 39,\n",
              " 'claimed': 40,\n",
              " 'trump': 41,\n",
              " 'day': 42,\n",
              " 'team': 43,\n",
              " 'accused': 44,\n",
              " 'chief': 45,\n",
              " 'pakistan': 46,\n",
              " 'actor': 47,\n",
              " 'singh': 48,\n",
              " 'allegedly': 49,\n",
              " 'modi': 50,\n",
              " 'according': 51,\n",
              " 'women': 52,\n",
              " 'pm': 53,\n",
              " 'million': 54,\n",
              " 'made': 55,\n",
              " 'friday': 56,\n",
              " 'tuesday': 57,\n",
              " 'lakh': 58,\n",
              " 'party': 59,\n",
              " 'pradesh': 60,\n",
              " 'wednesday': 61,\n",
              " 'monday': 62,\n",
              " 'comes': 63,\n",
              " 'woman': 64,\n",
              " 'called': 65,\n",
              " 'around': 66,\n",
              " 'video': 67,\n",
              " 'asked': 68,\n",
              " 'thursday': 69,\n",
              " 'billion': 70,\n",
              " 'test': 71,\n",
              " 'took': 72,\n",
              " 'actress': 73,\n",
              " 'khan': 74,\n",
              " 'case': 75,\n",
              " 'mumbai': 76,\n",
              " 'found': 77,\n",
              " 'revealed': 78,\n",
              " 'tweeted': 79,\n",
              " 'including': 80,\n",
              " 'national': 81,\n",
              " 'officials': 82,\n",
              " 'arrested': 83,\n",
              " 'cm': 84,\n",
              " 'four': 85,\n",
              " 'sunday': 86,\n",
              " 'could': 87,\n",
              " 'saturday': 88,\n",
              " 'announced': 89,\n",
              " 'five': 90,\n",
              " 'wrote': 91,\n",
              " 'leader': 92,\n",
              " 'match': 93,\n",
              " 'second': 94,\n",
              " 'following': 95,\n",
              " 'high': 96,\n",
              " 'however': 97,\n",
              " 'group': 98,\n",
              " 'used': 99,\n",
              " 'since': 100,\n",
              " 'take': 101,\n",
              " 'notably': 102,\n",
              " 'captain': 103,\n",
              " 'alleged': 104,\n",
              " 'china': 105,\n",
              " 'part': 106,\n",
              " 'killed': 107,\n",
              " 'due': 108,\n",
              " 'users': 109,\n",
              " 'media': 110,\n",
              " 'family': 111,\n",
              " 'bank': 112,\n",
              " 'cricket': 113,\n",
              " 'get': 114,\n",
              " 'startup': 115,\n",
              " 'make': 116,\n",
              " 'may': 117,\n",
              " 'narendra': 118,\n",
              " 'per': 119,\n",
              " 'adding': 120,\n",
              " 'international': 121,\n",
              " 'donald': 122,\n",
              " 'th': 123,\n",
              " 'security': 124,\n",
              " 'days': 125,\n",
              " 'set': 126,\n",
              " 'facebook': 127,\n",
              " 'month': 128,\n",
              " 'ceo': 129,\n",
              " 'air': 130,\n",
              " 'led': 131,\n",
              " 'six': 132,\n",
              " 'twitter': 133,\n",
              " 'gandhi': 134,\n",
              " 'home': 135,\n",
              " 'house': 136,\n",
              " 'life': 137,\n",
              " 'incident': 138,\n",
              " 'work': 139,\n",
              " 'saying': 140,\n",
              " 'kapoor': 141,\n",
              " 'south': 142,\n",
              " 'report': 143,\n",
              " 'number': 144,\n",
              " 'official': 145,\n",
              " 'picture': 146,\n",
              " 'help': 147,\n",
              " 'data': 148,\n",
              " 'series': 149,\n",
              " 'girl': 150,\n",
              " 'several': 151,\n",
              " 'another': 152,\n",
              " 'social': 153,\n",
              " 'later': 154,\n",
              " 'uttar': 155,\n",
              " 'back': 156,\n",
              " 'prime': 157,\n",
              " 'supreme': 158,\n",
              " 'wife': 159,\n",
              " 'car': 160,\n",
              " 'post': 161,\n",
              " 'using': 162,\n",
              " 'board': 163,\n",
              " 'least': 164,\n",
              " 'seen': 165,\n",
              " 'money': 166,\n",
              " 'released': 167,\n",
              " 'public': 168,\n",
              " 'show': 169,\n",
              " 'elections': 170,\n",
              " 'upcoming': 171,\n",
              " 'north': 172,\n",
              " 'talking': 173,\n",
              " 'hospital': 174,\n",
              " 'next': 175,\n",
              " 'students': 176,\n",
              " 'kumar': 177,\n",
              " 'death': 178,\n",
              " 'filed': 179,\n",
              " 'australia': 180,\n",
              " 'week': 181,\n",
              " 'union': 182,\n",
              " 'nearly': 183,\n",
              " 'google': 184,\n",
              " 'city': 185,\n",
              " 'months': 186,\n",
              " 'taken': 187,\n",
              " 'become': 188,\n",
              " 'launched': 189,\n",
              " 'school': 190,\n",
              " 'recently': 191,\n",
              " 'third': 192,\n",
              " 'among': 193,\n",
              " 'men': 194,\n",
              " 'got': 195,\n",
              " 'record': 196,\n",
              " 'children': 197,\n",
              " 'even': 198,\n",
              " 'director': 199,\n",
              " 'rahul': 200,\n",
              " 'many': 201,\n",
              " 'centre': 202,\n",
              " 'user': 203,\n",
              " 'without': 204,\n",
              " 'uk': 205,\n",
              " 'times': 206,\n",
              " 'attack': 207,\n",
              " 'kohli': 208,\n",
              " 'technology': 209,\n",
              " 'shared': 210,\n",
              " 'online': 211,\n",
              " 'worth': 212,\n",
              " 'named': 213,\n",
              " 'cup': 214,\n",
              " 'release': 215,\n",
              " 'son': 216,\n",
              " 'away': 217,\n",
              " 'district': 218,\n",
              " 'others': 219,\n",
              " 'hit': 220,\n",
              " 'came': 221,\n",
              " 'run': 222,\n",
              " 'ever': 223,\n",
              " 'law': 224,\n",
              " 'ministry': 225,\n",
              " 'place': 226,\n",
              " 'win': 227,\n",
              " 'held': 228,\n",
              " 'deal': 229,\n",
              " 'reported': 230,\n",
              " 'use': 231,\n",
              " 'father': 232,\n",
              " 'making': 233,\n",
              " 'researchers': 234,\n",
              " 'cannot': 235,\n",
              " 'co': 236,\n",
              " 'order': 237,\n",
              " 'across': 238,\n",
              " 'long': 239,\n",
              " 'body': 240,\n",
              " 'told': 241,\n",
              " 'died': 242,\n",
              " 'directed': 243,\n",
              " 'given': 244,\n",
              " 'england': 245,\n",
              " 'system': 246,\n",
              " 'shah': 247,\n",
              " 'final': 248,\n",
              " 'every': 249,\n",
              " 'open': 250,\n",
              " 'water': 251,\n",
              " 'working': 252,\n",
              " 'flight': 253,\n",
              " 'want': 254,\n",
              " 'sharma': 255,\n",
              " 'korea': 256,\n",
              " 'started': 257,\n",
              " 'army': 258,\n",
              " 'american': 259,\n",
              " 'received': 260,\n",
              " 'come': 261,\n",
              " 'general': 262,\n",
              " 'tax': 263,\n",
              " 'members': 264,\n",
              " 'pay': 265,\n",
              " 'apple': 266,\n",
              " 'karnataka': 267,\n",
              " 'department': 268,\n",
              " 'decision': 269,\n",
              " 'along': 270,\n",
              " 'daughter': 271,\n",
              " 'founder': 272,\n",
              " 'way': 273,\n",
              " 'play': 274,\n",
              " 'capital': 275,\n",
              " 'runs': 276,\n",
              " 'person': 277,\n",
              " 'chinese': 278,\n",
              " 'hours': 279,\n",
              " 'taking': 280,\n",
              " 'best': 281,\n",
              " 'go': 282,\n",
              " 'kashmir': 283,\n",
              " 'event': 284,\n",
              " 'never': 285,\n",
              " 'injured': 286,\n",
              " 'lost': 287,\n",
              " 'mother': 288,\n",
              " 'assembly': 289,\n",
              " 'university': 290,\n",
              " 'app': 291,\n",
              " 'fire': 292,\n",
              " 'left': 293,\n",
              " 'states': 294,\n",
              " 'went': 295,\n",
              " 'authorities': 296,\n",
              " 'largest': 297,\n",
              " 'united': 298,\n",
              " 'today': 299,\n",
              " 'right': 300,\n",
              " 'top': 301,\n",
              " 'services': 302,\n",
              " 'airport': 303,\n",
              " 'within': 304,\n",
              " 'highest': 305,\n",
              " 'space': 306,\n",
              " 'firm': 307,\n",
              " 'good': 308,\n",
              " 'speaking': 309,\n",
              " 'australian': 310,\n",
              " 'name': 311,\n",
              " 'end': 312,\n",
              " 'officer': 313,\n",
              " 'well': 314,\n",
              " 'human': 315,\n",
              " 'russia': 316,\n",
              " 'service': 317,\n",
              " 'films': 318,\n",
              " 'seven': 319,\n",
              " 'employees': 320,\n",
              " 'cricketer': 321,\n",
              " 'star': 322,\n",
              " 'sexual': 323,\n",
              " 'playing': 324,\n",
              " 'action': 325,\n",
              " 'total': 326,\n",
              " 'countries': 327,\n",
              " 'companies': 328,\n",
              " 'power': 329,\n",
              " 'player': 330,\n",
              " 'december': 331,\n",
              " 'food': 332,\n",
              " 'kerala': 333,\n",
              " 'maharashtra': 334,\n",
              " 'business': 335,\n",
              " 'became': 336,\n",
              " 'information': 337,\n",
              " 'odi': 338,\n",
              " 'known': 339,\n",
              " 'read': 340,\n",
              " 'give': 341,\n",
              " 'issued': 342,\n",
              " 'chairman': 343,\n",
              " 'central': 344,\n",
              " 'ram': 345,\n",
              " 'russian': 346,\n",
              " 'bengaluru': 347,\n",
              " 'gold': 348,\n",
              " 'raised': 349,\n",
              " 'office': 350,\n",
              " 'move': 351,\n",
              " 'role': 352,\n",
              " 'meeting': 353,\n",
              " 'currently': 354,\n",
              " 'foreign': 355,\n",
              " 'june': 356,\n",
              " 'free': 357,\n",
              " 'sent': 358,\n",
              " 'eight': 359,\n",
              " 'private': 360,\n",
              " 'march': 361,\n",
              " 'gujarat': 362,\n",
              " 'league': 363,\n",
              " 'face': 364,\n",
              " 'posted': 365,\n",
              " 'head': 366,\n",
              " 'support': 367,\n",
              " 'election': 368,\n",
              " 'meanwhile': 369,\n",
              " 'child': 370,\n",
              " 'slammed': 371,\n",
              " 'going': 372,\n",
              " 'near': 373,\n",
              " 'instagram': 374,\n",
              " 'share': 375,\n",
              " 'tweet': 376,\n",
              " 'cases': 377,\n",
              " 'special': 378,\n",
              " 'issue': 379,\n",
              " 'market': 380,\n",
              " 'passengers': 381,\n",
              " 'scheduled': 382,\n",
              " 'think': 383,\n",
              " 'amid': 384,\n",
              " 'ahead': 385,\n",
              " 'ban': 386,\n",
              " 'virat': 387,\n",
              " 'ball': 388,\n",
              " 'war': 389,\n",
              " 'list': 390,\n",
              " 'know': 391,\n",
              " 'need': 392,\n",
              " 'registered': 393,\n",
              " 'commission': 394,\n",
              " 'much': 395,\n",
              " 'april': 396,\n",
              " 'tamil': 397,\n",
              " 'january': 398,\n",
              " 'salman': 399,\n",
              " 'love': 400,\n",
              " 'investigation': 401,\n",
              " 'visit': 402,\n",
              " 'played': 403,\n",
              " 'claiming': 404,\n",
              " 'statement': 405,\n",
              " 'august': 406,\n",
              " 'husband': 407,\n",
              " 'september': 408,\n",
              " 'sabha': 409,\n",
              " 'train': 410,\n",
              " 'health': 411,\n",
              " 'ipl': 412,\n",
              " 'bihar': 413,\n",
              " 'anti': 414,\n",
              " 'ago': 415,\n",
              " 'scored': 416,\n",
              " 'military': 417,\n",
              " 'senior': 418,\n",
              " 'class': 419,\n",
              " 'non': 420,\n",
              " 'west': 421,\n",
              " 'song': 422,\n",
              " 'passed': 423,\n",
              " 'boy': 424,\n",
              " 'development': 425,\n",
              " 'un': 426,\n",
              " 'shows': 427,\n",
              " 'shot': 428,\n",
              " 'platform': 429,\n",
              " 'round': 430,\n",
              " 'put': 431,\n",
              " 'sri': 432,\n",
              " 'area': 433,\n",
              " 'singer': 434,\n",
              " 'inside': 435,\n",
              " 'punjab': 436,\n",
              " 'leaders': 437,\n",
              " 'see': 438,\n",
              " 'pakistani': 439,\n",
              " 'news': 440,\n",
              " 'nuclear': 441,\n",
              " 'secretary': 442,\n",
              " 'defence': 443,\n",
              " 'political': 444,\n",
              " 'project': 445,\n",
              " 'age': 446,\n",
              " 'complaint': 447,\n",
              " 'student': 448,\n",
              " 'feature': 449,\n",
              " 'recent': 450,\n",
              " 'failed': 451,\n",
              " 'global': 452,\n",
              " 'giant': 453,\n",
              " 'major': 454,\n",
              " 'launch': 455,\n",
              " 'dead': 456,\n",
              " 'act': 457,\n",
              " 'july': 458,\n",
              " 'ex': 459,\n",
              " 'different': 460,\n",
              " 'rape': 461,\n",
              " 'denied': 462,\n",
              " 'wedding': 463,\n",
              " 'station': 464,\n",
              " 'finance': 465,\n",
              " 'ordered': 466,\n",
              " 'allegations': 467,\n",
              " 'suicide': 468,\n",
              " 'players': 469,\n",
              " 'uber': 470,\n",
              " 'expected': 471,\n",
              " 'getting': 472,\n",
              " 'trying': 473,\n",
              " 'november': 474,\n",
              " 'force': 475,\n",
              " 'decided': 476,\n",
              " 'financial': 477,\n",
              " 'still': 478,\n",
              " 'bill': 479,\n",
              " 'october': 480,\n",
              " 'yadav': 481,\n",
              " 'member': 482,\n",
              " 'wanted': 483,\n",
              " 'game': 484,\n",
              " 'fake': 485,\n",
              " 'couple': 486,\n",
              " 'amazon': 487,\n",
              " 'bollywood': 488,\n",
              " 'mp': 489,\n",
              " 'medical': 490,\n",
              " 'side': 491,\n",
              " 'allowed': 492,\n",
              " 'towards': 493,\n",
              " 'female': 494,\n",
              " 'look': 495,\n",
              " 'stated': 496,\n",
              " 'cbi': 497,\n",
              " 'jail': 498,\n",
              " 'real': 499,\n",
              " 'late': 500,\n",
              " 'award': 501,\n",
              " 'change': 502,\n",
              " 'building': 503,\n",
              " 'road': 504,\n",
              " 'temple': 505,\n",
              " 'married': 506,\n",
              " 'forces': 507,\n",
              " 'minutes': 508,\n",
              " 'victim': 509,\n",
              " 'past': 510,\n",
              " 'control': 511,\n",
              " 'history': 512,\n",
              " 'stop': 513,\n",
              " 'campaign': 514,\n",
              " 'local': 515,\n",
              " 'phone': 516,\n",
              " 'lead': 517,\n",
              " 'british': 518,\n",
              " 'jammu': 519,\n",
              " 'study': 520,\n",
              " 'claims': 521,\n",
              " 'calling': 522,\n",
              " 'despite': 523,\n",
              " 'account': 524,\n",
              " 'dhoni': 525,\n",
              " 'paid': 526,\n",
              " 'agency': 527,\n",
              " 'priyanka': 528,\n",
              " 'outside': 529,\n",
              " 'rights': 530,\n",
              " 'workers': 531,\n",
              " 'white': 532,\n",
              " 'mark': 533,\n",
              " 'driver': 534,\n",
              " 'quarter': 535,\n",
              " 'plans': 536,\n",
              " 'rajasthan': 537,\n",
              " 'debut': 538,\n",
              " 'gst': 539,\n",
              " 'together': 540,\n",
              " 'committee': 541,\n",
              " 'nadu': 542,\n",
              " 'funding': 543,\n",
              " 'parents': 544,\n",
              " 'cost': 545,\n",
              " 'birthday': 546,\n",
              " 'railway': 547,\n",
              " 'batsman': 548,\n",
              " 'scientists': 549,\n",
              " 'nation': 550,\n",
              " 'violence': 551,\n",
              " 'refused': 552,\n",
              " 'seeking': 553,\n",
              " 'till': 554,\n",
              " 'ali': 555,\n",
              " 'earth': 556,\n",
              " 'saudi': 557,\n",
              " 'letter': 558,\n",
              " 'sachin': 559,\n",
              " 'planning': 560,\n",
              " 'starrer': 561,\n",
              " 'madhya': 562,\n",
              " 'musk': 563,\n",
              " 'great': 564,\n",
              " 'winning': 565,\n",
              " 'london': 566,\n",
              " 'border': 567,\n",
              " 'games': 568,\n",
              " 'fell': 569,\n",
              " 'always': 570,\n",
              " 'iran': 571,\n",
              " 'banned': 572,\n",
              " 'protest': 573,\n",
              " 'reacting': 574,\n",
              " 'vice': 575,\n",
              " 'live': 576,\n",
              " 'behind': 577,\n",
              " 'pictures': 578,\n",
              " 'filmmaker': 579,\n",
              " 'korean': 580,\n",
              " 'instead': 581,\n",
              " 'declared': 582,\n",
              " 'haryana': 583,\n",
              " 'nine': 584,\n",
              " 'football': 585,\n",
              " 'night': 586,\n",
              " 'coach': 587,\n",
              " 'sharing': 588,\n",
              " 'single': 589,\n",
              " 'developed': 590,\n",
              " 'big': 591,\n",
              " 'mobile': 592,\n",
              " 'justice': 593,\n",
              " 'half': 594,\n",
              " 'black': 595,\n",
              " 'leave': 596,\n",
              " 'provide': 597,\n",
              " 'murder': 598,\n",
              " 'biggest': 599,\n",
              " 'parliament': 600,\n",
              " 'muslim': 601,\n",
              " 'land': 602,\n",
              " 'founded': 603,\n",
              " 'nasa': 604,\n",
              " 'call': 605,\n",
              " 'matter': 606,\n",
              " 'previous': 607,\n",
              " 'met': 608,\n",
              " 'affairs': 609,\n",
              " 'innings': 610,\n",
              " 'amount': 611,\n",
              " 'aadhaar': 612,\n",
              " 'cash': 613,\n",
              " 'gave': 614,\n",
              " 'harassment': 615,\n",
              " 'season': 616,\n",
              " 'far': 617,\n",
              " 'personal': 618,\n",
              " 'career': 619,\n",
              " 'light': 620,\n",
              " 'suspended': 621,\n",
              " 'matches': 622,\n",
              " 'start': 623,\n",
              " 'africa': 624,\n",
              " 'education': 625,\n",
              " 'charges': 626,\n",
              " 'offered': 627,\n",
              " 'confirmed': 628,\n",
              " 'loss': 629,\n",
              " 'bachchan': 630,\n",
              " 'french': 631,\n",
              " 'done': 632,\n",
              " 'brother': 633,\n",
              " 'tried': 634,\n",
              " 'price': 635,\n",
              " 'sale': 636,\n",
              " 'turned': 637,\n",
              " 'banks': 638,\n",
              " 'tesla': 639,\n",
              " 'vehicles': 640,\n",
              " 'lok': 641,\n",
              " 'industry': 642,\n",
              " 'stating': 643,\n",
              " 'probe': 644,\n",
              " 'fourth': 645,\n",
              " 'current': 646,\n",
              " 'model': 647,\n",
              " 'fund': 648,\n",
              " 'opposition': 649,\n",
              " 'increase': 650,\n",
              " 'must': 651,\n",
              " 'village': 652,\n",
              " 'club': 653,\n",
              " 'aircraft': 654,\n",
              " 'better': 655,\n",
              " 'already': 656,\n",
              " 'staff': 657,\n",
              " 'period': 658,\n",
              " 'written': 659,\n",
              " 'bengal': 660,\n",
              " 'cut': 661,\n",
              " 'yet': 662,\n",
              " 'admitted': 663,\n",
              " 'policy': 664,\n",
              " 'created': 665,\n",
              " 'february': 666,\n",
              " 'say': 667,\n",
              " 'intelligence': 668,\n",
              " 'caused': 669,\n",
              " 'showed': 670,\n",
              " 'spokesperson': 671,\n",
              " 'hyderabad': 672,\n",
              " 'wickets': 673,\n",
              " 'able': 674,\n",
              " 'level': 675,\n",
              " 'character': 676,\n",
              " 'let': 677,\n",
              " 'issues': 678,\n",
              " 'hotel': 679,\n",
              " 'tournament': 680,\n",
              " 'girls': 681,\n",
              " 'missing': 682,\n",
              " 'indians': 683,\n",
              " 'self': 684,\n",
              " 'farmers': 685,\n",
              " 'include': 686,\n",
              " 'fight': 687,\n",
              " 'return': 688,\n",
              " 'chopra': 689,\n",
              " 'flipkart': 690,\n",
              " 'sold': 691,\n",
              " 'rukh': 692,\n",
              " 'gone': 693,\n",
              " 'process': 694,\n",
              " 'km': 695,\n",
              " 'happy': 696,\n",
              " 'shares': 697,\n",
              " 'officers': 698,\n",
              " 'income': 699,\n",
              " 'job': 700,\n",
              " 'vehicle': 701,\n",
              " 'nations': 702,\n",
              " 'baby': 703,\n",
              " 'reach': 704,\n",
              " 'operations': 705,\n",
              " 'driving': 706,\n",
              " 'allow': 707,\n",
              " 'stake': 708,\n",
              " 'response': 709,\n",
              " 'attacks': 710,\n",
              " 'accounts': 711,\n",
              " 'plan': 712,\n",
              " 'keep': 713,\n",
              " 'bus': 714,\n",
              " 'passenger': 715,\n",
              " 'afghanistan': 716,\n",
              " 'create': 717,\n",
              " 'treatment': 718,\n",
              " 'proposed': 719,\n",
              " 'demanded': 720,\n",
              " 'term': 721,\n",
              " 'sanjay': 722,\n",
              " 'organisation': 723,\n",
              " 'personnel': 724,\n",
              " 'showing': 725,\n",
              " 'photo': 726,\n",
              " 'meet': 727,\n",
              " 'lot': 728,\n",
              " 'carrying': 729,\n",
              " 'owned': 730,\n",
              " 'wearing': 731,\n",
              " 'full': 732,\n",
              " 'appointed': 733,\n",
              " 'council': 734,\n",
              " 'things': 735,\n",
              " 'form': 736,\n",
              " 'continue': 737,\n",
              " 'governor': 738,\n",
              " 'illegal': 739,\n",
              " 'rbi': 740,\n",
              " 'tv': 741,\n",
              " 'room': 742,\n",
              " 'less': 743,\n",
              " 'marriage': 744,\n",
              " 'reached': 745,\n",
              " 'warned': 746,\n",
              " 'commerce': 747,\n",
              " 'customers': 748,\n",
              " 'forced': 749,\n",
              " 'adityanath': 750,\n",
              " 'japan': 751,\n",
              " 'suggested': 752,\n",
              " 'hand': 753,\n",
              " 'hindu': 754,\n",
              " 'region': 755,\n",
              " 'involved': 756,\n",
              " 'giving': 757,\n",
              " 'talks': 758,\n",
              " 'economic': 759,\n",
              " 'ongoing': 760,\n",
              " 'community': 761,\n",
              " 'score': 762,\n",
              " 'related': 763,\n",
              " 'investment': 764,\n",
              " 'investors': 765,\n",
              " 'terror': 766,\n",
              " 'champions': 767,\n",
              " 'reliance': 768,\n",
              " 'broke': 769,\n",
              " 'ensure': 770,\n",
              " 'date': 771,\n",
              " 'airline': 772,\n",
              " 'sought': 773,\n",
              " 'caught': 774,\n",
              " 'zealand': 775,\n",
              " 'addressing': 776,\n",
              " 'friends': 777,\n",
              " 'bcci': 778,\n",
              " 'lanka': 779,\n",
              " 'story': 780,\n",
              " 'find': 781,\n",
              " 'oil': 782,\n",
              " 'revenue': 783,\n",
              " 'mla': 784,\n",
              " 'various': 785,\n",
              " 'hearing': 786,\n",
              " 'discovered': 787,\n",
              " 'friend': 788,\n",
              " 'access': 789,\n",
              " 'trade': 790,\n",
              " 'compared': 791,\n",
              " 'electric': 792,\n",
              " 'deepika': 793,\n",
              " 'feel': 794,\n",
              " 'line': 795,\n",
              " 'committed': 796,\n",
              " 'safety': 797,\n",
              " 'yogi': 798,\n",
              " 'corporation': 799,\n",
              " 'products': 800,\n",
              " 'asking': 801,\n",
              " 'threatened': 802,\n",
              " 'sex': 803,\n",
              " 'ranveer': 804,\n",
              " 'spot': 805,\n",
              " 'hour': 806,\n",
              " 'features': 807,\n",
              " 'karan': 808,\n",
              " 'legal': 809,\n",
              " 'offer': 810,\n",
              " 'andhra': 811,\n",
              " 'increased': 812,\n",
              " 'suffered': 813,\n",
              " 'signed': 814,\n",
              " 'research': 815,\n",
              " 'travel': 816,\n",
              " 'york': 817,\n",
              " 'future': 818,\n",
              " 'cars': 819,\n",
              " 'doctors': 820,\n",
              " 'ended': 821,\n",
              " 'rao': 822,\n",
              " 'defeated': 823,\n",
              " 'looking': 824,\n",
              " 'almost': 825,\n",
              " 'forward': 826,\n",
              " 'schools': 827,\n",
              " 'removed': 828,\n",
              " 'bangladesh': 829,\n",
              " 'someone': 830,\n",
              " 'fans': 831,\n",
              " 'citizens': 832,\n",
              " 'value': 833,\n",
              " 'front': 834,\n",
              " 'dismissed': 835,\n",
              " 'pacer': 836,\n",
              " 'college': 837,\n",
              " 'born': 838,\n",
              " 'seats': 839,\n",
              " 'television': 840,\n",
              " 'whose': 841,\n",
              " 'anil': 842,\n",
              " 'airlines': 843,\n",
              " 'traffic': 844,\n",
              " 'website': 845,\n",
              " 'wants': 846,\n",
              " 'internet': 847,\n",
              " 'close': 848,\n",
              " 'built': 849,\n",
              " 'killing': 850,\n",
              " 'red': 851,\n",
              " 'jaitley': 852,\n",
              " 'really': 853,\n",
              " 'saw': 854,\n",
              " 'protests': 855,\n",
              " 'corruption': 856,\n",
              " 'conducted': 857,\n",
              " 'germany': 858,\n",
              " 'viral': 859,\n",
              " 'imposed': 860,\n",
              " 'english': 861,\n",
              " 'notice': 862,\n",
              " 'festival': 863,\n",
              " 'victims': 864,\n",
              " 'opened': 865,\n",
              " 'soon': 866,\n",
              " 'worked': 867,\n",
              " 'aged': 868,\n",
              " 'agreed': 869,\n",
              " 'kg': 870,\n",
              " 'stars': 871,\n",
              " 'net': 872,\n",
              " 'injuries': 873,\n",
              " 'shooting': 874,\n",
              " 'actors': 875,\n",
              " 'emergency': 876,\n",
              " 'birth': 877,\n",
              " 'islamic': 878,\n",
              " 'accident': 879,\n",
              " 'strike': 880,\n",
              " 'helped': 881,\n",
              " 'delivery': 882,\n",
              " 'kolkata': 883,\n",
              " 'administration': 884,\n",
              " 'arrest': 885,\n",
              " 'kangana': 886,\n",
              " 'small': 887,\n",
              " 'vijay': 888,\n",
              " 'wrong': 889,\n",
              " 'parties': 890,\n",
              " 'low': 891,\n",
              " 'approved': 892,\n",
              " 'whatsapp': 893,\n",
              " 'rate': 894,\n",
              " 'iphone': 895,\n",
              " 'something': 896,\n",
              " 'plane': 897,\n",
              " 'began': 898,\n",
              " 'similar': 899,\n",
              " 'growth': 900,\n",
              " 'title': 901,\n",
              " 'areas': 902,\n",
              " 'aimed': 903,\n",
              " 'digital': 904,\n",
              " 'anyone': 905,\n",
              " 'association': 906,\n",
              " 'whether': 907,\n",
              " 'details': 908,\n",
              " 'france': 909,\n",
              " 'interview': 910,\n",
              " 'charge': 911,\n",
              " 'sena': 912,\n",
              " 'weeks': 913,\n",
              " 'points': 914,\n",
              " 'rejected': 915,\n",
              " 'affected': 916,\n",
              " 'jobs': 917,\n",
              " 'early': 918,\n",
              " 'annual': 919,\n",
              " 'management': 920,\n",
              " 'surfaced': 921,\n",
              " 'scheme': 922,\n",
              " 'owner': 923,\n",
              " 'chennai': 924,\n",
              " 'available': 925,\n",
              " 'german': 926,\n",
              " 'kapil': 927,\n",
              " 'search': 928,\n",
              " 'leading': 929,\n",
              " 'judge': 930,\n",
              " 'cover': 931,\n",
              " 'served': 932,\n",
              " 'deputy': 933,\n",
              " 'ceremony': 934,\n",
              " 'akshay': 935,\n",
              " 'message': 936,\n",
              " 'sector': 937,\n",
              " 'buy': 938,\n",
              " 'claim': 939,\n",
              " 'site': 940,\n",
              " 'militants': 941,\n",
              " 'joined': 942,\n",
              " 'charged': 943,\n",
              " 'followed': 944,\n",
              " 'music': 945,\n",
              " 'mission': 946,\n",
              " 'terrorists': 947,\n",
              " 'kejriwal': 948,\n",
              " 'crime': 949,\n",
              " 'urged': 950,\n",
              " 'book': 951,\n",
              " 'fine': 952,\n",
              " 'victory': 953,\n",
              " 'peace': 954,\n",
              " 'image': 955,\n",
              " 'tendulkar': 956,\n",
              " 'funds': 957,\n",
              " 'programme': 958,\n",
              " 'position': 959,\n",
              " 'informed': 960,\n",
              " 'trophy': 961,\n",
              " 'bad': 962,\n",
              " 'device': 963,\n",
              " 'bring': 964,\n",
              " 'performance': 965,\n",
              " 'cause': 966,\n",
              " 'training': 967,\n",
              " 'included': 968,\n",
              " 'relationship': 969,\n",
              " 'employee': 970,\n",
              " 'rohit': 971,\n",
              " 'lives': 972,\n",
              " 'opening': 973,\n",
              " 'connection': 974,\n",
              " 'tests': 975,\n",
              " 'feet': 976,\n",
              " 'rules': 977,\n",
              " 'sanctions': 978,\n",
              " 'stay': 979,\n",
              " 'al': 980,\n",
              " 'prasad': 981,\n",
              " 'production': 982,\n",
              " 'asian': 983,\n",
              " 'ground': 984,\n",
              " 'asia': 985,\n",
              " 'attempt': 986,\n",
              " 'facing': 987,\n",
              " 'brand': 988,\n",
              " 'elon': 989,\n",
              " 'producer': 990,\n",
              " 'spinner': 991,\n",
              " 'construction': 992,\n",
              " 'medal': 993,\n",
              " 'fashion': 994,\n",
              " 'brought': 995,\n",
              " 'ms': 996,\n",
              " 'fraud': 997,\n",
              " 'attacked': 998,\n",
              " 'youth': 999,\n",
              " 'thought': 1000,\n",
              " ...}"
            ]
          },
          "metadata": {},
          "execution_count": 24
        }
      ],
      "source": [
        "src_tokenizer.word_index"
      ]
    },
    {
      "cell_type": "code",
      "execution_count": 25,
      "id": "69ac3dca",
      "metadata": {
        "colab": {
          "base_uri": "https://localhost:8080/"
        },
        "id": "69ac3dca",
        "outputId": "90c9c173-0cbd-4c19-ac96-5ffff37b51b8"
      },
      "outputs": [
        {
          "output_type": "stream",
          "name": "stdout",
          "text": [
            "단어 집합(vocabulary)의 크기 : 67443\n",
            "등장 빈도가 10번 이하인 희귀 단어의 수: 50427\n",
            "단어 집합에서 희귀 단어를 제외시킬 경우의 단어 집합의 크기 17016\n",
            "단어 집합에서 희귀 단어의 비율: 74.76980561362929\n",
            "전체 등장 빈도에서 희귀 단어 등장 빈도 비율: 4.9905765708757475\n"
          ]
        }
      ],
      "source": [
        "# src_tokenizer.word_counts.items()\n",
        "threshold = 11\n",
        "total_cnt = len(src_tokenizer.word_index) # 단어의 수\n",
        "rare_cnt = 0 # 등장 빈도수가 threshold보다 작은 단어 카운트\n",
        "total_freq = 0 # 훈련 데이터의 전체 단어 빈도수 총 합\n",
        "rare_freq = 0 # 등장 빈도수가 threshold보다 작은 당어의 등장 빈도수의 총 합\n",
        "\n",
        "# 단어와 빈도수의 쌍을 받는다.\n",
        "for key, value in src_tokenizer.word_counts.items():\n",
        "    total_freq += value\n",
        "    \n",
        "    # 단어의 빈도수가 threshold보다 작으면\n",
        "    if(value < threshold):\n",
        "        rare_cnt += 1\n",
        "        rare_freq += value\n",
        "        \n",
        "print('단어 집합(vocabulary)의 크기 :', total_cnt)\n",
        "print('등장 빈도가 %s번 이하인 희귀 단어의 수: %s'%(threshold - 1, rare_cnt))\n",
        "print('단어 집합에서 희귀 단어를 제외시킬 경우의 단어 집합의 크기 %s'%(total_cnt - rare_cnt))\n",
        "print(\"단어 집합에서 희귀 단어의 비율:\", (rare_cnt / total_cnt)*100)\n",
        "print(\"전체 등장 빈도에서 희귀 단어 등장 빈도 비율:\", (rare_freq / total_freq)*100)"
      ]
    },
    {
      "cell_type": "code",
      "execution_count": 26,
      "id": "61999d37",
      "metadata": {
        "colab": {
          "base_uri": "https://localhost:8080/"
        },
        "id": "61999d37",
        "outputId": "39578d8b-a85b-47d9-e279-aac9d9dab980"
      },
      "outputs": [
        {
          "output_type": "stream",
          "name": "stdout",
          "text": [
            "단어 집합 생성완료!\n"
          ]
        }
      ],
      "source": [
        "src_vocab = 17000\n",
        "src_tokenizer = Tokenizer(num_words=src_vocab) # 단어 집합의 크기를 8000으로 제한\n",
        "src_tokenizer.fit_on_texts(encoder_input_train) # 단어 집합 재생성\n",
        "\n",
        "print(\"단어 집합 생성완료!\")"
      ]
    },
    {
      "cell_type": "code",
      "execution_count": 27,
      "id": "ae0e7d1d",
      "metadata": {
        "scrolled": true,
        "colab": {
          "base_uri": "https://localhost:8080/"
        },
        "id": "ae0e7d1d",
        "outputId": "5a107345-1343-492b-a43d-15701b381e7f"
      },
      "outputs": [
        {
          "output_type": "stream",
          "name": "stdout",
          "text": [
            "[[5, 39, 234, 590, 1138, 71, 2651, 1850, 11846, 10, 2277, 8714, 11846, 812, 1850, 75, 3187, 9204, 5692, 1955, 2887, 1850, 234, 674, 116, 9572, 97, 4061, 1039, 590, 1594, 231], [1649, 3539, 741, 169, 1417, 13876, 4631, 1, 1251, 502, 13877, 194, 472, 4874, 2561, 1760, 318, 13876, 2813, 3219, 4523, 2362, 20, 305, 526, 47, 12579, 1993, 871, 1055, 9967, 2017, 13877, 875, 1761], [1574, 310, 991, 4002, 3409, 663, 388, 1033, 3188, 17, 4003, 1796, 6333, 254, 3946, 1917, 2218, 3409, 1, 882, 3409, 8, 3188, 8884, 529, 2675, 1796, 6334, 8885, 156, 220, 6334]]\n"
          ]
        }
      ],
      "source": [
        "# 텍스트 시퀀스를 정수 시퀀스로 변환\n",
        "encoder_input_train = src_tokenizer.texts_to_sequences(encoder_input_train)\n",
        "encoder_input_test = src_tokenizer.texts_to_sequences(encoder_input_test)\n",
        "\n",
        "# 잘 변환됐는지 샘플 출력\n",
        "print(encoder_input_train[:3])"
      ]
    },
    {
      "cell_type": "markdown",
      "id": "d4f735e3",
      "metadata": {
        "id": "d4f735e3"
      },
      "source": [
        "headlines 데이터도 정수 인코딩 한다."
      ]
    },
    {
      "cell_type": "code",
      "execution_count": 28,
      "id": "eb76450c",
      "metadata": {
        "colab": {
          "base_uri": "https://localhost:8080/"
        },
        "id": "eb76450c",
        "outputId": "371fd413-3a80-4657-d1d5-91a5314767cc"
      },
      "outputs": [
        {
          "output_type": "stream",
          "name": "stdout",
          "text": [
            "단어 집합 생성완료!\n"
          ]
        }
      ],
      "source": [
        "tar_tokenizer = Tokenizer()\n",
        "tar_tokenizer.fit_on_texts(decoder_input_train)\n",
        "\n",
        "print(\"단어 집합 생성완료!\")"
      ]
    },
    {
      "cell_type": "code",
      "execution_count": 29,
      "id": "daacde08",
      "metadata": {
        "colab": {
          "base_uri": "https://localhost:8080/"
        },
        "id": "daacde08",
        "outputId": "0be4526c-9973-4221-ec65-0a6d87906d64"
      },
      "outputs": [
        {
          "output_type": "stream",
          "name": "stdout",
          "text": [
            "단어 집합(vocabulary)의 크기 : 29228\n",
            "등장 빈도가 7번 이하인 희귀 단어의 수: 20762\n",
            "단어 집합에서 희귀 단어를 제외시킬 경우의 단어 집합의 크기 8466\n",
            "단어 집합에서 희귀 단어의 비율: 71.03462433283153\n",
            "전체 등장 빈도에서 희귀 단어 등장 빈도 비율: 7.695982192689285\n"
          ]
        }
      ],
      "source": [
        "threshold = 8\n",
        "total_cnt = len(tar_tokenizer.word_index) # 단어의 수\n",
        "rare_cnt = 0 # 등장 빈도수가 threshold보다 작은 단어의 개수를 카운트\n",
        "total_freq = 0 # 훈련 데이터의 전체 단어 빈도수 총 합\n",
        "rare_freq = 0 # 등장 빈도수가 threshold보다 작은 단어의 등장 빈도수의 총 합\n",
        "\n",
        "# 단어와 빈도수의 쌍(pair)을 key와 value로 받는다.\n",
        "for key, value in tar_tokenizer.word_counts.items():\n",
        "    total_freq = total_freq + value\n",
        "\n",
        "    # 단어의 등장 빈도수가 threshold보다 작으면\n",
        "    if(value < threshold):\n",
        "        rare_cnt = rare_cnt + 1\n",
        "        rare_freq = rare_freq + value\n",
        "\n",
        "print('단어 집합(vocabulary)의 크기 :', total_cnt)\n",
        "print('등장 빈도가 %s번 이하인 희귀 단어의 수: %s'%(threshold - 1, rare_cnt))\n",
        "print('단어 집합에서 희귀 단어를 제외시킬 경우의 단어 집합의 크기 %s'%(total_cnt - rare_cnt))\n",
        "print(\"단어 집합에서 희귀 단어의 비율:\", (rare_cnt / total_cnt)*100)\n",
        "print(\"전체 등장 빈도에서 희귀 단어 등장 빈도 비율:\", (rare_freq / total_freq)*100)"
      ]
    },
    {
      "cell_type": "code",
      "execution_count": 30,
      "id": "ce6b0910",
      "metadata": {
        "colab": {
          "base_uri": "https://localhost:8080/"
        },
        "id": "ce6b0910",
        "outputId": "eb1754fb-1abc-41a2-ffc0-9a447db3758a"
      },
      "outputs": [
        {
          "output_type": "stream",
          "name": "stdout",
          "text": [
            "input\n",
            "input  [[1, 18, 1051, 50, 2480, 2895], [1, 5615, 416, 144, 38, 6181, 556], [1, 326, 1221, 833, 4145, 2013], [1, 1862, 488, 1749, 380, 5141, 7869], [1, 2716, 83, 535, 541, 13, 734, 954]]\n",
            "target\n",
            "decoder  [[18, 1051, 50, 2480, 2895, 2], [5615, 416, 144, 38, 6181, 556, 2], [326, 1221, 833, 4145, 2013, 2], [1862, 488, 1749, 380, 5141, 7869, 2], [2716, 83, 535, 541, 13, 734, 954, 2]]\n"
          ]
        }
      ],
      "source": [
        "tar_vocab = 8000\n",
        "tar_tokenizer = Tokenizer(num_words=tar_vocab) \n",
        "tar_tokenizer.fit_on_texts(decoder_input_train)\n",
        "tar_tokenizer.fit_on_texts(decoder_target_train)\n",
        "\n",
        "# 텍스트 시퀀스를 정수 시퀀스로 변환\n",
        "decoder_input_train = tar_tokenizer.texts_to_sequences(decoder_input_train) \n",
        "decoder_target_train = tar_tokenizer.texts_to_sequences(decoder_target_train)\n",
        "decoder_input_test = tar_tokenizer.texts_to_sequences(decoder_input_test)\n",
        "decoder_target_test = tar_tokenizer.texts_to_sequences(decoder_target_test)\n",
        "\n",
        "# 잘 변환되었는지 확인\n",
        "print('input')\n",
        "print('input ',decoder_input_train[:5])\n",
        "print('target')\n",
        "print('decoder ',decoder_target_train[:5])"
      ]
    },
    {
      "cell_type": "markdown",
      "id": "ca4ed081",
      "metadata": {
        "id": "ca4ed081"
      },
      "source": [
        "빈도수 낮은 단어들이 삭제 되었기 때문에 데이터가 비었는지 확인하고 삭제한다."
      ]
    },
    {
      "cell_type": "code",
      "execution_count": 31,
      "id": "92f379f5",
      "metadata": {
        "colab": {
          "base_uri": "https://localhost:8080/"
        },
        "id": "92f379f5",
        "outputId": "a5c0f83a-e26a-4c59-b857-ab93ea5d106b"
      },
      "outputs": [
        {
          "output_type": "stream",
          "name": "stdout",
          "text": [
            "삭제할 훈련 데이터의 개수 : 3\n",
            "삭제할 테스트 데이터의 개수 : 0\n",
            "훈련 데이터의 개수 : 75490\n",
            "훈련 레이블의 개수 : 75490\n",
            "테스트 데이터의 개수 : 18874\n",
            "테스트 레이블의 개수 : 18874\n"
          ]
        }
      ],
      "source": [
        "drop_train = [index for index, sentence in enumerate(decoder_input_train) if len(sentence) == 1]\n",
        "drop_test = [index for index, sentence in enumerate(decoder_input_test) if len(sentence) == 1]\n",
        "\n",
        "print('삭제할 훈련 데이터의 개수 :', len(drop_train))\n",
        "print('삭제할 테스트 데이터의 개수 :', len(drop_test))\n",
        "\n",
        "encoder_input_train = [sentence for index, sentence in enumerate(encoder_input_train) if index not in drop_train]\n",
        "decoder_input_train = [sentence for index, sentence in enumerate(decoder_input_train) if index not in drop_train]\n",
        "decoder_target_train = [sentence for index, sentence in enumerate(decoder_target_train) if index not in drop_train]\n",
        "\n",
        "encoder_input_test = [sentence for index, sentence in enumerate(encoder_input_test) if index not in drop_test]\n",
        "decoder_input_test = [sentence for index, sentence in enumerate(decoder_input_test) if index not in drop_test]\n",
        "decoder_target_test = [sentence for index, sentence in enumerate(decoder_target_test) if index not in drop_test]\n",
        "\n",
        "print('훈련 데이터의 개수 :', len(encoder_input_train))\n",
        "print('훈련 레이블의 개수 :', len(decoder_input_train))\n",
        "print('테스트 데이터의 개수 :', len(encoder_input_test))\n",
        "print('테스트 레이블의 개수 :', len(decoder_input_test))"
      ]
    },
    {
      "cell_type": "markdown",
      "id": "f11f5ccd",
      "metadata": {
        "id": "f11f5ccd"
      },
      "source": [
        "### 2-7 패딩하기"
      ]
    },
    {
      "cell_type": "code",
      "execution_count": 32,
      "id": "e7692640",
      "metadata": {
        "id": "e7692640"
      },
      "outputs": [],
      "source": [
        "encoder_input_train = pad_sequences(encoder_input_train, maxlen=text_maxlen, padding='post')\n",
        "encoder_input_test = pad_sequences(encoder_input_test, maxlen=text_maxlen, padding='post')\n",
        "decoder_input_train = pad_sequences(decoder_input_train, maxlen=headlines_maxlen, padding='post')\n",
        "decoder_target_train = pad_sequences(decoder_target_train, maxlen=headlines_maxlen, padding='post')\n",
        "decoder_input_test = pad_sequences(decoder_input_test, maxlen=headlines_maxlen, padding='post')\n",
        "decoder_target_test = pad_sequences(decoder_target_test, maxlen=headlines_maxlen, padding='post')"
      ]
    },
    {
      "cell_type": "markdown",
      "id": "fbaac6c5",
      "metadata": {
        "id": "fbaac6c5"
      },
      "source": [
        "## 3. 어텐션 메커니즘 사용하기"
      ]
    },
    {
      "cell_type": "markdown",
      "id": "09358e9b",
      "metadata": {
        "id": "09358e9b"
      },
      "source": [
        "### 3-1. 인코더,디코더 설계 & 모델 훈련"
      ]
    },
    {
      "cell_type": "code",
      "source": [
        "from tensorflow.keras.layers import Input, LSTM, Embedding, Dense, Concatenate, TimeDistributed\n",
        "from tensorflow.keras.models import Model\n",
        "from tensorflow.keras.callbacks import EarlyStopping, ModelCheckpoint\n",
        "from tensorflow.keras.layers import AdditiveAttention\n",
        "\n",
        "embedding_dim = 128\n",
        "hidden_size = 256"
      ],
      "metadata": {
        "id": "S4V-h0IemFSy"
      },
      "id": "S4V-h0IemFSy",
      "execution_count": 38,
      "outputs": []
    },
    {
      "cell_type": "code",
      "source": [
        "with strategy.scope():\n",
        "    encoder_inputs = Input(shape=(text_maxlen,))\n",
        "    enc_emb = Embedding(src_vocab, embedding_dim)(encoder_inputs)\n",
        "    encoder_lstm1 = LSTM(hidden_size, return_sequences=True, return_state=True ,dropout = 0.4, recurrent_dropout = 0.4)\n",
        "    encoder_output1, state_h1, state_c1 = encoder_lstm1(enc_emb)\n",
        "    encoder_lstm2 = LSTM(hidden_size, return_sequences=True, return_state=True, dropout=0.4, recurrent_dropout=0.4)\n",
        "    encoder_output2, state_h2, state_c2 = encoder_lstm2(encoder_output1)\n",
        "    encoder_lstm3 = LSTM(hidden_size, return_state=True, return_sequences=True, dropout=0.4, recurrent_dropout=0.4)\n",
        "    encoder_outputs, state_h, state_c= encoder_lstm3(encoder_output2)\n",
        "    decoder_inputs = Input(shape=(None,))\n",
        "    dec_emb_layer = Embedding(tar_vocab, embedding_dim)\n",
        "    dec_emb = dec_emb_layer(decoder_inputs)\n",
        "    decoder_lstm = LSTM(hidden_size, return_sequences=True, return_state=True, dropout=0.4, recurrent_dropout=0.2)\n",
        "    decoder_outputs, _, _ = decoder_lstm(dec_emb, initial_state=[state_h, state_c])\n",
        "\n",
        "    attn_layer = AdditiveAttention(name='attention_layer')\n",
        "    attn_out = attn_layer([decoder_outputs, encoder_outputs])\n",
        "    decoder_concat_input = Concatenate(axis=-1, name='concat_layer')([decoder_outputs, attn_out])\n",
        "    decoder_softmax_layer = Dense(tar_vocab, activation='softmax')\n",
        "    decoder_softmax_outputs = decoder_softmax_layer(decoder_concat_input)\n",
        "\n",
        "    model = Model([encoder_inputs, decoder_inputs], decoder_softmax_outputs)\n",
        "\n",
        "    model.compile(optimizer='rmsprop', loss='sparse_categorical_crossentropy')\n",
        "    es = EarlyStopping(monitor='val_loss', patience=2, verbose=1)\n",
        "    history = model.fit(x=[encoder_input_train, decoder_input_train], y=decoder_target_train, \\\n",
        "            validation_data=([encoder_input_test, decoder_input_test], decoder_target_test), \\\n",
        "            batch_size=256, callbacks=[es], epochs=50)"
      ],
      "metadata": {
        "colab": {
          "base_uri": "https://localhost:8080/"
        },
        "id": "CUSXANEElTcr",
        "outputId": "a3c3d25b-a763-4be4-a5d6-4810404cc969"
      },
      "id": "CUSXANEElTcr",
      "execution_count": 39,
      "outputs": [
        {
          "output_type": "stream",
          "name": "stdout",
          "text": [
            "Epoch 1/50\n",
            "WARNING:tensorflow:From /usr/local/lib/python3.7/dist-packages/keras/engine/training.py:2970: StrategyBase.unwrap (from tensorflow.python.distribute.distribute_lib) is deprecated and will be removed in a future version.\n",
            "Instructions for updating:\n",
            "use `experimental_local_results` instead.\n"
          ]
        },
        {
          "output_type": "stream",
          "name": "stderr",
          "text": [
            "WARNING:tensorflow:From /usr/local/lib/python3.7/dist-packages/keras/engine/training.py:2970: StrategyBase.unwrap (from tensorflow.python.distribute.distribute_lib) is deprecated and will be removed in a future version.\n",
            "Instructions for updating:\n",
            "use `experimental_local_results` instead.\n"
          ]
        },
        {
          "output_type": "stream",
          "name": "stdout",
          "text": [
            "295/295 [==============================] - 60s 120ms/step - loss: 5.9076 - val_loss: 5.5247\n",
            "Epoch 2/50\n",
            "295/295 [==============================] - 17s 58ms/step - loss: 5.3811 - val_loss: 5.1191\n",
            "Epoch 3/50\n",
            "295/295 [==============================] - 17s 59ms/step - loss: 5.0058 - val_loss: 4.8529\n",
            "Epoch 4/50\n",
            "295/295 [==============================] - 18s 61ms/step - loss: 4.7367 - val_loss: 4.6328\n",
            "Epoch 5/50\n",
            "295/295 [==============================] - 17s 59ms/step - loss: 4.5058 - val_loss: 4.4763\n",
            "Epoch 6/50\n",
            "295/295 [==============================] - 19s 63ms/step - loss: 4.3175 - val_loss: 4.3668\n",
            "Epoch 7/50\n",
            "295/295 [==============================] - 18s 60ms/step - loss: 4.1579 - val_loss: 4.2687\n",
            "Epoch 8/50\n",
            "295/295 [==============================] - 18s 60ms/step - loss: 4.0201 - val_loss: 4.1961\n",
            "Epoch 9/50\n",
            "295/295 [==============================] - 17s 59ms/step - loss: 3.8998 - val_loss: 4.1403\n",
            "Epoch 10/50\n",
            "295/295 [==============================] - 18s 59ms/step - loss: 3.7886 - val_loss: 4.0941\n",
            "Epoch 11/50\n",
            "295/295 [==============================] - 18s 61ms/step - loss: 3.6914 - val_loss: 4.0575\n",
            "Epoch 12/50\n",
            "295/295 [==============================] - 18s 62ms/step - loss: 3.6025 - val_loss: 4.0197\n",
            "Epoch 13/50\n",
            "295/295 [==============================] - 18s 60ms/step - loss: 3.5199 - val_loss: 3.9902\n",
            "Epoch 14/50\n",
            "295/295 [==============================] - 18s 60ms/step - loss: 3.4435 - val_loss: 3.9735\n",
            "Epoch 15/50\n",
            "295/295 [==============================] - 18s 60ms/step - loss: 3.3722 - val_loss: 3.9552\n",
            "Epoch 16/50\n",
            "295/295 [==============================] - 17s 59ms/step - loss: 3.3045 - val_loss: 3.9431\n",
            "Epoch 17/50\n",
            "295/295 [==============================] - 17s 59ms/step - loss: 3.2402 - val_loss: 3.9251\n",
            "Epoch 18/50\n",
            "295/295 [==============================] - 18s 61ms/step - loss: 3.1798 - val_loss: 3.9167\n",
            "Epoch 19/50\n",
            "295/295 [==============================] - 18s 60ms/step - loss: 3.1261 - val_loss: 3.9098\n",
            "Epoch 20/50\n",
            "295/295 [==============================] - 18s 60ms/step - loss: 3.0780 - val_loss: 3.9051\n",
            "Epoch 21/50\n",
            "295/295 [==============================] - 18s 61ms/step - loss: 3.0295 - val_loss: 3.8949\n",
            "Epoch 22/50\n",
            "295/295 [==============================] - 18s 61ms/step - loss: 2.9833 - val_loss: 3.8902\n",
            "Epoch 23/50\n",
            "295/295 [==============================] - 18s 62ms/step - loss: 2.9394 - val_loss: 3.8894\n",
            "Epoch 24/50\n",
            "295/295 [==============================] - 18s 60ms/step - loss: 2.8949 - val_loss: 3.8899\n",
            "Epoch 25/50\n",
            "295/295 [==============================] - 18s 61ms/step - loss: 2.8522 - val_loss: 3.8867\n",
            "Epoch 26/50\n",
            "295/295 [==============================] - 17s 59ms/step - loss: 2.8142 - val_loss: 3.8884\n",
            "Epoch 27/50\n",
            "295/295 [==============================] - 17s 59ms/step - loss: 2.7786 - val_loss: 3.8824\n",
            "Epoch 28/50\n",
            "295/295 [==============================] - 18s 60ms/step - loss: 2.7459 - val_loss: 3.8891\n",
            "Epoch 29/50\n",
            "295/295 [==============================] - 18s 60ms/step - loss: 2.7121 - val_loss: 3.8825\n",
            "Epoch 00029: early stopping\n"
          ]
        }
      ]
    },
    {
      "cell_type": "code",
      "execution_count": 40,
      "id": "9de5ada1",
      "metadata": {
        "colab": {
          "base_uri": "https://localhost:8080/",
          "height": 265
        },
        "id": "9de5ada1",
        "outputId": "ed1d5576-fb1f-4ae8-99f2-0c5917eca284"
      },
      "outputs": [
        {
          "output_type": "display_data",
          "data": {
            "image/png": "[encoded data removed]",
            "text/plain": [
              "<Figure size 432x288 with 1 Axes>"
            ]
          },
          "metadata": {
            "needs_background": "light"
          }
        }
      ],
      "source": [
        "plt.plot(history.history['loss'], label='train')\n",
        "plt.plot(history.history['val_loss'], label='test')\n",
        "plt.legend()\n",
        "plt.show()"
      ]
    },
    {
      "cell_type": "markdown",
      "id": "e387eadd",
      "metadata": {
        "id": "e387eadd"
      },
      "source": [
        "### 3-4. 인퍼런스 모델 구현"
      ]
    },
    {
      "cell_type": "code",
      "execution_count": 41,
      "id": "888394af",
      "metadata": {
        "colab": {
          "base_uri": "https://localhost:8080/"
        },
        "id": "888394af",
        "outputId": "1142c698-3bba-416f-d0ca-fa5afd13f2f9"
      },
      "outputs": [
        {
          "output_type": "stream",
          "name": "stdout",
          "text": [
            "=3\n"
          ]
        }
      ],
      "source": [
        "src_index_to_word = src_tokenizer.index_word # 원문 단어 집합에서 정수 -> 단어를 얻음\n",
        "tar_word_to_index = tar_tokenizer.word_index # 요약 단어 집합에서 단어 -> 정수를 얻음\n",
        "tar_index_to_word = tar_tokenizer.index_word # 요약 단어 집합에서 정수 -> 단어를 얻음\n",
        "\n",
        "print('=3')"
      ]
    },
    {
      "cell_type": "code",
      "execution_count": 42,
      "id": "3566ed04",
      "metadata": {
        "colab": {
          "base_uri": "https://localhost:8080/"
        },
        "id": "3566ed04",
        "outputId": "85a41f17-a803-4e42-8fab-2c51e90178d0"
      },
      "outputs": [
        {
          "output_type": "stream",
          "name": "stdout",
          "text": [
            "=3\n"
          ]
        }
      ],
      "source": [
        "# 인코더 설계\n",
        "encoder_model = Model(inputs=encoder_inputs, outputs=[encoder_outputs, state_h, state_c])\n",
        "\n",
        "# 이전 시점의 상태들을 저장하는 텐서\n",
        "decoder_state_input_h = Input(shape=(hidden_size,))\n",
        "decoder_state_input_c = Input(shape=(hidden_size,))\n",
        "\n",
        "dec_emb2 = dec_emb_layer(decoder_inputs)\n",
        "\n",
        "# 문장의 다음 단어를 예측하기 위해서 초기 상태(initial_state)를 이전 시점의 상태로 사용. 이는 뒤의 함수 decode_sequence()에 구현\n",
        "# 훈련 과정에서와 달리 LSTM의 리턴하는 은닉 상태와 셀 상태인 state_h와 state_c를 버리지 않음.\n",
        "decoder_outputs2, state_h2, state_c2 = decoder_lstm(dec_emb2, \n",
        "                                                    initial_state=[decoder_state_input_h, \n",
        "                                                                   decoder_state_input_c])\n",
        "\n",
        "print('=3')"
      ]
    },
    {
      "cell_type": "code",
      "execution_count": 43,
      "id": "e06b1f55",
      "metadata": {
        "colab": {
          "base_uri": "https://localhost:8080/"
        },
        "id": "e06b1f55",
        "outputId": "2bc257f3-4a84-473f-da01-66a3ca509c8f"
      },
      "outputs": [
        {
          "output_type": "stream",
          "name": "stdout",
          "text": [
            "=3\n"
          ]
        }
      ],
      "source": [
        "# 어텐션 함수\n",
        "decoder_hidden_state_input = Input(shape=(text_maxlen, hidden_size))\n",
        "attn_out_inf = attn_layer([decoder_outputs2, decoder_hidden_state_input])\n",
        "decoder_inf_concat = Concatenate(axis=-1, name='concat')([decoder_outputs2, attn_out_inf])\n",
        "\n",
        "# 디코더의 출력층\n",
        "decoder_outputs2 = decoder_softmax_layer(decoder_inf_concat) \n",
        "\n",
        "# 최종 디코더 모델\n",
        "decoder_model = Model(\n",
        "    [decoder_inputs] + [decoder_hidden_state_input,decoder_state_input_h, decoder_state_input_c],\n",
        "    [decoder_outputs2] + [state_h2, state_c2])\n",
        "\n",
        "print('=3')"
      ]
    },
    {
      "cell_type": "code",
      "execution_count": 47,
      "id": "e12ff9c0",
      "metadata": {
        "colab": {
          "base_uri": "https://localhost:8080/"
        },
        "id": "e12ff9c0",
        "outputId": "a2b7ad89-b5ad-4a81-811a-720ef1ff9363"
      },
      "outputs": [
        {
          "output_type": "stream",
          "name": "stdout",
          "text": [
            "=3\n"
          ]
        }
      ],
      "source": [
        "def decode_sequence(input_seq):\n",
        "    # 입력으로부터 인코더의 상태를 얻음\n",
        "    e_out, e_h, e_c = encoder_model.predict(input_seq)\n",
        "\n",
        "     # <SOS>에 해당하는 토큰 생성\n",
        "    target_seq = np.zeros((1,1))\n",
        "    target_seq[0, 0] = tar_word_to_index['sostoken']\n",
        "\n",
        "    stop_condition = False\n",
        "    decoded_sentence = ''\n",
        "    while not stop_condition: # stop_condition이 True가 될 때까지 루프 반복\n",
        "\n",
        "        output_tokens, h, c = decoder_model.predict([target_seq] + [e_out, e_h, e_c])\n",
        "        sampled_token_index = np.argmax(output_tokens[0, -1, :])\n",
        "        sampled_token = tar_index_to_word[sampled_token_index]\n",
        "\n",
        "        if (sampled_token!='eostoken'):\n",
        "            decoded_sentence += ' '+sampled_token\n",
        "\n",
        "        #  <eos>에 도달하거나 최대 길이를 넘으면 중단.\n",
        "        if (sampled_token == 'eostoken'  or len(decoded_sentence.split()) >= (headlines_maxlen-1)):\n",
        "            stop_condition = True\n",
        "\n",
        "        # 길이가 1인 타겟 시퀀스를 업데이트\n",
        "        target_seq = np.zeros((1,1))\n",
        "        target_seq[0, 0] = sampled_token_index\n",
        "\n",
        "        # 상태를 업데이트 합니다.\n",
        "        e_h, e_c = h, c\n",
        "\n",
        "    return decoded_sentence\n",
        "print('=3')"
      ]
    },
    {
      "cell_type": "markdown",
      "id": "832f2ee6",
      "metadata": {
        "id": "832f2ee6"
      },
      "source": [
        "### 3-5. 모델 테스트"
      ]
    },
    {
      "cell_type": "code",
      "execution_count": 48,
      "id": "a1c53396",
      "metadata": {
        "scrolled": true,
        "colab": {
          "base_uri": "https://localhost:8080/"
        },
        "id": "a1c53396",
        "outputId": "ddbcd188-c46a-4e0c-c296-2ad1af9ffd42"
      },
      "outputs": [
        {
          "output_type": "stream",
          "name": "stdout",
          "text": [
            "=3\n"
          ]
        }
      ],
      "source": [
        "# 원문의 정수 시퀀스를 텍스트 시퀀스로 변환\n",
        "def seq2text(input_seq):\n",
        "    temp=''\n",
        "    for i in input_seq:\n",
        "        if (i!=0):\n",
        "            temp = temp + src_index_to_word[i]+' '\n",
        "    return temp\n",
        "\n",
        "# 요약문의 정수 시퀀스를 텍스트 시퀀스로 변환\n",
        "def seq2summary(input_seq):\n",
        "    temp=''\n",
        "    for i in input_seq:\n",
        "        if ((i!=0 and i!=tar_word_to_index['sostoken']) and i!=tar_word_to_index['eostoken']):\n",
        "            temp = temp + tar_index_to_word[i] + ' '\n",
        "    return temp\n",
        "\n",
        "print('=3')"
      ]
    },
    {
      "cell_type": "markdown",
      "id": "438975fd",
      "metadata": {
        "id": "438975fd"
      },
      "source": [
        "## 4. 실제 결과와 요약문 비교하기"
      ]
    },
    {
      "cell_type": "code",
      "execution_count": 49,
      "id": "43758f88",
      "metadata": {
        "colab": {
          "base_uri": "https://localhost:8080/"
        },
        "id": "43758f88",
        "outputId": "8d0ea174-ebf0-4a12-b83d-e89f2e41e3bb"
      },
      "outputs": [
        {
          "output_type": "stream",
          "name": "stdout",
          "text": [
            "원문 : former commander charge surgical strikes pakistan occupied kashmir last year lt gen hooda said strikes created fair amount panic pakistan side feared strikes adding army gained confidence ability carry complex cross border operations hooda said strikes increased morale soldiers \n",
            "실제 요약 : pakistan panic surgical strike ex commander \n",
            "예측 요약 :  surgical strikes surgical strikes amarnath ceasefire\n",
            "\n",
            "\n",
            "원문 : accusing prime minister narendra modi selling dreams poor congress vice president rahul gandhi said pm modi give every gujarati house moon mocked pm modi saying bring moon earth gandhi said last day tour poll bound gujarat \n",
            "실제 요약 : pm modi give every gujarati house moon rahul \n",
            "예측 요약 :  pm modi trolls rahul gandhi climate change\n",
            "\n",
            "\n",
            "원문 : three people including year old woman arrested thane allegedly cutting year old man genitals maharashtra police said man allegedly made unwanted advances towards woman thereafter hatched plot two others doctor said man critical condition adding private parts brain majorly injured \n",
            "실제 요약 : three including woman held cutting man genitals \n",
            "예측 요약 :  man arrested raping maharashtra woman extort\n",
            "\n",
            "\n",
            "원문 : india gross domestic product growth surged december quarter restoring status world fastest growing major economy economy grew gross value added terms gdp growth previous quarter reportedly indicating economy moved past disruptions due demonetisation gst rollout \n",
            "실제 요약 : india back world fastest growing economy dec quarter \n",
            "예측 요약 :  india gdp growth growth may\n",
            "\n",
            "\n",
            "원문 : actress kajol shared picture six year old son yug instagram mother son seen inside pool photograph yug youngest child kajol husband ajay devgn couple got married also year old daughter nysa \n",
            "실제 요약 : kajol shares picture year old son \n",
            "예측 요약 :  ajay devgn shares pic son father wife\n",
            "\n",
            "\n",
            "원문 : american man claimed stabbed resembled neo nazi fabricated story mistakenly stabbing police said twenty six year old joshua claimed attacked black man facebook post went viral however arrested false reporting charges faces one year prison \n",
            "실제 요약 : man stabbed neo nazi look actually stabbed \n",
            "예측 요약 :  man convicted killing man jailed\n",
            "\n",
            "\n",
            "원문 : best double bus tuesday crashed overhead way bandra area bus roof ripped incident casualties reported far overhead rail meant regulate height vehicles passing \n",
            "실제 요약 : double bus crashes mumbai \n",
            "예측 요약 :  bus falls bus falls bridge\n",
            "\n",
            "\n",
            "원문 : brihanmumbai municipal corporation received objections citizens cutting trees mumbai bmc last week invited suggestions objections public proposed cutting trees mumbai metro rail corporation limited reportedly proposed cutting total trees build metro car shed \n",
            "실제 요약 : mumbai civic body receives cutting trees \n",
            "예측 요약 :  mumbai civic body mumbai civic body mumbai civic\n",
            "\n",
            "\n",
            "원문 : amidst facebook data scandal chief election commissioner op rawat tuesday said social networking platform remain social media partner karnataka assembly elections claiming stop use modern technology rawat said stopped banking despite bank frauds commission uses facebook encourage youth vote elections \n",
            "실제 요약 : facebook remain social media partner taka polls ec \n",
            "예측 요약 :  fb may take dig election chief\n",
            "\n",
            "\n",
            "원문 : day season delhi recorded saturday minimum temperature touching india meteorological department officials said also second december seven years tuesday prediction delhi surrounding areas might get officials added \n",
            "실제 요약 : delhi records day temperature touching \n",
            "예측 요약 :  delhi records red power\n",
            "\n",
            "\n",
            "원문 : ex england captain kevin pietersen trolled india captain virat kohli latter shared picture caption sun pietersen pointed kohli shade kohli said first caption much worse face still sun let love pietersen responded \n",
            "실제 요약 : let love pietersen kohli pic \n",
            "예측 요약 :  kohli trolls teammate teammate\n",
            "\n",
            "\n",
            "원문 : letter pm narendra modi pilots cash strapped national carrier air india committed fly planes without payment support rescue operations flood hit kerala full faith sir surely turn attention plight air india air indians calm restored god country said \n",
            "실제 요약 : air india pilots commit fly free kerala rescue ops \n",
            "예측 요약 :  pm modi inaugurates airport surgical strikes\n",
            "\n",
            "\n",
            "원문 : twitter user called pooja bhatt known alcoholic taking dig amitabh bachchan address recent rape cases india slamming troll pooja tweeted recovering alcoholic proud tweet slamming bachchan pooja written cannot help reminded film called pink images onscreen reflected reality \n",
            "실제 요약 : troll calls pooja known alcoholic slamming big \n",
            "예측 요약 :  big deletes deletes amid sexual harassment\n",
            "\n",
            "\n",
            "원문 : endorsing external affairs minister sushma swaraj stand kulbhushan jadhav mother wife insulted pakistan visit congress thursday said stands united government issue jadhav mother wife whole country insulted congress leader ghulam nabi azad said \n",
            "실제 요약 : stand united government jadhav issue congress \n",
            "예측 요약 :  swaraj asks mother help mother khan\n",
            "\n",
            "\n",
            "원문 : technology giant apple iphone priced gb model us expensive india recently launched iphone inch display mp dual cameras supports wireless charging technology iphone start shipping november india \n",
            "실제 요약 : apple iphone expensive india us \n",
            "예측 요약 :  apple unveils iphone plus\n",
            "\n",
            "\n",
            "원문 : chinese food delivery man recently married bride scooter hundreds co workers wearing uniforms helmets riding behind couple wedding procession wedding took place city video recently gone viral wedding procession also captured attention locals \n",
            "실제 요약 : chinese food delivery man gets married scooter \n",
            "예측 요약 :  man dances wedding reception\n",
            "\n",
            "\n",
            "원문 : responding complaints billion flipkart walmart deal minister commerce industry suresh prabhu said making value judgement adding violations looked agencies mandated said job enforcement directorate rbi look complaints deal \n",
            "실제 요약 : make value flipkart walmart deal prabhu \n",
            "예측 요약 :  walmart flipkart walmart deal walmart\n",
            "\n",
            "\n",
            "원문 : chinese national arrested indira gandhi international airport new delhi sunday allegedly smuggling gold worth lakh man intercepted customs officials arrival hong kong allegedly carrying one kg gold hidden jeans pocket gold seized senior customs official said \n",
            "실제 요약 : chinese man gold worth jeans pocket arrested \n",
            "예측 요약 :  chinese man caught gold worth gold delhi airport\n",
            "\n",
            "\n",
            "원문 : us based cannabis company henry unveiled limited edition holiday featuring marijuana costs features dried wheat grass pine henry says marijuana detached consumption \n",
            "실제 요약 : marijuana sold \n",
            "예측 요약 :  company unveils new york store\n",
            "\n",
            "\n",
            "원문 : video nine models standing private jet took right behind surfaced social media friday directorate general civil aviation ordered probe violation aviation security rules standing near aircraft dangerous jet blasts rapid air movement aircraft kill people \n",
            "실제 요약 : models stand air strip plane takes behind \n",
            "예측 요약 :  delta employee diverted cabin crew\n",
            "\n",
            "\n",
            "원문 : german top tier club frankfurt wolf handed red card tackle bayern munich player recalled dressing room field later referee match official referred video review red card awarding yellow card allowing wolf continue \n",
            "실제 요약 : player called back dressing room sent \n",
            "예측 요약 :  german club bans beer stage red card\n",
            "\n",
            "\n",
            "원문 : singh gold men race asian games tuesday yet see five month old son year old missed son birth preparing competition bhutan past months first indian years win asiad gold men event \n",
            "실제 요약 : asiad gold medallist yet see month old son \n",
            "예측 요약 :  gold asiad gold medalist\n",
            "\n",
            "\n",
            "원문 : according trends counting votes assembly elections congress crossed halfway mark leads tally rajasthan chhattisgarh congress leading seats rajasthan leading seats seat chhattisgarh assembly meanwhile bjp leads seats rajasthan chhattisgarh \n",
            "실제 요약 : trends show cong crossing mark rajasthan chhattisgarh \n",
            "예측 요약 :  voter turnout recorded tripura assembly polls\n",
            "\n",
            "\n",
            "원문 : actor shahid kapoor featured cover filmfare april issue year old actor seen shirtless wearing pair distressed black white cover shot shahid whose first child misha born august features cover story titled daddy cool shahid kapoor winning streak \n",
            "실제 요약 : shahid kapoor features cover filmfare april issue \n",
            "예측 요약 :  shahid kapoor features cover cover vogue\n",
            "\n",
            "\n",
            "원문 : new service offered two russian startups pump allows users order fuel online delivered vehicles users place order via smartphone app location user vehicle services currently available moscow st petersburg \n",
            "실제 요약 : russian startups deliver fuel directly parked cars \n",
            "예측 요약 :  nokia startup launches smart\n",
            "\n",
            "\n",
            "원문 : nagpur set become country first city get fleet electric cabs pilot project see around electric cabs nagpur local body also provide charging stations across city centre currently runs faster adoption manufacturing electric vehicles scheme aims go completely electric \n",
            "실제 요약 : nagpur become st indian city electric cabs \n",
            "예측 요약 :  hyperloop one first time ride ride ride\n",
            "\n",
            "\n",
            "원문 : supreme court sought jammu kashmir government reply plea moved kathua rape murder victim father shift trial chandigarh father counsel alleged atmosphere kathua conducive free fair trial trial eight accused began monday \n",
            "실제 요약 : sc seeks govt reply moving kathua case chandigarh \n",
            "예측 요약 :  sc hear kathua rape case kathua victim\n",
            "\n",
            "\n",
            "원문 : actor anil kapoor unveiled wax statue madame tussauds wax museum singapore unveiling truly thank making look good wax tweeted anil statue depicts character game show host oscar winning film millionaire reportedly first wax statue career spanning nearly years \n",
            "실제 요약 : anil kapoor unveils wax statue madame tussauds \n",
            "예측 요약 :  anil kapoor unveils wax statue madame tussauds delhi\n",
            "\n",
            "\n",
            "원문 : amid ongoing tussle centre proposed hike delhi metro fares cm arvind kejriwal said government ready take metro centre works issue kejriwal said government willing provide funds needed run metro centre pays half \n",
            "실제 요약 : kejriwal offers take delhi metro amid fare hike row \n",
            "예측 요약 :  delhi metro withdraws gst hike\n",
            "\n",
            "\n",
            "원문 : rd edition mann ki baat programme sunday pm narendra modi announced government ministries come together start swachh bharat summer opportunity people want something society country said initiative sports human resource development water ministries \n",
            "실제 요약 : pm modi announces swachh bharat summer \n",
            "예측 요약 :  pm modi announces new day june\n",
            "\n",
            "\n",
            "원문 : speaking weather conditions nd india australia odi match kolkata australian pacer pat cummins said hottest one day game anyone said played think overs felt like overs cummins said conditions temperatures reportedly reached high eden gardens thursday \n",
            "실제 요약 : kolkata odi hottest ever played aus pacer \n",
            "예측 요약 :  australia odi cricket australia\n",
            "\n",
            "\n",
            "원문 : veteran bollywood actress sridevi mortal remains flown back india monday husband boney kapoor spokesperson said body brought back industrialist anil ambani private plane last rites held mumbai tomorrow actress died falling unconscious bathroom hotel room dubai saturday \n",
            "실제 요약 : sridevi remains flown back tomorrow \n",
            "예측 요약 :  sridevi actress sridevi reports\n",
            "\n",
            "\n",
            "원문 : least seven people died spot two private cars collided highway outskirts maharashtra official said today several people injured taken local hospital accident resulted traffic jams hundreds vehicles stuck sides highway rescue teams cleared site \n",
            "실제 요약 : seven people killed road accident maha highway \n",
            "예측 요약 :  dead injured truck collision maharashtra\n",
            "\n",
            "\n",
            "원문 : museum selfies open los angeles january museum feature themed places visitors take selfies showcase selfie inspired art feature game thrones inspired iron throne made selfie sticks one co founders said relationship people art changed people want part art \n",
            "실제 요약 : us selfie museum iron selfie \n",
            "예측 요약 :  first video museum robot launched\n",
            "\n",
            "\n",
            "원문 : shiv sena sunday said would oppose citizenship bill parliament bill seeks amend citizenship act make illegal migrants afghanistan bangladesh pakistan eligible citizenship basis religion people assam irrespective caste religion creed oppose proposed legislation sena leader sanjay raut said \n",
            "실제 요약 : oppose citizenship bill parliament sena \n",
            "예측 요약 :  bill give bill seeking asylum bill give citizenship\n",
            "\n",
            "\n",
            "원문 : according reports actor akshay kumar star remake oscar winning sports drama hollywood film million dollar baby ar directorial also star television actress former bigg boss contestant marina working star like akshay like dream come true confident soon recognised said \n",
            "실제 요약 : akshay star remake million dollar baby report \n",
            "예측 요약 :  akshay star opposite akshay kumar film reports\n",
            "\n",
            "\n",
            "원문 : indian railways send sms alerts departure delays hour passengers around trains wednesday onwards alerts initially sent trains like rajdhani shatabdi sent express trains well travellers boarding halt stations along route also receive alerts \n",
            "실제 요약 : indian railways send delay alerts via sms trains \n",
            "예측 요약 :  railways run trains trains\n",
            "\n",
            "\n",
            "원문 : us billionaire carl sold resort las vegas million nearly paid acquire firm acquired property bankruptcy million february acre property bought partnership led new york developer steven \n",
            "실제 요약 : billionaire sells property mn paid \n",
            "예측 요약 :  bought hotel bought hotel\n",
            "\n",
            "\n",
            "원문 : qantas airways set offer hour non stop flight sydney london making world longest non stop commercial flight flight cross ten time zones reportedly made available within next five years take kilometre route asia europe another north pole \n",
            "실제 요약 : world longest commercial flight announced \n",
            "예측 요약 :  spicejet allows world longest flight\n",
            "\n",
            "\n",
            "원문 : uber shutting demand delivery service june us based cab aggregator said email users launched service allowed users hire someone pick package delivery another location operational new york city san francisco chicago since \n",
            "실제 요약 : uber shut demand delivery service \n",
            "예측 요약 :  uber drivers let users based digital system\n",
            "\n",
            "\n",
            "원문 : first look kriti sanon diljit dosanjh starrer upcoming comedy film arjun patiala revealed poster shows diljit along varun sharma dressed police officer kriti seen holding revolver directed rohit film scheduled release september \n",
            "실제 요약 : first look kriti diljit starrer arjun revealed \n",
            "예측 요약 :  first look poster sushant kriti starrer unveiled\n",
            "\n",
            "\n",
            "원문 : least members tehreek taliban pakistan including son group chief killed us drone strike afghanistan militant group confirmed taliban blamed afghan intelligence providing tip regarding presence militants area last month us drone strike killed pakistan taliban deputy leader khalid \n",
            "실제 요약 : pakistan taliban chief son killed us drone strike \n",
            "예측 요약 :  taliban attack afghan soldiers taliban attack\n",
            "\n",
            "\n",
            "원문 : food water country police prepared emergency first aid kits ahead tuesday presidential elections many fear could violence allegedly rigged many people killed lakh displaced country opposition called street protests terming vote rigged \n",
            "실제 요약 : food water ahead presidential polls \n",
            "예측 요약 :  london bridge victims amid protests\n",
            "\n",
            "\n",
            "원문 : brazilian teen passed away monday shark bit penis swimming beach city year old swimming near shore despite area marked signs warning shark attacks earlier man lost hand part leg beach \n",
            "실제 요약 : brazilian teen dies shark bites penis \n",
            "예측 요약 :  brazilian crocodile jumps crocodile crocodile crocodile\n",
            "\n",
            "\n",
            "원문 : uttar pradesh cm yogi adityanath sunday said contrary politics casteism politics appeasement practised previous governments state witnessing development years adding current state government given conducive environment investors cm said lakh youngsters get jobs state \n",
            "실제 요약 : development years cm yogi adityanath \n",
            "예측 요약 :  yogi adityanath\n",
            "\n",
            "\n",
            "원문 : indian army tuesday said tonnes garbage removed since carried man pack loads sometimes helicopters loads garbage included packing material barrels army continues take steps ensure hygiene highest battlefield statement issued army read \n",
            "실제 요약 : tonnes garbage removed since army \n",
            "예측 요약 :  army army build food food bsf\n",
            "\n",
            "\n",
            "원문 : woman maharashtra pune alleged sub inspector maharashtra anti terrorism squad thrashed molested objected illegal construction society however police complaint filed case accused officer yet identified \n",
            "실제 요약 : pune woman accuses officer thrashing molesting \n",
            "예측 요약 :  woman constable held maharashtra\n",
            "\n",
            "\n",
            "원문 : people poet malik muhammad village amethi uttar pradesh demanded share profit earnings film padmaavat based poem reports claimed village demanding money filmmakers restore poet birthplace research institute \n",
            "실제 요약 : poet village demands film earning \n",
            "예측 요약 :  dalit youth release day\n",
            "\n",
            "\n",
            "원문 : pakistan rejected statement made brics nations terror groups country pose threat regional security brics nations issued declaration slamming pakistan based terror groups like jaish mohammed lashkar taiba reject terrorist organization safe havens pakistan defence minister khan said \n",
            "실제 요약 : pakistan rejects brics declaration terror groups \n",
            "예측 요약 :  pakistan rejects us envoy global terrorist\n",
            "\n",
            "\n",
            "원문 : family army jawan giri haryana sonepat area reportedly abducted liquor mafia allegedly opposing liquor vendor village giri currently posted jammu border said soldiers serving nation responsible safety family members administration needs answer \n",
            "실제 요약 : jawan family abducted liquor mafia haryana \n",
            "예측 요약 :  army jawan found dead haryana\n",
            "\n",
            "\n"
          ]
        }
      ],
      "source": [
        "for i in range(50, 100):\n",
        "    print(\"원문 :\", seq2text(encoder_input_test[i]))\n",
        "    print(\"실제 요약 :\", seq2summary(decoder_input_test[i]))\n",
        "    print(\"예측 요약 :\", decode_sequence(encoder_input_test[i].reshape(1, text_maxlen)))\n",
        "    print(\"\\n\")"
      ]
    },
    {
      "cell_type": "markdown",
      "id": "eb31ebae",
      "metadata": {
        "id": "eb31ebae"
      },
      "source": [
        "## 5. Summa를 이용해서 추출적 요약해보기"
      ]
    },
    {
      "cell_type": "code",
      "execution_count": 52,
      "id": "0f7657f1",
      "metadata": {
        "colab": {
          "base_uri": "https://localhost:8080/"
        },
        "id": "0f7657f1",
        "outputId": "2bba980c-d5b3-4c84-9991-17956716b8ce"
      },
      "outputs": [
        {
          "output_type": "stream",
          "name": "stdout",
          "text": [
            "Collecting summa\n",
            "  Downloading summa-1.2.0.tar.gz (54 kB)\n",
            "\u001b[?25l\r\u001b[K     |██████                          | 10 kB 15.8 MB/s eta 0:00:01\r\u001b[K     |████████████                    | 20 kB 8.8 MB/s eta 0:00:01\r\u001b[K     |██████████████████              | 30 kB 4.8 MB/s eta 0:00:01\r\u001b[K     |███████████████████████▉        | 40 kB 4.9 MB/s eta 0:00:01\r\u001b[K     |█████████████████████████████▉  | 51 kB 4.2 MB/s eta 0:00:01\r\u001b[K     |████████████████████████████████| 54 kB 1.4 MB/s \n",
            "\u001b[?25hRequirement already satisfied: scipy>=0.19 in /usr/local/lib/python3.7/dist-packages (from summa) (1.4.1)\n",
            "Requirement already satisfied: numpy>=1.13.3 in /usr/local/lib/python3.7/dist-packages (from scipy>=0.19->summa) (1.19.5)\n",
            "Building wheels for collected packages: summa\n",
            "  Building wheel for summa (setup.py) ... \u001b[?25l\u001b[?25hdone\n",
            "  Created wheel for summa: filename=summa-1.2.0-py3-none-any.whl size=54412 sha256=85ad5248d7bccccdbfd918904266ed6d6c5bae0d6946b964ba9567cd8d8b6368\n",
            "  Stored in directory: /root/.cache/pip/wheels/29/64/ac/7b443477588d365ef37ada30d456bdf5f07dc5be9f6324cb6e\n",
            "Successfully built summa\n",
            "Installing collected packages: summa\n",
            "Successfully installed summa-1.2.0\n"
          ]
        }
      ],
      "source": [
        "!pip install summa\n",
        "from summa.summarizer import summarize"
      ]
    },
    {
      "cell_type": "code",
      "execution_count": 54,
      "id": "cae57fc2",
      "metadata": {
        "colab": {
          "base_uri": "https://localhost:8080/"
        },
        "id": "cae57fc2",
        "outputId": "aecd3e8d-31bb-4be2-d267-fdbd714c5918"
      },
      "outputs": [
        {
          "output_type": "stream",
          "name": "stdout",
          "text": [
            "원문 : former commander charge surgical strikes pakistan occupied kashmir last year lt gen hooda said strikes created fair amount panic pakistan side feared strikes adding army gained confidence ability carry complex cross border operations hooda said strikes increased morale soldiers \n",
            "실제 요약 : pakistan panic surgical strike ex commander \n",
            "예측 요약 : \n",
            "\n",
            "\n",
            "원문 : accusing prime minister narendra modi selling dreams poor congress vice president rahul gandhi said pm modi give every gujarati house moon mocked pm modi saying bring moon earth gandhi said last day tour poll bound gujarat \n",
            "실제 요약 : pm modi give every gujarati house moon rahul \n",
            "예측 요약 : \n",
            "\n",
            "\n",
            "원문 : three people including year old woman arrested thane allegedly cutting year old man genitals maharashtra police said man allegedly made unwanted advances towards woman thereafter hatched plot two others doctor said man critical condition adding private parts brain majorly injured \n",
            "실제 요약 : three including woman held cutting man genitals \n",
            "예측 요약 : \n",
            "\n",
            "\n",
            "원문 : india gross domestic product growth surged december quarter restoring status world fastest growing major economy economy grew gross value added terms gdp growth previous quarter reportedly indicating economy moved past disruptions due demonetisation gst rollout \n",
            "실제 요약 : india back world fastest growing economy dec quarter \n",
            "예측 요약 : \n",
            "\n",
            "\n",
            "원문 : actress kajol shared picture six year old son yug instagram mother son seen inside pool photograph yug youngest child kajol husband ajay devgn couple got married also year old daughter nysa \n",
            "실제 요약 : kajol shares picture year old son \n",
            "예측 요약 : \n",
            "\n",
            "\n",
            "원문 : american man claimed stabbed resembled neo nazi fabricated story mistakenly stabbing police said twenty six year old joshua claimed attacked black man facebook post went viral however arrested false reporting charges faces one year prison \n",
            "실제 요약 : man stabbed neo nazi look actually stabbed \n",
            "예측 요약 : \n",
            "\n",
            "\n",
            "원문 : best double bus tuesday crashed overhead way bandra area bus roof ripped incident casualties reported far overhead rail meant regulate height vehicles passing \n",
            "실제 요약 : double bus crashes mumbai \n",
            "예측 요약 : \n",
            "\n",
            "\n",
            "원문 : brihanmumbai municipal corporation received objections citizens cutting trees mumbai bmc last week invited suggestions objections public proposed cutting trees mumbai metro rail corporation limited reportedly proposed cutting total trees build metro car shed \n",
            "실제 요약 : mumbai civic body receives cutting trees \n",
            "예측 요약 : \n",
            "\n",
            "\n",
            "원문 : amidst facebook data scandal chief election commissioner op rawat tuesday said social networking platform remain social media partner karnataka assembly elections claiming stop use modern technology rawat said stopped banking despite bank frauds commission uses facebook encourage youth vote elections \n",
            "실제 요약 : facebook remain social media partner taka polls ec \n",
            "예측 요약 : \n",
            "\n",
            "\n",
            "원문 : day season delhi recorded saturday minimum temperature touching india meteorological department officials said also second december seven years tuesday prediction delhi surrounding areas might get officials added \n",
            "실제 요약 : delhi records day temperature touching \n",
            "예측 요약 : \n",
            "\n",
            "\n",
            "원문 : ex england captain kevin pietersen trolled india captain virat kohli latter shared picture caption sun pietersen pointed kohli shade kohli said first caption much worse face still sun let love pietersen responded \n",
            "실제 요약 : let love pietersen kohli pic \n",
            "예측 요약 : \n",
            "\n",
            "\n",
            "원문 : letter pm narendra modi pilots cash strapped national carrier air india committed fly planes without payment support rescue operations flood hit kerala full faith sir surely turn attention plight air india air indians calm restored god country said \n",
            "실제 요약 : air india pilots commit fly free kerala rescue ops \n",
            "예측 요약 : \n",
            "\n",
            "\n",
            "원문 : twitter user called pooja bhatt known alcoholic taking dig amitabh bachchan address recent rape cases india slamming troll pooja tweeted recovering alcoholic proud tweet slamming bachchan pooja written cannot help reminded film called pink images onscreen reflected reality \n",
            "실제 요약 : troll calls pooja known alcoholic slamming big \n",
            "예측 요약 : \n",
            "\n",
            "\n",
            "원문 : endorsing external affairs minister sushma swaraj stand kulbhushan jadhav mother wife insulted pakistan visit congress thursday said stands united government issue jadhav mother wife whole country insulted congress leader ghulam nabi azad said \n",
            "실제 요약 : stand united government jadhav issue congress \n",
            "예측 요약 : \n",
            "\n",
            "\n",
            "원문 : technology giant apple iphone priced gb model us expensive india recently launched iphone inch display mp dual cameras supports wireless charging technology iphone start shipping november india \n",
            "실제 요약 : apple iphone expensive india us \n",
            "예측 요약 : \n",
            "\n",
            "\n",
            "원문 : chinese food delivery man recently married bride scooter hundreds co workers wearing uniforms helmets riding behind couple wedding procession wedding took place city video recently gone viral wedding procession also captured attention locals \n",
            "실제 요약 : chinese food delivery man gets married scooter \n",
            "예측 요약 : \n",
            "\n",
            "\n",
            "원문 : responding complaints billion flipkart walmart deal minister commerce industry suresh prabhu said making value judgement adding violations looked agencies mandated said job enforcement directorate rbi look complaints deal \n",
            "실제 요약 : make value flipkart walmart deal prabhu \n",
            "예측 요약 : \n",
            "\n",
            "\n",
            "원문 : chinese national arrested indira gandhi international airport new delhi sunday allegedly smuggling gold worth lakh man intercepted customs officials arrival hong kong allegedly carrying one kg gold hidden jeans pocket gold seized senior customs official said \n",
            "실제 요약 : chinese man gold worth jeans pocket arrested \n",
            "예측 요약 : \n",
            "\n",
            "\n",
            "원문 : us based cannabis company henry unveiled limited edition holiday featuring marijuana costs features dried wheat grass pine henry says marijuana detached consumption \n",
            "실제 요약 : marijuana sold \n",
            "예측 요약 : \n",
            "\n",
            "\n",
            "원문 : video nine models standing private jet took right behind surfaced social media friday directorate general civil aviation ordered probe violation aviation security rules standing near aircraft dangerous jet blasts rapid air movement aircraft kill people \n",
            "실제 요약 : models stand air strip plane takes behind \n",
            "예측 요약 : \n",
            "\n",
            "\n",
            "원문 : german top tier club frankfurt wolf handed red card tackle bayern munich player recalled dressing room field later referee match official referred video review red card awarding yellow card allowing wolf continue \n",
            "실제 요약 : player called back dressing room sent \n",
            "예측 요약 : \n",
            "\n",
            "\n",
            "원문 : singh gold men race asian games tuesday yet see five month old son year old missed son birth preparing competition bhutan past months first indian years win asiad gold men event \n",
            "실제 요약 : asiad gold medallist yet see month old son \n",
            "예측 요약 : \n",
            "\n",
            "\n",
            "원문 : according trends counting votes assembly elections congress crossed halfway mark leads tally rajasthan chhattisgarh congress leading seats rajasthan leading seats seat chhattisgarh assembly meanwhile bjp leads seats rajasthan chhattisgarh \n",
            "실제 요약 : trends show cong crossing mark rajasthan chhattisgarh \n",
            "예측 요약 : \n",
            "\n",
            "\n",
            "원문 : actor shahid kapoor featured cover filmfare april issue year old actor seen shirtless wearing pair distressed black white cover shot shahid whose first child misha born august features cover story titled daddy cool shahid kapoor winning streak \n",
            "실제 요약 : shahid kapoor features cover filmfare april issue \n",
            "예측 요약 : \n",
            "\n",
            "\n",
            "원문 : new service offered two russian startups pump allows users order fuel online delivered vehicles users place order via smartphone app location user vehicle services currently available moscow st petersburg \n",
            "실제 요약 : russian startups deliver fuel directly parked cars \n",
            "예측 요약 : \n",
            "\n",
            "\n",
            "원문 : nagpur set become country first city get fleet electric cabs pilot project see around electric cabs nagpur local body also provide charging stations across city centre currently runs faster adoption manufacturing electric vehicles scheme aims go completely electric \n",
            "실제 요약 : nagpur become st indian city electric cabs \n",
            "예측 요약 : \n",
            "\n",
            "\n",
            "원문 : supreme court sought jammu kashmir government reply plea moved kathua rape murder victim father shift trial chandigarh father counsel alleged atmosphere kathua conducive free fair trial trial eight accused began monday \n",
            "실제 요약 : sc seeks govt reply moving kathua case chandigarh \n",
            "예측 요약 : \n",
            "\n",
            "\n",
            "원문 : actor anil kapoor unveiled wax statue madame tussauds wax museum singapore unveiling truly thank making look good wax tweeted anil statue depicts character game show host oscar winning film millionaire reportedly first wax statue career spanning nearly years \n",
            "실제 요약 : anil kapoor unveils wax statue madame tussauds \n",
            "예측 요약 : \n",
            "\n",
            "\n",
            "원문 : amid ongoing tussle centre proposed hike delhi metro fares cm arvind kejriwal said government ready take metro centre works issue kejriwal said government willing provide funds needed run metro centre pays half \n",
            "실제 요약 : kejriwal offers take delhi metro amid fare hike row \n",
            "예측 요약 : \n",
            "\n",
            "\n",
            "원문 : rd edition mann ki baat programme sunday pm narendra modi announced government ministries come together start swachh bharat summer opportunity people want something society country said initiative sports human resource development water ministries \n",
            "실제 요약 : pm modi announces swachh bharat summer \n",
            "예측 요약 : \n",
            "\n",
            "\n",
            "원문 : speaking weather conditions nd india australia odi match kolkata australian pacer pat cummins said hottest one day game anyone said played think overs felt like overs cummins said conditions temperatures reportedly reached high eden gardens thursday \n",
            "실제 요약 : kolkata odi hottest ever played aus pacer \n",
            "예측 요약 : \n",
            "\n",
            "\n",
            "원문 : veteran bollywood actress sridevi mortal remains flown back india monday husband boney kapoor spokesperson said body brought back industrialist anil ambani private plane last rites held mumbai tomorrow actress died falling unconscious bathroom hotel room dubai saturday \n",
            "실제 요약 : sridevi remains flown back tomorrow \n",
            "예측 요약 : \n",
            "\n",
            "\n",
            "원문 : least seven people died spot two private cars collided highway outskirts maharashtra official said today several people injured taken local hospital accident resulted traffic jams hundreds vehicles stuck sides highway rescue teams cleared site \n",
            "실제 요약 : seven people killed road accident maha highway \n",
            "예측 요약 : \n",
            "\n",
            "\n",
            "원문 : museum selfies open los angeles january museum feature themed places visitors take selfies showcase selfie inspired art feature game thrones inspired iron throne made selfie sticks one co founders said relationship people art changed people want part art \n",
            "실제 요약 : us selfie museum iron selfie \n",
            "예측 요약 : \n",
            "\n",
            "\n",
            "원문 : shiv sena sunday said would oppose citizenship bill parliament bill seeks amend citizenship act make illegal migrants afghanistan bangladesh pakistan eligible citizenship basis religion people assam irrespective caste religion creed oppose proposed legislation sena leader sanjay raut said \n",
            "실제 요약 : oppose citizenship bill parliament sena \n",
            "예측 요약 : \n",
            "\n",
            "\n",
            "원문 : according reports actor akshay kumar star remake oscar winning sports drama hollywood film million dollar baby ar directorial also star television actress former bigg boss contestant marina working star like akshay like dream come true confident soon recognised said \n",
            "실제 요약 : akshay star remake million dollar baby report \n",
            "예측 요약 : \n",
            "\n",
            "\n",
            "원문 : indian railways send sms alerts departure delays hour passengers around trains wednesday onwards alerts initially sent trains like rajdhani shatabdi sent express trains well travellers boarding halt stations along route also receive alerts \n",
            "실제 요약 : indian railways send delay alerts via sms trains \n",
            "예측 요약 : \n",
            "\n",
            "\n",
            "원문 : us billionaire carl sold resort las vegas million nearly paid acquire firm acquired property bankruptcy million february acre property bought partnership led new york developer steven \n",
            "실제 요약 : billionaire sells property mn paid \n",
            "예측 요약 : \n",
            "\n",
            "\n",
            "원문 : qantas airways set offer hour non stop flight sydney london making world longest non stop commercial flight flight cross ten time zones reportedly made available within next five years take kilometre route asia europe another north pole \n",
            "실제 요약 : world longest commercial flight announced \n",
            "예측 요약 : \n",
            "\n",
            "\n",
            "원문 : uber shutting demand delivery service june us based cab aggregator said email users launched service allowed users hire someone pick package delivery another location operational new york city san francisco chicago since \n",
            "실제 요약 : uber shut demand delivery service \n",
            "예측 요약 : \n",
            "\n",
            "\n",
            "원문 : first look kriti sanon diljit dosanjh starrer upcoming comedy film arjun patiala revealed poster shows diljit along varun sharma dressed police officer kriti seen holding revolver directed rohit film scheduled release september \n",
            "실제 요약 : first look kriti diljit starrer arjun revealed \n",
            "예측 요약 : \n",
            "\n",
            "\n",
            "원문 : least members tehreek taliban pakistan including son group chief killed us drone strike afghanistan militant group confirmed taliban blamed afghan intelligence providing tip regarding presence militants area last month us drone strike killed pakistan taliban deputy leader khalid \n",
            "실제 요약 : pakistan taliban chief son killed us drone strike \n",
            "예측 요약 : \n",
            "\n",
            "\n",
            "원문 : food water country police prepared emergency first aid kits ahead tuesday presidential elections many fear could violence allegedly rigged many people killed lakh displaced country opposition called street protests terming vote rigged \n",
            "실제 요약 : food water ahead presidential polls \n",
            "예측 요약 : \n",
            "\n",
            "\n",
            "원문 : brazilian teen passed away monday shark bit penis swimming beach city year old swimming near shore despite area marked signs warning shark attacks earlier man lost hand part leg beach \n",
            "실제 요약 : brazilian teen dies shark bites penis \n",
            "예측 요약 : \n",
            "\n",
            "\n",
            "원문 : uttar pradesh cm yogi adityanath sunday said contrary politics casteism politics appeasement practised previous governments state witnessing development years adding current state government given conducive environment investors cm said lakh youngsters get jobs state \n",
            "실제 요약 : development years cm yogi adityanath \n",
            "예측 요약 : \n",
            "\n",
            "\n",
            "원문 : indian army tuesday said tonnes garbage removed since carried man pack loads sometimes helicopters loads garbage included packing material barrels army continues take steps ensure hygiene highest battlefield statement issued army read \n",
            "실제 요약 : tonnes garbage removed since army \n",
            "예측 요약 : \n",
            "\n",
            "\n",
            "원문 : woman maharashtra pune alleged sub inspector maharashtra anti terrorism squad thrashed molested objected illegal construction society however police complaint filed case accused officer yet identified \n",
            "실제 요약 : pune woman accuses officer thrashing molesting \n",
            "예측 요약 : \n",
            "\n",
            "\n",
            "원문 : people poet malik muhammad village amethi uttar pradesh demanded share profit earnings film padmaavat based poem reports claimed village demanding money filmmakers restore poet birthplace research institute \n",
            "실제 요약 : poet village demands film earning \n",
            "예측 요약 : \n",
            "\n",
            "\n",
            "원문 : pakistan rejected statement made brics nations terror groups country pose threat regional security brics nations issued declaration slamming pakistan based terror groups like jaish mohammed lashkar taiba reject terrorist organization safe havens pakistan defence minister khan said \n",
            "실제 요약 : pakistan rejects brics declaration terror groups \n",
            "예측 요약 : \n",
            "\n",
            "\n",
            "원문 : family army jawan giri haryana sonepat area reportedly abducted liquor mafia allegedly opposing liquor vendor village giri currently posted jammu border said soldiers serving nation responsible safety family members administration needs answer \n",
            "실제 요약 : jawan family abducted liquor mafia haryana \n",
            "예측 요약 : \n",
            "\n",
            "\n"
          ]
        }
      ],
      "source": [
        "for i in range(50, 100):\n",
        "    print(\"원문 :\", seq2text(encoder_input_test[i]))\n",
        "    print(\"실제 요약 :\", seq2summary(decoder_input_test[i]))\n",
        "    print(\"예측 요약 :\", summarize(seq2text(encoder_input_test[i]), words=30))\n",
        "    print(\"\\n\")"
      ]
    },
    {
      "cell_type": "markdown",
      "source": [
        "# 회고\n",
        "\n",
        "모델 훈련을 통한 요약은 꽤나 잘 된 것 같다. 하지만 추출적요약은 결과가 나오지 않았다."
      ],
      "metadata": {
        "id": "VfHVgBQRyyDo"
      },
      "id": "VfHVgBQRyyDo"
    }
  ],
  "metadata": {
    "kernelspec": {
      "display_name": "Python 3 (ipykernel)",
      "language": "python",
      "name": "python3"
    },
    "language_info": {
      "codemirror_mode": {
        "name": "ipython",
        "version": 3
      },
      "file_extension": ".py",
      "mimetype": "text/x-python",
      "name": "python",
      "nbconvert_exporter": "python",
      "pygments_lexer": "ipython3",
      "version": "3.9.7"
    },
    "colab": {
      "name": "Exp8_실습.ipynb",
      "provenance": [],
      "collapsed_sections": []
    },
    "accelerator": "TPU"
  },
  "nbformat": 4,
  "nbformat_minor": 5
}