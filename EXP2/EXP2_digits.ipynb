{
  "nbformat": 4,
  "nbformat_minor": 0,
  "metadata": {
    "colab": {
      "name": "digits.ipynb",
      "private_outputs": true,
      "provenance": []
    },
    "kernelspec": {
      "name": "python3",
      "display_name": "Python 3"
    },
    "language_info": {
      "name": "python"
    }
  },
  "cells": [
    {
      "cell_type": "markdown",
      "source": [
        "# 1. digits"
      ],
      "metadata": {
        "id": "-0c_0aZo1ogF"
      }
    },
    {
      "cell_type": "markdown",
      "source": [
        "0 ~ 9 까지 손글씨 이미지를 가지고 학습한 뒤 어떤 샘플을 넣어서 숫자를 맞춘다."
      ],
      "metadata": {
        "id": "gVB1Qey-5F85"
      }
    },
    {
      "cell_type": "markdown",
      "source": [
        "## 1. 데이터 준비"
      ],
      "metadata": {
        "id": "KGJybpC-6l3S"
      }
    },
    {
      "cell_type": "code",
      "source": [
        "from sklearn.datasets import load_digits\n",
        "from sklearn.model_selection import train_test_split\n",
        "\n",
        "digits = load_digits()\n",
        "digits.keys()\n",
        "print(digits.DESCR)"
      ],
      "metadata": {
        "id": "3bH4PwGm16GB"
      },
      "execution_count": null,
      "outputs": []
    },
    {
      "cell_type": "code",
      "source": [
        "digits_data = digits.data\n",
        "print(digits_data.shape)\n",
        "\n",
        "digits_label = digits.target\n",
        "print(digits.target_names)\n",
        "\n",
        "X_train, X_test, y_train, y_test = train_test_split(digits_data, \n",
        "                                                    digits_label,\n",
        "                                                    test_size=0.2,\n",
        "                                                    random_state=42)\n",
        "print('훈련/테스트 셋 준비완료!')"
      ],
      "metadata": {
        "id": "4UBDNWO05wxm"
      },
      "execution_count": null,
      "outputs": []
    },
    {
      "cell_type": "markdown",
      "source": [
        "## 2. 모델별로 훈련 후 성능 비교"
      ],
      "metadata": {
        "id": "zDHppQgo7o-f"
      }
    },
    {
      "cell_type": "markdown",
      "source": [
        "### 1. Decision Tree"
      ],
      "metadata": {
        "id": "yxkkvIsN7o-g"
      }
    },
    {
      "cell_type": "code",
      "source": [
        "from sklearn.tree import DecisionTreeClassifier\n",
        "from sklearn.metrics import classification_report\n",
        "\n",
        "decision_tree = DecisionTreeClassifier(random_state=32)\n",
        "decision_tree.fit(X_train, y_train)\n",
        "y_pred = decision_tree.predict(X_test)\n",
        "\n",
        "print(classification_report(y_test, y_pred))"
      ],
      "metadata": {
        "id": "3rNQ7Adf7o-h"
      },
      "execution_count": null,
      "outputs": []
    },
    {
      "cell_type": "markdown",
      "source": [
        "### 2. Random Forest"
      ],
      "metadata": {
        "id": "iztX-Rzv7o-j"
      }
    },
    {
      "cell_type": "code",
      "source": [
        "from sklearn.ensemble import RandomForestClassifier\n",
        "\n",
        "random_forest = RandomForestClassifier(random_state=32)\n",
        "random_forest.fit(X_train, y_train)\n",
        "y_pred = random_forest.predict(X_test)\n",
        "\n",
        "print(classification_report(y_test, y_pred))"
      ],
      "metadata": {
        "id": "Hw4WjoOi7o-j"
      },
      "execution_count": null,
      "outputs": []
    },
    {
      "cell_type": "markdown",
      "source": [
        "### 3. SVM (Support Vector Machine)\n",
        "\n"
      ],
      "metadata": {
        "id": "aO-eo1Hq7o-j"
      }
    },
    {
      "cell_type": "code",
      "source": [
        "from sklearn import svm\n",
        "\n",
        "svm_model = svm.SVC()\n",
        "svm_model.fit(X_train, y_train)\n",
        "y_pred = svm_model.predict(X_test)\n",
        "\n",
        "print(classification_report(y_test, y_pred))"
      ],
      "metadata": {
        "id": "KZ1A2-2e7o-k"
      },
      "execution_count": null,
      "outputs": []
    },
    {
      "cell_type": "markdown",
      "source": [
        "### 4. SGD (Stochastic Gradient Descent Classifier)"
      ],
      "metadata": {
        "id": "1-OdaAdz7o-k"
      }
    },
    {
      "cell_type": "code",
      "source": [
        "from sklearn.linear_model import SGDClassifier\n",
        "\n",
        "sgd_model = SGDClassifier()\n",
        "sgd_model.fit(X_train, y_train)\n",
        "y_pred = sgd_model.predict(X_test)\n",
        "\n",
        "print(classification_report(y_test, y_pred))"
      ],
      "metadata": {
        "id": "jU1fgw5f7o-k"
      },
      "execution_count": null,
      "outputs": []
    },
    {
      "cell_type": "markdown",
      "source": [
        "### 5. Logistic Regression\n"
      ],
      "metadata": {
        "id": "_uOjEC137o-l"
      }
    },
    {
      "cell_type": "code",
      "source": [
        "from sklearn.linear_model import LogisticRegression\n",
        "\n",
        "logistic_model = LogisticRegression()\n",
        "logistic_model.fit(X_train, y_train)\n",
        "y_pred = logistic_model.predict(X_test)\n",
        "\n",
        "print(classification_report(y_test, y_pred))"
      ],
      "metadata": {
        "id": "gITLPFiu7o-l"
      },
      "execution_count": null,
      "outputs": []
    },
    {
      "cell_type": "markdown",
      "source": [
        "## 3. 평가"
      ],
      "metadata": {
        "id": "4A9s8338ONgq"
      }
    },
    {
      "cell_type": "markdown",
      "source": [
        "손글씨 데이터셋의 경우 해당 이미지의 숫자를 잘 맞추는 것이 중요하기 때문에 accuracy 값이 0.99로 가장 높은 SVM모델을 사용하는 것이 좋아보인다. "
      ],
      "metadata": {
        "id": "gc0Fbd37Oh56"
      }
    }
  ]
}