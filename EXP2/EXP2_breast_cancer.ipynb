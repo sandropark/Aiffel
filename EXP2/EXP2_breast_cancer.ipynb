{
  "nbformat": 4,
  "nbformat_minor": 0,
  "metadata": {
    "colab": {
      "name": "breast_cancer.ipynb",
      "private_outputs": true,
      "provenance": []
    },
    "kernelspec": {
      "name": "python3",
      "display_name": "Python 3"
    },
    "language_info": {
      "name": "python"
    }
  },
  "cells": [
    {
      "cell_type": "markdown",
      "source": [
        "# 3. breast cancer\n"
      ],
      "metadata": {
        "id": "BXeh_82m1tsB"
      }
    },
    {
      "cell_type": "markdown",
      "source": [
        "569개의 샘플로 30개의 특성. 레이블은 악성은 0 ,  양성은 1, 두가지로 구분한다. 악성을 양성으로 판단하면 위험하기 때문에 Recall값이 큰 모델이 필요하다."
      ],
      "metadata": {
        "id": "QkEomjRECCVN"
      }
    },
    {
      "cell_type": "markdown",
      "source": [
        "## 1. 데이터 준비"
      ],
      "metadata": {
        "id": "GQAlWvgM-1nU"
      }
    },
    {
      "cell_type": "markdown",
      "source": [
        "1. 데이터를 불러와서 살펴본다.\n",
        "2. data와 target을 따로 저장한다.\n",
        "3.  훈련/테스트 셋으로 나눈다."
      ],
      "metadata": {
        "id": "dAWeoQ9b-1nV"
      }
    },
    {
      "cell_type": "code",
      "source": [
        "from sklearn.datasets import load_breast_cancer\n",
        "from sklearn.model_selection import train_test_split\n",
        "\n",
        "bc = load_breast_cancer()\n",
        "bc.keys()\n",
        "print(bc.DESCR)"
      ],
      "metadata": {
        "id": "AnMDAucR-1nV"
      },
      "execution_count": null,
      "outputs": []
    },
    {
      "cell_type": "code",
      "source": [
        "bc_data = bc.data\n",
        "print(bc_data.shape)\n",
        "\n",
        "bc_label = bc.target\n",
        "print(bc.target_names)\n",
        "\n",
        "X_train, X_test, y_train, y_test = train_test_split(bc_data, \n",
        "                                                    bc_label,\n",
        "                                                    test_size=0.2,\n",
        "                                                    random_state=42)\n",
        "print('훈련/테스트 셋 준비완료!')"
      ],
      "metadata": {
        "id": "4QJ8czzj-1nW"
      },
      "execution_count": null,
      "outputs": []
    },
    {
      "cell_type": "markdown",
      "source": [
        "## 2. 모델별로 훈련 후 성능 비교"
      ],
      "metadata": {
        "id": "nLyN1Y6n-1nW"
      }
    },
    {
      "cell_type": "markdown",
      "source": [
        "### 1. Decision Tree"
      ],
      "metadata": {
        "id": "vH927Kvj-1nW"
      }
    },
    {
      "cell_type": "code",
      "source": [
        "from sklearn.tree import DecisionTreeClassifier\n",
        "from sklearn.metrics import classification_report\n",
        "\n",
        "decision_tree = DecisionTreeClassifier(random_state=32)\n",
        "decision_tree.fit(X_train, y_train)\n",
        "y_pred = decision_tree.predict(X_test)\n",
        "\n",
        "print(classification_report(y_test, y_pred))"
      ],
      "metadata": {
        "id": "oJ_eUOZu-1nW"
      },
      "execution_count": null,
      "outputs": []
    },
    {
      "cell_type": "markdown",
      "source": [
        "### 2. Random Forest"
      ],
      "metadata": {
        "id": "xLDv_y4V-1nX"
      }
    },
    {
      "cell_type": "code",
      "source": [
        "from sklearn.ensemble import RandomForestClassifier\n",
        "\n",
        "random_forest = RandomForestClassifier(random_state=32)\n",
        "random_forest.fit(X_train, y_train)\n",
        "y_pred = random_forest.predict(X_test)\n",
        "\n",
        "print(classification_report(y_test, y_pred))"
      ],
      "metadata": {
        "id": "wQ5PnLMr-1nX"
      },
      "execution_count": null,
      "outputs": []
    },
    {
      "cell_type": "markdown",
      "source": [
        "### 3. SVM (Support Vector Machine)\n",
        "\n"
      ],
      "metadata": {
        "id": "IwCeZ8zt-1nY"
      }
    },
    {
      "cell_type": "code",
      "source": [
        "from sklearn import svm\n",
        "\n",
        "svm_model = svm.SVC()\n",
        "svm_model.fit(X_train, y_train)\n",
        "y_pred = svm_model.predict(X_test)\n",
        "\n",
        "print(classification_report(y_test, y_pred))"
      ],
      "metadata": {
        "id": "jDW1T4KW-1nY"
      },
      "execution_count": null,
      "outputs": []
    },
    {
      "cell_type": "markdown",
      "source": [
        "### 4. SGD (Stochastic Gradient Descent Classifier)"
      ],
      "metadata": {
        "id": "vCwoyhmK-1nY"
      }
    },
    {
      "cell_type": "code",
      "source": [
        "from sklearn.linear_model import SGDClassifier\n",
        "\n",
        "sgd_model = SGDClassifier()\n",
        "sgd_model.fit(X_train, y_train)\n",
        "y_pred = sgd_model.predict(X_test)\n",
        "\n",
        "print(classification_report(y_test, y_pred))"
      ],
      "metadata": {
        "id": "S8WQGmhQ-1nY"
      },
      "execution_count": null,
      "outputs": []
    },
    {
      "cell_type": "markdown",
      "source": [
        "### 5. Logistic Regression\n"
      ],
      "metadata": {
        "id": "zjj3qODE-1nZ"
      }
    },
    {
      "cell_type": "code",
      "source": [
        "from sklearn.linear_model import LogisticRegression\n",
        "\n",
        "logistic_model = LogisticRegression()\n",
        "logistic_model.fit(X_train, y_train)\n",
        "y_pred = logistic_model.predict(X_test)\n",
        "\n",
        "print(classification_report(y_test, y_pred))"
      ],
      "metadata": {
        "id": "jJ7H9ZXp-1nZ"
      },
      "execution_count": null,
      "outputs": []
    },
    {
      "cell_type": "markdown",
      "source": [
        "## 3. 평가"
      ],
      "metadata": {
        "id": "Uf_fSMQeOc2n"
      }
    },
    {
      "cell_type": "markdown",
      "source": [
        "유방암 여부 데이터셋은 위 두 가지 데이터 셋과는 다르게 FN을 줄일 수 있는 모델이 중요하다. (악성 종양을 양성이라고 판단하면 안되기 때문) 그렇기에 악성에 대한 `Recall`값이 0.93으로 큰 모델 중 accuracy값이 가장 큰 SGD모델이 좋아보인다. "
      ],
      "metadata": {
        "id": "kQI5orRKQoik"
      }
    }
  ]
}