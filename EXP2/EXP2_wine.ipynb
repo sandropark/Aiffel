{
  "nbformat": 4,
  "nbformat_minor": 0,
  "metadata": {
    "colab": {
      "name": "wine.ipynb",
      "private_outputs": true,
      "provenance": []
    },
    "kernelspec": {
      "name": "python3",
      "display_name": "Python 3"
    },
    "language_info": {
      "name": "python"
    }
  },
  "cells": [
    {
      "cell_type": "markdown",
      "source": [
        "# 2. wine"
      ],
      "metadata": {
        "id": "BZdGniAX1rtf"
      }
    },
    {
      "cell_type": "markdown",
      "source": [
        "178개의 샘플과 13개의 특성, 레이블은 클래스 0,1,2로 분류한다."
      ],
      "metadata": {
        "id": "E6c2iFbdBcDk"
      }
    },
    {
      "cell_type": "markdown",
      "source": [
        "## 1. 데이터 준비"
      ],
      "metadata": {
        "id": "p2PzAl2w-Iwf"
      }
    },
    {
      "cell_type": "markdown",
      "source": [
        "1. 데이터를 불러와서 살펴본다.\n",
        "2. data와 target을 따로 저장한다.\n",
        "3.  훈련/테스트 셋으로 나눈다."
      ],
      "metadata": {
        "id": "67CqQthy-Iwf"
      }
    },
    {
      "cell_type": "code",
      "source": [
        "from sklearn.datasets import load_wine\n",
        "from sklearn.model_selection import train_test_split\n",
        "\n",
        "wine = load_wine()\n",
        "print(wine.keys())\n",
        "print(wine.DESCR)"
      ],
      "metadata": {
        "id": "9NkUJt-D-Iwf"
      },
      "execution_count": null,
      "outputs": []
    },
    {
      "cell_type": "code",
      "source": [
        "wine_data = wine.data\n",
        "print(wine_data.shape)\n",
        "\n",
        "wine_label = wine.target\n",
        "print(wine.target_names)\n",
        "\n",
        "X_train, X_test, y_train, y_test = train_test_split(wine_data, \n",
        "                                                    wine_label,\n",
        "                                                    test_size=0.2,\n",
        "                                                    random_state=42)\n",
        "print('훈련/테스트 셋 준비완료!')"
      ],
      "metadata": {
        "id": "6BdQ-xRk-Iwg"
      },
      "execution_count": null,
      "outputs": []
    },
    {
      "cell_type": "markdown",
      "source": [
        "## 2. 모델별로 훈련 후 성능 비교"
      ],
      "metadata": {
        "id": "lDDWLiL1-Iwg"
      }
    },
    {
      "cell_type": "markdown",
      "source": [
        "### 1. Decision Tree"
      ],
      "metadata": {
        "id": "tLAuKYB5-Iwg"
      }
    },
    {
      "cell_type": "code",
      "source": [
        "from sklearn.tree import DecisionTreeClassifier\n",
        "from sklearn.metrics import classification_report\n",
        "\n",
        "decision_tree = DecisionTreeClassifier(random_state=32)\n",
        "decision_tree.fit(X_train, y_train)\n",
        "y_pred = decision_tree.predict(X_test)\n",
        "\n",
        "print(classification_report(y_test, y_pred))"
      ],
      "metadata": {
        "id": "UqSuFLFI-Iwg"
      },
      "execution_count": null,
      "outputs": []
    },
    {
      "cell_type": "markdown",
      "source": [
        "### 2. Random Forest"
      ],
      "metadata": {
        "id": "ImXPlsj1-Iwj"
      }
    },
    {
      "cell_type": "code",
      "source": [
        "from sklearn.ensemble import RandomForestClassifier\n",
        "\n",
        "random_forest = RandomForestClassifier(random_state=32)\n",
        "random_forest.fit(X_train, y_train)\n",
        "y_pred = random_forest.predict(X_test)\n",
        "\n",
        "print(classification_report(y_test, y_pred))"
      ],
      "metadata": {
        "id": "_kWBeRU9-Iwj"
      },
      "execution_count": null,
      "outputs": []
    },
    {
      "cell_type": "markdown",
      "source": [
        "### 3. SVM (Support Vector Machine)\n",
        "\n"
      ],
      "metadata": {
        "id": "vxzZMrNY-Iwj"
      }
    },
    {
      "cell_type": "code",
      "source": [
        "from sklearn import svm\n",
        "\n",
        "svm_model = svm.SVC()\n",
        "svm_model.fit(X_train, y_train)\n",
        "y_pred = svm_model.predict(X_test)\n",
        "\n",
        "print(classification_report(y_test, y_pred))"
      ],
      "metadata": {
        "id": "ETLcNR4c-Iwk"
      },
      "execution_count": null,
      "outputs": []
    },
    {
      "cell_type": "markdown",
      "source": [
        "### 4. SGD (Stochastic Gradient Descent Classifier)"
      ],
      "metadata": {
        "id": "r7uUgIma-Iwk"
      }
    },
    {
      "cell_type": "code",
      "source": [
        "from sklearn.linear_model import SGDClassifier\n",
        "\n",
        "sgd_model = SGDClassifier()\n",
        "sgd_model.fit(X_train, y_train)\n",
        "y_pred = sgd_model.predict(X_test)\n",
        "\n",
        "print(classification_report(y_test, y_pred))"
      ],
      "metadata": {
        "id": "U_GGHDBI-Iwk"
      },
      "execution_count": null,
      "outputs": []
    },
    {
      "cell_type": "markdown",
      "source": [
        "### 5. Logistic Regression\n"
      ],
      "metadata": {
        "id": "RGH_Yxhd-Iwk"
      }
    },
    {
      "cell_type": "code",
      "source": [
        "from sklearn.linear_model import LogisticRegression\n",
        "\n",
        "logistic_model = LogisticRegression()\n",
        "logistic_model.fit(X_train, y_train)\n",
        "y_pred = logistic_model.predict(X_test)\n",
        "\n",
        "print(classification_report(y_test, y_pred))"
      ],
      "metadata": {
        "id": "7gTrKwrk-Iwk"
      },
      "execution_count": null,
      "outputs": []
    },
    {
      "cell_type": "markdown",
      "source": [
        "## 3. 평가"
      ],
      "metadata": {
        "id": "xgeXbhIIOXWR"
      }
    },
    {
      "cell_type": "markdown",
      "source": [
        "와인 데이터 셋은 성능이 압도적인 Random Forest모델을 사용한다."
      ],
      "metadata": {
        "id": "BI3Bk7mlP_-z"
      }
    }
  ]
}