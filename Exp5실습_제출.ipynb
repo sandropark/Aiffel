{
 "cells": [
  {
   "cell_type": "markdown",
   "id": "0acd7c45",
   "metadata": {},
   "source": [
    "# 모델의 성능 높이기\n",
    "\n",
    "1. 피처 엔지니어링 하기 \n",
    "2. 다양한 모델에 대해 하이퍼 파라미터 튜닝하기\n",
    "3. 다양한 하이퍼 파라미터에 대해 그리드 탐색을 시도해서 최적의 조합을 찾아보기\n",
    "4. Baseline 커널에서 활용했던 블렌딩 방법 활용하기\n",
    "\n",
    "평가 지표\n",
    "\n",
    "- 정리하기\n",
    "- 스코어 110000 넘기"
   ]
  },
  {
   "cell_type": "markdown",
   "id": "05ee5500",
   "metadata": {},
   "source": [
    "1. 피처 엔지니어링은 잘 모르겠음. 일단 모델이랑 파라미터를 바꿔보기"
   ]
  },
  {
   "cell_type": "code",
   "execution_count": 3,
   "id": "ab567829",
   "metadata": {},
   "outputs": [],
   "source": [
    "import warnings\n",
    "warnings.filterwarnings(\"ignore\")\n",
    "\n",
    "import os\n",
    "from os.path import join\n",
    "\n",
    "import pandas as pd\n",
    "import numpy as np\n",
    "from tqdm import tqdm\n",
    "\n",
    "import missingno as msno\n",
    "\n",
    "from sklearn.ensemble import GradientBoostingRegressor\n",
    "from sklearn.model_selection import KFold, cross_val_score\n",
    "import xgboost as xgb\n",
    "import lightgbm as lgb\n",
    "\n",
    "import matplotlib.pyplot as plt\n",
    "import seaborn as sns"
   ]
  },
  {
   "cell_type": "markdown",
   "id": "3981b439",
   "metadata": {},
   "source": [
    "# 1. 피쳐 엔지니어링\n",
    "## 데이터 불러오기"
   ]
  },
  {
   "cell_type": "code",
   "execution_count": 73,
   "id": "9337a45a",
   "metadata": {},
   "outputs": [],
   "source": [
    "data_dir = os.getenv('HOME')+'/aiffel/kaggle_kakr_housing/data'\n",
    "\n",
    "train_data_path = join(data_dir, 'train.csv')\n",
    "test_data_path = join(data_dir, 'test.csv') \n",
    "\n",
    "train = pd.read_csv(train_data_path)\n",
    "test = pd.read_csv(test_data_path)"
   ]
  },
  {
   "cell_type": "code",
   "execution_count": 79,
   "id": "1f600832",
   "metadata": {},
   "outputs": [
    {
     "data": {
      "text/html": [
       "<div>\n",
       "<style scoped>\n",
       "    .dataframe tbody tr th:only-of-type {\n",
       "        vertical-align: middle;\n",
       "    }\n",
       "\n",
       "    .dataframe tbody tr th {\n",
       "        vertical-align: top;\n",
       "    }\n",
       "\n",
       "    .dataframe thead th {\n",
       "        text-align: right;\n",
       "    }\n",
       "</style>\n",
       "<table border=\"1\" class=\"dataframe\">\n",
       "  <thead>\n",
       "    <tr style=\"text-align: right;\">\n",
       "      <th></th>\n",
       "      <th>date</th>\n",
       "      <th>bedrooms</th>\n",
       "      <th>bathrooms</th>\n",
       "      <th>sqft_living</th>\n",
       "      <th>sqft_lot</th>\n",
       "      <th>floors</th>\n",
       "      <th>waterfront</th>\n",
       "      <th>view</th>\n",
       "      <th>condition</th>\n",
       "      <th>grade</th>\n",
       "      <th>sqft_above</th>\n",
       "      <th>sqft_basement</th>\n",
       "      <th>yr_built</th>\n",
       "      <th>yr_renovated</th>\n",
       "      <th>zipcode</th>\n",
       "      <th>lat</th>\n",
       "      <th>long</th>\n",
       "      <th>sqft_living15</th>\n",
       "      <th>sqft_lot15</th>\n",
       "    </tr>\n",
       "  </thead>\n",
       "  <tbody>\n",
       "    <tr>\n",
       "      <th>0</th>\n",
       "      <td>201410</td>\n",
       "      <td>3</td>\n",
       "      <td>1.00</td>\n",
       "      <td>1180</td>\n",
       "      <td>5650</td>\n",
       "      <td>1.0</td>\n",
       "      <td>0</td>\n",
       "      <td>0</td>\n",
       "      <td>3</td>\n",
       "      <td>7</td>\n",
       "      <td>1180</td>\n",
       "      <td>0</td>\n",
       "      <td>1955</td>\n",
       "      <td>0</td>\n",
       "      <td>98178</td>\n",
       "      <td>47.5112</td>\n",
       "      <td>-122.257</td>\n",
       "      <td>1340</td>\n",
       "      <td>5650</td>\n",
       "    </tr>\n",
       "    <tr>\n",
       "      <th>1</th>\n",
       "      <td>201502</td>\n",
       "      <td>2</td>\n",
       "      <td>1.00</td>\n",
       "      <td>770</td>\n",
       "      <td>10000</td>\n",
       "      <td>1.0</td>\n",
       "      <td>0</td>\n",
       "      <td>0</td>\n",
       "      <td>3</td>\n",
       "      <td>6</td>\n",
       "      <td>770</td>\n",
       "      <td>0</td>\n",
       "      <td>1933</td>\n",
       "      <td>0</td>\n",
       "      <td>98028</td>\n",
       "      <td>47.7379</td>\n",
       "      <td>-122.233</td>\n",
       "      <td>2720</td>\n",
       "      <td>8062</td>\n",
       "    </tr>\n",
       "    <tr>\n",
       "      <th>2</th>\n",
       "      <td>201502</td>\n",
       "      <td>3</td>\n",
       "      <td>2.00</td>\n",
       "      <td>1680</td>\n",
       "      <td>8080</td>\n",
       "      <td>1.0</td>\n",
       "      <td>0</td>\n",
       "      <td>0</td>\n",
       "      <td>3</td>\n",
       "      <td>8</td>\n",
       "      <td>1680</td>\n",
       "      <td>0</td>\n",
       "      <td>1987</td>\n",
       "      <td>0</td>\n",
       "      <td>98074</td>\n",
       "      <td>47.6168</td>\n",
       "      <td>-122.045</td>\n",
       "      <td>1800</td>\n",
       "      <td>7503</td>\n",
       "    </tr>\n",
       "    <tr>\n",
       "      <th>3</th>\n",
       "      <td>201406</td>\n",
       "      <td>3</td>\n",
       "      <td>2.25</td>\n",
       "      <td>1715</td>\n",
       "      <td>6819</td>\n",
       "      <td>2.0</td>\n",
       "      <td>0</td>\n",
       "      <td>0</td>\n",
       "      <td>3</td>\n",
       "      <td>7</td>\n",
       "      <td>1715</td>\n",
       "      <td>0</td>\n",
       "      <td>1995</td>\n",
       "      <td>0</td>\n",
       "      <td>98003</td>\n",
       "      <td>47.3097</td>\n",
       "      <td>-122.327</td>\n",
       "      <td>2238</td>\n",
       "      <td>6819</td>\n",
       "    </tr>\n",
       "    <tr>\n",
       "      <th>4</th>\n",
       "      <td>201501</td>\n",
       "      <td>3</td>\n",
       "      <td>1.50</td>\n",
       "      <td>1060</td>\n",
       "      <td>9711</td>\n",
       "      <td>1.0</td>\n",
       "      <td>0</td>\n",
       "      <td>0</td>\n",
       "      <td>3</td>\n",
       "      <td>7</td>\n",
       "      <td>1060</td>\n",
       "      <td>0</td>\n",
       "      <td>1963</td>\n",
       "      <td>0</td>\n",
       "      <td>98198</td>\n",
       "      <td>47.4095</td>\n",
       "      <td>-122.315</td>\n",
       "      <td>1650</td>\n",
       "      <td>9711</td>\n",
       "    </tr>\n",
       "  </tbody>\n",
       "</table>\n",
       "</div>"
      ],
      "text/plain": [
       "     date  bedrooms  bathrooms  sqft_living  sqft_lot  floors  waterfront  \\\n",
       "0  201410         3       1.00         1180      5650     1.0           0   \n",
       "1  201502         2       1.00          770     10000     1.0           0   \n",
       "2  201502         3       2.00         1680      8080     1.0           0   \n",
       "3  201406         3       2.25         1715      6819     2.0           0   \n",
       "4  201501         3       1.50         1060      9711     1.0           0   \n",
       "\n",
       "   view  condition  grade  sqft_above  sqft_basement  yr_built  yr_renovated  \\\n",
       "0     0          3      7        1180              0      1955             0   \n",
       "1     0          3      6         770              0      1933             0   \n",
       "2     0          3      8        1680              0      1987             0   \n",
       "3     0          3      7        1715              0      1995             0   \n",
       "4     0          3      7        1060              0      1963             0   \n",
       "\n",
       "   zipcode      lat     long  sqft_living15  sqft_lot15  \n",
       "0    98178  47.5112 -122.257           1340        5650  \n",
       "1    98028  47.7379 -122.233           2720        8062  \n",
       "2    98074  47.6168 -122.045           1800        7503  \n",
       "3    98003  47.3097 -122.327           2238        6819  \n",
       "4    98198  47.4095 -122.315           1650        9711  "
      ]
     },
     "execution_count": 79,
     "metadata": {},
     "output_type": "execute_result"
    }
   ],
   "source": [
    "train.head()"
   ]
  },
  {
   "cell_type": "code",
   "execution_count": 84,
   "id": "36c94d33",
   "metadata": {
    "scrolled": true
   },
   "outputs": [
    {
     "data": {
      "text/plain": [
       "Index(['date', 'bedrooms', 'bathrooms', 'sqft_living', 'sqft_lot', 'floors',\n",
       "       'waterfront', 'view', 'condition', 'grade', 'sqft_above',\n",
       "       'sqft_basement', 'yr_built', 'yr_renovated', 'zipcode', 'lat', 'long',\n",
       "       'sqft_living15', 'sqft_lot15'],\n",
       "      dtype='object')"
      ]
     },
     "execution_count": 84,
     "metadata": {},
     "output_type": "execute_result"
    }
   ],
   "source": [
    "train.columns"
   ]
  },
  {
   "cell_type": "markdown",
   "id": "78ccc47c",
   "metadata": {},
   "source": [
    "## 전처리하기"
   ]
  },
  {
   "cell_type": "code",
   "execution_count": 75,
   "id": "e0575f9e",
   "metadata": {},
   "outputs": [],
   "source": [
    "# 훈련 데이터 \n",
    "train['date'] = train['date'].apply(lambda i: i[:6]).astype(int)\n",
    "y = train['price']\n",
    "del train['price']\n",
    "del train['id']\n",
    "\n",
    "# 테스트 데이터\n",
    "test['date'] = test['date'].apply(lambda i: i[:6]).astype(int)\n",
    "del test['id']"
   ]
  },
  {
   "cell_type": "code",
   "execution_count": 76,
   "id": "75e08886",
   "metadata": {},
   "outputs": [],
   "source": [
    "# 타겟 로그변환\n",
    "y = np.log1p(y)"
   ]
  },
  {
   "cell_type": "markdown",
   "id": "342a99c9",
   "metadata": {},
   "source": [
    "# 채점 함수 준비"
   ]
  },
  {
   "cell_type": "code",
   "execution_count": 8,
   "id": "d168975f",
   "metadata": {},
   "outputs": [],
   "source": [
    "from sklearn.model_selection import train_test_split\n",
    "# RMSE점수 계산\n",
    "from sklearn.metrics import mean_squared_error\n",
    "\n",
    "# rmse 계산 함수\n",
    "def rmse(y_test, y_pred):\n",
    "    return np.sqrt(mean_squared_error(np.expm1(y_test), np.expm1(y_pred)))"
   ]
  },
  {
   "cell_type": "code",
   "execution_count": 9,
   "id": "b4ca17f8",
   "metadata": {},
   "outputs": [],
   "source": [
    "# 한 번에 여러 모델 점수보기\n",
    "def get_scores(models, train, y):\n",
    "    df = {}\n",
    "\n",
    "    for model in tqdm(models):\n",
    "        # 모델 이름\n",
    "        model_name = model.__class__.__name__\n",
    "\n",
    "        # 훈련,테스트 셋 분리\n",
    "        X_train, X_test, y_train, y_test = train_test_split(train, \n",
    "                                                            y,\n",
    "                                                            random_state=random_state,\n",
    "                                                            test_size=0.2)\n",
    "        # 모델 학습\n",
    "        model.fit(X_train, y_train)\n",
    "        # 예측\n",
    "        y_pred = model.predict(X_test)\n",
    "        # 예측 결과의 rmse값을 저장\n",
    "        df[model_name] = rmse(y_test, y_pred)\n",
    "        # data frame에 저장\n",
    "        score_df = pd.DataFrame(df, index=['RMSE']).T.sort_values('RMSE', ascending=False)\n",
    "        \n",
    "    return score_df"
   ]
  },
  {
   "cell_type": "code",
   "execution_count": 10,
   "id": "5bbfccfa",
   "metadata": {},
   "outputs": [],
   "source": [
    "# 한 모델 점수만 보기\n",
    "def get_score(model, train, y):\n",
    "    model_name = model.__class__.__name__\n",
    "    \n",
    "    # 훈련,테스트 셋 분리\n",
    "    X_train, X_test, y_train, y_test = train_test_split(train, \n",
    "                                                        y,\n",
    "                                                        random_state=random_state,\n",
    "                                                        test_size=0.2)\n",
    "    # 모델 학습\n",
    "    model.fit(X_train, y_train)\n",
    "    # 예측\n",
    "    y_pred = model.predict(X_test)\n",
    "    return rmse(y_test, y_pred)"
   ]
  },
  {
   "cell_type": "code",
   "execution_count": 11,
   "id": "a39b7446",
   "metadata": {},
   "outputs": [],
   "source": [
    "# 에버리지 블랜딩 점수 보기\n",
    "from tqdm import tqdm\n",
    "\n",
    "def AveragingBlendingGetScore(models, train, y):   \n",
    "    # 훈련,테스트 셋 분리\n",
    "    X_train, X_test, y_train, y_test = train_test_split(train, \n",
    "                                                        y,\n",
    "                                                        random_state=random_state,\n",
    "                                                        test_size=0.2)\n",
    "    \n",
    "    for m in tqdm(models):    \n",
    "        m['model'].fit(X_train.values, y_train)\n",
    "    \n",
    "    predictions = np.column_stack([\n",
    "        m['model'].predict(X_test.values) for m in models\n",
    "    ])\n",
    "    y_pred = np.mean(predictions, axis=1)\n",
    "    return rmse(y_test, y_pred)"
   ]
  },
  {
   "cell_type": "markdown",
   "id": "114d9522",
   "metadata": {},
   "source": [
    "# 하이퍼파라미터 탐색"
   ]
  },
  {
   "cell_type": "code",
   "execution_count": 17,
   "id": "e3f680f9",
   "metadata": {},
   "outputs": [],
   "source": [
    "# 모델 \n",
    "from xgboost import XGBRegressor\n",
    "from lightgbm import LGBMRegressor\n",
    "from sklearn.ensemble import GradientBoostingRegressor, RandomForestRegressor\n",
    "\n",
    "from sklearn.model_selection import GridSearchCV\n",
    "\n",
    "def my_GridSearch(model, train, y, param_grid, verbose=2, n_jobs=5):     \n",
    "    # 1. 모델 초기화\n",
    "    grid_model = GridSearchCV(model, param_grid=param_grid,\n",
    "                              scoring='neg_mean_squared_error', \n",
    "                              cv=3, verbose=verbose, n_jobs=n_jobs)\n",
    "    # 2. 모델 훈련\n",
    "    grid_model.fit(train, y)\n",
    "        \n",
    "    # 3. 각 조합 결과 저장\n",
    "    params = grid_model.cv_results_['params']\n",
    "    score = grid_model.cv_results_['mean_test_score']\n",
    "\n",
    "    # 4. 데이터 프레임 생성\n",
    "    results = pd.DataFrame(params)\n",
    "    results['score'] = score\n",
    "    results['RMSLE'] = np.sqrt(-1 * results['score'])\n",
    "    results = results.sort_values(by=['RMSLE'])\n",
    "\n",
    "    return results\n",
    "\n",
    "random_state=2022"
   ]
  },
  {
   "cell_type": "markdown",
   "id": "a31afbc7",
   "metadata": {},
   "source": [
    "### 파라미터 기록"
   ]
  },
  {
   "cell_type": "markdown",
   "id": "996f10d2",
   "metadata": {},
   "source": [
    "121744.07926966541\n",
    "learning_rate\tmax_depth\tn_estimators\tnum_leaves\t   score\t  RMSLE\n",
    "0.05\t        10\t        500\t            32\t         -0.025869\t 0.160837\n",
    "\n",
    "LGBMRegressor(n_estimators=500, max_depth=10, learning_rate=0.05,\n",
    "                         num_leaves=32, random_state=random_state)"
   ]
  },
  {
   "cell_type": "markdown",
   "id": "9e70886e",
   "metadata": {},
   "source": [
    "max_depth\tmin_samples_leaf\tmin_samples_split\tn_estimators\tscore\tRMSLE\n",
    "15\t        8\t                8\t                200      \t-0.034792\t0.186525\n",
    "\n",
    "RandomForestRegressor(max_depth=15,min_samples_leaf=8, min_samples_split=8,\n",
    "                      n_estimators=200,random_state=random_state)"
   ]
  },
  {
   "cell_type": "markdown",
   "id": "8f24c447",
   "metadata": {},
   "source": [
    "127521.80309206048\n",
    "eta\tmax_depth\tscore\tRMSLE\n",
    "0.1\t7\t     -0.027732\t0.16653\n",
    "XGBRegressor(max_depth=7, eta=0.1, random_state=random_state)"
   ]
  },
  {
   "cell_type": "markdown",
   "id": "8ff1ee21",
   "metadata": {},
   "source": [
    "119086.80687715334\n",
    "learning_rate\tmax_depth\tmax_features\tn_estimators\tscore\tRMSLE\n",
    "0.2\t            6\t        5 \t            100         -0.029621\t0.172109\n",
    "\n",
    "GradientBoostingRegressor(max_depth=6, n_estimators=55,max_features=5,learning_rate=0.2,random_state=random_state)"
   ]
  },
  {
   "cell_type": "markdown",
   "id": "f7c96a02",
   "metadata": {},
   "source": [
    "### 그리드 서치"
   ]
  },
  {
   "cell_type": "code",
   "execution_count": 114,
   "id": "5bea939b",
   "metadata": {},
   "outputs": [
    {
     "name": "stdout",
     "output_type": "stream",
     "text": [
      "Fitting 3 folds for each of 1 candidates, totalling 3 fits\n"
     ]
    },
    {
     "data": {
      "text/html": [
       "<div>\n",
       "<style scoped>\n",
       "    .dataframe tbody tr th:only-of-type {\n",
       "        vertical-align: middle;\n",
       "    }\n",
       "\n",
       "    .dataframe tbody tr th {\n",
       "        vertical-align: top;\n",
       "    }\n",
       "\n",
       "    .dataframe thead th {\n",
       "        text-align: right;\n",
       "    }\n",
       "</style>\n",
       "<table border=\"1\" class=\"dataframe\">\n",
       "  <thead>\n",
       "    <tr style=\"text-align: right;\">\n",
       "      <th></th>\n",
       "      <th>learning_rate</th>\n",
       "      <th>max_depth</th>\n",
       "      <th>n_estimators</th>\n",
       "      <th>num_leaves</th>\n",
       "      <th>score</th>\n",
       "      <th>RMSLE</th>\n",
       "    </tr>\n",
       "  </thead>\n",
       "  <tbody>\n",
       "    <tr>\n",
       "      <th>0</th>\n",
       "      <td>0.05</td>\n",
       "      <td>10</td>\n",
       "      <td>500</td>\n",
       "      <td>32</td>\n",
       "      <td>-0.026341</td>\n",
       "      <td>0.162299</td>\n",
       "    </tr>\n",
       "  </tbody>\n",
       "</table>\n",
       "</div>"
      ],
      "text/plain": [
       "   learning_rate  max_depth  n_estimators  num_leaves     score     RMSLE\n",
       "0           0.05         10           500          32 -0.026341  0.162299"
      ]
     },
     "execution_count": 114,
     "metadata": {},
     "output_type": "execute_result"
    }
   ],
   "source": [
    "param_grid = {\n",
    "   'learning_rate' : [0.05],\n",
    "    'max_depth' : [10],\n",
    "    'n_estimators' : [500],\n",
    "    'num_leaves' : [32],\n",
    "}\n",
    "\n",
    "model = LGBMRegressor(random_state=random_state)\n",
    "my_GridSearch(model, train, y, param_grid, verbose=2, n_jobs=5)"
   ]
  },
  {
   "cell_type": "markdown",
   "id": "5fc05651",
   "metadata": {},
   "source": [
    "# 결과 저장 함수"
   ]
  },
  {
   "cell_type": "code",
   "execution_count": null,
   "id": "d67df2f0",
   "metadata": {},
   "outputs": [],
   "source": [
    "def save_submission(model, train, y, test, model_name, rmsle):\n",
    "    # 1. 모델을 학습\n",
    "    model.fit(train, y)\n",
    "    \n",
    "    # 2. test에 대해 예측\n",
    "    prediction = model.predict(test)\n",
    "    \n",
    "    # 3. 예측값을 변환\n",
    "    prediction = np.expm1(prediction)\n",
    "    \n",
    "    data_dir = os.getenv('HOME')+'/aiffel/kaggle_kakr_housing/data'\n",
    "    submission_path = join(data_dir, 'sample_submission.csv')\n",
    "    submission = pd.read_csv(submission_path)\n",
    "    # 4. 샘플에 저장\n",
    "    submission['price'] = prediction\n",
    "    # 5. 파일 저장\n",
    "    submission_csv_path = '{}/submission_{}_RMSLE_{}.csv'.format(data_dir, model_name, rmsle)\n",
    "    submission.to_csv(submission_csv_path, index=False)\n",
    "    print(f'{submission_csv_path}저장 완료!')"
   ]
  },
  {
   "cell_type": "code",
   "execution_count": 316,
   "id": "d7a33ed6",
   "metadata": {},
   "outputs": [],
   "source": [
    "def ab_save_submission(model, train, y, test, rmsle): \n",
    "    for m in tqdm(models):    \n",
    "        m['model'].fit(train.values, y)\n",
    "    \n",
    "    predictions = np.column_stack([\n",
    "        m['model'].predict(test.values) for m in models\n",
    "    ])\n",
    "    predictions = np.mean(predictions, axis=1)\n",
    "    predictions = np.expm1(predictions)\n",
    "    \n",
    "    # 제출 예시 불러오기 \n",
    "    data_dir = os.getenv('HOME')+'/aiffel/kaggle_kakr_housing/data'\n",
    "    submission_path = join(data_dir, 'sample_submission.csv')\n",
    "    submission = pd.read_csv(submission_path)\n",
    "\n",
    "    # 샘플에 덮어씌우기\n",
    "    submission['price'] = prediction\n",
    "\n",
    "    # 저장하기\n",
    "    submission_csv_path = '{}/submission_AB_RMSLE_{}.csv'.format(data_dir, rmsle)\n",
    "    submission.to_csv(submission_csv_path, index=False)\n",
    "    print(f'{submission_csv_path}저장 완료!')"
   ]
  },
  {
   "cell_type": "markdown",
   "id": "41013829",
   "metadata": {},
   "source": [
    "# 모델 점수 확인"
   ]
  },
  {
   "cell_type": "code",
   "execution_count": 115,
   "id": "324b445f",
   "metadata": {},
   "outputs": [
    {
     "data": {
      "text/plain": [
       "121744.07926966541"
      ]
     },
     "execution_count": 115,
     "metadata": {},
     "output_type": "execute_result"
    }
   ],
   "source": [
    "# 찾은 파라미터로 모델 점수 확인\n",
    "model = LGBMRegressor(n_estimators=500, max_depth=10, learning_rate=0.05,\n",
    "                         num_leaves=32, random_state=random_state)\n",
    "\n",
    "get_score(model, train, y)"
   ]
  },
  {
   "cell_type": "code",
   "execution_count": 69,
   "id": "ef3fb602",
   "metadata": {},
   "outputs": [
    {
     "name": "stderr",
     "output_type": "stream",
     "text": [
      "100%|██████████| 3/3 [00:03<00:00,  1.10s/it]\n"
     ]
    },
    {
     "data": {
      "text/plain": [
       "119878.35614767023"
      ]
     },
     "execution_count": 69,
     "metadata": {},
     "output_type": "execute_result"
    }
   ],
   "source": [
    "# 파라미터를 적용해서 에버리지 블랜딩으로 점수 보기\n",
    "gboost = GradientBoostingRegressor(max_depth=6, n_estimators=55,max_features=5,learning_rate=0.2,random_state=random_state)\n",
    "xgboost = XGBRegressor(max_depth=7, eta=0.1, random_state=random_state)\n",
    "lightgbm = LGBMRegressor(n_estimators=500, max_depth=10, learning_rate=0.05,\n",
    "                         num_leaves=32, random_state=random_state)\n",
    "\n",
    "models = [{'model':gboost}, {'model':xgboost}, {'model':lightgbm}]\n",
    "\n",
    "# 점수 보기\n",
    "AveragingBlendingGetScore(models, train, y)"
   ]
  },
  {
   "cell_type": "code",
   "execution_count": 67,
   "id": "6df520ef",
   "metadata": {},
   "outputs": [
    {
     "name": "stderr",
     "output_type": "stream",
     "text": [
      "100%|██████████| 3/3 [00:02<00:00,  1.02it/s]\n"
     ]
    },
    {
     "data": {
      "text/html": [
       "<div>\n",
       "<style scoped>\n",
       "    .dataframe tbody tr th:only-of-type {\n",
       "        vertical-align: middle;\n",
       "    }\n",
       "\n",
       "    .dataframe tbody tr th {\n",
       "        vertical-align: top;\n",
       "    }\n",
       "\n",
       "    .dataframe thead th {\n",
       "        text-align: right;\n",
       "    }\n",
       "</style>\n",
       "<table border=\"1\" class=\"dataframe\">\n",
       "  <thead>\n",
       "    <tr style=\"text-align: right;\">\n",
       "      <th></th>\n",
       "      <th>RMSE</th>\n",
       "    </tr>\n",
       "  </thead>\n",
       "  <tbody>\n",
       "    <tr>\n",
       "      <th>XGBRegressor</th>\n",
       "      <td>131733.913453</td>\n",
       "    </tr>\n",
       "    <tr>\n",
       "      <th>LGBMRegressor</th>\n",
       "      <td>121744.079270</td>\n",
       "    </tr>\n",
       "    <tr>\n",
       "      <th>GradientBoostingRegressor</th>\n",
       "      <td>119086.806877</td>\n",
       "    </tr>\n",
       "  </tbody>\n",
       "</table>\n",
       "</div>"
      ],
      "text/plain": [
       "                                    RMSE\n",
       "XGBRegressor               131733.913453\n",
       "LGBMRegressor              121744.079270\n",
       "GradientBoostingRegressor  119086.806877"
      ]
     },
     "execution_count": 67,
     "metadata": {},
     "output_type": "execute_result"
    }
   ],
   "source": [
    "# 여러 모델 한 번에 점수보기\n",
    "gboost = GradientBoostingRegressor(max_depth=6, n_estimators=55,max_features=5,learning_rate=0.2,random_state=random_state)\n",
    "xgboost = XGBRegressor(max_depth=5, eta=0.1, random_state=random_state)\n",
    "lightgbm = LGBMRegressor(n_estimators=500, max_depth=10, learning_rate=0.05,\n",
    "                         num_leaves=32, random_state=random_state)\n",
    "rdforest = RandomForestRegressor(max_depth=10, n_estimators=300,random_state=random_state)\n",
    "\n",
    "models = [gboost, xgboost, lightgbm, rdforest]\n",
    "\n",
    "get_scores(models, train, y)"
   ]
  },
  {
   "cell_type": "code",
   "execution_count": 315,
   "id": "177c4d89",
   "metadata": {},
   "outputs": [
    {
     "name": "stderr",
     "output_type": "stream",
     "text": [
      "100%|██████████| 4/4 [00:34<00:00,  8.56s/it]\n"
     ]
    },
    {
     "name": "stdout",
     "output_type": "stream",
     "text": [
      "6468\n"
     ]
    },
    {
     "data": {
      "text/plain": [
       "array([ 506131.23152961,  471666.36517738, 1360642.38108483, ...,\n",
       "        453949.05627313,  339230.63987576,  436905.84529462])"
      ]
     },
     "execution_count": 315,
     "metadata": {},
     "output_type": "execute_result"
    }
   ],
   "source": [
    "# 에버리지 블랜딩 점수 저장\n",
    "ab_save_submission(model, train, y, test, rmsle='0.160837')"
   ]
  },
  {
   "cell_type": "markdown",
   "id": "095193b8",
   "metadata": {},
   "source": [
    "# 최종 점수"
   ]
  },
  {
   "cell_type": "code",
   "execution_count": 117,
   "id": "4cc9fc35",
   "metadata": {},
   "outputs": [
    {
     "name": "stdout",
     "output_type": "stream",
     "text": [
      "/aiffel/aiffel/kaggle_kakr_housing/data/submission_lgbm_RMSLE_0.160837.csv저장 완료!\n",
      "[CV] END learning_rate=0.05, max_depth=10, n_estimators=100, num_leaves=32; total time=   0.7s\n",
      "[CV] END learning_rate=0.05, max_depth=10, n_estimators=300, num_leaves=32; total time=   2.1s\n",
      "[CV] END learning_rate=0.05, max_depth=10, n_estimators=500, num_leaves=32; total time=   2.7s\n",
      "[CV] END learning_rate=0.1, max_depth=10, n_estimators=100, num_leaves=32; total time=   0.7s\n",
      "[CV] END learning_rate=0.1, max_depth=10, n_estimators=100, num_leaves=32; total time=   0.6s\n",
      "[CV] END learning_rate=0.1, max_depth=10, n_estimators=300, num_leaves=32; total time=   1.6s\n",
      "[CV] END learning_rate=0.1, max_depth=10, n_estimators=500, num_leaves=32; total time=   3.3s\n",
      "[CV] END learning_rate=0.05, max_depth=10, n_estimators=100, num_leaves=64; total time=   1.0s\n",
      "[CV] END learning_rate=0.05, max_depth=10, n_estimators=300, num_leaves=64; total time=   2.3s\n",
      "[CV] END learning_rate=0.05, max_depth=10, n_estimators=500, num_leaves=64; total time=   5.8s\n",
      "[CV] END learning_rate=0.1, max_depth=10, n_estimators=300, num_leaves=64; total time=   2.2s\n",
      "[CV] END learning_rate=0.1, max_depth=10, n_estimators=500, num_leaves=64; total time=   4.0s\n",
      "[CV] END learning_rate=0.05, max_depth=12, n_estimators=300, num_leaves=32; total time=   1.5s\n",
      "[CV] END learning_rate=0.05, max_depth=12, n_estimators=500, num_leaves=32; total time=   3.9s\n",
      "[CV] END learning_rate=0.1, max_depth=12, n_estimators=300, num_leaves=32; total time=   1.4s\n",
      "[CV] END learning_rate=0.1, max_depth=12, n_estimators=500, num_leaves=32; total time=   2.8s\n",
      "[CV] END learning_rate=0.05, max_depth=10, n_estimators=300, num_leaves=32; total time=   2.7s\n",
      "[CV] END learning_rate=0.05, max_depth=10, n_estimators=500, num_leaves=32; total time=   3.0s\n",
      "[CV] END learning_rate=0.1, max_depth=10, n_estimators=300, num_leaves=32; total time=   1.4s\n",
      "[CV] END learning_rate=0.1, max_depth=10, n_estimators=500, num_leaves=32; total time=   2.3s\n",
      "[CV] END learning_rate=0.05, max_depth=10, n_estimators=300, num_leaves=32; total time=   2.0s\n",
      "[CV] END learning_rate=0.05, max_depth=10, n_estimators=300, num_leaves=37; total time=   1.6s\n",
      "[CV] END learning_rate=0.05, max_depth=10, n_estimators=500, num_leaves=32; total time=   3.6s\n",
      "[CV] END learning_rate=0.05, max_depth=10, n_estimators=500, num_leaves=37; total time=   2.6s\n",
      "[CV] END learning_rate=0.05, max_depth=10, n_estimators=500, num_leaves=32; total time=   2.5s\n",
      "[CV] END learning_rate=0.05, max_depth=10, n_estimators=500, num_leaves=42; total time=   3.6s\n",
      "[CV] END learning_rate=0.05, max_depth=10, n_estimators=500, num_leaves=31; total time=   4.3s\n",
      "[CV] END learning_rate=0.05, max_depth=10, n_estimators=500, num_leaves=32; total time=   1.6s\n",
      "[CV] END learning_rate=0.05, max_depth=10, n_estimators=500, num_leaves=33; total time=   3.3s\n",
      "[CV] END learning_rate=0.05, max_depth=10, n_estimators=500, num_leaves=32; total time=   2.5s\n",
      "[CV] END learning_rate=0.05, max_depth=10, n_estimators=500, num_leaves=32; total time=   2.3s\n",
      "[CV] END learning_rate=0.05, max_depth=12, n_estimators=500, num_leaves=32; total time=   2.4s\n",
      "[CV] END learning_rate=0.05, max_depth=10, n_estimators=500, num_leaves=32; total time=   2.4s\n",
      "[CV] END learning_rate=0.07, max_depth=10, n_estimators=500, num_leaves=32; total time=   3.1s\n",
      "[CV] END learning_rate=0.05, max_depth=10, n_estimators=500, num_leaves=32; total time=   2.5s\n",
      "[CV] END learning_rate=0.05, max_depth=10, n_estimators=600, num_leaves=32; total time=   3.0s\n",
      "[CV] END learning_rate=0.05, max_depth=10, n_estimators=600, num_leaves=32; total time=   3.1s\n",
      "[CV] END learning_rate=0.05, max_depth=10, n_estimators=700, num_leaves=32; total time=   4.4s\n",
      "[CV] END learning_rate=0.05, max_depth=10, n_estimators=500, num_leaves=32; total time=   2.5s\n",
      "[CV] END learning_rate=0.05, max_depth=10, n_estimators=100, num_leaves=32; total time=   0.7s\n",
      "[CV] END learning_rate=0.05, max_depth=10, n_estimators=300, num_leaves=32; total time=   1.8s\n",
      "[CV] END learning_rate=0.05, max_depth=10, n_estimators=500, num_leaves=32; total time=   3.4s\n",
      "[CV] END learning_rate=0.1, max_depth=10, n_estimators=100, num_leaves=32; total time=   0.7s\n",
      "[CV] END learning_rate=0.1, max_depth=10, n_estimators=100, num_leaves=32; total time=   0.7s\n",
      "[CV] END learning_rate=0.1, max_depth=10, n_estimators=300, num_leaves=32; total time=   1.4s\n",
      "[CV] END learning_rate=0.1, max_depth=10, n_estimators=500, num_leaves=32; total time=   2.4s\n",
      "[CV] END learning_rate=0.05, max_depth=10, n_estimators=100, num_leaves=64; total time=   0.9s\n",
      "[CV] END learning_rate=0.05, max_depth=10, n_estimators=300, num_leaves=64; total time=   2.2s\n",
      "[CV] END learning_rate=0.05, max_depth=10, n_estimators=500, num_leaves=64; total time=   6.2s\n",
      "[CV] END learning_rate=0.1, max_depth=10, n_estimators=300, num_leaves=64; total time=   3.5s\n",
      "[CV] END learning_rate=0.1, max_depth=10, n_estimators=500, num_leaves=64; total time=   3.3s\n",
      "[CV] END learning_rate=0.05, max_depth=12, n_estimators=300, num_leaves=32; total time=   2.2s\n",
      "[CV] END learning_rate=0.05, max_depth=12, n_estimators=500, num_leaves=32; total time=   2.4s\n",
      "[CV] END learning_rate=0.1, max_depth=12, n_estimators=300, num_leaves=32; total time=   2.5s\n",
      "[CV] END learning_rate=0.1, max_depth=12, n_estimators=500, num_leaves=32; total time=   2.2s\n",
      "[CV] END learning_rate=0.05, max_depth=10, n_estimators=300, num_leaves=32; total time=   2.2s\n",
      "[CV] END learning_rate=0.05, max_depth=10, n_estimators=500, num_leaves=32; total time=   3.1s\n",
      "[CV] END learning_rate=0.1, max_depth=10, n_estimators=300, num_leaves=32; total time=   2.5s\n",
      "[CV] END learning_rate=0.1, max_depth=10, n_estimators=500, num_leaves=32; total time=   2.1s\n",
      "[CV] END learning_rate=0.05, max_depth=10, n_estimators=300, num_leaves=32; total time=   2.3s\n",
      "[CV] END learning_rate=0.05, max_depth=10, n_estimators=300, num_leaves=37; total time=   1.8s\n",
      "[CV] END learning_rate=0.05, max_depth=10, n_estimators=500, num_leaves=32; total time=   2.7s\n",
      "[CV] END learning_rate=0.05, max_depth=10, n_estimators=500, num_leaves=37; total time=   3.7s\n",
      "[CV] END learning_rate=0.05, max_depth=10, n_estimators=500, num_leaves=32; total time=   3.8s\n",
      "[CV] END learning_rate=0.05, max_depth=10, n_estimators=500, num_leaves=42; total time=   2.3s\n",
      "[CV] END learning_rate=0.05, max_depth=10, n_estimators=500, num_leaves=31; total time=   2.4s\n",
      "[CV] END learning_rate=0.05, max_depth=10, n_estimators=500, num_leaves=32; total time=   2.6s\n",
      "[CV] END learning_rate=0.05, max_depth=10, n_estimators=500, num_leaves=33; total time=   2.6s\n",
      "[CV] END learning_rate=0.05, max_depth=10, n_estimators=500, num_leaves=32; total time=   3.6s\n",
      "[CV] END learning_rate=0.05, max_depth=10, n_estimators=500, num_leaves=32; total time=   3.7s\n",
      "[CV] END learning_rate=0.05, max_depth=12, n_estimators=500, num_leaves=32; total time=   2.4s\n",
      "[CV] END learning_rate=0.05, max_depth=10, n_estimators=500, num_leaves=32; total time=   3.5s\n",
      "[CV] END learning_rate=0.07, max_depth=10, n_estimators=500, num_leaves=32; total time=   2.3s\n",
      "[CV] END learning_rate=0.05, max_depth=10, n_estimators=500, num_leaves=32; total time=   2.5s\n",
      "[CV] END learning_rate=0.05, max_depth=10, n_estimators=600, num_leaves=32; total time=   2.9s\n",
      "[CV] END learning_rate=0.05, max_depth=10, n_estimators=600, num_leaves=32; total time=   2.8s\n",
      "[CV] END learning_rate=0.05, max_depth=10, n_estimators=700, num_leaves=32; total time=   3.9s\n",
      "[CV] END learning_rate=0.05, max_depth=10, n_estimators=500, num_leaves=32; total time=   2.5s\n",
      "[CV] END learning_rate=0.05, max_depth=10, n_estimators=100, num_leaves=32; total time=   0.7s\n",
      "[CV] END learning_rate=0.05, max_depth=10, n_estimators=300, num_leaves=32; total time=   1.6s\n",
      "[CV] END learning_rate=0.05, max_depth=10, n_estimators=300, num_leaves=32; total time=   1.5s\n",
      "[CV] END learning_rate=0.05, max_depth=10, n_estimators=500, num_leaves=32; total time=   3.7s\n",
      "[CV] END learning_rate=0.1, max_depth=10, n_estimators=300, num_leaves=32; total time=   1.4s\n",
      "[CV] END learning_rate=0.1, max_depth=10, n_estimators=500, num_leaves=32; total time=   3.1s\n",
      "[CV] END learning_rate=0.05, max_depth=10, n_estimators=100, num_leaves=64; total time=   1.7s\n",
      "[CV] END learning_rate=0.05, max_depth=10, n_estimators=300, num_leaves=64; total time=   2.9s\n",
      "[CV] END learning_rate=0.05, max_depth=10, n_estimators=500, num_leaves=64; total time=   3.9s\n",
      "[CV] END learning_rate=0.1, max_depth=10, n_estimators=100, num_leaves=64; total time=   1.7s\n",
      "[CV] END learning_rate=0.1, max_depth=10, n_estimators=300, num_leaves=64; total time=   2.5s\n",
      "[CV] END learning_rate=0.1, max_depth=10, n_estimators=500, num_leaves=64; total time=   3.2s\n",
      "[CV] END learning_rate=0.05, max_depth=12, n_estimators=300, num_leaves=32; total time=   3.0s\n",
      "[CV] END learning_rate=0.05, max_depth=12, n_estimators=500, num_leaves=32; total time=   2.9s\n",
      "[CV] END learning_rate=0.1, max_depth=12, n_estimators=500, num_leaves=32; total time=   2.2s\n",
      "[CV] END learning_rate=0.05, max_depth=10, n_estimators=300, num_leaves=32; total time=   1.5s\n",
      "[CV] END learning_rate=0.05, max_depth=10, n_estimators=500, num_leaves=32; total time=   2.8s\n",
      "[CV] END learning_rate=0.1, max_depth=10, n_estimators=300, num_leaves=32; total time=   1.4s\n",
      "[CV] END learning_rate=0.1, max_depth=10, n_estimators=300, num_leaves=32; total time=   1.3s\n",
      "[CV] END learning_rate=0.1, max_depth=10, n_estimators=500, num_leaves=32; total time=   2.3s\n",
      "[CV] END learning_rate=0.05, max_depth=10, n_estimators=300, num_leaves=32; total time=   1.8s\n",
      "[CV] END learning_rate=0.05, max_depth=10, n_estimators=300, num_leaves=37; total time=   2.2s\n",
      "[CV] END learning_rate=0.05, max_depth=10, n_estimators=500, num_leaves=32; total time=   2.8s\n",
      "[CV] END learning_rate=0.05, max_depth=10, n_estimators=500, num_leaves=37; total time=   3.6s\n",
      "[CV] END learning_rate=0.05, max_depth=10, n_estimators=500, num_leaves=32; total time=   2.5s\n",
      "[CV] END learning_rate=0.05, max_depth=10, n_estimators=500, num_leaves=42; total time=   3.1s\n",
      "[CV] END learning_rate=0.05, max_depth=10, n_estimators=500, num_leaves=31; total time=   2.3s\n",
      "[CV] END learning_rate=0.05, max_depth=10, n_estimators=500, num_leaves=32; total time=   2.3s\n",
      "[CV] END learning_rate=0.05, max_depth=10, n_estimators=500, num_leaves=33; total time=   3.0s\n",
      "[CV] END learning_rate=0.05, max_depth=10, n_estimators=500, num_leaves=32; total time=   2.7s\n",
      "[CV] END learning_rate=0.05, max_depth=10, n_estimators=500, num_leaves=32; total time=   2.4s\n",
      "[CV] END learning_rate=0.05, max_depth=12, n_estimators=500, num_leaves=32; total time=   3.6s\n",
      "[CV] END learning_rate=0.05, max_depth=10, n_estimators=500, num_leaves=32; total time=   2.5s\n",
      "[CV] END learning_rate=0.07, max_depth=10, n_estimators=500, num_leaves=32; total time=   3.2s\n",
      "[CV] END learning_rate=0.05, max_depth=10, n_estimators=500, num_leaves=32; total time=   2.4s\n",
      "[CV] END learning_rate=0.05, max_depth=10, n_estimators=600, num_leaves=32; total time=   3.9s\n",
      "[CV] END learning_rate=0.05, max_depth=10, n_estimators=600, num_leaves=32; total time=   3.5s\n",
      "[CV] END learning_rate=0.05, max_depth=10, n_estimators=700, num_leaves=32; total time=   3.7s\n",
      "[CV] END learning_rate=0.05, max_depth=10, n_estimators=500, num_leaves=32; total time=   2.8s\n",
      "[CV] END learning_rate=0.05, max_depth=10, n_estimators=100, num_leaves=32; total time=   0.7s\n",
      "[CV] END learning_rate=0.05, max_depth=10, n_estimators=300, num_leaves=32; total time=   1.5s\n",
      "[CV] END learning_rate=0.05, max_depth=10, n_estimators=500, num_leaves=32; total time=   2.6s\n",
      "[CV] END learning_rate=0.1, max_depth=10, n_estimators=100, num_leaves=32; total time=   0.6s\n",
      "[CV] END learning_rate=0.1, max_depth=10, n_estimators=300, num_leaves=32; total time=   2.1s\n",
      "[CV] END learning_rate=0.1, max_depth=10, n_estimators=500, num_leaves=32; total time=   2.4s\n",
      "[CV] END learning_rate=0.05, max_depth=10, n_estimators=100, num_leaves=64; total time=   0.9s\n",
      "[CV] END learning_rate=0.05, max_depth=10, n_estimators=300, num_leaves=64; total time=   2.2s\n",
      "[CV] END learning_rate=0.05, max_depth=10, n_estimators=500, num_leaves=64; total time=   3.7s\n",
      "[CV] END learning_rate=0.1, max_depth=10, n_estimators=100, num_leaves=64; total time=   0.8s\n",
      "[CV] END learning_rate=0.1, max_depth=10, n_estimators=100, num_leaves=64; total time=   0.8s\n",
      "[CV] END learning_rate=0.1, max_depth=10, n_estimators=100, num_leaves=64; total time=   0.8s\n",
      "[CV] END learning_rate=0.1, max_depth=10, n_estimators=300, num_leaves=64; total time=   2.1s\n",
      "[CV] END learning_rate=0.1, max_depth=10, n_estimators=500, num_leaves=64; total time=   4.3s\n",
      "[CV] END learning_rate=0.05, max_depth=12, n_estimators=300, num_leaves=32; total time=   1.5s\n",
      "[CV] END learning_rate=0.05, max_depth=12, n_estimators=500, num_leaves=32; total time=   2.8s\n",
      "[CV] END learning_rate=0.1, max_depth=12, n_estimators=300, num_leaves=32; total time=   1.4s\n",
      "[CV] END learning_rate=0.1, max_depth=12, n_estimators=300, num_leaves=32; total time=   1.5s\n",
      "[CV] END learning_rate=0.1, max_depth=12, n_estimators=500, num_leaves=32; total time=   2.2s\n",
      "[CV] END learning_rate=0.05, max_depth=10, n_estimators=300, num_leaves=32; total time=   1.5s\n",
      "[CV] END learning_rate=0.05, max_depth=10, n_estimators=500, num_leaves=32; total time=   2.7s\n",
      "[CV] END learning_rate=0.1, max_depth=10, n_estimators=300, num_leaves=32; total time=   1.4s\n",
      "[CV] END learning_rate=0.1, max_depth=10, n_estimators=500, num_leaves=32; total time=   2.9s\n",
      "[CV] END learning_rate=0.05, max_depth=10, n_estimators=300, num_leaves=32; total time=   1.7s\n",
      "[CV] END learning_rate=0.05, max_depth=10, n_estimators=300, num_leaves=37; total time=   2.0s\n",
      "[CV] END learning_rate=0.05, max_depth=10, n_estimators=500, num_leaves=32; total time=   2.7s\n",
      "[CV] END learning_rate=0.05, max_depth=10, n_estimators=500, num_leaves=37; total time=   3.7s\n",
      "[CV] END learning_rate=0.05, max_depth=10, n_estimators=500, num_leaves=32; total time=   4.1s\n",
      "[CV] END learning_rate=0.05, max_depth=10, n_estimators=500, num_leaves=42; total time=   2.6s\n",
      "[CV] END learning_rate=0.05, max_depth=10, n_estimators=500, num_leaves=31; total time=   4.6s\n",
      "[CV] END learning_rate=0.05, max_depth=10, n_estimators=500, num_leaves=32; total time=   1.4s\n",
      "[CV] END learning_rate=0.05, max_depth=10, n_estimators=500, num_leaves=33; total time=   3.7s\n",
      "[CV] END learning_rate=0.05, max_depth=10, n_estimators=500, num_leaves=32; total time=   2.4s\n",
      "[CV] END learning_rate=0.05, max_depth=10, n_estimators=500, num_leaves=32; total time=   2.5s\n",
      "[CV] END learning_rate=0.05, max_depth=12, n_estimators=500, num_leaves=32; total time=   3.5s\n",
      "[CV] END learning_rate=0.05, max_depth=10, n_estimators=500, num_leaves=32; total time=   3.0s\n",
      "[CV] END learning_rate=0.07, max_depth=10, n_estimators=500, num_leaves=32; total time=   2.9s\n",
      "[CV] END learning_rate=0.05, max_depth=10, n_estimators=500, num_leaves=32; total time=   4.0s\n",
      "[CV] END learning_rate=0.05, max_depth=10, n_estimators=600, num_leaves=32; total time=   2.5s\n",
      "[CV] END learning_rate=0.05, max_depth=10, n_estimators=600, num_leaves=32; total time=   4.4s\n",
      "[CV] END learning_rate=0.05, max_depth=10, n_estimators=700, num_leaves=32; total time=   3.2s\n",
      "[CV] END learning_rate=0.05, max_depth=10, n_estimators=500, num_leaves=32; total time=   3.0s\n",
      "[CV] END learning_rate=0.05, max_depth=10, n_estimators=100, num_leaves=32; total time=   1.0s\n",
      "[CV] END learning_rate=0.05, max_depth=10, n_estimators=500, num_leaves=32; total time=   4.8s\n",
      "[CV] END learning_rate=0.1, max_depth=10, n_estimators=300, num_leaves=32; total time=   2.2s\n",
      "[CV] END learning_rate=0.1, max_depth=10, n_estimators=500, num_leaves=32; total time=   2.4s\n",
      "[CV] END learning_rate=0.05, max_depth=10, n_estimators=100, num_leaves=64; total time=   1.7s\n",
      "[CV] END learning_rate=0.05, max_depth=10, n_estimators=300, num_leaves=64; total time=   2.8s\n",
      "[CV] END learning_rate=0.05, max_depth=10, n_estimators=500, num_leaves=64; total time=   3.5s\n",
      "[CV] END learning_rate=0.1, max_depth=10, n_estimators=100, num_leaves=64; total time=   1.3s\n",
      "[CV] END learning_rate=0.1, max_depth=10, n_estimators=300, num_leaves=64; total time=   2.1s\n",
      "[CV] END learning_rate=0.1, max_depth=10, n_estimators=500, num_leaves=64; total time=   3.5s\n",
      "[CV] END learning_rate=0.05, max_depth=12, n_estimators=300, num_leaves=32; total time=   1.5s\n",
      "[CV] END learning_rate=0.05, max_depth=12, n_estimators=500, num_leaves=32; total time=   2.4s\n",
      "[CV] END learning_rate=0.1, max_depth=12, n_estimators=300, num_leaves=32; total time=   2.7s\n",
      "[CV] END learning_rate=0.1, max_depth=12, n_estimators=500, num_leaves=32; total time=   2.8s\n",
      "[CV] END learning_rate=0.05, max_depth=10, n_estimators=300, num_leaves=32; total time=   1.9s\n",
      "[CV] END learning_rate=0.05, max_depth=10, n_estimators=500, num_leaves=32; total time=   4.5s\n",
      "[CV] END learning_rate=0.1, max_depth=10, n_estimators=500, num_leaves=32; total time=   2.9s\n",
      "[CV] END learning_rate=0.05, max_depth=10, n_estimators=300, num_leaves=32; total time=   1.9s\n",
      "[CV] END learning_rate=0.05, max_depth=10, n_estimators=300, num_leaves=37; total time=   2.8s\n",
      "[CV] END learning_rate=0.05, max_depth=10, n_estimators=500, num_leaves=32; total time=   3.6s\n",
      "[CV] END learning_rate=0.05, max_depth=10, n_estimators=500, num_leaves=37; total time=   2.4s\n",
      "[CV] END learning_rate=0.05, max_depth=10, n_estimators=500, num_leaves=32; total time=   2.5s\n",
      "[CV] END learning_rate=0.05, max_depth=10, n_estimators=500, num_leaves=42; total time=   3.0s\n",
      "[CV] END learning_rate=0.05, max_depth=10, n_estimators=500, num_leaves=31; total time=   2.5s\n",
      "[CV] END learning_rate=0.05, max_depth=10, n_estimators=500, num_leaves=32; total time=   2.7s\n",
      "[CV] END learning_rate=0.05, max_depth=10, n_estimators=500, num_leaves=33; total time=   2.5s\n",
      "[CV] END learning_rate=0.05, max_depth=10, n_estimators=500, num_leaves=32; total time=   3.6s\n",
      "[CV] END learning_rate=0.05, max_depth=10, n_estimators=500, num_leaves=32; total time=   3.5s\n",
      "[CV] END learning_rate=0.05, max_depth=12, n_estimators=500, num_leaves=32; total time=   2.5s\n",
      "[CV] END learning_rate=0.05, max_depth=10, n_estimators=500, num_leaves=32; total time=   3.7s\n",
      "[CV] END learning_rate=0.07, max_depth=10, n_estimators=500, num_leaves=32; total time=   2.3s\n",
      "[CV] END learning_rate=0.05, max_depth=10, n_estimators=500, num_leaves=32; total time=   4.7s\n",
      "[CV] END learning_rate=0.05, max_depth=10, n_estimators=600, num_leaves=32; total time=   1.9s\n",
      "[CV] END learning_rate=0.05, max_depth=10, n_estimators=600, num_leaves=32; total time=   5.1s\n",
      "[CV] END learning_rate=0.05, max_depth=10, n_estimators=700, num_leaves=32; total time=   2.9s\n",
      "[CV] END learning_rate=0.05, max_depth=10, n_estimators=500, num_leaves=32; total time=   3.0s\n"
     ]
    }
   ],
   "source": [
    "# 한 모델 최종 훈련과 결과 저장 함수\n",
    "model = GradientBoostingRegressor(max_depth=6, n_estimators=55,max_features=5,learning_rate=0.2,random_state=random_state)\n",
    "\n",
    "save_submission(model, train, y, test, 'gboost', rmsle='0.172109')"
   ]
  },
  {
   "cell_type": "markdown",
   "id": "d25da6f2",
   "metadata": {},
   "source": [
    "# 마무리\n",
    "\n",
    "여러 시도를 해봤는데 지금은 스코어를 넘지는 못할 것 같다. 아직 EDA를 어떻게 해야 할지 크게 감이 오지는 않는다. 일단 그리드서치로 하이퍼파라미터 탐색을 위주로 성능을 높혀봤고 에버리지 블랜딩도 이용해봤다. 파라미터 조정으로는 한계가 있고 다른 방향의 조정이 필요해 보인다. 앞으로 배워나가야 할 것 같다. "
   ]
  }
 ],
 "metadata": {
  "kernelspec": {
   "display_name": "Python 3 (ipykernel)",
   "language": "python",
   "name": "python3"
  },
  "language_info": {
   "codemirror_mode": {
    "name": "ipython",
    "version": 3
   },
   "file_extension": ".py",
   "mimetype": "text/x-python",
   "name": "python",
   "nbconvert_exporter": "python",
   "pygments_lexer": "ipython3",
   "version": "3.9.7"
  }
 },
 "nbformat": 4,
 "nbformat_minor": 5
}
