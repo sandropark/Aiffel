{
 "cells": [
  {
   "cell_type": "code",
   "execution_count": 6,
   "id": "25db2b69",
   "metadata": {},
   "outputs": [
    {
     "name": "stdout",
     "output_type": "stream",
     "text": [
      "데이터 크기: 187088\n",
      "Examples:\n",
      " [\"Now I've heard there was a secret chord\", 'That David played, and it pleased the Lord', \"But you don't really care for music, do you?\"]\n"
     ]
    }
   ],
   "source": [
    "import glob\n",
    "import os, re, numpy as np, tensorflow as tf\n",
    "\n",
    "\n",
    "txt_file_path = os.getenv('HOME')+'/aiffel/lyricist/data/lyrics/*'\n",
    "\n",
    "txt_list = glob.glob(txt_file_path)\n",
    "\n",
    "raw_corpus = []\n",
    "\n",
    "# 여러개의 txt 파일을 모두 읽어서 raw_corpus 에 담습니다.\n",
    "for txt_file in txt_list:\n",
    "    with open(txt_file, \"r\") as f:\n",
    "        raw = f.read().splitlines()\n",
    "        raw_corpus.extend(raw)\n",
    "\n",
    "print(\"데이터 크기:\", len(raw_corpus))\n",
    "print(\"Examples:\\n\", raw_corpus[:3])"
   ]
  },
  {
   "cell_type": "code",
   "execution_count": 7,
   "id": "9736a8d2",
   "metadata": {},
   "outputs": [
    {
     "name": "stdout",
     "output_type": "stream",
     "text": [
      "<start> this is sample sentence . <end>\n",
      "[[   2   50    5 ...    0    0    0]\n",
      " [   2   17 2639 ...    0    0    0]\n",
      " [   2   36    7 ...    3    0    0]\n",
      " ...\n",
      " [   2    5  107 ...    0    0    0]\n",
      " [   2  261  200 ...    3    0    0]\n",
      " [   2    7   34 ...    0    0    0]] <keras_preprocessing.text.Tokenizer object at 0x7ff24c4b11f0>\n",
      "[   2   50    5   91  297   65   57    9  969 6042    3    0    0    0\n",
      "    0]\n",
      "[  50    5   91  297   65   57    9  969 6042    3    0    0    0    0\n",
      "    0]\n",
      "Source Train: (128205, 15)\n",
      "Target Train: (128205, 15)\n"
     ]
    }
   ],
   "source": [
    "def preprocess_sentence(sentence):\n",
    "    sentence = sentence.lower().strip()\n",
    "    sentence = re.sub(r\"([?.!,¿])\",r\" \\1 \", sentence)\n",
    "    sentence = re.sub(r'[\" \"]+', \" \", sentence)\n",
    "    sentence = re.sub(r\"[^a-zA-Z?.!,¿]+\", \" \", sentence)\n",
    "    sentence = sentence.strip()\n",
    "    sentence = '<start> ' + sentence + ' <end>'\n",
    "    return sentence\n",
    "\n",
    "print(preprocess_sentence(\"This @_is ;;;sample               sentence.\"))\n",
    "\n",
    "corpus = []\n",
    "\n",
    "for sentence in raw_corpus:\n",
    "    if len(sentence) == 0: continue\n",
    "    if sentence[-1] == \":\": continue\n",
    "\n",
    "    preprocessed_sentence = preprocess_sentence(sentence)\n",
    "    corpus.append(preprocessed_sentence)\n",
    "\n",
    "len(corpus)\n",
    "\n",
    "def tokenize(corpus):\n",
    "    tokenizer = tf.keras.preprocessing.text.Tokenizer(\n",
    "        num_words=12000,     # 12000 단어를 기억\n",
    "        filters=' ',        # 이미 문장을 정제했기 때문에 사용안함.\n",
    "        oov_token=\"<unk>\"   # 12000단어에 포함되지 못하면 <unk>로변환.\n",
    "    )\n",
    "\n",
    "    tokenizer.fit_on_texts(corpus)  # 내부의 단어장 완성\n",
    "    tensor = tokenizer.texts_to_sequences(corpus)   # 텐서로 변환\n",
    "    under = []\n",
    "    for i in range(len(tensor)):\n",
    "        if len(tensor[i]) <= 16:\n",
    "            under.append(tensor[i])\n",
    "    tensor = tf.keras.preprocessing.sequence.pad_sequences(under, padding='post')\n",
    "    \n",
    "    print(tensor,tokenizer)\n",
    "    return tensor, tokenizer\n",
    "\n",
    "tensor, tokenizer = tokenize(corpus)\n",
    "\n",
    "src_input = tensor[:, :-1]\n",
    "tgt_input = tensor[:, 1:]\n",
    "\n",
    "print(src_input[0])\n",
    "print(tgt_input[0])\n",
    "\n",
    "from sklearn.model_selection import train_test_split\n",
    "\n",
    "enc_train, enc_val, dec_train, dec_val = train_test_split(src_input,\n",
    "                                                          tgt_input,                                                          \n",
    "                                                          test_size=0.2,\n",
    "                                                          random_state=42)\n",
    "\n",
    "print(\"Source Train:\", enc_train.shape)\n",
    "print(\"Target Train:\", dec_train.shape)"
   ]
  },
  {
   "cell_type": "code",
   "execution_count": 8,
   "id": "7e247fcf",
   "metadata": {},
   "outputs": [
    {
     "data": {
      "text/plain": [
       "<BatchDataset shapes: ((256, 15), (256, 15)), types: (tf.int32, tf.int32)>"
      ]
     },
     "execution_count": 8,
     "metadata": {},
     "output_type": "execute_result"
    }
   ],
   "source": [
    "BUFFER_SIZE = len(enc_train)\n",
    "BATCH_SIZE = 256\n",
    "steps_per_epoch = len(enc_train) // BATCH_SIZE\n",
    "\n",
    "# tokenizer가 구축한 단어사전 내 7000개와, 여기 포함되지 않은 0:<pad>를 포함하여 7001개\n",
    "VOCAB_SIZE = tokenizer.num_words + 1\n",
    "\n",
    "dataset = tf.data.Dataset.from_tensor_slices((enc_train, dec_train))\n",
    "dataset = dataset.shuffle(BUFFER_SIZE)\n",
    "dataset = dataset.batch(BATCH_SIZE, drop_remainder=True)\n",
    "dataset"
   ]
  },
  {
   "cell_type": "code",
   "execution_count": null,
   "id": "b6d0f62f",
   "metadata": {},
   "outputs": [],
   "source": []
  },
  {
   "cell_type": "code",
   "execution_count": 10,
   "id": "5968f816",
   "metadata": {},
   "outputs": [],
   "source": [
    "class TextGenerator(tf.keras.Model):\n",
    "    def __init__(self, vocab_size, embedding_size, hidden_size):\n",
    "        super().__init__()\n",
    "\n",
    "        self.embedding = tf.keras.layers.Embedding(vocab_size, embedding_size)\n",
    "        self.rnn_1 = tf.keras.layers.LSTM(hidden_size, return_sequences=True)\n",
    "        self.rnn_2 = tf.keras.layers.LSTM(hidden_size, return_sequences=True)\n",
    "        self.linear = tf.keras.layers.Dense(vocab_size)\n",
    "\n",
    "    def call(self, x):\n",
    "        out = self.embedding(x)\n",
    "        out = self.rnn_1(out)\n",
    "        out = self.rnn_2(out)\n",
    "        out = self.linear(out)\n",
    "\n",
    "        return out\n",
    "\n",
    "embedding_size = 256\n",
    "hidden_size = 1024\n",
    "lyricist = TextGenerator(tokenizer.num_words + 1, embedding_size, hidden_size)"
   ]
  },
  {
   "cell_type": "code",
   "execution_count": 14,
   "id": "4f1400c0",
   "metadata": {},
   "outputs": [
    {
     "data": {
      "text/plain": [
       "<tf.Tensor: shape=(256, 15, 12001), dtype=float32, numpy=\n",
       "array([[[ -4.303407  ,   2.8869326 , -11.684994  , ..., -10.487542  ,\n",
       "         -10.768728  , -11.649715  ],\n",
       "        [ -4.8558927 ,   2.0634398 , -13.817428  , ..., -12.42427   ,\n",
       "         -11.137197  , -13.657329  ],\n",
       "        [ -5.376406  ,   1.9988382 , -14.687974  , ..., -13.028472  ,\n",
       "         -12.711949  , -14.561758  ],\n",
       "        ...,\n",
       "        [  9.831456  ,  -5.1378813 , -19.527908  , ..., -27.280989  ,\n",
       "         -41.656193  , -19.31424   ],\n",
       "        [  9.828184  ,  -5.1402173 , -19.537666  , ..., -27.300316  ,\n",
       "         -41.665398  , -19.323847  ],\n",
       "        [  9.824823  ,  -5.141843  , -19.542265  , ..., -27.301754  ,\n",
       "         -41.66736   , -19.32785   ]],\n",
       "\n",
       "       [[ -4.303407  ,   2.8869326 , -11.684994  , ..., -10.487542  ,\n",
       "         -10.768728  , -11.649715  ],\n",
       "        [ -4.3089337 ,   1.4012109 , -14.388656  , ..., -14.429604  ,\n",
       "         -11.546996  , -14.213851  ],\n",
       "        [ -6.1410847 ,   1.3486375 , -16.6927    , ..., -13.798401  ,\n",
       "         -17.679932  , -16.650196  ],\n",
       "        ...,\n",
       "        [  9.918142  ,  -5.3990016 , -19.838657  , ..., -27.304213  ,\n",
       "         -41.42201   , -19.46948   ],\n",
       "        [  9.921043  ,  -5.483982  , -19.859388  , ..., -27.312353  ,\n",
       "         -41.55613   , -19.492096  ],\n",
       "        [  9.90778   ,  -5.509031  , -19.880272  , ..., -27.295046  ,\n",
       "         -41.578735  , -19.514807  ]],\n",
       "\n",
       "       [[ -4.303407  ,   2.8869326 , -11.684994  , ..., -10.487542  ,\n",
       "         -10.768728  , -11.649715  ],\n",
       "        [ -5.096779  ,   0.9393221 , -15.194258  , ..., -13.792063  ,\n",
       "         -14.921826  , -14.986533  ],\n",
       "        [ -6.5432434 ,   1.0777766 , -17.834116  , ..., -14.648767  ,\n",
       "         -20.959118  , -17.957855  ],\n",
       "        ...,\n",
       "        [  9.597869  ,  -5.258815  , -20.415327  , ..., -27.657576  ,\n",
       "         -42.136795  , -20.25731   ],\n",
       "        [  9.66817   ,  -5.2453103 , -20.448595  , ..., -27.915043  ,\n",
       "         -42.41758   , -20.301323  ],\n",
       "        [  9.69409   ,  -5.277066  , -20.427965  , ..., -27.713379  ,\n",
       "         -42.471703  , -20.273298  ]],\n",
       "\n",
       "       ...,\n",
       "\n",
       "       [[ -4.303407  ,   2.8869326 , -11.684994  , ..., -10.487542  ,\n",
       "         -10.768728  , -11.649715  ],\n",
       "        [ -5.68445   ,   2.0816998 , -19.73607   , ..., -12.836136  ,\n",
       "         -18.47385   , -19.557373  ],\n",
       "        [ -7.0562863 ,   2.8543847 , -17.699486  , ..., -11.303831  ,\n",
       "         -18.09071   , -17.721167  ],\n",
       "        ...,\n",
       "        [ -5.254009  ,  -0.24541603, -17.67026   , ..., -22.007078  ,\n",
       "         -28.626629  , -18.003338  ],\n",
       "        [  6.7330427 ,  -4.2136927 , -19.208796  , ..., -25.011974  ,\n",
       "         -40.016857  , -19.379154  ],\n",
       "        [  8.730623  ,  -4.244005  , -19.38804   , ..., -26.31995   ,\n",
       "         -39.902588  , -19.413063  ]],\n",
       "\n",
       "       [[ -4.303407  ,   2.8869326 , -11.684994  , ..., -10.487542  ,\n",
       "         -10.768728  , -11.649715  ],\n",
       "        [ -4.244949  ,   2.6268907 , -14.82667   , ..., -14.921878  ,\n",
       "         -10.957562  , -14.600959  ],\n",
       "        [ -6.3445067 ,   0.44433618, -17.29822   , ..., -19.698893  ,\n",
       "         -19.40196   , -17.2281    ],\n",
       "        ...,\n",
       "        [  8.95471   ,  -4.981368  , -19.060766  , ..., -25.443632  ,\n",
       "         -39.114292  , -18.878332  ],\n",
       "        [  9.88372   ,  -5.53385   , -20.275164  , ..., -28.347658  ,\n",
       "         -41.735786  , -20.06696   ],\n",
       "        [  9.807854  ,  -5.7781734 , -20.530903  , ..., -27.680212  ,\n",
       "         -41.926258  , -20.319927  ]],\n",
       "\n",
       "       [[ -4.303407  ,   2.8869326 , -11.684994  , ..., -10.487542  ,\n",
       "         -10.768728  , -11.649715  ],\n",
       "        [ -4.244949  ,   2.6268907 , -14.82667   , ..., -14.921878  ,\n",
       "         -10.957562  , -14.600959  ],\n",
       "        [ -6.2502584 ,   1.9993603 , -15.344509  , ...,  -8.412344  ,\n",
       "         -18.304276  , -15.243089  ],\n",
       "        ...,\n",
       "        [ -1.6315677 ,   4.408058  , -10.493446  , ..., -12.462374  ,\n",
       "         -11.577029  , -10.497418  ],\n",
       "        [ -3.7719986 ,  -0.6377939 , -16.894247  , ..., -20.811049  ,\n",
       "         -25.415972  , -16.966751  ],\n",
       "        [  7.829356  ,  -4.177241  , -20.529217  , ..., -26.855087  ,\n",
       "         -42.337753  , -20.672466  ]]], dtype=float32)>"
      ]
     },
     "execution_count": 14,
     "metadata": {},
     "output_type": "execute_result"
    }
   ],
   "source": [
    "# 데이터셋에서 데이터 한 배치만 불러오는 방법입니다.\n",
    "# 지금은 동작 원리에 너무 빠져들지 마세요~\n",
    "for src_sample, tgt_sample in dataset.take(1): break\n",
    "\n",
    "# 한 배치만 불러온 데이터를 모델에 넣어봅니다\n",
    "lyricist(src_sample)"
   ]
  },
  {
   "cell_type": "code",
   "execution_count": 15,
   "id": "5c146c78",
   "metadata": {},
   "outputs": [
    {
     "name": "stdout",
     "output_type": "stream",
     "text": [
      "Model: \"text_generator_1\"\n",
      "_________________________________________________________________\n",
      "Layer (type)                 Output Shape              Param #   \n",
      "=================================================================\n",
      "embedding_1 (Embedding)      multiple                  3072256   \n",
      "_________________________________________________________________\n",
      "lstm_2 (LSTM)                multiple                  5246976   \n",
      "_________________________________________________________________\n",
      "lstm_3 (LSTM)                multiple                  8392704   \n",
      "_________________________________________________________________\n",
      "dense_1 (Dense)              multiple                  12301025  \n",
      "=================================================================\n",
      "Total params: 29,012,961\n",
      "Trainable params: 29,012,961\n",
      "Non-trainable params: 0\n",
      "_________________________________________________________________\n"
     ]
    }
   ],
   "source": [
    "lyricist.summary()"
   ]
  },
  {
   "cell_type": "code",
   "execution_count": 11,
   "id": "d7926fa7",
   "metadata": {},
   "outputs": [
    {
     "name": "stdout",
     "output_type": "stream",
     "text": [
      "Epoch 1/10\n",
      "500/500 [==============================] - 96s 179ms/step - loss: 3.3213\n",
      "Epoch 2/10\n",
      "500/500 [==============================] - 91s 181ms/step - loss: 2.8815\n",
      "Epoch 3/10\n",
      "500/500 [==============================] - 91s 182ms/step - loss: 2.7309\n",
      "Epoch 4/10\n",
      "500/500 [==============================] - 91s 181ms/step - loss: 2.6120\n",
      "Epoch 5/10\n",
      "500/500 [==============================] - 90s 181ms/step - loss: 2.5127\n",
      "Epoch 6/10\n",
      "500/500 [==============================] - 90s 180ms/step - loss: 2.4250\n",
      "Epoch 7/10\n",
      "500/500 [==============================] - 91s 181ms/step - loss: 2.3443\n",
      "Epoch 8/10\n",
      "500/500 [==============================] - 91s 181ms/step - loss: 2.2693\n",
      "Epoch 9/10\n",
      "500/500 [==============================] - 91s 182ms/step - loss: 2.1980\n",
      "Epoch 10/10\n",
      "500/500 [==============================] - 91s 182ms/step - loss: 2.1311\n"
     ]
    },
    {
     "data": {
      "text/plain": [
       "<keras.callbacks.History at 0x7ff13c24f970>"
      ]
     },
     "execution_count": 11,
     "metadata": {},
     "output_type": "execute_result"
    }
   ],
   "source": [
    "optimizer = tf.keras.optimizers.Adam()\n",
    "loss = tf.keras.losses.SparseCategoricalCrossentropy(\n",
    "    from_logits=True, reduction='none')\n",
    "\n",
    "lyricist.compile(loss=loss, optimizer=optimizer)\n",
    "lyricist.fit(dataset, epochs=10)"
   ]
  },
  {
   "cell_type": "code",
   "execution_count": 24,
   "id": "417700d6",
   "metadata": {},
   "outputs": [],
   "source": [
    "def generate_text(model, tokenizer, init_sentence=\"<start>\", max_len=20): \n",
    "    test_input = tokenizer.texts_to_sequences([init_sentence]) \n",
    "    test_tensor = tf.convert_to_tensor(test_input, dtype=tf.int64) \n",
    "    end_token = tokenizer.word_index[\"<end>\"] \n",
    "    \n",
    "    while True: \n",
    "        predict = model(test_tensor) \n",
    "        predict_word = tf.argmax(tf.nn.softmax(predict, axis=-1), axis=-1)[:, -1] \n",
    "        test_tensor = tf.concat([test_tensor, tf.expand_dims(predict_word, axis=0)], axis=-1) \n",
    "        if predict_word.numpy()[0] == end_token: break \n",
    "        if test_tensor.shape[1] >= max_len: break \n",
    "    \n",
    "    generated = \"\" \n",
    "            \n",
    "    for word_index in test_tensor[0].numpy(): \n",
    "        generated += tokenizer.index_word[word_index] + \" \" \n",
    "    return generated"
   ]
  },
  {
   "cell_type": "code",
   "execution_count": 25,
   "id": "d8487c83",
   "metadata": {},
   "outputs": [
    {
     "data": {
      "text/plain": [
       "'<start> i love you , i m a motherfucking monster <end> '"
      ]
     },
     "execution_count": 25,
     "metadata": {},
     "output_type": "execute_result"
    }
   ],
   "source": [
    "generate_text(lyricist, tokenizer, init_sentence=\"<start> i love\", max_len=20)"
   ]
  }
 ],
 "metadata": {
  "kernelspec": {
   "display_name": "Python 3 (ipykernel)",
   "language": "python",
   "name": "python3"
  },
  "language_info": {
   "codemirror_mode": {
    "name": "ipython",
    "version": 3
   },
   "file_extension": ".py",
   "mimetype": "text/x-python",
   "name": "python",
   "nbconvert_exporter": "python",
   "pygments_lexer": "ipython3",
   "version": "3.9.7"
  }
 },
 "nbformat": 4,
 "nbformat_minor": 5
}
