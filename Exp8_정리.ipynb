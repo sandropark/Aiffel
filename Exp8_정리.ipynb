{
 "cells": [
  {
   "cell_type": "markdown",
   "id": "312ede18",
   "metadata": {},
   "source": [
    "# 뉴스 요약본 만들기"
   ]
  },
  {
   "cell_type": "markdown",
   "id": "4e8ad468",
   "metadata": {},
   "source": [
    "## 텍스트 요약\n",
    "\n",
    "텍스트요약은 추출적 요약과 추상적 요약으로 나눌 수 있다. \n",
    "\n",
    "- 추출적 요약\n",
    "\n",
    "    원문에서 문장을 추출해서 요약하는 방법. TextRank 알고리즘으로 기사를 가장 잘 나타내는 단어로 이루어진 핵심문장을 잘 뽑아낸다.\n",
    "    \n",
    "   \n",
    "- 추상적 요약\n",
    "\n",
    "    원문의 내용이 요약된 새로운 문장을 생성한다. 자연어 생성이다. "
   ]
  },
  {
   "cell_type": "markdown",
   "id": "9fc82898",
   "metadata": {},
   "source": [
    "seq2seq 모델로 추상적 요약방식의 텍스트 요약기를 만든다. seq2seq는 두 개의 RNN 아키텍쳐를 사용해서 입력 시퀀스로부터 출력 시퀀스를 생성하는 모델이다.\n",
    "\n",
    "원문을 첫 번째 RNN인 인코더로 입력하면 하나의 고정된 벡터로 변환된다. 이 벡터를 컨텍스트 벡터라 한다. 두번째 RNN인 디코더는 컨텍스트 벡터를 받아 한 단어씩 생성해서 요약 문장을 완성한다.\n",
    "\n",
    "인코더/디코더인 RNN을 LSTM으로 사용한다. LSTM과 바닐라 RNN은 차이가 있다. 인코더가 디코더에 전달하는 컨텍스트 벡터에 hidden state h와 cell state c 두 값이 모두 존재해야 한다.  \n",
    "\n",
    "디코더는 시작 토큰 SOS가 입력되면 각 시점 마다 단어를 생성하고 종료 토큰 EOS를 예측 할 때까지 반복한다. 전처리로 시퀀스의 앞,뒤에 시작/종료 토큰을 넣어줘야 한다.\n",
    "\n",
    "어텐션 메커니즘으로 새로운 컨텍스트 벡터 사용\n",
    "\n",
    "기존 seq2seq는 인코더의 마지막 time step의 hidden state를 컨텍스트 벡터로 사용했다. 이 컨텍스트 정보는 이미 입력 시퀀스의 많은 정보가 손실되었다. 어텐션 메커니즘은 인코더의 모든 step의 hidden state의 정보가 컨텍스트 벡터에 전부 반영된다. 인코더에 모든 hidden state가 동일한 비중으로 반영되지는 않고 디코더의 현재 time step의 예측에 인코더의 각 step이 영향을 미치는 가중합으로 계산된다. 컨텍스트 벡터를 구성하기 위한 인코더 hidden state의 가중치 값은 디코더의 현재 스텝에 따라 계속 달라진다. 문장 생성 부위마다 유연하게 바뀌기 때문에 정확한 예측이 가능하다.\n",
    "\n",
    "1. seq2seq를 사용합니다.\n",
    "\n",
    "2. RNN 계열 중 LSTM을 사용하므로 hidden state뿐만 아니라 cell state도 사용해야 합니다.\n",
    "\n",
    "3. 디코더의 예측 시퀀스에는 시작 토큰 SOS와 예측 토큰 EOS를 시퀀스의 앞, 뒤로 붙입니다.\n",
    "\n",
    "4. seq2seq를 구동시키면 디코더는 시작 토큰을 입력받아 예측을 시작합니다.\n",
    "\n",
    "5. seq2seq 기본 모델과 달리, 어텐션 메커니즘을 이용해 인코더의 hidden state의 중요도를 취합한 컨텍스트 벡터를 디코더 스텝별로 계산합니다.\n",
    "\n",
    "6. 계산된 컨텍스트 벡터를 이용해서 디코더는 다음 등장할 단어를 예측합니다."
   ]
  },
  {
   "cell_type": "markdown",
   "id": "30aca2b9",
   "metadata": {},
   "source": [
    "## 1. 데이터 준비\n",
    "\n",
    "케글의 아마존 리뷰 데이터셋을 사용\n",
    "\n",
    "NLTK의 불용어를 사용한다. 불용어는 문자에 자주 등장하지만 의미를 분석,요약하는데는 거의 의미가 없는 단어들이다. "
   ]
  },
  {
   "cell_type": "code",
   "execution_count": 1,
   "id": "79693f96",
   "metadata": {},
   "outputs": [
    {
     "name": "stderr",
     "output_type": "stream",
     "text": [
      "[nltk_data] Downloading package stopwords to /aiffel/nltk_data...\n",
      "[nltk_data]   Package stopwords is already up-to-date!\n"
     ]
    },
    {
     "name": "stdout",
     "output_type": "stream",
     "text": [
      "=3\n"
     ]
    }
   ],
   "source": [
    "import nltk\n",
    "nltk.download('stopwords')\n",
    "\n",
    "import numpy as np\n",
    "import pandas as pd\n",
    "import os\n",
    "import re\n",
    "import matplotlib.pyplot as plt\n",
    "from nltk.corpus import stopwords\n",
    "from bs4 import BeautifulSoup \n",
    "from tensorflow.keras.preprocessing.text import Tokenizer \n",
    "from tensorflow.keras.preprocessing.sequence import pad_sequences\n",
    "import urllib.request\n",
    "import warnings\n",
    "warnings.filterwarnings(\"ignore\", category=UserWarning, module='bs4')\n",
    "\n",
    "print('=3')"
   ]
  },
  {
   "cell_type": "markdown",
   "id": "d365464a",
   "metadata": {},
   "source": [
    "시간상 샘플은 10만개만 사용한다."
   ]
  },
  {
   "cell_type": "code",
   "execution_count": 2,
   "id": "4124f34b",
   "metadata": {},
   "outputs": [
    {
     "name": "stdout",
     "output_type": "stream",
     "text": [
      "전체 샘플수 : 100000\n"
     ]
    }
   ],
   "source": [
    "data = pd.read_csv(os.getenv(\"HOME\")+\"/aiffel/news_summarization/data/Reviews.csv\", nrows=100000)\n",
    "print('전체 샘플수 :', (len(data)))"
   ]
  },
  {
   "cell_type": "code",
   "execution_count": 3,
   "id": "cde648d1",
   "metadata": {},
   "outputs": [
    {
     "data": {
      "text/html": [
       "<div>\n",
       "<style scoped>\n",
       "    .dataframe tbody tr th:only-of-type {\n",
       "        vertical-align: middle;\n",
       "    }\n",
       "\n",
       "    .dataframe tbody tr th {\n",
       "        vertical-align: top;\n",
       "    }\n",
       "\n",
       "    .dataframe thead th {\n",
       "        text-align: right;\n",
       "    }\n",
       "</style>\n",
       "<table border=\"1\" class=\"dataframe\">\n",
       "  <thead>\n",
       "    <tr style=\"text-align: right;\">\n",
       "      <th></th>\n",
       "      <th>Id</th>\n",
       "      <th>ProductId</th>\n",
       "      <th>UserId</th>\n",
       "      <th>ProfileName</th>\n",
       "      <th>HelpfulnessNumerator</th>\n",
       "      <th>HelpfulnessDenominator</th>\n",
       "      <th>Score</th>\n",
       "      <th>Time</th>\n",
       "      <th>Summary</th>\n",
       "      <th>Text</th>\n",
       "    </tr>\n",
       "  </thead>\n",
       "  <tbody>\n",
       "    <tr>\n",
       "      <th>0</th>\n",
       "      <td>1</td>\n",
       "      <td>B001E4KFG0</td>\n",
       "      <td>A3SGXH7AUHU8GW</td>\n",
       "      <td>delmartian</td>\n",
       "      <td>1</td>\n",
       "      <td>1</td>\n",
       "      <td>5</td>\n",
       "      <td>1303862400</td>\n",
       "      <td>Good Quality Dog Food</td>\n",
       "      <td>I have bought several of the Vitality canned d...</td>\n",
       "    </tr>\n",
       "    <tr>\n",
       "      <th>1</th>\n",
       "      <td>2</td>\n",
       "      <td>B00813GRG4</td>\n",
       "      <td>A1D87F6ZCVE5NK</td>\n",
       "      <td>dll pa</td>\n",
       "      <td>0</td>\n",
       "      <td>0</td>\n",
       "      <td>1</td>\n",
       "      <td>1346976000</td>\n",
       "      <td>Not as Advertised</td>\n",
       "      <td>Product arrived labeled as Jumbo Salted Peanut...</td>\n",
       "    </tr>\n",
       "    <tr>\n",
       "      <th>2</th>\n",
       "      <td>3</td>\n",
       "      <td>B000LQOCH0</td>\n",
       "      <td>ABXLMWJIXXAIN</td>\n",
       "      <td>Natalia Corres \"Natalia Corres\"</td>\n",
       "      <td>1</td>\n",
       "      <td>1</td>\n",
       "      <td>4</td>\n",
       "      <td>1219017600</td>\n",
       "      <td>\"Delight\" says it all</td>\n",
       "      <td>This is a confection that has been around a fe...</td>\n",
       "    </tr>\n",
       "    <tr>\n",
       "      <th>3</th>\n",
       "      <td>4</td>\n",
       "      <td>B000UA0QIQ</td>\n",
       "      <td>A395BORC6FGVXV</td>\n",
       "      <td>Karl</td>\n",
       "      <td>3</td>\n",
       "      <td>3</td>\n",
       "      <td>2</td>\n",
       "      <td>1307923200</td>\n",
       "      <td>Cough Medicine</td>\n",
       "      <td>If you are looking for the secret ingredient i...</td>\n",
       "    </tr>\n",
       "    <tr>\n",
       "      <th>4</th>\n",
       "      <td>5</td>\n",
       "      <td>B006K2ZZ7K</td>\n",
       "      <td>A1UQRSCLF8GW1T</td>\n",
       "      <td>Michael D. Bigham \"M. Wassir\"</td>\n",
       "      <td>0</td>\n",
       "      <td>0</td>\n",
       "      <td>5</td>\n",
       "      <td>1350777600</td>\n",
       "      <td>Great taffy</td>\n",
       "      <td>Great taffy at a great price.  There was a wid...</td>\n",
       "    </tr>\n",
       "  </tbody>\n",
       "</table>\n",
       "</div>"
      ],
      "text/plain": [
       "   Id   ProductId          UserId                      ProfileName  \\\n",
       "0   1  B001E4KFG0  A3SGXH7AUHU8GW                       delmartian   \n",
       "1   2  B00813GRG4  A1D87F6ZCVE5NK                           dll pa   \n",
       "2   3  B000LQOCH0   ABXLMWJIXXAIN  Natalia Corres \"Natalia Corres\"   \n",
       "3   4  B000UA0QIQ  A395BORC6FGVXV                             Karl   \n",
       "4   5  B006K2ZZ7K  A1UQRSCLF8GW1T    Michael D. Bigham \"M. Wassir\"   \n",
       "\n",
       "   HelpfulnessNumerator  HelpfulnessDenominator  Score        Time  \\\n",
       "0                     1                       1      5  1303862400   \n",
       "1                     0                       0      1  1346976000   \n",
       "2                     1                       1      4  1219017600   \n",
       "3                     3                       3      2  1307923200   \n",
       "4                     0                       0      5  1350777600   \n",
       "\n",
       "                 Summary                                               Text  \n",
       "0  Good Quality Dog Food  I have bought several of the Vitality canned d...  \n",
       "1      Not as Advertised  Product arrived labeled as Jumbo Salted Peanut...  \n",
       "2  \"Delight\" says it all  This is a confection that has been around a fe...  \n",
       "3         Cough Medicine  If you are looking for the secret ingredient i...  \n",
       "4            Great taffy  Great taffy at a great price.  There was a wid...  "
      ]
     },
     "execution_count": 3,
     "metadata": {},
     "output_type": "execute_result"
    }
   ],
   "source": [
    "data.head()"
   ]
  },
  {
   "cell_type": "code",
   "execution_count": 4,
   "id": "f6bb50b6",
   "metadata": {},
   "outputs": [
    {
     "data": {
      "text/html": [
       "<div>\n",
       "<style scoped>\n",
       "    .dataframe tbody tr th:only-of-type {\n",
       "        vertical-align: middle;\n",
       "    }\n",
       "\n",
       "    .dataframe tbody tr th {\n",
       "        vertical-align: top;\n",
       "    }\n",
       "\n",
       "    .dataframe thead th {\n",
       "        text-align: right;\n",
       "    }\n",
       "</style>\n",
       "<table border=\"1\" class=\"dataframe\">\n",
       "  <thead>\n",
       "    <tr style=\"text-align: right;\">\n",
       "      <th></th>\n",
       "      <th>Text</th>\n",
       "      <th>Summary</th>\n",
       "    </tr>\n",
       "  </thead>\n",
       "  <tbody>\n",
       "    <tr>\n",
       "      <th>58435</th>\n",
       "      <td>We have been trying to get my son to eat fruit...</td>\n",
       "      <td>Perfect for that picky toddler who loves a lit...</td>\n",
       "    </tr>\n",
       "    <tr>\n",
       "      <th>13337</th>\n",
       "      <td>My dogs love them. They swallow them before re...</td>\n",
       "      <td>doggy pill eats</td>\n",
       "    </tr>\n",
       "    <tr>\n",
       "      <th>34869</th>\n",
       "      <td>I'm not usually a green tea fan, but I adore l...</td>\n",
       "      <td>Most Excellent Tea!</td>\n",
       "    </tr>\n",
       "    <tr>\n",
       "      <th>6108</th>\n",
       "      <td>I purchased this product for my goats initiall...</td>\n",
       "      <td>Excellent quality</td>\n",
       "    </tr>\n",
       "    <tr>\n",
       "      <th>97669</th>\n",
       "      <td>I've been drinking 2 cups a day for several mo...</td>\n",
       "      <td>I like the taste!</td>\n",
       "    </tr>\n",
       "    <tr>\n",
       "      <th>48710</th>\n",
       "      <td>My wife and I decided to have a candy bar/tabl...</td>\n",
       "      <td>These were the hit at the wedding!</td>\n",
       "    </tr>\n",
       "    <tr>\n",
       "      <th>28342</th>\n",
       "      <td>Let me start by saying that I love Skittles an...</td>\n",
       "      <td>Not Into Sour Candies...</td>\n",
       "    </tr>\n",
       "    <tr>\n",
       "      <th>38789</th>\n",
       "      <td>From the RiceSelect website (that produces tex...</td>\n",
       "      <td>Not GMO</td>\n",
       "    </tr>\n",
       "    <tr>\n",
       "      <th>46821</th>\n",
       "      <td>Dark chocolate lovers will confirm, at the fir...</td>\n",
       "      <td>Serious chocolate</td>\n",
       "    </tr>\n",
       "    <tr>\n",
       "      <th>92643</th>\n",
       "      <td>I have to write a review in order to get this ...</td>\n",
       "      <td>No Rating, No Comment</td>\n",
       "    </tr>\n",
       "    <tr>\n",
       "      <th>13768</th>\n",
       "      <td>This is a great buy.  We are talking a whole p...</td>\n",
       "      <td>SUPER BUY!  HUGE BAG!</td>\n",
       "    </tr>\n",
       "    <tr>\n",
       "      <th>16357</th>\n",
       "      <td>Do not buy this blend if you prefer dark and b...</td>\n",
       "      <td>Weak, not good.</td>\n",
       "    </tr>\n",
       "    <tr>\n",
       "      <th>11673</th>\n",
       "      <td>After years of being unable to eat butter due ...</td>\n",
       "      <td>Great Dairy Replacement</td>\n",
       "    </tr>\n",
       "    <tr>\n",
       "      <th>42402</th>\n",
       "      <td>I have generally fed Hills Science Diet to my ...</td>\n",
       "      <td>A nice kitten chow, easy on the digestion</td>\n",
       "    </tr>\n",
       "    <tr>\n",
       "      <th>97246</th>\n",
       "      <td>Even our vet could not cure the red bumps on m...</td>\n",
       "      <td>Mostly cured the red bumps on my dog's skin</td>\n",
       "    </tr>\n",
       "  </tbody>\n",
       "</table>\n",
       "</div>"
      ],
      "text/plain": [
       "                                                    Text  \\\n",
       "58435  We have been trying to get my son to eat fruit...   \n",
       "13337  My dogs love them. They swallow them before re...   \n",
       "34869  I'm not usually a green tea fan, but I adore l...   \n",
       "6108   I purchased this product for my goats initiall...   \n",
       "97669  I've been drinking 2 cups a day for several mo...   \n",
       "48710  My wife and I decided to have a candy bar/tabl...   \n",
       "28342  Let me start by saying that I love Skittles an...   \n",
       "38789  From the RiceSelect website (that produces tex...   \n",
       "46821  Dark chocolate lovers will confirm, at the fir...   \n",
       "92643  I have to write a review in order to get this ...   \n",
       "13768  This is a great buy.  We are talking a whole p...   \n",
       "16357  Do not buy this blend if you prefer dark and b...   \n",
       "11673  After years of being unable to eat butter due ...   \n",
       "42402  I have generally fed Hills Science Diet to my ...   \n",
       "97246  Even our vet could not cure the red bumps on m...   \n",
       "\n",
       "                                                 Summary  \n",
       "58435  Perfect for that picky toddler who loves a lit...  \n",
       "13337                                    doggy pill eats  \n",
       "34869                                Most Excellent Tea!  \n",
       "6108                                   Excellent quality  \n",
       "97669                                  I like the taste!  \n",
       "48710                 These were the hit at the wedding!  \n",
       "28342                           Not Into Sour Candies...  \n",
       "38789                                            Not GMO  \n",
       "46821                                  Serious chocolate  \n",
       "92643                              No Rating, No Comment  \n",
       "13768                              SUPER BUY!  HUGE BAG!  \n",
       "16357                                    Weak, not good.  \n",
       "11673                            Great Dairy Replacement  \n",
       "42402          A nice kitten chow, easy on the digestion  \n",
       "97246        Mostly cured the red bumps on my dog's skin  "
      ]
     },
     "execution_count": 4,
     "metadata": {},
     "output_type": "execute_result"
    }
   ],
   "source": [
    "# 열 2개만 남긴다.\n",
    "data = data[['Text','Summary']]\n",
    "data.head()\n",
    "\n",
    "#랜덤한 15개 샘플 출력\n",
    "data.sample(15)"
   ]
  },
  {
   "cell_type": "markdown",
   "id": "e2c76085",
   "metadata": {},
   "source": [
    "Text 시퀀스를 입력 받으면 Summary를 출력하는 모델을 만든다."
   ]
  },
  {
   "cell_type": "markdown",
   "id": "aab70325",
   "metadata": {},
   "source": [
    "## 2. 데이터 전처리"
   ]
  },
  {
   "cell_type": "markdown",
   "id": "a0f429ac",
   "metadata": {},
   "source": [
    "총 10만개의 샘플 중 중복되지 않은 샘플을 확인한다."
   ]
  },
  {
   "cell_type": "code",
   "execution_count": 5,
   "id": "56403215",
   "metadata": {},
   "outputs": [
    {
     "name": "stdout",
     "output_type": "stream",
     "text": [
      "Text 열에서 중복을 배제한 유일한 샘플의 수 : 88426\n",
      "Summary 열에서 중복을 배제한 유일한 샘플의 수 : 72348\n"
     ]
    }
   ],
   "source": [
    "print('Text 열에서 중복을 배제한 유일한 샘플의 수 :', data['Text'].nunique())\n",
    "print('Summary 열에서 중복을 배제한 유일한 샘플의 수 :', data['Summary'].nunique())"
   ]
  },
  {
   "cell_type": "markdown",
   "id": "7a5c0e6d",
   "metadata": {},
   "source": [
    "Text는 달라도 summary는 동일할 수 있다. Text가 같다면 중복데이터이니 제거한다."
   ]
  },
  {
   "cell_type": "code",
   "execution_count": 6,
   "id": "f22dba66",
   "metadata": {},
   "outputs": [
    {
     "name": "stdout",
     "output_type": "stream",
     "text": [
      "전체 샘플수 : 88426\n"
     ]
    }
   ],
   "source": [
    "# inplace=True 를 설정하면 DataFrame 타입 값을 return 하지 않고 data 내부를 직접적으로 바꿉니다\n",
    "data.drop_duplicates(subset = ['Text'], inplace=True)\n",
    "print('전체 샘플수 :', (len(data)))"
   ]
  },
  {
   "cell_type": "markdown",
   "id": "2fe2f21c",
   "metadata": {},
   "source": [
    "drop_duplicates()가 중복된 Null값을 지워주긴 하지만 Null이 하나 남아있을 수 있다. Null을 확인한다."
   ]
  },
  {
   "cell_type": "code",
   "execution_count": 7,
   "id": "9fbd7cbb",
   "metadata": {},
   "outputs": [
    {
     "name": "stdout",
     "output_type": "stream",
     "text": [
      "Text       0\n",
      "Summary    1\n",
      "dtype: int64\n"
     ]
    }
   ],
   "source": [
    "print(data.isnull().sum())"
   ]
  },
  {
   "cell_type": "markdown",
   "id": "6e9c085b",
   "metadata": {},
   "source": [
    "하나 남은 Null값을 지워준다."
   ]
  },
  {
   "cell_type": "code",
   "execution_count": 8,
   "id": "f38bc19e",
   "metadata": {},
   "outputs": [
    {
     "name": "stdout",
     "output_type": "stream",
     "text": [
      "전체 샘플수 : 88425\n"
     ]
    }
   ],
   "source": [
    "data.dropna(axis=0, inplace=True)\n",
    "print('전체 샘플수 :', (len(data)))"
   ]
  },
  {
   "cell_type": "markdown",
   "id": "fe1adeaf",
   "metadata": {},
   "source": [
    "### 텍스트 정규화와 불용어 제거"
   ]
  },
  {
   "cell_type": "markdown",
   "id": "fc9e937e",
   "metadata": {},
   "source": [
    "- 텍스트 정규화\n",
    "\n",
    "    it'll은 it will과 같고 mustn't는 must not과 같다. 두 단어가 같은 뜻이라는 것을 알려줘서 연산량을 줄인다. 사전을 만든다.\n",
    "    \n",
    "   "
   ]
  },
  {
   "cell_type": "code",
   "execution_count": 9,
   "id": "16bd0955",
   "metadata": {
    "scrolled": true
   },
   "outputs": [
    {
     "name": "stdout",
     "output_type": "stream",
     "text": [
      "정규화 사전의 수:  120\n"
     ]
    }
   ],
   "source": [
    "contractions = {\"ain't\": \"is not\", \"aren't\": \"are not\",\"can't\": \"cannot\", \"'cause\": \"because\", \"could've\": \"could have\", \"couldn't\": \"could not\",\n",
    "                           \"didn't\": \"did not\",  \"doesn't\": \"does not\", \"don't\": \"do not\", \"hadn't\": \"had not\", \"hasn't\": \"has not\", \"haven't\": \"have not\",\n",
    "                           \"he'd\": \"he would\",\"he'll\": \"he will\", \"he's\": \"he is\", \"how'd\": \"how did\", \"how'd'y\": \"how do you\", \"how'll\": \"how will\", \"how's\": \"how is\",\n",
    "                           \"I'd\": \"I would\", \"I'd've\": \"I would have\", \"I'll\": \"I will\", \"I'll've\": \"I will have\",\"I'm\": \"I am\", \"I've\": \"I have\", \"i'd\": \"i would\",\n",
    "                           \"i'd've\": \"i would have\", \"i'll\": \"i will\",  \"i'll've\": \"i will have\",\"i'm\": \"i am\", \"i've\": \"i have\", \"isn't\": \"is not\", \"it'd\": \"it would\",\n",
    "                           \"it'd've\": \"it would have\", \"it'll\": \"it will\", \"it'll've\": \"it will have\",\"it's\": \"it is\", \"let's\": \"let us\", \"ma'am\": \"madam\",\n",
    "                           \"mayn't\": \"may not\", \"might've\": \"might have\",\"mightn't\": \"might not\",\"mightn't've\": \"might not have\", \"must've\": \"must have\",\n",
    "                           \"mustn't\": \"must not\", \"mustn't've\": \"must not have\", \"needn't\": \"need not\", \"needn't've\": \"need not have\",\"o'clock\": \"of the clock\",\n",
    "                           \"oughtn't\": \"ought not\", \"oughtn't've\": \"ought not have\", \"shan't\": \"shall not\", \"sha'n't\": \"shall not\", \"shan't've\": \"shall not have\",\n",
    "                           \"she'd\": \"she would\", \"she'd've\": \"she would have\", \"she'll\": \"she will\", \"she'll've\": \"she will have\", \"she's\": \"she is\",\n",
    "                           \"should've\": \"should have\", \"shouldn't\": \"should not\", \"shouldn't've\": \"should not have\", \"so've\": \"so have\",\"so's\": \"so as\",\n",
    "                           \"this's\": \"this is\",\"that'd\": \"that would\", \"that'd've\": \"that would have\", \"that's\": \"that is\", \"there'd\": \"there would\",\n",
    "                           \"there'd've\": \"there would have\", \"there's\": \"there is\", \"here's\": \"here is\",\"they'd\": \"they would\", \"they'd've\": \"they would have\",\n",
    "                           \"they'll\": \"they will\", \"they'll've\": \"they will have\", \"they're\": \"they are\", \"they've\": \"they have\", \"to've\": \"to have\",\n",
    "                           \"wasn't\": \"was not\", \"we'd\": \"we would\", \"we'd've\": \"we would have\", \"we'll\": \"we will\", \"we'll've\": \"we will have\", \"we're\": \"we are\",\n",
    "                           \"we've\": \"we have\", \"weren't\": \"were not\", \"what'll\": \"what will\", \"what'll've\": \"what will have\", \"what're\": \"what are\",\n",
    "                           \"what's\": \"what is\", \"what've\": \"what have\", \"when's\": \"when is\", \"when've\": \"when have\", \"where'd\": \"where did\", \"where's\": \"where is\",\n",
    "                           \"where've\": \"where have\", \"who'll\": \"who will\", \"who'll've\": \"who will have\", \"who's\": \"who is\", \"who've\": \"who have\",\n",
    "                           \"why's\": \"why is\", \"why've\": \"why have\", \"will've\": \"will have\", \"won't\": \"will not\", \"won't've\": \"will not have\",\n",
    "                           \"would've\": \"would have\", \"wouldn't\": \"would not\", \"wouldn't've\": \"would not have\", \"y'all\": \"you all\",\n",
    "                           \"y'all'd\": \"you all would\",\"y'all'd've\": \"you all would have\",\"y'all're\": \"you all are\",\"y'all've\": \"you all have\",\n",
    "                           \"you'd\": \"you would\", \"you'd've\": \"you would have\", \"you'll\": \"you will\", \"you'll've\": \"you will have\",\n",
    "                           \"you're\": \"you are\", \"you've\": \"you have\"}\n",
    "\n",
    "print(\"정규화 사전의 수: \", len(contractions))"
   ]
  },
  {
   "cell_type": "markdown",
   "id": "35e2064c",
   "metadata": {},
   "source": []
  },
  {
   "cell_type": "code",
   "execution_count": 10,
   "id": "7b1e9793",
   "metadata": {},
   "outputs": [
    {
     "name": "stdout",
     "output_type": "stream",
     "text": [
      "불용어 개수 : 179\n",
      "['i', 'me', 'my', 'myself', 'we', 'our', 'ours', 'ourselves', 'you', \"you're\", \"you've\", \"you'll\", \"you'd\", 'your', 'yours', 'yourself', 'yourselves', 'he', 'him', 'his', 'himself', 'she', \"she's\", 'her', 'hers', 'herself', 'it', \"it's\", 'its', 'itself', 'they', 'them', 'their', 'theirs', 'themselves', 'what', 'which', 'who', 'whom', 'this', 'that', \"that'll\", 'these', 'those', 'am', 'is', 'are', 'was', 'were', 'be', 'been', 'being', 'have', 'has', 'had', 'having', 'do', 'does', 'did', 'doing', 'a', 'an', 'the', 'and', 'but', 'if', 'or', 'because', 'as', 'until', 'while', 'of', 'at', 'by', 'for', 'with', 'about', 'against', 'between', 'into', 'through', 'during', 'before', 'after', 'above', 'below', 'to', 'from', 'up', 'down', 'in', 'out', 'on', 'off', 'over', 'under', 'again', 'further', 'then', 'once', 'here', 'there', 'when', 'where', 'why', 'how', 'all', 'any', 'both', 'each', 'few', 'more', 'most', 'other', 'some', 'such', 'no', 'nor', 'not', 'only', 'own', 'same', 'so', 'than', 'too', 'very', 's', 't', 'can', 'will', 'just', 'don', \"don't\", 'should', \"should've\", 'now', 'd', 'll', 'm', 'o', 're', 've', 'y', 'ain', 'aren', \"aren't\", 'couldn', \"couldn't\", 'didn', \"didn't\", 'doesn', \"doesn't\", 'hadn', \"hadn't\", 'hasn', \"hasn't\", 'haven', \"haven't\", 'isn', \"isn't\", 'ma', 'mightn', \"mightn't\", 'mustn', \"mustn't\", 'needn', \"needn't\", 'shan', \"shan't\", 'shouldn', \"shouldn't\", 'wasn', \"wasn't\", 'weren', \"weren't\", 'won', \"won't\", 'wouldn', \"wouldn't\"]\n"
     ]
    }
   ],
   "source": [
    "# 불용어 사전 준비\n",
    "print('불용어 개수 :', len(stopwords.words('english') ))\n",
    "print(stopwords.words('english'))"
   ]
  },
  {
   "cell_type": "markdown",
   "id": "95914043",
   "metadata": {},
   "source": [
    "데이터 전처리 함수를 만들어서 사용한다. 샘플의 Text는 불용어를 제거하고 Summary는 불용어 제거를 하지 않는다. 불용어를 남기는 편이 자연스러운 문장이 되기 때문이다."
   ]
  },
  {
   "cell_type": "code",
   "execution_count": 11,
   "id": "06a999f3",
   "metadata": {},
   "outputs": [
    {
     "name": "stdout",
     "output_type": "stream",
     "text": [
      "=3\n"
     ]
    }
   ],
   "source": [
    "# 데이터 전처리 함수\n",
    "def preprocess_sentence(sentence, remove_stopwords=True):\n",
    "    sentence = sentence.lower() # 텍스트 소문자화\n",
    "    sentence = BeautifulSoup(sentence, \"lxml\").text # <br />, <a href = ...> 등의 html 태그 제거\n",
    "    sentence = re.sub(r'\\([^)]*\\)', '', sentence) # 괄호로 닫힌 문자열 (...) 제거 Ex) my husband (and myself!) for => my husband for\n",
    "    sentence = re.sub('\"','', sentence) # 쌍따옴표 \" 제거\n",
    "    sentence = ' '.join([contractions[t] if t in contractions else t for t in sentence.split(\" \")]) # 약어 정규화\n",
    "    sentence = re.sub(r\"'s\\b\",\"\", sentence) # 소유격 제거. Ex) roland's -> roland\n",
    "    sentence = re.sub(\"[^a-zA-Z]\", \" \", sentence) # 영어 외 문자(숫자, 특수문자 등) 공백으로 변환\n",
    "    sentence = re.sub('[m]{2,}', 'mm', sentence) # m이 3개 이상이면 2개로 변경. Ex) ummmmmmm yeah -> umm yeah\n",
    "    \n",
    "    # 불용어 제거 (Text)\n",
    "    if remove_stopwords:\n",
    "        tokens = ' '.join(word for word in sentence.split() if not word in stopwords.words('english') if len(word) > 1)\n",
    "    # 불용어 미제거 (Summary)\n",
    "    else:\n",
    "        tokens = ' '.join(word for word in sentence.split() if len(word) > 1)\n",
    "    return tokens\n",
    "print('=3')"
   ]
  },
  {
   "cell_type": "markdown",
   "id": "b6c14d44",
   "metadata": {},
   "source": [
    "전처리 전,후 결과 확인을 위해 임의의 샘플을 만들어서 테스트해본다."
   ]
  },
  {
   "cell_type": "code",
   "execution_count": 12,
   "id": "8bff42cb",
   "metadata": {},
   "outputs": [
    {
     "name": "stdout",
     "output_type": "stream",
     "text": [
      "text:  everything bought great infact ordered twice third ordered wasfor mother father\n",
      "summary: great way to start the day\n"
     ]
    }
   ],
   "source": [
    "temp_text = 'Everything I bought was great, infact I ordered twice and the third ordered was<br />for my mother and father.'\n",
    "temp_summary = 'Great way to start (or finish) the day!!!'\n",
    "\n",
    "print(\"text: \", preprocess_sentence(temp_text))\n",
    "print(\"summary:\", preprocess_sentence(temp_summary, False))  # 불용어를 제거하지 않습니다."
   ]
  },
  {
   "cell_type": "markdown",
   "id": "df048e75",
   "metadata": {},
   "source": [
    "함수의 작동을 확인했으니 실제 데이터를 전처리한다. 불용어 처리때문에 Text와 Summary를 따로 전처리해야 한다. "
   ]
  },
  {
   "cell_type": "code",
   "execution_count": 13,
   "id": "58aec00a",
   "metadata": {},
   "outputs": [
    {
     "name": "stdout",
     "output_type": "stream",
     "text": [
      "Text 전처리 후 결과:  ['bought several vitality canned dog food products found good quality product looks like stew processed meat smells better labrador finicky appreciates product better', 'product arrived labeled jumbo salted peanuts peanuts actually small sized unsalted sure error vendor intended represent product jumbo', 'confection around centuries light pillowy citrus gelatin nuts case filberts cut tiny squares liberally coated powdered sugar tiny mouthful heaven chewy flavorful highly recommend yummy treat familiar story lewis lion witch wardrobe treat seduces edmund selling brother sisters witch', 'looking secret ingredient robitussin believe found got addition root beer extract ordered made cherry soda flavor medicinal', 'great taffy great price wide assortment yummy taffy delivery quick taffy lover deal']\n"
     ]
    }
   ],
   "source": [
    "clean_text = []\n",
    "# 전체 Text 데이터에 대한 전처리 : 10분 이상 시간이 걸릴 수 있습니다. \n",
    "for s in data['Text']:\n",
    "    clean_text.append(preprocess_sentence(s))\n",
    "\n",
    "# 전처리 후 출력\n",
    "print(\"Text 전처리 후 결과: \", clean_text[:5])"
   ]
  },
  {
   "cell_type": "markdown",
   "id": "90e89619",
   "metadata": {},
   "source": [
    "불용어 제거를 안하기 위해서 False를 넣었다."
   ]
  },
  {
   "cell_type": "code",
   "execution_count": 14,
   "id": "a2f69425",
   "metadata": {},
   "outputs": [
    {
     "name": "stdout",
     "output_type": "stream",
     "text": [
      "Summary 전처리 후 결과:  ['good quality dog food', 'not as advertised', 'delight says it all', 'cough medicine', 'great taffy']\n"
     ]
    }
   ],
   "source": [
    "clean_summary = []\n",
    "# 전체 Summary 데이터에 대한 전처리 : 5분 이상 시간이 걸릴 수 있습니다. \n",
    "for s in data['Summary']:\n",
    "    clean_summary.append(preprocess_sentence(s, False))\n",
    "\n",
    "print(\"Summary 전처리 후 결과: \", clean_summary[:5])"
   ]
  },
  {
   "cell_type": "markdown",
   "id": "2aae50b0",
   "metadata": {},
   "source": [
    "전처리가 끝난 후 다시 한 번 빈 샘플이 생겼는지 확인해본다. 빈 값을 Null로 대체한다."
   ]
  },
  {
   "cell_type": "code",
   "execution_count": 15,
   "id": "bbff66c7",
   "metadata": {},
   "outputs": [
    {
     "name": "stdout",
     "output_type": "stream",
     "text": [
      "=3\n"
     ]
    }
   ],
   "source": [
    "data['Text'] = clean_text\n",
    "data['Summary'] = clean_summary\n",
    "\n",
    "# 빈 값을 Null 값으로 변환\n",
    "data.replace('', np.nan, inplace=True)\n",
    "print('=3')"
   ]
  },
  {
   "cell_type": "code",
   "execution_count": 16,
   "id": "7a5d8c1a",
   "metadata": {},
   "outputs": [
    {
     "data": {
      "text/plain": [
       "Text        0\n",
       "Summary    70\n",
       "dtype: int64"
      ]
     },
     "execution_count": 16,
     "metadata": {},
     "output_type": "execute_result"
    }
   ],
   "source": [
    "data.isnull().sum()"
   ]
  },
  {
   "cell_type": "code",
   "execution_count": 17,
   "id": "5d7b3643",
   "metadata": {},
   "outputs": [
    {
     "name": "stdout",
     "output_type": "stream",
     "text": [
      "전체 샘플수 : 88355\n"
     ]
    }
   ],
   "source": [
    "data.dropna(axis=0, inplace=True)\n",
    "print(\"전체 샘플수 :\", len(data))"
   ]
  },
  {
   "cell_type": "markdown",
   "id": "15658ccb",
   "metadata": {},
   "source": [
    "최종적으로 데이터 전처리가 끝났다."
   ]
  },
  {
   "cell_type": "markdown",
   "id": "9c9b33be",
   "metadata": {},
   "source": [
    "## 3. 훈련/테스트 셋 나누기"
   ]
  },
  {
   "cell_type": "markdown",
   "id": "897d34f0",
   "metadata": {},
   "source": [
    "### 샘플 최대 길이 정하기"
   ]
  },
  {
   "cell_type": "code",
   "execution_count": 18,
   "id": "b74b3c89",
   "metadata": {
    "scrolled": false
   },
   "outputs": [
    {
     "name": "stdout",
     "output_type": "stream",
     "text": [
      "텍스트의 최소 길이 : 2\n",
      "텍스트의 최대 길이 : 1235\n",
      "텍스트의 평균 길이 : 38.792428272310566\n",
      "요약의 최소 길이 : 1\n",
      "요약의 최대 길이 : 28\n",
      "요약의 평균 길이 : 4.010729443721352\n"
     ]
    },
    {
     "data": {
      "image/png": "[encoded data removed]",
      "text/plain": [
       "<Figure size 432x288 with 2 Axes>"
      ]
     },
     "metadata": {
      "needs_background": "light"
     },
     "output_type": "display_data"
    },
    {
     "data": {
      "image/png": "[encoded data removed]",
      "text/plain": [
       "<Figure size 432x288 with 1 Axes>"
      ]
     },
     "metadata": {
      "needs_background": "light"
     },
     "output_type": "display_data"
    },
    {
     "data": {
      "image/png": "[encoded data removed]",
      "text/plain": [
       "<Figure size 432x288 with 1 Axes>"
      ]
     },
     "metadata": {
      "needs_background": "light"
     },
     "output_type": "display_data"
    }
   ],
   "source": [
    "# 길이 분포 출력\n",
    "import matplotlib.pyplot as plt\n",
    "\n",
    "# 각 문장을 단어로 잘라서 갯수를 센다.\n",
    "text_len = [len(s.split()) for s in data['Text']]\n",
    "summary_len = [len(s.split()) for s in data['Summary']]\n",
    "\n",
    "print('텍스트의 최소 길이 : {}'.format(np.min(text_len)))\n",
    "print('텍스트의 최대 길이 : {}'.format(np.max(text_len)))\n",
    "print('텍스트의 평균 길이 : {}'.format(np.mean(text_len)))\n",
    "print('요약의 최소 길이 : {}'.format(np.min(summary_len)))\n",
    "print('요약의 최대 길이 : {}'.format(np.max(summary_len)))\n",
    "print('요약의 평균 길이 : {}'.format(np.mean(summary_len)))\n",
    "\n",
    "plt.subplot(1,2,1)\n",
    "plt.boxplot(text_len)\n",
    "plt.title('Text')\n",
    "plt.subplot(1,2,2)\n",
    "plt.boxplot(summary_len)\n",
    "plt.title('Summary')\n",
    "plt.tight_layout()\n",
    "plt.show()\n",
    "\n",
    "plt.title('Text')\n",
    "plt.hist(text_len, bins = 40)\n",
    "plt.xlabel('length of samples')\n",
    "plt.ylabel('number of samples')\n",
    "plt.show()\n",
    "\n",
    "plt.title('Summary')\n",
    "plt.hist(summary_len, bins = 40)\n",
    "plt.xlabel('length of samples')\n",
    "plt.ylabel('number of samples')\n",
    "plt.show()"
   ]
  },
  {
   "cell_type": "markdown",
   "id": "2b186b8c",
   "metadata": {},
   "source": [
    "각 컬럼의 길이 분포를 확인하고 최대길이를 정한다."
   ]
  },
  {
   "cell_type": "code",
   "execution_count": 19,
   "id": "26df8076",
   "metadata": {},
   "outputs": [
    {
     "name": "stdout",
     "output_type": "stream",
     "text": [
      "=3\n"
     ]
    }
   ],
   "source": [
    "text_max_len = 50\n",
    "summary_max_len = 8\n",
    "print('=3')"
   ]
  },
  {
   "cell_type": "markdown",
   "id": "a1dfd077",
   "metadata": {},
   "source": [
    "지정한 최대길이안에 얼마나 많은 샘플이 들어있는지 함수를 만들어 확인한다."
   ]
  },
  {
   "cell_type": "code",
   "execution_count": 20,
   "id": "e9108cd5",
   "metadata": {},
   "outputs": [],
   "source": [
    "def below_threshold_len(max_len, nested_list):\n",
    "    cnt=0\n",
    "    for s in nested_list:\n",
    "        if((len(s.split()) <= max_len)):\n",
    "            cnt += 1\n",
    "    print(\"전체 샘플 중 길이가 %s 이하인 샘플의 비율: %s\"%(max_len, cnt / len(nested_list)))"
   ]
  },
  {
   "cell_type": "code",
   "execution_count": 21,
   "id": "e37788cf",
   "metadata": {},
   "outputs": [
    {
     "name": "stdout",
     "output_type": "stream",
     "text": [
      "전체 샘플 중 길이가 50 이하인 샘플의 비율: 0.7745119121724859\n",
      "전체 샘플 중 길이가 8 이하인 샘플의 비율: 0.9424593967517402\n"
     ]
    }
   ],
   "source": [
    "below_threshold_len(text_max_len, data['Text'])\n",
    "below_threshold_len(summary_max_len, data['Summary'])"
   ]
  },
  {
   "cell_type": "markdown",
   "id": "414198bb",
   "metadata": {},
   "source": [
    "최대 길이로 패딩을 하면 해당 길이보다 긴 샘플은 내용이 잘린다. 그래서 내용을 자르는 게 아니라 정해진 길이보다 길면 샘플을 제외시키는 방식으로 데이터를 정제한다."
   ]
  },
  {
   "cell_type": "code",
   "execution_count": 22,
   "id": "ac2df690",
   "metadata": {},
   "outputs": [
    {
     "name": "stdout",
     "output_type": "stream",
     "text": [
      "전체 샘플수 : 65818\n"
     ]
    }
   ],
   "source": [
    "data = data[data['Text'].apply(lambda x: len(x.split()) <= text_max_len)]\n",
    "data = data[data['Summary'].apply(lambda x: len(x.split()) <= summary_max_len)]\n",
    "print(\"전체 샘플수 :\", (len(data)))"
   ]
  },
  {
   "cell_type": "markdown",
   "id": "868d97bf",
   "metadata": {},
   "source": [
    "### 시작 토큰과 종료 토큰 추가하기"
   ]
  },
  {
   "cell_type": "markdown",
   "id": "2d454b21",
   "metadata": {},
   "source": [
    "요약데이터에 시작토큰/종료토큰을 붙인 열을 각각 생성한다. "
   ]
  },
  {
   "cell_type": "code",
   "execution_count": 23,
   "id": "9de5ae52",
   "metadata": {},
   "outputs": [
    {
     "data": {
      "text/html": [
       "<div>\n",
       "<style scoped>\n",
       "    .dataframe tbody tr th:only-of-type {\n",
       "        vertical-align: middle;\n",
       "    }\n",
       "\n",
       "    .dataframe tbody tr th {\n",
       "        vertical-align: top;\n",
       "    }\n",
       "\n",
       "    .dataframe thead th {\n",
       "        text-align: right;\n",
       "    }\n",
       "</style>\n",
       "<table border=\"1\" class=\"dataframe\">\n",
       "  <thead>\n",
       "    <tr style=\"text-align: right;\">\n",
       "      <th></th>\n",
       "      <th>Text</th>\n",
       "      <th>Summary</th>\n",
       "      <th>decoder_input</th>\n",
       "      <th>decoder_target</th>\n",
       "    </tr>\n",
       "  </thead>\n",
       "  <tbody>\n",
       "    <tr>\n",
       "      <th>0</th>\n",
       "      <td>bought several vitality canned dog food produc...</td>\n",
       "      <td>good quality dog food</td>\n",
       "      <td>sostoken good quality dog food</td>\n",
       "      <td>good quality dog food eostoken</td>\n",
       "    </tr>\n",
       "    <tr>\n",
       "      <th>1</th>\n",
       "      <td>product arrived labeled jumbo salted peanuts p...</td>\n",
       "      <td>not as advertised</td>\n",
       "      <td>sostoken not as advertised</td>\n",
       "      <td>not as advertised eostoken</td>\n",
       "    </tr>\n",
       "    <tr>\n",
       "      <th>2</th>\n",
       "      <td>confection around centuries light pillowy citr...</td>\n",
       "      <td>delight says it all</td>\n",
       "      <td>sostoken delight says it all</td>\n",
       "      <td>delight says it all eostoken</td>\n",
       "    </tr>\n",
       "    <tr>\n",
       "      <th>3</th>\n",
       "      <td>looking secret ingredient robitussin believe f...</td>\n",
       "      <td>cough medicine</td>\n",
       "      <td>sostoken cough medicine</td>\n",
       "      <td>cough medicine eostoken</td>\n",
       "    </tr>\n",
       "    <tr>\n",
       "      <th>4</th>\n",
       "      <td>great taffy great price wide assortment yummy ...</td>\n",
       "      <td>great taffy</td>\n",
       "      <td>sostoken great taffy</td>\n",
       "      <td>great taffy eostoken</td>\n",
       "    </tr>\n",
       "  </tbody>\n",
       "</table>\n",
       "</div>"
      ],
      "text/plain": [
       "                                                Text                Summary  \\\n",
       "0  bought several vitality canned dog food produc...  good quality dog food   \n",
       "1  product arrived labeled jumbo salted peanuts p...      not as advertised   \n",
       "2  confection around centuries light pillowy citr...    delight says it all   \n",
       "3  looking secret ingredient robitussin believe f...         cough medicine   \n",
       "4  great taffy great price wide assortment yummy ...            great taffy   \n",
       "\n",
       "                    decoder_input                  decoder_target  \n",
       "0  sostoken good quality dog food  good quality dog food eostoken  \n",
       "1      sostoken not as advertised      not as advertised eostoken  \n",
       "2    sostoken delight says it all    delight says it all eostoken  \n",
       "3         sostoken cough medicine         cough medicine eostoken  \n",
       "4            sostoken great taffy            great taffy eostoken  "
      ]
     },
     "execution_count": 23,
     "metadata": {},
     "output_type": "execute_result"
    }
   ],
   "source": [
    "# 요약 데이터에는 시작 토큰과 종료 토큰을 추가한다.\n",
    "data['decoder_input'] = data['Summary'].apply(lambda x: 'sostoken '+ x)\n",
    "data['decoder_target'] = data['Summary'].apply(lambda x: x + ' eostoken')\n",
    "data.head()"
   ]
  },
  {
   "cell_type": "markdown",
   "id": "97508da1",
   "metadata": {},
   "source": [
    "이렇게 만든 데이터를 넘파이 배열로 만든다."
   ]
  },
  {
   "cell_type": "code",
   "execution_count": 24,
   "id": "5eadca3c",
   "metadata": {},
   "outputs": [],
   "source": [
    "encoder_input = np.array(data['Text']) # 인코더의 입력\n",
    "decoder_input = np.array(data['decoder_input']) # 디코더의 입력\n",
    "decoder_target = np.array(data['decoder_target']) # 디코더의 레이블"
   ]
  },
  {
   "cell_type": "markdown",
   "id": "77b57735",
   "metadata": {},
   "source": [
    "### 훈련/테스트 셋 분리\n",
    "\n",
    "패키지를 사용하지 않고 직접 분리해본다."
   ]
  },
  {
   "cell_type": "markdown",
   "id": "0895dee4",
   "metadata": {},
   "source": [
    "우선 encoder_input과 크기와 형태가 같고 순서가 섞인 정수 시퀀스를 생성한다."
   ]
  },
  {
   "cell_type": "code",
   "execution_count": 25,
   "id": "7b79fd7a",
   "metadata": {},
   "outputs": [
    {
     "name": "stdout",
     "output_type": "stream",
     "text": [
      "[62650 63946 37847 ... 56792 31683 25135]\n"
     ]
    }
   ],
   "source": [
    "indices = np.arange(encoder_input.shape[0])\n",
    "np.random.shuffle(indices)\n",
    "print(indices)"
   ]
  },
  {
   "cell_type": "markdown",
   "id": "58fbea47",
   "metadata": {},
   "source": [
    "이 정수 시퀀스를 이용해서 샘플 순서를 정의하면 샘플이 잘 섞이게 된다."
   ]
  },
  {
   "cell_type": "code",
   "execution_count": 26,
   "id": "e4eafee2",
   "metadata": {},
   "outputs": [
    {
     "name": "stdout",
     "output_type": "stream",
     "text": [
      "잘 섞었다!\n"
     ]
    }
   ],
   "source": [
    "encoder_input = encoder_input[indices]\n",
    "decoder_input = decoder_input[indices]\n",
    "decoder_target = decoder_target[indices]\n",
    "print(\"잘 섞었다!\")"
   ]
  },
  {
   "cell_type": "markdown",
   "id": "91853c1b",
   "metadata": {},
   "source": [
    "이제 섞인 데이터를 8:2 비율로 훈련/테스트 셋을 분리한다. 전체 크기에서 0.2를 곱해서 테스트 데이터 크기를 정한다."
   ]
  },
  {
   "cell_type": "code",
   "execution_count": 27,
   "id": "93372aaf",
   "metadata": {},
   "outputs": [
    {
     "name": "stdout",
     "output_type": "stream",
     "text": [
      "테스트 셋의 수 : 13163\n"
     ]
    }
   ],
   "source": [
    "n_of_val = int(len(encoder_input)*0.2)\n",
    "print(\"테스트 셋의 수 :\", n_of_val)"
   ]
  },
  {
   "cell_type": "markdown",
   "id": "65b900e8",
   "metadata": {},
   "source": [
    "전체 데이터를 분할한다."
   ]
  },
  {
   "cell_type": "code",
   "execution_count": 28,
   "id": "27af17ea",
   "metadata": {},
   "outputs": [
    {
     "name": "stdout",
     "output_type": "stream",
     "text": [
      "훈련 데이터의 개수 : 52655\n",
      "훈련 레이블의 개수 : 52655\n",
      "테스트 데이터의 개수 : 13163\n",
      "테스트 레이블의 개수 : 13163\n"
     ]
    }
   ],
   "source": [
    "encoder_input_train = encoder_input[:-n_of_val]\n",
    "decoder_input_train = decoder_input[:-n_of_val]\n",
    "decoder_target_train = decoder_target[:-n_of_val]\n",
    "\n",
    "encoder_input_test = encoder_input[-n_of_val:]\n",
    "decoder_input_test = decoder_input[-n_of_val:]\n",
    "decoder_target_test = decoder_target[-n_of_val:]\n",
    "\n",
    "print('훈련 데이터의 개수 :', len(encoder_input_train))\n",
    "print('훈련 레이블의 개수 :', len(decoder_input_train))\n",
    "print('테스트 데이터의 개수 :', len(encoder_input_test))\n",
    "print('테스트 레이블의 개수 :', len(decoder_input_test))"
   ]
  },
  {
   "cell_type": "code",
   "execution_count": 29,
   "id": "2ddaae0e",
   "metadata": {},
   "outputs": [
    {
     "data": {
      "text/plain": [
       "([1, 2, 3, 4], [5, 6, 7, 8, 9])"
      ]
     },
     "execution_count": 29,
     "metadata": {},
     "output_type": "execute_result"
    }
   ],
   "source": [
    "a = [1,2,3,4,5,6,7,8,9]\n",
    "b = a[:-5]\n",
    "c = a[-5:]\n",
    "b,c"
   ]
  },
  {
   "cell_type": "markdown",
   "id": "f9de3aba",
   "metadata": {},
   "source": [
    "## 4. 정수 인코딩"
   ]
  },
  {
   "cell_type": "markdown",
   "id": "59df653f",
   "metadata": {},
   "source": [
    "컴퓨터가 텍스트를 숫자로 처리할 수 있도록 훈련/테스트 데이터의 단어를 모두 정수로 바꿔야 한다. 각 단어에 고유한 정수를 맵핑한다. 이 과정이 단어집합 만들기다. "
   ]
  },
  {
   "cell_type": "code",
   "execution_count": 30,
   "id": "5ecde417",
   "metadata": {},
   "outputs": [],
   "source": [
    "src_tokenizer = Tokenizer() # 토크나이저 정의\n",
    "src_tokenizer.fit_on_texts(encoder_input_train) # 입력된 데이터로부터 단어 집합 생성"
   ]
  },
  {
   "cell_type": "code",
   "execution_count": 31,
   "id": "830f403b",
   "metadata": {},
   "outputs": [
    {
     "data": {
      "text/plain": [
       "{'like': 1,\n",
       " 'good': 2,\n",
       " 'great': 3,\n",
       " 'taste': 4,\n",
       " 'product': 5,\n",
       " 'love': 6,\n",
       " 'one': 7,\n",
       " 'coffee': 8,\n",
       " 'flavor': 9,\n",
       " 'would': 10,\n",
       " 'tea': 11,\n",
       " 'really': 12,\n",
       " 'get': 13,\n",
       " 'amazon': 14,\n",
       " 'best': 15,\n",
       " 'price': 16,\n",
       " 'buy': 17,\n",
       " 'much': 18,\n",
       " 'food': 19,\n",
       " 'time': 20,\n",
       " 'little': 21,\n",
       " 'find': 22,\n",
       " 'use': 23,\n",
       " 'tried': 24,\n",
       " 'better': 25,\n",
       " 'well': 26,\n",
       " 'also': 27,\n",
       " 'chocolate': 28,\n",
       " 'make': 29,\n",
       " 'try': 30,\n",
       " 'dog': 31,\n",
       " 'eat': 32,\n",
       " 'even': 33,\n",
       " 'bought': 34,\n",
       " 'delicious': 35,\n",
       " 'found': 36,\n",
       " 'order': 37,\n",
       " 'could': 38,\n",
       " 'sweet': 39,\n",
       " 'cup': 40,\n",
       " 'tastes': 41,\n",
       " 'drink': 42,\n",
       " 'recommend': 43,\n",
       " 'used': 44,\n",
       " 'bag': 45,\n",
       " 'loves': 46,\n",
       " 'cannot': 47,\n",
       " 'favorite': 48,\n",
       " 'sugar': 49,\n",
       " 'first': 50,\n",
       " 'store': 51,\n",
       " 'nice': 52,\n",
       " 'free': 53,\n",
       " 'way': 54,\n",
       " 'made': 55,\n",
       " 'box': 56,\n",
       " 'go': 57,\n",
       " 'got': 58,\n",
       " 'perfect': 59,\n",
       " 'dogs': 60,\n",
       " 'easy': 61,\n",
       " 'think': 62,\n",
       " 'since': 63,\n",
       " 'ordered': 64,\n",
       " 'day': 65,\n",
       " 'give': 66,\n",
       " 'water': 67,\n",
       " 'mix': 68,\n",
       " 'bit': 69,\n",
       " 'snack': 70,\n",
       " 'ever': 71,\n",
       " 'hot': 72,\n",
       " 'flavors': 73,\n",
       " 'many': 74,\n",
       " 'two': 75,\n",
       " 'still': 76,\n",
       " 'every': 77,\n",
       " 'never': 78,\n",
       " 'makes': 79,\n",
       " 'stuff': 80,\n",
       " 'always': 81,\n",
       " 'treats': 82,\n",
       " 'know': 83,\n",
       " 'brand': 84,\n",
       " 'without': 85,\n",
       " 'quality': 86,\n",
       " 'right': 87,\n",
       " 'healthy': 88,\n",
       " 'want': 89,\n",
       " 'fresh': 90,\n",
       " 'years': 91,\n",
       " 'definitely': 92,\n",
       " 'strong': 93,\n",
       " 'tasty': 94,\n",
       " 'lot': 95,\n",
       " 'keep': 96,\n",
       " 'buying': 97,\n",
       " 'something': 98,\n",
       " 'hard': 99,\n",
       " 'add': 100,\n",
       " 'small': 101,\n",
       " 'enjoy': 102,\n",
       " 'old': 103,\n",
       " 'happy': 104,\n",
       " 'wonderful': 105,\n",
       " 'bad': 106,\n",
       " 'chips': 107,\n",
       " 'say': 108,\n",
       " 'treat': 109,\n",
       " 'enough': 110,\n",
       " 'different': 111,\n",
       " 'excellent': 112,\n",
       " 'less': 113,\n",
       " 'local': 114,\n",
       " 'milk': 115,\n",
       " 'shipping': 116,\n",
       " 'purchase': 117,\n",
       " 'highly': 118,\n",
       " 'organic': 119,\n",
       " 'need': 120,\n",
       " 'however': 121,\n",
       " 'long': 122,\n",
       " 'eating': 123,\n",
       " 'far': 124,\n",
       " 'salt': 125,\n",
       " 'regular': 126,\n",
       " 'sure': 127,\n",
       " 'thought': 128,\n",
       " 'products': 129,\n",
       " 'looking': 130,\n",
       " 'tasting': 131,\n",
       " 'size': 132,\n",
       " 'tasted': 133,\n",
       " 'stores': 134,\n",
       " 'put': 135,\n",
       " 'whole': 136,\n",
       " 'though': 137,\n",
       " 'using': 138,\n",
       " 'back': 139,\n",
       " 'pretty': 140,\n",
       " 'purchased': 141,\n",
       " 'cups': 142,\n",
       " 'pack': 143,\n",
       " 'bags': 144,\n",
       " 'bars': 145,\n",
       " 'work': 146,\n",
       " 'worth': 147,\n",
       " 'loved': 148,\n",
       " 'high': 149,\n",
       " 'cookies': 150,\n",
       " 'texture': 151,\n",
       " 'big': 152,\n",
       " 'family': 153,\n",
       " 'package': 154,\n",
       " 'low': 155,\n",
       " 'sauce': 156,\n",
       " 'ingredients': 157,\n",
       " 'popcorn': 158,\n",
       " 'green': 159,\n",
       " 'gluten': 160,\n",
       " 'arrived': 161,\n",
       " 'grocery': 162,\n",
       " 'thing': 163,\n",
       " 'quite': 164,\n",
       " 'last': 165,\n",
       " 'received': 166,\n",
       " 'year': 167,\n",
       " 'take': 168,\n",
       " 'going': 169,\n",
       " 'candy': 170,\n",
       " 'rice': 171,\n",
       " 'item': 172,\n",
       " 'came': 173,\n",
       " 'cat': 174,\n",
       " 'almost': 175,\n",
       " 'actually': 176,\n",
       " 'feel': 177,\n",
       " 'anything': 178,\n",
       " 'expensive': 179,\n",
       " 'see': 180,\n",
       " 'dark': 181,\n",
       " 'real': 182,\n",
       " 'oil': 183,\n",
       " 'natural': 184,\n",
       " 'husband': 185,\n",
       " 'new': 186,\n",
       " 'calories': 187,\n",
       " 'blend': 188,\n",
       " 'full': 189,\n",
       " 'butter': 190,\n",
       " 'cereal': 191,\n",
       " 'another': 192,\n",
       " 'chicken': 193,\n",
       " 'money': 194,\n",
       " 'kids': 195,\n",
       " 'smell': 196,\n",
       " 'people': 197,\n",
       " 'disappointed': 198,\n",
       " 'trying': 199,\n",
       " 'around': 200,\n",
       " 'getting': 201,\n",
       " 'bar': 202,\n",
       " 'coconut': 203,\n",
       " 'brands': 204,\n",
       " 'morning': 205,\n",
       " 'half': 206,\n",
       " 'fruit': 207,\n",
       " 'amount': 208,\n",
       " 'several': 209,\n",
       " 'absolutely': 210,\n",
       " 'home': 211,\n",
       " 'cheese': 212,\n",
       " 'fast': 213,\n",
       " 'wish': 214,\n",
       " 'away': 215,\n",
       " 'diet': 216,\n",
       " 'able': 217,\n",
       " 'added': 218,\n",
       " 'us': 219,\n",
       " 'smooth': 220,\n",
       " 'bitter': 221,\n",
       " 'kind': 222,\n",
       " 'foods': 223,\n",
       " 'ones': 224,\n",
       " 'available': 225,\n",
       " 'fat': 226,\n",
       " 'come': 227,\n",
       " 'deal': 228,\n",
       " 'usually': 229,\n",
       " 'oz': 230,\n",
       " 'light': 231,\n",
       " 'dry': 232,\n",
       " 'flavored': 233,\n",
       " 'works': 234,\n",
       " 'per': 235,\n",
       " 'ordering': 236,\n",
       " 'cats': 237,\n",
       " 'nothing': 238,\n",
       " 'breakfast': 239,\n",
       " 'may': 240,\n",
       " 'liked': 241,\n",
       " 'said': 242,\n",
       " 'days': 243,\n",
       " 'company': 244,\n",
       " 'probably': 245,\n",
       " 'case': 246,\n",
       " 'problem': 247,\n",
       " 'things': 248,\n",
       " 'black': 249,\n",
       " 'quick': 250,\n",
       " 'cheaper': 251,\n",
       " 'honey': 252,\n",
       " 'bread': 253,\n",
       " 'variety': 254,\n",
       " 'save': 255,\n",
       " 'making': 256,\n",
       " 'quickly': 257,\n",
       " 'gift': 258,\n",
       " 'seems': 259,\n",
       " 'months': 260,\n",
       " 'boxes': 261,\n",
       " 'fine': 262,\n",
       " 'especially': 263,\n",
       " 'large': 264,\n",
       " 'packaging': 265,\n",
       " 'bottle': 266,\n",
       " 'reviews': 267,\n",
       " 'peanut': 268,\n",
       " 'others': 269,\n",
       " 'glad': 270,\n",
       " 'drinking': 271,\n",
       " 'recommended': 272,\n",
       " 'juice': 273,\n",
       " 'rich': 274,\n",
       " 'pasta': 275,\n",
       " 'son': 276,\n",
       " 'instead': 277,\n",
       " 'three': 278,\n",
       " 'look': 279,\n",
       " 'comes': 280,\n",
       " 'gave': 281,\n",
       " 'protein': 282,\n",
       " 'house': 283,\n",
       " 'prefer': 284,\n",
       " 'roast': 285,\n",
       " 'anyone': 286,\n",
       " 'top': 287,\n",
       " 'syrup': 288,\n",
       " 'everyone': 289,\n",
       " 'times': 290,\n",
       " 'spicy': 291,\n",
       " 'thank': 292,\n",
       " 'white': 293,\n",
       " 'amazing': 294,\n",
       " 'energy': 295,\n",
       " 'cream': 296,\n",
       " 'yummy': 297,\n",
       " 'wanted': 298,\n",
       " 'maybe': 299,\n",
       " 'thanks': 300,\n",
       " 'vanilla': 301,\n",
       " 'fact': 302,\n",
       " 'extra': 303,\n",
       " 'likes': 304,\n",
       " 'next': 305,\n",
       " 'daughter': 306,\n",
       " 'teeth': 307,\n",
       " 'either': 308,\n",
       " 'might': 309,\n",
       " 'pieces': 310,\n",
       " 'must': 311,\n",
       " 'meal': 312,\n",
       " 'plus': 313,\n",
       " 'soft': 314,\n",
       " 'month': 315,\n",
       " 'salty': 316,\n",
       " 'fan': 317,\n",
       " 'cans': 318,\n",
       " 'stars': 319,\n",
       " 'seem': 320,\n",
       " 'everything': 321,\n",
       " 'value': 322,\n",
       " 'baby': 323,\n",
       " 'teas': 324,\n",
       " 'friends': 325,\n",
       " 'awesome': 326,\n",
       " 'health': 327,\n",
       " 'cost': 328,\n",
       " 'else': 329,\n",
       " 'crunchy': 330,\n",
       " 'enjoyed': 331,\n",
       " 'least': 332,\n",
       " 'nuts': 333,\n",
       " 'ginger': 334,\n",
       " 'bold': 335,\n",
       " 'longer': 336,\n",
       " 'keurig': 337,\n",
       " 'yet': 338,\n",
       " 'went': 339,\n",
       " 'online': 340,\n",
       " 'super': 341,\n",
       " 'market': 342,\n",
       " 'couple': 343,\n",
       " 'beans': 344,\n",
       " 'ago': 345,\n",
       " 'open': 346,\n",
       " 'ok': 347,\n",
       " 'pleased': 348,\n",
       " 'ice': 349,\n",
       " 'plastic': 350,\n",
       " 'decided': 351,\n",
       " 'chew': 352,\n",
       " 'started': 353,\n",
       " 'took': 354,\n",
       " 'help': 355,\n",
       " 'mouth': 356,\n",
       " 'expected': 357,\n",
       " 'says': 358,\n",
       " 'delivery': 359,\n",
       " 'review': 360,\n",
       " 'snacks': 361,\n",
       " 'noodles': 362,\n",
       " 'flavorful': 363,\n",
       " 'soup': 364,\n",
       " 'although': 365,\n",
       " 'service': 366,\n",
       " 'alternative': 367,\n",
       " 'corn': 368,\n",
       " 'cold': 369,\n",
       " 'machine': 370,\n",
       " 'pepper': 371,\n",
       " 'second': 372,\n",
       " 'week': 373,\n",
       " 'rather': 374,\n",
       " 'minutes': 375,\n",
       " 'let': 376,\n",
       " 'jerky': 377,\n",
       " 'cocoa': 378,\n",
       " 'wife': 379,\n",
       " 'read': 380,\n",
       " 'crackers': 381,\n",
       " 'lemon': 382,\n",
       " 'cookie': 383,\n",
       " 'beef': 384,\n",
       " 'goes': 385,\n",
       " 'decaf': 386,\n",
       " 'cook': 387,\n",
       " 'weight': 388,\n",
       " 'wheat': 389,\n",
       " 'soda': 390,\n",
       " 'ounce': 391,\n",
       " 'gets': 392,\n",
       " 'french': 393,\n",
       " 'opened': 394,\n",
       " 'type': 395,\n",
       " 'plain': 396,\n",
       " 'surprised': 397,\n",
       " 'special': 398,\n",
       " 'drinks': 399,\n",
       " 'cooking': 400,\n",
       " 'sometimes': 401,\n",
       " 'powder': 402,\n",
       " 'exactly': 403,\n",
       " 'side': 404,\n",
       " 'dried': 405,\n",
       " 'version': 406,\n",
       " 'smaller': 407,\n",
       " 'clean': 408,\n",
       " 'meat': 409,\n",
       " 'mixed': 410,\n",
       " 'packaged': 411,\n",
       " 'convenient': 412,\n",
       " 'believe': 413,\n",
       " 'shipped': 414,\n",
       " 'wrong': 415,\n",
       " 'easily': 416,\n",
       " 'choice': 417,\n",
       " 'red': 418,\n",
       " 'problems': 419,\n",
       " 'part': 420,\n",
       " 'friend': 421,\n",
       " 'guess': 422,\n",
       " 'aroma': 423,\n",
       " 'smells': 424,\n",
       " 'tell': 425,\n",
       " 'fantastic': 426,\n",
       " 'place': 427,\n",
       " 'recipe': 428,\n",
       " 'aftertaste': 429,\n",
       " 'reason': 430,\n",
       " 'hand': 431,\n",
       " 'difference': 432,\n",
       " 'cake': 433,\n",
       " 'orange': 434,\n",
       " 'care': 435,\n",
       " 'container': 436,\n",
       " 'picky': 437,\n",
       " 'seeds': 438,\n",
       " 'christmas': 439,\n",
       " 'subscribe': 440,\n",
       " 'live': 441,\n",
       " 'giving': 442,\n",
       " 'packs': 443,\n",
       " 'mild': 444,\n",
       " 'continue': 445,\n",
       " 'refreshing': 446,\n",
       " 'coffees': 447,\n",
       " 'cinnamon': 448,\n",
       " 'serving': 449,\n",
       " 'left': 450,\n",
       " 'bulk': 451,\n",
       " 'spice': 452,\n",
       " 'potato': 453,\n",
       " 'oatmeal': 454,\n",
       " 'fiber': 455,\n",
       " 'lots': 456,\n",
       " 'looks': 457,\n",
       " 'chewy': 458,\n",
       " 'slightly': 459,\n",
       " 'iced': 460,\n",
       " 'pop': 461,\n",
       " 'recently': 462,\n",
       " 'artificial': 463,\n",
       " 'cut': 464,\n",
       " 'almonds': 465,\n",
       " 'often': 466,\n",
       " 'line': 467,\n",
       " 'filling': 468,\n",
       " 'etc': 469,\n",
       " 'bite': 470,\n",
       " 'compared': 471,\n",
       " 'gives': 472,\n",
       " 'stick': 473,\n",
       " 'pay': 474,\n",
       " 'life': 475,\n",
       " 'excited': 476,\n",
       " 'brew': 477,\n",
       " 'sent': 478,\n",
       " 'run': 479,\n",
       " 'end': 480,\n",
       " 'dinner': 481,\n",
       " 'starbucks': 482,\n",
       " 'bottles': 483,\n",
       " 'brown': 484,\n",
       " 'cherry': 485,\n",
       " 'toy': 486,\n",
       " 'needed': 487,\n",
       " 'looked': 488,\n",
       " 'packages': 489,\n",
       " 'calorie': 490,\n",
       " 'delivered': 491,\n",
       " 'start': 492,\n",
       " 'stomach': 493,\n",
       " 'chai': 494,\n",
       " 'original': 495,\n",
       " 'huge': 496,\n",
       " 'simply': 497,\n",
       " 'ate': 498,\n",
       " 'seller': 499,\n",
       " 'close': 500,\n",
       " 'night': 501,\n",
       " 'chip': 502,\n",
       " 'past': 503,\n",
       " 'carry': 504,\n",
       " 'com': 505,\n",
       " 'date': 506,\n",
       " 'gum': 507,\n",
       " 'apple': 508,\n",
       " 'lunch': 509,\n",
       " 'eaten': 510,\n",
       " 'soon': 511,\n",
       " 'helps': 512,\n",
       " 'waste': 513,\n",
       " 'needs': 514,\n",
       " 'unfortunately': 515,\n",
       " 'granola': 516,\n",
       " 'overall': 517,\n",
       " 'extremely': 518,\n",
       " 'takes': 519,\n",
       " 'hope': 520,\n",
       " 'jar': 521,\n",
       " 'idea': 522,\n",
       " 'larger': 523,\n",
       " 'wait': 524,\n",
       " 'canned': 525,\n",
       " 'saw': 526,\n",
       " 'packed': 527,\n",
       " 'seasoning': 528,\n",
       " 'weeks': 529,\n",
       " 'items': 530,\n",
       " 'purchasing': 531,\n",
       " 'four': 532,\n",
       " 'olive': 533,\n",
       " 'salad': 534,\n",
       " 'condition': 535,\n",
       " 'color': 536,\n",
       " 'broken': 537,\n",
       " 'healthier': 538,\n",
       " 'feed': 539,\n",
       " 'crunch': 540,\n",
       " 'someone': 541,\n",
       " 'keeps': 542,\n",
       " 'creamy': 543,\n",
       " 'stale': 544,\n",
       " 'gone': 545,\n",
       " 'weak': 546,\n",
       " 'single': 547,\n",
       " 'finally': 548,\n",
       " 'nut': 549,\n",
       " 'heat': 550,\n",
       " 'stock': 551,\n",
       " 'already': 552,\n",
       " 'sweetness': 553,\n",
       " 'fish': 554,\n",
       " 'similar': 555,\n",
       " 'given': 556,\n",
       " 'pound': 557,\n",
       " 'beat': 558,\n",
       " 'caffeine': 559,\n",
       " 'course': 560,\n",
       " 'non': 561,\n",
       " 'soy': 562,\n",
       " 'mine': 563,\n",
       " 'pumpkin': 564,\n",
       " 'microwave': 565,\n",
       " 'change': 566,\n",
       " 'baking': 567,\n",
       " 'daily': 568,\n",
       " 'along': 569,\n",
       " 'star': 570,\n",
       " 'sold': 571,\n",
       " 'please': 572,\n",
       " 'shipment': 573,\n",
       " 'inside': 574,\n",
       " 'hooked': 575,\n",
       " 'espresso': 576,\n",
       " 'pet': 577,\n",
       " 'reasonable': 578,\n",
       " 'stop': 579,\n",
       " 'expect': 580,\n",
       " 'name': 581,\n",
       " 'medium': 582,\n",
       " 'anywhere': 583,\n",
       " 'hours': 584,\n",
       " 'sale': 585,\n",
       " 'hit': 586,\n",
       " 'experience': 587,\n",
       " 'totally': 588,\n",
       " 'locally': 589,\n",
       " 'consistency': 590,\n",
       " 'puppy': 591,\n",
       " 'rest': 592,\n",
       " 'cheap': 593,\n",
       " 'licorice': 594,\n",
       " 'true': 595,\n",
       " 'difficult': 596,\n",
       " 'adding': 597,\n",
       " 'instant': 598,\n",
       " 'training': 599,\n",
       " 'due': 600,\n",
       " 'certainly': 601,\n",
       " 'moist': 602,\n",
       " 'leave': 603,\n",
       " 'sour': 604,\n",
       " 'packets': 605,\n",
       " 'lb': 606,\n",
       " 'yum': 607,\n",
       " 'banana': 608,\n",
       " 'together': 609,\n",
       " 'crazy': 610,\n",
       " 'flour': 611,\n",
       " 'sodium': 612,\n",
       " 'done': 613,\n",
       " 'stopped': 614,\n",
       " 'area': 615,\n",
       " 'thick': 616,\n",
       " 'eats': 617,\n",
       " 'anymore': 618,\n",
       " 'chews': 619,\n",
       " 'satisfying': 620,\n",
       " 'future': 621,\n",
       " 'bowl': 622,\n",
       " 'greenies': 623,\n",
       " 'opinion': 624,\n",
       " 'almond': 625,\n",
       " 'shop': 626,\n",
       " 'worked': 627,\n",
       " 'hair': 628,\n",
       " 'ground': 629,\n",
       " 'raw': 630,\n",
       " 'break': 631,\n",
       " 'fun': 632,\n",
       " 'yogurt': 633,\n",
       " 'maker': 634,\n",
       " 'combination': 635,\n",
       " 'satisfied': 636,\n",
       " 'list': 637,\n",
       " 'easier': 638,\n",
       " 'pot': 639,\n",
       " 'substitute': 640,\n",
       " 'within': 641,\n",
       " 'ingredient': 642,\n",
       " 'yes': 643,\n",
       " 'perfectly': 644,\n",
       " 'wow': 645,\n",
       " 'recipes': 646,\n",
       " 'pricey': 647,\n",
       " 'bland': 648,\n",
       " 'finding': 649,\n",
       " 'based': 650,\n",
       " 'okay': 651,\n",
       " 'decent': 652,\n",
       " 'throw': 653,\n",
       " 'leaves': 654,\n",
       " 'chili': 655,\n",
       " 'completely': 656,\n",
       " 'vet': 657,\n",
       " 'entire': 658,\n",
       " 'count': 659,\n",
       " 'finish': 660,\n",
       " 'mind': 661,\n",
       " 'sell': 662,\n",
       " 'pork': 663,\n",
       " 'spices': 664,\n",
       " 'formula': 665,\n",
       " 'mint': 666,\n",
       " 'five': 667,\n",
       " 'seemed': 668,\n",
       " 'stay': 669,\n",
       " 'baked': 670,\n",
       " 'pure': 671,\n",
       " 'content': 672,\n",
       " 'maple': 673,\n",
       " 'lower': 674,\n",
       " 'bottom': 675,\n",
       " 'twice': 676,\n",
       " 'summer': 677,\n",
       " 'truly': 678,\n",
       " 'dish': 679,\n",
       " 'grain': 680,\n",
       " 'expecting': 681,\n",
       " 'kick': 682,\n",
       " 'addition': 683,\n",
       " 'pick': 684,\n",
       " 'become': 685,\n",
       " 'today': 686,\n",
       " 'thin': 687,\n",
       " 'packet': 688,\n",
       " 'contains': 689,\n",
       " 'horrible': 690,\n",
       " 'hoping': 691,\n",
       " 'plan': 692,\n",
       " 'mixes': 693,\n",
       " 'favorites': 694,\n",
       " 'option': 695,\n",
       " 'hint': 696,\n",
       " 'world': 697,\n",
       " 'customer': 698,\n",
       " 'grey': 699,\n",
       " 'simple': 700,\n",
       " 'newman': 701,\n",
       " 'awful': 702,\n",
       " 'priced': 703,\n",
       " 'cooked': 704,\n",
       " 'batch': 705,\n",
       " 'blue': 706,\n",
       " 'carb': 707,\n",
       " 'mess': 708,\n",
       " 'normally': 709,\n",
       " 'tiny': 710,\n",
       " 'terrible': 711,\n",
       " 'forward': 712,\n",
       " 'piece': 713,\n",
       " 'mom': 714,\n",
       " 'noticed': 715,\n",
       " 'remember': 716,\n",
       " 'hour': 717,\n",
       " 'strawberry': 718,\n",
       " 'told': 719,\n",
       " 'later': 720,\n",
       " 'serve': 721,\n",
       " 'unless': 722,\n",
       " 'particular': 723,\n",
       " 'none': 724,\n",
       " 'dont': 725,\n",
       " 'drinker': 726,\n",
       " 'costco': 727,\n",
       " 'veggies': 728,\n",
       " 'pleasant': 729,\n",
       " 'discovered': 730,\n",
       " 'varieties': 731,\n",
       " 'mountain': 732,\n",
       " 'label': 733,\n",
       " 'description': 734,\n",
       " 'agree': 735,\n",
       " 'warm': 736,\n",
       " 'return': 737,\n",
       " 'roasted': 738,\n",
       " 'turned': 739,\n",
       " 'pancakes': 740,\n",
       " 'six': 741,\n",
       " 'seen': 742,\n",
       " 'taking': 743,\n",
       " 'ready': 744,\n",
       " 'adds': 745,\n",
       " 'door': 746,\n",
       " 'unlike': 747,\n",
       " 'vinegar': 748,\n",
       " 'meals': 749,\n",
       " 'oh': 750,\n",
       " 'acid': 751,\n",
       " 'normal': 752,\n",
       " 'anyway': 753,\n",
       " 'glass': 754,\n",
       " 'prices': 755,\n",
       " 'switch': 756,\n",
       " 'supermarket': 757,\n",
       " 'body': 758,\n",
       " 'contain': 759,\n",
       " 'paid': 760,\n",
       " 'caramel': 761,\n",
       " 'bones': 762,\n",
       " 'issues': 763,\n",
       " 'earl': 764,\n",
       " 'italian': 765,\n",
       " 'stronger': 766,\n",
       " 'fit': 767,\n",
       " 'everyday': 768,\n",
       " 'candies': 769,\n",
       " 'impressed': 770,\n",
       " 'bears': 771,\n",
       " 'touch': 772,\n",
       " 'loose': 773,\n",
       " 'pods': 774,\n",
       " 'otherwise': 775,\n",
       " 'homemade': 776,\n",
       " 'garlic': 777,\n",
       " 'carrying': 778,\n",
       " 'shape': 779,\n",
       " 'ship': 780,\n",
       " 'job': 781,\n",
       " 'chocolates': 782,\n",
       " 'thrilled': 783,\n",
       " 'party': 784,\n",
       " 'office': 785,\n",
       " 'called': 786,\n",
       " 'sweetener': 787,\n",
       " 'sea': 788,\n",
       " 'bean': 789,\n",
       " 'felt': 790,\n",
       " 'skin': 791,\n",
       " 'thinking': 792,\n",
       " 'pie': 793,\n",
       " 'allergies': 794,\n",
       " 'point': 795,\n",
       " 'bring': 796,\n",
       " 'individual': 797,\n",
       " 'convenience': 798,\n",
       " 'salmon': 799,\n",
       " 'matter': 800,\n",
       " 'liquid': 801,\n",
       " 'set': 802,\n",
       " 'wrapped': 803,\n",
       " 'chewing': 804,\n",
       " 'peanuts': 805,\n",
       " 'overpowering': 806,\n",
       " 'sealed': 807,\n",
       " 'ask': 808,\n",
       " 'sticks': 809,\n",
       " 'feeling': 810,\n",
       " 'crisp': 811,\n",
       " 'craving': 812,\n",
       " 'mostly': 813,\n",
       " 'nicely': 814,\n",
       " 'feeding': 815,\n",
       " 'complaint': 816,\n",
       " 'shake': 817,\n",
       " 'kitchen': 818,\n",
       " 'overly': 819,\n",
       " 'results': 820,\n",
       " 'hands': 821,\n",
       " 'person': 822,\n",
       " 'supply': 823,\n",
       " 'immediately': 824,\n",
       " 'changed': 825,\n",
       " 'beverage': 826,\n",
       " 'worst': 827,\n",
       " 'types': 828,\n",
       " 'subscription': 829,\n",
       " 'except': 830,\n",
       " 'bigger': 831,\n",
       " 'served': 832,\n",
       " 'somewhat': 833,\n",
       " 'higher': 834,\n",
       " 'uses': 835,\n",
       " 'flavoring': 836,\n",
       " 'style': 837,\n",
       " 'send': 838,\n",
       " 'plenty': 839,\n",
       " 'raspberry': 840,\n",
       " 'berry': 841,\n",
       " 'reading': 842,\n",
       " 'heavy': 843,\n",
       " 'benefits': 844,\n",
       " 'check': 845,\n",
       " 'breath': 846,\n",
       " 'lover': 847,\n",
       " 'stevia': 848,\n",
       " 'carbs': 849,\n",
       " 'addicted': 850,\n",
       " 'alot': 851,\n",
       " 'gourmet': 852,\n",
       " 'expiration': 853,\n",
       " 'bake': 854,\n",
       " 'trouble': 855,\n",
       " 'afternoon': 856,\n",
       " 'call': 857,\n",
       " 'bbq': 858,\n",
       " 'perhaps': 859,\n",
       " 'hate': 860,\n",
       " 'children': 861,\n",
       " 'prepare': 862,\n",
       " 'short': 863,\n",
       " 'pouch': 864,\n",
       " 'gummy': 865,\n",
       " 'cashews': 866,\n",
       " 'sick': 867,\n",
       " 'nearly': 868,\n",
       " 'source': 869,\n",
       " 'walmart': 870,\n",
       " 'dented': 871,\n",
       " 'sorry': 872,\n",
       " 'brewed': 873,\n",
       " 'biscuits': 874,\n",
       " 'jars': 875,\n",
       " 'dishes': 876,\n",
       " 'brought': 877,\n",
       " 'pizza': 878,\n",
       " 'weird': 879,\n",
       " 'running': 880,\n",
       " 'mother': 881,\n",
       " 'supposed': 882,\n",
       " 'kept': 883,\n",
       " 'kid': 884,\n",
       " 'stuck': 885,\n",
       " 'fairly': 886,\n",
       " 'usual': 887,\n",
       " 'lime': 888,\n",
       " 'sample': 889,\n",
       " 'sitting': 890,\n",
       " 'pleasantly': 891,\n",
       " 'share': 892,\n",
       " 'knew': 893,\n",
       " 'picture': 894,\n",
       " 'kinds': 895,\n",
       " 'reviewers': 896,\n",
       " 'gotten': 897,\n",
       " 'balance': 898,\n",
       " 'crispy': 899,\n",
       " 'mango': 900,\n",
       " 'vegetables': 901,\n",
       " 'replacement': 902,\n",
       " 'jelly': 903,\n",
       " 'reviewer': 904,\n",
       " 'birthday': 905,\n",
       " 'sort': 906,\n",
       " 'eggs': 907,\n",
       " 'chance': 908,\n",
       " 'notice': 909,\n",
       " 'means': 910,\n",
       " 'fill': 911,\n",
       " 'sauces': 912,\n",
       " 'unique': 913,\n",
       " 'alone': 914,\n",
       " 'ended': 915,\n",
       " 'issue': 916,\n",
       " 'coming': 917,\n",
       " 'pounds': 918,\n",
       " 'threw': 919,\n",
       " 'near': 920,\n",
       " 'paying': 921,\n",
       " 'dessert': 922,\n",
       " 'brewing': 923,\n",
       " 'tart': 924,\n",
       " 'directions': 925,\n",
       " 'whenever': 926,\n",
       " 'whatever': 927,\n",
       " 'gf': 928,\n",
       " 'nutrition': 929,\n",
       " 'heard': 930,\n",
       " 'restaurant': 931,\n",
       " 'quantity': 932,\n",
       " 'blood': 933,\n",
       " 'dressing': 934,\n",
       " 'grams': 935,\n",
       " 'bitterness': 936,\n",
       " 'lbs': 937,\n",
       " 'standard': 938,\n",
       " 'tree': 939,\n",
       " 'bodied': 940,\n",
       " 'mustard': 941,\n",
       " 'number': 942,\n",
       " 'blends': 943,\n",
       " 'pops': 944,\n",
       " 'air': 945,\n",
       " 'careful': 946,\n",
       " 'gummi': 947,\n",
       " 'plant': 948,\n",
       " 'working': 949,\n",
       " 'helped': 950,\n",
       " 'disappointing': 951,\n",
       " 'tired': 952,\n",
       " 'grains': 953,\n",
       " 'fair': 954,\n",
       " 'beautiful': 955,\n",
       " 'clear': 956,\n",
       " 'surprise': 957,\n",
       " 'enjoys': 958,\n",
       " 'personally': 959,\n",
       " 'lasts': 960,\n",
       " 'school': 961,\n",
       " 'trip': 962,\n",
       " 'portion': 963,\n",
       " 'wine': 964,\n",
       " 'cheddar': 965,\n",
       " 'shelf': 966,\n",
       " 'beer': 967,\n",
       " 'eater': 968,\n",
       " 'fix': 969,\n",
       " 'cool': 970,\n",
       " 'soups': 971,\n",
       " 'hazelnut': 972,\n",
       " 'tuna': 973,\n",
       " 'addictive': 974,\n",
       " 'covered': 975,\n",
       " 'hold': 976,\n",
       " 'china': 977,\n",
       " 'note': 978,\n",
       " 'wants': 979,\n",
       " 'straight': 980,\n",
       " 'busy': 981,\n",
       " 'bits': 982,\n",
       " 'outside': 983,\n",
       " 'selling': 984,\n",
       " 'double': 985,\n",
       " 'potatoes': 986,\n",
       " 'offered': 987,\n",
       " 'instructions': 988,\n",
       " 'website': 989,\n",
       " 'cause': 990,\n",
       " 'listed': 991,\n",
       " 'evening': 992,\n",
       " 'sensitive': 993,\n",
       " 'melted': 994,\n",
       " 'switched': 995,\n",
       " 'pour': 996,\n",
       " 'avoid': 997,\n",
       " 'dairy': 998,\n",
       " 'consider': 999,\n",
       " 'traditional': 1000,\n",
       " ...}"
      ]
     },
     "execution_count": 31,
     "metadata": {},
     "output_type": "execute_result"
    }
   ],
   "source": [
    "src_tokenizer.word_index"
   ]
  },
  {
   "cell_type": "markdown",
   "id": "b8d642ce",
   "metadata": {},
   "source": [
    "이렇게 만든 단어 집합에서 빈도수가 낮은 단어는 훈련데이터에서 제외한다. `src_tokenizer.word_counts.items()`를 사용하면 각 단어의 빈도수를 확인할 수 있다."
   ]
  },
  {
   "cell_type": "code",
   "execution_count": 32,
   "id": "6987d3fa",
   "metadata": {
    "scrolled": false
   },
   "outputs": [
    {
     "name": "stdout",
     "output_type": "stream",
     "text": [
      "단어 집합(vocabulary)의 크기 : 32040\n",
      "등장 빈도가 6번 이하인 희귀 단어의 수: 23773\n",
      "단어 집합에서 희귀 단어를 제외시킬 경우의 단어 집합의 크기 8267\n",
      "단어 집합에서 희귀 단어의 비율: 74.19787765293383\n",
      "전체 등장 빈도에서 희귀 단어 등장 빈도 비율: 3.3948294753280774\n"
     ]
    }
   ],
   "source": [
    "# src_tokenizer.word_counts.items()\n",
    "threshold = 7\n",
    "total_cnt = len(src_tokenizer.word_index) # 단어의 수\n",
    "rare_cnt = 0 # 등장 빈도수가 threshold보다 작은 단어 카운트\n",
    "total_freq = 0 # 훈련 데이터의 전체 단어 빈도수 총 합\n",
    "rare_freq = 0 # 등장 빈도수가 threshold보다 작은 당어의 등장 빈도수의 총 합\n",
    "\n",
    "# 단어와 빈도수의 쌍을 받는다.\n",
    "for key, value in src_tokenizer.word_counts.items():\n",
    "    total_freq += value\n",
    "    \n",
    "    # 단어의 빈도수가 threshold보다 작으면\n",
    "    if(value < threshold):\n",
    "        rare_cnt += 1\n",
    "        rare_freq += value\n",
    "        \n",
    "print('단어 집합(vocabulary)의 크기 :', total_cnt)\n",
    "print('등장 빈도가 %s번 이하인 희귀 단어의 수: %s'%(threshold - 1, rare_cnt))\n",
    "print('단어 집합에서 희귀 단어를 제외시킬 경우의 단어 집합의 크기 %s'%(total_cnt - rare_cnt))\n",
    "print(\"단어 집합에서 희귀 단어의 비율:\", (rare_cnt / total_cnt)*100)\n",
    "print(\"전체 등장 빈도에서 희귀 단어 등장 빈도 비율:\", (rare_freq / total_freq)*100)"
   ]
  },
  {
   "cell_type": "markdown",
   "id": "e0ac5b1f",
   "metadata": {},
   "source": [
    "encoder_input_train에는 약 3만개의 단어가 있다. 빈도가 7회 미만인 단어는 전체 단어의 74%이다. 하지만 실제로 전체 데이터의 등장 빈도수에서 희귀단어가 차지하는 비율은 3.39% 밖에 안된다. 즉, 26%의 단어만 96% 사용된다는 뜻이다. 자주 쓰는 단어만 대부분 사용된다.\n",
    "\n",
    "빈도수 7회 미만 단어는 정수 데이터에서 제거한다. 단어 집합의 크기를 8000으로 제한한다."
   ]
  },
  {
   "cell_type": "code",
   "execution_count": 33,
   "id": "fca6d5ff",
   "metadata": {},
   "outputs": [
    {
     "name": "stdout",
     "output_type": "stream",
     "text": [
      "단어 집합 생성완료!\n"
     ]
    }
   ],
   "source": [
    "src_vocab = 8000\n",
    "src_tokenizer = Tokenizer(num_words=src_vocab) # 단어 집합의 크기를 8000으로 제한\n",
    "src_tokenizer.fit_on_texts(encoder_input_train) # 단어 집합 재생성\n",
    "\n",
    "print(\"단어 집합 생성완료!\")"
   ]
  },
  {
   "cell_type": "markdown",
   "id": "81d8877a",
   "metadata": {},
   "source": [
    "`texts_to_sequences()`는 생성된 단어 집합을 기반으로 입력 텍스트 데이터의 단어를 정수로 변환한다. 희귀 단어는 사라지게 된다."
   ]
  },
  {
   "cell_type": "code",
   "execution_count": 34,
   "id": "4423c388",
   "metadata": {},
   "outputs": [
    {
     "name": "stdout",
     "output_type": "stream",
     "text": [
      "[[22, 3255, 751, 293, 748, 355, 3538, 6806, 146, 25, 1742, 113, 2426, 4928, 876], [9, 306, 48, 99, 22, 134, 200, 441, 27, 9, 40, 362, 66, 4086, 354, 2612, 155, 16, 17, 1102], [80, 4622, 10, 66, 3997, 319, 38, 33, 4, 1, 397, 200, 122, 714, 2307, 13, 812, 106, 776, 1110, 1303, 4766, 714, 572, 17, 480, 1522, 215, 26, 147, 20, 29, 4, 1072, 292]]\n"
     ]
    }
   ],
   "source": [
    "# 텍스트 시퀀스를 정수 시퀀스로 변환\n",
    "encoder_input_train = src_tokenizer.texts_to_sequences(encoder_input_train)\n",
    "encoder_input_test = src_tokenizer.texts_to_sequences(encoder_input_test)\n",
    "\n",
    "# 잘 변환됐는지 샘플 출력\n",
    "print(encoder_input_train[:3])"
   ]
  },
  {
   "cell_type": "markdown",
   "id": "32c6a4de",
   "metadata": {},
   "source": [
    "Summary 데이터도 정수 인코딩 해준다."
   ]
  },
  {
   "cell_type": "code",
   "execution_count": 35,
   "id": "20c3c2f1",
   "metadata": {},
   "outputs": [
    {
     "name": "stdout",
     "output_type": "stream",
     "text": [
      "단어 집합 생성완료!\n"
     ]
    }
   ],
   "source": [
    "tar_tokenizer = Tokenizer()\n",
    "tar_tokenizer.fit_on_texts(decoder_input_train)\n",
    "\n",
    "print(\"단어 집합 생성완료!\")"
   ]
  },
  {
   "cell_type": "markdown",
   "id": "d105afd9",
   "metadata": {},
   "source": [
    "역시 위와 같이 빈도수를 계산한다."
   ]
  },
  {
   "cell_type": "code",
   "execution_count": 36,
   "id": "bf4a3e41",
   "metadata": {},
   "outputs": [
    {
     "name": "stdout",
     "output_type": "stream",
     "text": [
      "단어 집합(vocabulary)의 크기 : 10557\n",
      "등장 빈도가 5번 이하인 희귀 단어의 수: 8159\n",
      "단어 집합에서 희귀 단어를 제외시킬 경우의 단어 집합의 크기 2398\n",
      "단어 집합에서 희귀 단어의 비율: 77.28521360234916\n",
      "전체 등장 빈도에서 희귀 단어 등장 빈도 비율: 5.884886941762838\n"
     ]
    }
   ],
   "source": [
    "threshold = 6\n",
    "total_cnt = len(tar_tokenizer.word_index) # 단어의 수\n",
    "rare_cnt = 0 # 등장 빈도수가 threshold보다 작은 단어의 개수를 카운트\n",
    "total_freq = 0 # 훈련 데이터의 전체 단어 빈도수 총 합\n",
    "rare_freq = 0 # 등장 빈도수가 threshold보다 작은 단어의 등장 빈도수의 총 합\n",
    "\n",
    "# 단어와 빈도수의 쌍(pair)을 key와 value로 받는다.\n",
    "for key, value in tar_tokenizer.word_counts.items():\n",
    "    total_freq = total_freq + value\n",
    "\n",
    "    # 단어의 등장 빈도수가 threshold보다 작으면\n",
    "    if(value < threshold):\n",
    "        rare_cnt = rare_cnt + 1\n",
    "        rare_freq = rare_freq + value\n",
    "\n",
    "print('단어 집합(vocabulary)의 크기 :', total_cnt)\n",
    "print('등장 빈도가 %s번 이하인 희귀 단어의 수: %s'%(threshold - 1, rare_cnt))\n",
    "print('단어 집합에서 희귀 단어를 제외시킬 경우의 단어 집합의 크기 %s'%(total_cnt - rare_cnt))\n",
    "print(\"단어 집합에서 희귀 단어의 비율:\", (rare_cnt / total_cnt)*100)\n",
    "print(\"전체 등장 빈도에서 희귀 단어 등장 빈도 비율:\", (rare_freq / total_freq)*100)"
   ]
  },
  {
   "cell_type": "markdown",
   "id": "a4f87208",
   "metadata": {},
   "source": [
    "희귀단어를 제외하고 2000단어로 단어집합을 다시 만들고 정수인코딩을 한다."
   ]
  },
  {
   "cell_type": "code",
   "execution_count": 37,
   "id": "7d726056",
   "metadata": {},
   "outputs": [
    {
     "name": "stdout",
     "output_type": "stream",
     "text": [
      "input\n",
      "input  [[1, 593, 677], [1, 94, 30], [1, 889, 570, 91, 15], [1, 251, 571, 867, 19, 5, 8], [1, 16]]\n",
      "target\n",
      "decoder  [[593, 677, 2], [94, 30, 2], [889, 570, 91, 15, 2], [251, 571, 867, 19, 5, 8, 2], [16, 2]]\n"
     ]
    }
   ],
   "source": [
    "tar_vocab = 2000\n",
    "tar_tokenizer = Tokenizer(num_words=tar_vocab) \n",
    "tar_tokenizer.fit_on_texts(decoder_input_train)\n",
    "tar_tokenizer.fit_on_texts(decoder_target_train)\n",
    "\n",
    "# 텍스트 시퀀스를 정수 시퀀스로 변환\n",
    "decoder_input_train = tar_tokenizer.texts_to_sequences(decoder_input_train) \n",
    "decoder_target_train = tar_tokenizer.texts_to_sequences(decoder_target_train)\n",
    "decoder_input_test = tar_tokenizer.texts_to_sequences(decoder_input_test)\n",
    "decoder_target_test = tar_tokenizer.texts_to_sequences(decoder_target_test)\n",
    "\n",
    "# 잘 변환되었는지 확인\n",
    "print('input')\n",
    "print('input ',decoder_input_train[:5])\n",
    "print('target')\n",
    "print('decoder ',decoder_target_train[:5])"
   ]
  },
  {
   "cell_type": "markdown",
   "id": "4681da5c",
   "metadata": {},
   "source": [
    "정수 인코딩이 끝났다. 넘어가기 전에 한 가지 확인할 것이 있다. 빈도수가 낮은 단어가 삭제됐기 때문에 빈도수가 낮은 단어들로 구성됐던 샘플의 데이터가 비었을 수 있다. 요약컬럼은 문장의 길이가 짧기 때문에 데이터가 비었을 수 있다. decoder_input과 decoder_target 앞/뒤로 토큰을 붙였기 때문에 최소 길이는 1이다. 훈련/테스트 데이터의 요약문 길이가 1인 샘플의 인덱스를 변수에 저장해서 삭제한다. "
   ]
  },
  {
   "cell_type": "code",
   "execution_count": 38,
   "id": "beb74346",
   "metadata": {},
   "outputs": [
    {
     "name": "stdout",
     "output_type": "stream",
     "text": [
      "삭제할 훈련 데이터의 개수 : 1279\n",
      "삭제할 테스트 데이터의 개수 : 319\n",
      "훈련 데이터의 개수 : 51376\n",
      "훈련 레이블의 개수 : 51376\n",
      "테스트 데이터의 개수 : 12844\n",
      "테스트 레이블의 개수 : 12844\n"
     ]
    }
   ],
   "source": [
    "drop_train = [index for index, sentence in enumerate(decoder_input_train) if len(sentence) == 1]\n",
    "drop_test = [index for index, sentence in enumerate(decoder_input_test) if len(sentence) == 1]\n",
    "\n",
    "print('삭제할 훈련 데이터의 개수 :', len(drop_train))\n",
    "print('삭제할 테스트 데이터의 개수 :', len(drop_test))\n",
    "\n",
    "encoder_input_train = [sentence for index, sentence in enumerate(encoder_input_train) if index not in drop_train]\n",
    "decoder_input_train = [sentence for index, sentence in enumerate(decoder_input_train) if index not in drop_train]\n",
    "decoder_target_train = [sentence for index, sentence in enumerate(decoder_target_train) if index not in drop_train]\n",
    "\n",
    "encoder_input_test = [sentence for index, sentence in enumerate(encoder_input_test) if index not in drop_test]\n",
    "decoder_input_test = [sentence for index, sentence in enumerate(decoder_input_test) if index not in drop_test]\n",
    "decoder_target_test = [sentence for index, sentence in enumerate(decoder_target_test) if index not in drop_test]\n",
    "\n",
    "print('훈련 데이터의 개수 :', len(encoder_input_train))\n",
    "print('훈련 레이블의 개수 :', len(decoder_input_train))\n",
    "print('테스트 데이터의 개수 :', len(encoder_input_test))\n",
    "print('테스트 레이블의 개수 :', len(decoder_input_test))"
   ]
  },
  {
   "cell_type": "markdown",
   "id": "760951b3",
   "metadata": {},
   "source": [
    "### 패딩하기"
   ]
  },
  {
   "cell_type": "code",
   "execution_count": 39,
   "id": "5f60f25b",
   "metadata": {},
   "outputs": [],
   "source": [
    "encoder_input_train = pad_sequences(encoder_input_train, maxlen=text_max_len, padding='post')\n",
    "encoder_input_test = pad_sequences(encoder_input_test, maxlen=text_max_len, padding='post')\n",
    "decoder_input_train = pad_sequences(decoder_input_train, maxlen=summary_max_len, padding='post')\n",
    "decoder_target_train = pad_sequences(decoder_target_train, maxlen=summary_max_len, padding='post')\n",
    "decoder_input_test = pad_sequences(decoder_input_test, maxlen=summary_max_len, padding='post')\n",
    "decoder_target_test = pad_sequences(decoder_target_test, maxlen=summary_max_len, padding='post')"
   ]
  },
  {
   "cell_type": "markdown",
   "id": "9debbe27",
   "metadata": {},
   "source": [
    "## 5. 모델 설계하기"
   ]
  },
  {
   "cell_type": "markdown",
   "id": "b51d8c7e",
   "metadata": {},
   "source": [
    "### 인코더 설계"
   ]
  },
  {
   "cell_type": "code",
   "execution_count": 40,
   "id": "643dc517",
   "metadata": {},
   "outputs": [
    {
     "name": "stdout",
     "output_type": "stream",
     "text": [
      "WARNING:tensorflow:Layer lstm will not use cuDNN kernels since it doesn't meet the criteria. It will use a generic GPU kernel as fallback when running on GPU.\n",
      "WARNING:tensorflow:Layer lstm_1 will not use cuDNN kernels since it doesn't meet the criteria. It will use a generic GPU kernel as fallback when running on GPU.\n",
      "WARNING:tensorflow:Layer lstm_2 will not use cuDNN kernels since it doesn't meet the criteria. It will use a generic GPU kernel as fallback when running on GPU.\n"
     ]
    }
   ],
   "source": [
    "from tensorflow.keras.layers import Input, LSTM, Embedding, Dense, Concatenate, TimeDistributed\n",
    "from tensorflow.keras.models import Model\n",
    "from tensorflow.keras.callbacks import EarlyStopping, ModelCheckpoint\n",
    "\n",
    "\n",
    "# 인코더 설계 시작\n",
    "embedding_dim = 128\n",
    "hidden_size = 256\n",
    "\n",
    "# 인코더\n",
    "encoder_inputs = Input(shape=(text_max_len,))\n",
    "\n",
    "# 인코더의 임베딩 층\n",
    "enc_emb = Embedding(src_vocab, embedding_dim)(encoder_inputs)\n",
    "\n",
    "# 인코더의 LSTM 1\n",
    "encoder_lstm1 = LSTM(hidden_size, return_sequences=True, return_state=True ,dropout = 0.4, recurrent_dropout = 0.4)\n",
    "encoder_output1, state_h1, state_c1 = encoder_lstm1(enc_emb)\n",
    "\n",
    "# 인코더의 LSTM 2\n",
    "encoder_lstm2 = LSTM(hidden_size, return_sequences=True, return_state=True, dropout=0.4, recurrent_dropout=0.4)\n",
    "encoder_output2, state_h2, state_c2 = encoder_lstm2(encoder_output1)\n",
    "\n",
    "# 인코더의 LSTM 3\n",
    "encoder_lstm3 = LSTM(hidden_size, return_state=True, return_sequences=True, dropout=0.4, recurrent_dropout=0.4)\n",
    "encoder_outputs, state_h, state_c= encoder_lstm3(encoder_output2)"
   ]
  },
  {
   "cell_type": "markdown",
   "id": "6a8d07ca",
   "metadata": {},
   "source": [
    "임베딩 벡터의 128이고 hidden state의 크기는 256이다. hidden state는 LSTM에서 **수용력**을 결정하는 파라미터다.용량이나 뉴런의 개수라고 생각하면 된다.\n",
    "\n",
    "인코더 LSTM은 3개 층으로 복잡도를 높였다.\n",
    "\n",
    "LSTM은 dropout과 recurrent dropout까지 사용한다. recurrent dropout은 dropout을 레이어가 아닌 time step마다 해준다. 즉 time step의 입력을 랜덤하게 생략한다."
   ]
  },
  {
   "cell_type": "markdown",
   "id": "b8443f89",
   "metadata": {},
   "source": [
    "### 디코더 설계\n",
    "\n",
    "LSTM 입력을 정의할 때 initial_state에 hidden state와 cell state를 넣어야 한다."
   ]
  },
  {
   "cell_type": "code",
   "execution_count": 41,
   "id": "144605a3",
   "metadata": {},
   "outputs": [
    {
     "name": "stdout",
     "output_type": "stream",
     "text": [
      "WARNING:tensorflow:Layer lstm_3 will not use cuDNN kernels since it doesn't meet the criteria. It will use a generic GPU kernel as fallback when running on GPU.\n"
     ]
    }
   ],
   "source": [
    "# 디코더 설계\n",
    "decoder_inputs = Input(shape=(None,))\n",
    "\n",
    "# 디코더의 임베딩 층\n",
    "dec_emb_layer = Embedding(tar_vocab, embedding_dim)\n",
    "dec_emb = dec_emb_layer(decoder_inputs)\n",
    "\n",
    "# 디코더의 LSTM\n",
    "decoder_lstm = LSTM(hidden_size, return_sequences=True, return_state=True, dropout=0.4, recurrent_dropout=0.2)\n",
    "decoder_outputs, _, _ = decoder_lstm(dec_emb, initial_state=[state_h, state_c])"
   ]
  },
  {
   "cell_type": "markdown",
   "id": "db8a6df2",
   "metadata": {},
   "source": [
    "디코더의 출력층에서는 Summary의 단어장인 tar_vocab의 수많은 선택지 중 하나의 단어를 선택하는 다중 클래스 분류 문제를 풀어야 한다. 그래서 Dense의 인자로 tar_vocab을 주고 활성화 함수로 소프트 맥스 함수를 사용한다."
   ]
  },
  {
   "cell_type": "code",
   "execution_count": 42,
   "id": "dc8b691f",
   "metadata": {
    "scrolled": false
   },
   "outputs": [
    {
     "name": "stdout",
     "output_type": "stream",
     "text": [
      "Model: \"model\"\n",
      "__________________________________________________________________________________________________\n",
      "Layer (type)                    Output Shape         Param #     Connected to                     \n",
      "==================================================================================================\n",
      "input_1 (InputLayer)            [(None, 50)]         0                                            \n",
      "__________________________________________________________________________________________________\n",
      "embedding (Embedding)           (None, 50, 128)      1024000     input_1[0][0]                    \n",
      "__________________________________________________________________________________________________\n",
      "lstm (LSTM)                     [(None, 50, 256), (N 394240      embedding[0][0]                  \n",
      "__________________________________________________________________________________________________\n",
      "input_2 (InputLayer)            [(None, None)]       0                                            \n",
      "__________________________________________________________________________________________________\n",
      "lstm_1 (LSTM)                   [(None, 50, 256), (N 525312      lstm[0][0]                       \n",
      "__________________________________________________________________________________________________\n",
      "embedding_1 (Embedding)         (None, None, 128)    256000      input_2[0][0]                    \n",
      "__________________________________________________________________________________________________\n",
      "lstm_2 (LSTM)                   [(None, 50, 256), (N 525312      lstm_1[0][0]                     \n",
      "__________________________________________________________________________________________________\n",
      "lstm_3 (LSTM)                   [(None, None, 256),  394240      embedding_1[0][0]                \n",
      "                                                                 lstm_2[0][1]                     \n",
      "                                                                 lstm_2[0][2]                     \n",
      "__________________________________________________________________________________________________\n",
      "dense (Dense)                   (None, None, 2000)   514000      lstm_3[0][0]                     \n",
      "==================================================================================================\n",
      "Total params: 3,633,104\n",
      "Trainable params: 3,633,104\n",
      "Non-trainable params: 0\n",
      "__________________________________________________________________________________________________\n"
     ]
    }
   ],
   "source": [
    "# 디코더의 출력층\n",
    "decoder_softmax_layer = Dense(tar_vocab, activation='softmax')\n",
    "decoder_softmax_outputs = decoder_softmax_layer(decoder_outputs) \n",
    "\n",
    "# 모델 정의\n",
    "model = Model([encoder_inputs, decoder_inputs], decoder_softmax_outputs)\n",
    "model.summary()"
   ]
  },
  {
   "cell_type": "markdown",
   "id": "5b736060",
   "metadata": {},
   "source": [
    "지금까지는 가장 기본적인 seq2seq 모델을 설계했다. 디코더의 출력층을 조금 손봐서 어텐션 메커니즘을 사용한다."
   ]
  },
  {
   "cell_type": "code",
   "execution_count": 43,
   "id": "0a26f815",
   "metadata": {},
   "outputs": [
    {
     "name": "stdout",
     "output_type": "stream",
     "text": [
      "Model: \"model_1\"\n",
      "__________________________________________________________________________________________________\n",
      "Layer (type)                    Output Shape         Param #     Connected to                     \n",
      "==================================================================================================\n",
      "input_1 (InputLayer)            [(None, 50)]         0                                            \n",
      "__________________________________________________________________________________________________\n",
      "embedding (Embedding)           (None, 50, 128)      1024000     input_1[0][0]                    \n",
      "__________________________________________________________________________________________________\n",
      "lstm (LSTM)                     [(None, 50, 256), (N 394240      embedding[0][0]                  \n",
      "__________________________________________________________________________________________________\n",
      "input_2 (InputLayer)            [(None, None)]       0                                            \n",
      "__________________________________________________________________________________________________\n",
      "lstm_1 (LSTM)                   [(None, 50, 256), (N 525312      lstm[0][0]                       \n",
      "__________________________________________________________________________________________________\n",
      "embedding_1 (Embedding)         (None, None, 128)    256000      input_2[0][0]                    \n",
      "__________________________________________________________________________________________________\n",
      "lstm_2 (LSTM)                   [(None, 50, 256), (N 525312      lstm_1[0][0]                     \n",
      "__________________________________________________________________________________________________\n",
      "lstm_3 (LSTM)                   [(None, None, 256),  394240      embedding_1[0][0]                \n",
      "                                                                 lstm_2[0][1]                     \n",
      "                                                                 lstm_2[0][2]                     \n",
      "__________________________________________________________________________________________________\n",
      "attention_layer (AdditiveAttent (None, None, 256)    256         lstm_3[0][0]                     \n",
      "                                                                 lstm_2[0][0]                     \n",
      "__________________________________________________________________________________________________\n",
      "concat_layer (Concatenate)      (None, None, 512)    0           lstm_3[0][0]                     \n",
      "                                                                 attention_layer[0][0]            \n",
      "__________________________________________________________________________________________________\n",
      "dense_1 (Dense)                 (None, None, 2000)   1026000     concat_layer[0][0]               \n",
      "==================================================================================================\n",
      "Total params: 4,145,360\n",
      "Trainable params: 4,145,360\n",
      "Non-trainable params: 0\n",
      "__________________________________________________________________________________________________\n"
     ]
    }
   ],
   "source": [
    "from tensorflow.keras.layers import AdditiveAttention\n",
    "\n",
    "# 어텐션 층(어텐션 함수)\n",
    "attn_layer = AdditiveAttention(name='attention_layer')\n",
    "\n",
    "# 인코더와 디코더의 모든 time step의 hidden state를 어텐션 층에 전달하고 결과를 리턴\n",
    "attn_out = attn_layer([decoder_outputs, encoder_outputs])\n",
    "\n",
    "\n",
    "# 어텐션의 결과와 디코더의 hidden state들을 연결\n",
    "decoder_concat_input = Concatenate(axis=-1, name='concat_layer')([decoder_outputs, attn_out])\n",
    "\n",
    "# 디코더의 출력층\n",
    "decoder_softmax_layer = Dense(tar_vocab, activation='softmax')\n",
    "decoder_softmax_outputs = decoder_softmax_layer(decoder_concat_input)\n",
    "\n",
    "# 모델 정의\n",
    "model = Model([encoder_inputs, decoder_inputs], decoder_softmax_outputs)\n",
    "model.summary()"
   ]
  },
  {
   "cell_type": "markdown",
   "id": "7c630e1e",
   "metadata": {},
   "source": [
    "## 6. 모델 훈련"
   ]
  },
  {
   "cell_type": "markdown",
   "id": "e24d095f",
   "metadata": {},
   "source": [
    "### 조기종료"
   ]
  },
  {
   "cell_type": "code",
   "execution_count": 44,
   "id": "c811de81",
   "metadata": {
    "scrolled": true
   },
   "outputs": [
    {
     "name": "stdout",
     "output_type": "stream",
     "text": [
      "Epoch 1/50\n",
      "201/201 [==============================] - 142s 665ms/step - loss: 2.6988 - val_loss: 2.4107\n",
      "Epoch 2/50\n",
      "201/201 [==============================] - 132s 658ms/step - loss: 2.3639 - val_loss: 2.2814\n",
      "Epoch 3/50\n",
      "201/201 [==============================] - 132s 658ms/step - loss: 2.2299 - val_loss: 2.1543\n",
      "Epoch 4/50\n",
      "201/201 [==============================] - 132s 656ms/step - loss: 2.1139 - val_loss: 2.0773\n",
      "Epoch 5/50\n",
      "201/201 [==============================] - 132s 657ms/step - loss: 2.0328 - val_loss: 2.0271\n",
      "Epoch 6/50\n",
      "201/201 [==============================] - 133s 660ms/step - loss: 1.9704 - val_loss: 1.9795\n",
      "Epoch 7/50\n",
      "201/201 [==============================] - 133s 661ms/step - loss: 1.9171 - val_loss: 1.9500\n",
      "Epoch 8/50\n",
      "201/201 [==============================] - 132s 658ms/step - loss: 1.8709 - val_loss: 1.9265\n",
      "Epoch 9/50\n",
      "201/201 [==============================] - 132s 657ms/step - loss: 1.8286 - val_loss: 1.9030\n",
      "Epoch 10/50\n",
      "201/201 [==============================] - 132s 659ms/step - loss: 1.7909 - val_loss: 1.8878\n",
      "Epoch 11/50\n",
      "201/201 [==============================] - 132s 659ms/step - loss: 1.7569 - val_loss: 1.8769\n",
      "Epoch 12/50\n",
      "201/201 [==============================] - 132s 657ms/step - loss: 1.7243 - val_loss: 1.8705\n",
      "Epoch 13/50\n",
      "201/201 [==============================] - 133s 661ms/step - loss: 1.6951 - val_loss: 1.8611\n",
      "Epoch 14/50\n",
      "201/201 [==============================] - 132s 658ms/step - loss: 1.6670 - val_loss: 1.8568\n",
      "Epoch 15/50\n",
      "201/201 [==============================] - 132s 658ms/step - loss: 1.6417 - val_loss: 1.8602\n",
      "Epoch 16/50\n",
      "201/201 [==============================] - 133s 664ms/step - loss: 1.6175 - val_loss: 1.8514\n",
      "Epoch 17/50\n",
      "201/201 [==============================] - 132s 659ms/step - loss: 1.5949 - val_loss: 1.8508\n",
      "Epoch 18/50\n",
      "201/201 [==============================] - 132s 656ms/step - loss: 1.5715 - val_loss: 1.8499\n",
      "Epoch 19/50\n",
      "201/201 [==============================] - 132s 657ms/step - loss: 1.5499 - val_loss: 1.8551\n",
      "Epoch 20/50\n",
      "201/201 [==============================] - 132s 659ms/step - loss: 1.5293 - val_loss: 1.8569\n",
      "Epoch 00020: early stopping\n"
     ]
    }
   ],
   "source": [
    "model.compile(optimizer='rmsprop', loss='sparse_categorical_crossentropy')\n",
    "es = EarlyStopping(monitor='val_loss', patience=2, verbose=1)\n",
    "history = model.fit(x=[encoder_input_train, decoder_input_train], y=decoder_target_train, \\\n",
    "          validation_data=([encoder_input_test, decoder_input_test], decoder_target_test), \\\n",
    "          batch_size=256, callbacks=[es], epochs=50)"
   ]
  },
  {
   "cell_type": "markdown",
   "id": "4d937f35",
   "metadata": {},
   "source": [
    "EarlyStopping을 설정해둬서 훈련을 끝냈다. 검증 데이터의 손실이 2회 이상 증가하면 학습이 멈추게 설정했다. 에퐄을 높게 해둬도 자동으로 오버피팅을 막을 수 있다."
   ]
  },
  {
   "cell_type": "code",
   "execution_count": 45,
   "id": "27984ecb",
   "metadata": {},
   "outputs": [
    {
     "data": {
      "image/png": "[encoded data removed]",
      "text/plain": [
       "<Figure size 432x288 with 1 Axes>"
      ]
     },
     "metadata": {
      "needs_background": "light"
     },
     "output_type": "display_data"
    }
   ],
   "source": [
    "plt.plot(history.history['loss'], label='train')\n",
    "plt.plot(history.history['val_loss'], label='test')\n",
    "plt.legend()\n",
    "plt.show()"
   ]
  },
  {
   "cell_type": "markdown",
   "id": "0aa653df",
   "metadata": {},
   "source": [
    "## 7. 인퍼런스 모델 구현하기"
   ]
  },
  {
   "cell_type": "markdown",
   "id": "bdaf8f13",
   "metadata": {},
   "source": [
    "테스트 단계에서는 정수 인덱스 행렬로 존재하는 텍스트 데이터를 실제 데이터로 복원해야 하기에 3개의 사전을 준비해둔다."
   ]
  },
  {
   "cell_type": "code",
   "execution_count": 46,
   "id": "57795e56",
   "metadata": {},
   "outputs": [
    {
     "name": "stdout",
     "output_type": "stream",
     "text": [
      "=3\n"
     ]
    }
   ],
   "source": [
    "src_index_to_word = src_tokenizer.index_word # 원문 단어 집합에서 정수 -> 단어를 얻음\n",
    "tar_word_to_index = tar_tokenizer.word_index # 요약 단어 집합에서 단어 -> 정수를 얻음\n",
    "tar_index_to_word = tar_tokenizer.index_word # 요약 단어 집합에서 정수 -> 단어를 얻음\n",
    "\n",
    "print('=3')"
   ]
  },
  {
   "cell_type": "markdown",
   "id": "d6282fc2",
   "metadata": {},
   "source": [
    "seq2seq는 훈련할 때와 실제 동작할 때 (인퍼런스 단계)의 방식이 달라서 그에 맞게 모델 설계를 따로 해야한다. 훈련 단계에서는 디코더의 입력부에 정답이 되는 문장 전체를 한 번에 넣고 디코더의 출력과 한 번에 비교할 수 있어서 인코더와 디코더를 엮은 통짜 모델 하나만 준비했다.\n",
    "\n",
    "하지만 정답이 없는 인퍼런스 단계에서는 만들어야할 문장의 길이 만큼 디코더가 반복 구조로 동작해야 하기 때문에 인코더 모델과 디코더 모델을 분리해서 설계한다."
   ]
  },
  {
   "cell_type": "code",
   "execution_count": 47,
   "id": "01c32346",
   "metadata": {},
   "outputs": [
    {
     "name": "stdout",
     "output_type": "stream",
     "text": [
      "=3\n"
     ]
    }
   ],
   "source": [
    "# 인코더 설계\n",
    "encoder_model = Model(inputs=encoder_inputs, outputs=[encoder_outputs, state_h, state_c])\n",
    "\n",
    "# 이전 시점의 상태들을 저장하는 텐서\n",
    "decoder_state_input_h = Input(shape=(hidden_size,))\n",
    "decoder_state_input_c = Input(shape=(hidden_size,))\n",
    "\n",
    "dec_emb2 = dec_emb_layer(decoder_inputs)\n",
    "\n",
    "# 문장의 다음 단어를 예측하기 위해서 초기 상태(initial_state)를 이전 시점의 상태로 사용. 이는 뒤의 함수 decode_sequence()에 구현\n",
    "# 훈련 과정에서와 달리 LSTM의 리턴하는 은닉 상태와 셀 상태인 state_h와 state_c를 버리지 않음.\n",
    "decoder_outputs2, state_h2, state_c2 = decoder_lstm(dec_emb2, \n",
    "                                                    initial_state=[decoder_state_input_h, \n",
    "                                                                   decoder_state_input_c])\n",
    "\n",
    "print('=3')"
   ]
  },
  {
   "cell_type": "markdown",
   "id": "005b6bd6",
   "metadata": {},
   "source": [
    "어텐션 메커니즘을 사용하는 출력층을 설계한다."
   ]
  },
  {
   "cell_type": "code",
   "execution_count": 48,
   "id": "80083072",
   "metadata": {},
   "outputs": [
    {
     "name": "stdout",
     "output_type": "stream",
     "text": [
      "=3\n"
     ]
    }
   ],
   "source": [
    "# 어텐션 함수\n",
    "decoder_hidden_state_input = Input(shape=(text_max_len, hidden_size))\n",
    "attn_out_inf = attn_layer([decoder_outputs2, decoder_hidden_state_input])\n",
    "decoder_inf_concat = Concatenate(axis=-1, name='concat')([decoder_outputs2, attn_out_inf])\n",
    "\n",
    "# 디코더의 출력층\n",
    "decoder_outputs2 = decoder_softmax_layer(decoder_inf_concat) \n",
    "\n",
    "# 최종 디코더 모델\n",
    "decoder_model = Model(\n",
    "    [decoder_inputs] + [decoder_hidden_state_input,decoder_state_input_h, decoder_state_input_c],\n",
    "    [decoder_outputs2] + [state_h2, state_c2])\n",
    "\n",
    "print('=3')"
   ]
  },
  {
   "cell_type": "markdown",
   "id": "03e2aa40",
   "metadata": {},
   "source": [
    "인퍼런스 단계에서 단어 시퀀스를 완성하는 함수를 만든다."
   ]
  },
  {
   "cell_type": "code",
   "execution_count": 49,
   "id": "08dfd637",
   "metadata": {},
   "outputs": [
    {
     "name": "stdout",
     "output_type": "stream",
     "text": [
      "=3\n"
     ]
    }
   ],
   "source": [
    "def decode_sequence(input_seq):\n",
    "    # 입력으로부터 인코더의 상태를 얻음\n",
    "    e_out, e_h, e_c = encoder_model.predict(input_seq)\n",
    "\n",
    "     # <SOS>에 해당하는 토큰 생성\n",
    "    target_seq = np.zeros((1,1))\n",
    "    target_seq[0, 0] = tar_word_to_index['sostoken']\n",
    "\n",
    "    stop_condition = False\n",
    "    decoded_sentence = ''\n",
    "    while not stop_condition: # stop_condition이 True가 될 때까지 루프 반복\n",
    "\n",
    "        output_tokens, h, c = decoder_model.predict([target_seq] + [e_out, e_h, e_c])\n",
    "        sampled_token_index = np.argmax(output_tokens[0, -1, :])\n",
    "        sampled_token = tar_index_to_word[sampled_token_index]\n",
    "\n",
    "        if (sampled_token!='eostoken'):\n",
    "            decoded_sentence += ' '+sampled_token\n",
    "\n",
    "        #  <eos>에 도달하거나 최대 길이를 넘으면 중단.\n",
    "        if (sampled_token == 'eostoken'  or len(decoded_sentence.split()) >= (summary_max_len-1)):\n",
    "            stop_condition = True\n",
    "\n",
    "        # 길이가 1인 타겟 시퀀스를 업데이트\n",
    "        target_seq = np.zeros((1,1))\n",
    "        target_seq[0, 0] = sampled_token_index\n",
    "\n",
    "        # 상태를 업데이트 합니다.\n",
    "        e_h, e_c = h, c\n",
    "\n",
    "    return decoded_sentence\n",
    "print('=3')"
   ]
  },
  {
   "cell_type": "markdown",
   "id": "c5797910",
   "metadata": {},
   "source": [
    "## 8. 모델 테스트"
   ]
  },
  {
   "cell_type": "markdown",
   "id": "d2a420aa",
   "metadata": {},
   "source": [
    "정수 시퀀스를 텍스트 시퀀스로 변환하는 함수를 만든다. 함수를 만들 때 Text의 정수 시퀀스에서는 패딩을 위해 사용된 숫자 0을 제외하고 Summary의 정수 시퀀스에서는 숫자 0, 시작토큰의 인덱스, 종료 토큰의 인덱스를 출력에서 제외한다."
   ]
  },
  {
   "cell_type": "code",
   "execution_count": 50,
   "id": "e5b78d8a",
   "metadata": {},
   "outputs": [
    {
     "name": "stdout",
     "output_type": "stream",
     "text": [
      "=3\n"
     ]
    }
   ],
   "source": [
    "# 원문의 정수 시퀀스를 텍스트 시퀀스로 변환\n",
    "def seq2text(input_seq):\n",
    "    temp=''\n",
    "    for i in input_seq:\n",
    "        if (i!=0):\n",
    "            temp = temp + src_index_to_word[i]+' '\n",
    "    return temp\n",
    "\n",
    "# 요약문의 정수 시퀀스를 텍스트 시퀀스로 변환\n",
    "def seq2summary(input_seq):\n",
    "    temp=''\n",
    "    for i in input_seq:\n",
    "        if ((i!=0 and i!=tar_word_to_index['sostoken']) and i!=tar_word_to_index['eostoken']):\n",
    "            temp = temp + tar_index_to_word[i] + ' '\n",
    "    return temp\n",
    "\n",
    "print('=3')"
   ]
  },
  {
   "cell_type": "code",
   "execution_count": 51,
   "id": "fde58123",
   "metadata": {},
   "outputs": [
    {
     "name": "stdout",
     "output_type": "stream",
     "text": [
      "원문 : used come four tightly wrapped tubes cookies got broken broken many crumbs bad \n",
      "실제 요약 : broken cookies and crumbs \n",
      "예측 요약 :  broken cookies\n",
      "\n",
      "\n",
      "원문 : probably best chips ever blows away fact good ingredients hands \n",
      "실제 요약 : quality \n",
      "예측 요약 :  best chips ever\n",
      "\n",
      "\n",
      "원문 : tried flavor vanilla vodka good cannot wait try flavors bought best low calorie drink ever \n",
      "실제 요약 : delicious \n",
      "예측 요약 :  best flavor\n",
      "\n",
      "\n",
      "원문 : one best products cups system hot chocolate right sweet rich creamy full bodied like sodium flavor like many instant hot chocolates add drops milk awesome \n",
      "실제 요약 : great treat \n",
      "예측 요약 :  the best\n",
      "\n",
      "\n",
      "원문 : one favorite drinks half half combination club soda fruit juice fruit juices bit sweet addition carbonation makes whole thing drink amazingly add sugar many shelf beverages even claiming healthful way much sugar guys give none tasty refreshing product would actually buy \n",
      "실제 요약 : they got it right \n",
      "예측 요약 :  great product\n",
      "\n",
      "\n",
      "원문 : disapointed particular item also good entertain several times year hopes top suitable dinner guests sadly mistaken however next week guests good \n",
      "실제 요약 : very chewy and hard to eat \n",
      "예측 요약 :  not as good as the others\n",
      "\n",
      "\n",
      "원문 : found nothing bad mix bit zing taste cause order \n",
      "실제 요약 : nothing good nothing bad \n",
      "예측 요약 :  not the same as the taste\n",
      "\n",
      "\n",
      "원문 : jerky reminds little artisan jerky used able find california strips thin easy bite flavor slightly spicy definitely smokey husband absolutely loved taking pieces per day lunch never come back home way snacks sometimes buying sale \n",
      "실제 요약 : excellent \n",
      "예측 요약 :  great jerky\n",
      "\n",
      "\n",
      "원문 : bought master cleanser alas cleanse lasted hours however discovered wonderful syrup tastes great \n",
      "실제 요약 : very good \n",
      "예측 요약 :  great product\n",
      "\n",
      "\n",
      "원문 : initially excited find gift basket seemed perfect reasonable price received product today terribly disappointed seeing honestly looks like might buy certainly sending back asap recommend others waste time money cheap product \n",
      "실제 요약 : rip off \n",
      "예측 요약 :  not as pictured\n",
      "\n",
      "\n",
      "원문 : disappointed chips oily tasted smelled rancid since supposedly high end snacks live \n",
      "실제 요약 : sea salt cut potato chips \n",
      "예측 요약 :  not bad\n",
      "\n",
      "\n",
      "원문 : found gotta go gluten due nursing gluten intolerant baby love gluten desserts something good eat ginger snaps dipped almond milk soooo good mm mm \n",
      "실제 요약 : mm and do not even like ginger \n",
      "예측 요약 :  gluten free\n",
      "\n",
      "\n",
      "원문 : daughter came home days ago another couple six year olds one moms flavors hit mainly taste seasoning someone gave one swear normal bit chex mix rather eating bugs nutrition vs amount candy say give try hey \n",
      "실제 요약 : who knew \n",
      "예측 요약 :  my kids love these\n",
      "\n",
      "\n",
      "원문 : never allergic reaction food anything else life within seconds starting chew piece gum throat began burn became strange chewing spearmint peppermint ice cubes reaction tasted another piece another pack throat started burning history food allergies might want try flavor \n",
      "실제 요약 : must be allergic \n",
      "예측 요약 :  not as advertised\n",
      "\n",
      "\n",
      "원문 : soup variety tasty country vegetable split pea carrot sweet potato cinnamon squash bisque daughter really seemed enjoy split pea country vegetable varieties nice soft pieces carrot baby could chew sweet potato cinnamon bisque squash bisque thinner always add small pasta cereal convenient flavorful young palates \n",
      "실제 요약 : tasty could have been \n",
      "예측 요약 :  good but not great\n",
      "\n",
      "\n",
      "원문 : really great stuff packets contains protein eggs easy make milk shake \n",
      "실제 요약 : recommended by my children \n",
      "예측 요약 :  great for\n",
      "\n",
      "\n",
      "원문 : kids first two used nestle good start good start problem dissolving well shake lot rd baby used similac organic switched breastmilk problem taking dissolves well packaging space efficient convenient click lid know securely closed \n",
      "실제 요약 : better than good start in \n",
      "예측 요약 :  great for\n",
      "\n",
      "\n",
      "원문 : product energy drink taste become accustomed however personally prefer overly grapefruit flavor background prefer monster let know taste preferences \n",
      "실제 요약 : too much flavor \n",
      "예측 요약 :  tastes like\n",
      "\n",
      "\n",
      "원문 : sauce depth breath flavor puts tasted store bought product comes close simmer green wax beans sliced mushrooms thin sliced red bell pepper beans crisp tender chicken stock cover drain add sauce allow rest minutes enjoy great hot warm cold \n",
      "실제 요약 : taste experience \n",
      "예측 요약 :  great product\n",
      "\n",
      "\n",
      "원문 : great flavor use flavoring also works well problem areas mice keep problem little four legged critters decreased greatly \n",
      "실제 요약 : great multi use extract \n",
      "예측 요약 :  great product\n",
      "\n",
      "\n",
      "원문 : noodles excellent aware fried ramen much healthier one little basic right package craving noodles always make cook added fresh ginger tofu broccoli soy excellent going try mushroom next seem ones people give best review \n",
      "실제 요약 : great noodles \n",
      "예측 요약 :  great for low carb dieters\n",
      "\n",
      "\n",
      "원문 : brownies pretty good substitution regular brownies nice chocolate served friends gluten free diet say would known difference tell recommend \n",
      "실제 요약 : pretty good gf \n",
      "예측 요약 :  great brownies\n",
      "\n",
      "\n",
      "원문 : sorry say product live positive reviews listed lipton makes better ice tea products worst part product get refund even credit bought like taste brewing instructions amazon obviously knows something product probably explains refund \n",
      "실제 요약 : yuck \n",
      "예측 요약 :  not bad\n",
      "\n",
      "\n",
      "원문 : work bar cup tea delicious held lunch later day great snack eat breakfast toss purse mid day \n",
      "실제 요약 : yummy breakfast snack \n",
      "예측 요약 :  great tea\n",
      "\n",
      "\n",
      "원문 : love tofu require refrigeration package open use tofu lot cooking handy time makes really convenient price bad organic tofu \n",
      "실제 요약 : so convenient no needed \n",
      "예측 요약 :  great product\n",
      "\n",
      "\n",
      "원문 : great ramyun take something like might \n",
      "실제 요약 : good but spicey \n",
      "예측 요약 :  great product\n",
      "\n",
      "\n",
      "원문 : really inedible salty tastes awful disappointed find return expensive dog treats \n",
      "실제 요약 : so salty \n",
      "예측 요약 :  inedible\n",
      "\n",
      "\n",
      "원문 : lady right seem added flavour flat postage think thought diet food add ingredients \n",
      "실제 요약 : chicken broth with tiny \n",
      "예측 요약 :  good stuff\n",
      "\n",
      "\n",
      "원문 : open package expecting instructions advice use nothing large amount several spots small amount bunch places dry seasoning mix liquid increase heat sprinkle bird deep frying bird get areas seasoned others need help still idea dry \n",
      "실제 요약 : help \n",
      "예측 요약 :  not as good as the\n",
      "\n",
      "\n",
      "원문 : ever since kid loved shake bake family eats love super easy make tastes good healthy way eat pork highly recommend \n",
      "실제 요약 : love shake bake \n",
      "예측 요약 :  great for\n",
      "\n",
      "\n",
      "원문 : grateful able obtain organic seed combination grow sprouts daily consumption use almost full salad dressing salad lettuce spinach \n",
      "실제 요약 : very healthy mix \n",
      "예측 요약 :  great product\n",
      "\n",
      "\n",
      "원문 : one best pastas ever eaten family like better every pasta tried gluten free otherwise highly recommended \n",
      "실제 요약 : best pasta out there \n",
      "예측 요약 :  great pasta\n",
      "\n",
      "\n",
      "원문 : powder really good funky taste lot powders hard mix hand almost use blender good skim milk water \n",
      "실제 요약 : protein powder \n",
      "예측 요약 :  good stuff\n",
      "\n",
      "\n",
      "원문 : using another brand french roast thought try one like coffee rich full flavored like french roast one really fills bill drink black get taste coffee milky mess buy one future format coffee also interesting cup problems packaging seems work fine end coffee great tasting \n",
      "실제 요약 : really liked this coffee \n",
      "예측 요약 :  good coffee\n",
      "\n",
      "\n",
      "원문 : good quality nectar tasty however expecting fluid ounces ounces weight find ounces weight makes fluid ounces \n",
      "실제 요약 : these oz not ounces \n",
      "예측 요약 :  good but not great\n",
      "\n",
      "\n",
      "원문 : really like whole wheat orzo lot could find would recommend anyone loves orzo want eat white flour \n",
      "실제 요약 : good and tasty product \n",
      "예측 요약 :  great value\n",
      "\n",
      "\n",
      "원문 : yeah agree kind powdery still lemon grass powder feeling going get powder grass break get moved around bag think well still getting benefit like flavor reminds fruit way alone add green tea sometime rd time ordering tea nd suggested boost immune system \n",
      "실제 요약 : like it \n",
      "예측 요약 :  great but not what expected\n",
      "\n",
      "\n",
      "원문 : excellent taste taste tastes exactly would brew cups regular coffee maker except cup time fresh \n",
      "실제 요약 : folgers coffee cups \n",
      "예측 요약 :  great coffee\n",
      "\n",
      "\n",
      "원문 : white shepherd loves eating grass since never know sprayed grass bought special treat kit grew well continues several weeks however dig play dirt really eat grass like outside eat mix food still eats outdoor stuff however products fault kit says grows well easy eats pot blame product choice find \n",
      "실제 요약 : but dog not crazy about it \n"
     ]
    },
    {
     "name": "stdout",
     "output_type": "stream",
     "text": [
      "예측 요약 :  my dog loves this toy\n",
      "\n",
      "\n",
      "원문 : others like lot think taste good texture soft tender kind crumbly prefer honey pepper spicy either nice ok others office buy stick kinds \n",
      "실제 요약 : it is ok \n",
      "예측 요약 :  good but not great\n",
      "\n",
      "\n",
      "원문 : tried liked tasty bite basmati rice happy try gogo rice steamed brown rice bowl easy preparation healthy white rite delicious flavor hooked \n",
      "실제 요약 : fast easy delicious \n",
      "예측 요약 :  great rice\n",
      "\n",
      "\n",
      "원문 : love buffalo wings heat flavor product offering tongue burning sinus clearing heat good bite flavor describe addictive whole ounce package time sure seems hint bleu cheese taste well adds whole hot wing experience snack opinion kids like well hide bag sometimes ensure get fair share \n",
      "실제 요약 : cannot stop eating these puppies \n",
      "예측 요약 :  great flavor\n",
      "\n",
      "\n",
      "원문 : cons pieces small lot sugar around metal get sugar pros ginger quality good nice hot like farms brand best bigger cubes made raw sugar edit stars opening packages realized half pieces bag size great snacking maybe baking \n",
      "실제 요약 : and \n",
      "예측 요약 :  sugar free\n",
      "\n",
      "\n",
      "원문 : good shampoo always good hygiene products made men lathers rich bad smell leaves hair feeling full much dandruff use much product hair like gel etc recommend add product men list shampoos use \n",
      "실제 요약 : decent shampoo \n",
      "예측 요약 :  great product\n",
      "\n",
      "\n",
      "원문 : dog always liked greenies since years old product ideal softer regular greenies \n",
      "실제 요약 : greenies \n",
      "예측 요약 :  greenies\n",
      "\n",
      "\n",
      "원문 : love tea drink every day year grandma made tea tea family drinks \n",
      "실제 요약 : lipton loose tea \n",
      "예측 요약 :  great tea\n",
      "\n",
      "\n",
      "원문 : taste different everyone good starbucks french roast better tasting black tiger price cannot beat \n",
      "실제 요약 : great price \n",
      "예측 요약 :  good coffee\n",
      "\n",
      "\n",
      "원문 : boston terriers love treats natural wholesome soft enough break multiple pieces keep steady supply house order least containers time since want run amazon seller pets best price around \n",
      "실제 요약 : best treats best price \n",
      "예측 요약 :  great treat\n",
      "\n",
      "\n",
      "원문 : enjoyed water refreshing find stomach sensitivity bottled waters problem water nice bottles water comes washington \n",
      "실제 요약 : water \n",
      "예측 요약 :  great product\n",
      "\n",
      "\n",
      "원문 : liked crunch bit sweet like cereals low sugar calories sugars cared taste ok would buy glad got try free \n",
      "실제 요약 : too sweet for me \n",
      "예측 요약 :  not bad\n",
      "\n",
      "\n"
     ]
    }
   ],
   "source": [
    "for i in range(50, 100):\n",
    "    print(\"원문 :\", seq2text(encoder_input_test[i]))\n",
    "    print(\"실제 요약 :\", seq2summary(decoder_input_test[i]))\n",
    "    print(\"예측 요약 :\", decode_sequence(encoder_input_test[i].reshape(1, text_max_len)))\n",
    "    print(\"\\n\")"
   ]
  },
  {
   "cell_type": "markdown",
   "id": "c96acefe",
   "metadata": {},
   "source": [
    "## 9. 추출적 요약 해보기"
   ]
  },
  {
   "cell_type": "markdown",
   "id": "0c6f06a1",
   "metadata": {},
   "source": [
    "Summa 패키지에는 추출적 요약을 위한 모듈인 summarize가 있다. 매트릭스 시놉시스를 요약해본다."
   ]
  },
  {
   "cell_type": "markdown",
   "id": "b3b2b3e7",
   "metadata": {},
   "source": [
    "### 데이터 다운로드"
   ]
  },
  {
   "cell_type": "code",
   "execution_count": 52,
   "id": "0fc9b4fb",
   "metadata": {},
   "outputs": [],
   "source": [
    "import requests\n",
    "from summa.summarizer import summarize"
   ]
  },
  {
   "cell_type": "code",
   "execution_count": 53,
   "id": "aed963bb",
   "metadata": {},
   "outputs": [],
   "source": [
    "text = requests.get('http://rare-technologies.com/the_matrix_synopsis.txt').text"
   ]
  },
  {
   "cell_type": "code",
   "execution_count": 54,
   "id": "dc319a75",
   "metadata": {},
   "outputs": [
    {
     "name": "stdout",
     "output_type": "stream",
     "text": [
      "The screen is filled with green, cascading code which gives way to the title, The Matrix.\r\n",
      "\r\n",
      "A phone rings and text appears on the screen: \"Call trans opt: received. 2-19-98 13:24:18 REC: Log>\" As a conversation takes place between Trinity (Carrie-Anne Moss) and Cypher (Joe Pantoliano), two free humans, a table of random green numbers are being scanned and individual numbers selected, creating a series of digits not unlike an ordinary phone number, as if a code is being deciphered or a call is being traced.\r\n",
      "\r\n",
      "Trinity discusses some unknown person. Cypher taunts Trinity, suggesting she enjoys watching him. Trinity counters that \"Morpheus (Laurence Fishburne) says he may be 'the One',\" just as the sound of a number being selected alerts Trinity that someone may be tracing their call. She ends the call.\r\n",
      "\r\n",
      "Armed policemen move down a darkened, decrepit hallway in the Heart O' the City Hotel, their flashlight beam bouncing just ahead of them. They come to room 303, kick down the door and find a woman dressed in black, facing away from them. It's Trinity. She brings her hands up from the laptop she's working on at their command.\r\n",
      "\r\n",
      "Outside the hotel a car drives up and three agents appear in neatly pressed black suits. They are Agent Smith (Hugo Weaving), Agent Brown (Paul Goddard), and Agent Jones (Robert Taylor). Agent Smith and the presiding police lieutenant argue. Agent Smith admonishes the policeman that they were given specific orders to contact the agents first, for their\n"
     ]
    }
   ],
   "source": [
    "print(text[:1500])"
   ]
  },
  {
   "cell_type": "markdown",
   "id": "e5a6f313",
   "metadata": {},
   "source": [
    "### summarize 사용하기"
   ]
  },
  {
   "cell_type": "markdown",
   "id": "4bf821fa",
   "metadata": {},
   "source": [
    "Summa의 summarize는 문장 토큰화를 별도로 하지 않아도 내부적으로 토큰화한다. 비율을 설정해 원문의 0.005%만 출력하게 했다."
   ]
  },
  {
   "cell_type": "code",
   "execution_count": 55,
   "id": "7f1082f1",
   "metadata": {},
   "outputs": [
    {
     "name": "stdout",
     "output_type": "stream",
     "text": [
      "Summary:\n",
      "Morpheus, Trinity, Neo, Apoc, Switch, Mouse and Cypher are jacked into the Matrix.\n",
      "Trinity brings the helicopter down to the floor that Morpheus is on and Neo opens fire on the three Agents.\n"
     ]
    }
   ],
   "source": [
    "print('Summary:')\n",
    "print(summarize(text, ratio=0.005))"
   ]
  },
  {
   "cell_type": "markdown",
   "id": "3adb3d24",
   "metadata": {},
   "source": [
    "`split=True`로 리스트로 반환할 수 있다."
   ]
  },
  {
   "cell_type": "code",
   "execution_count": 56,
   "id": "c4c00f81",
   "metadata": {},
   "outputs": [
    {
     "name": "stdout",
     "output_type": "stream",
     "text": [
      "Summary:\n",
      "['Morpheus, Trinity, Neo, Apoc, Switch, Mouse and Cypher are jacked into the Matrix.', 'Trinity brings the helicopter down to the floor that Morpheus is on and Neo opens fire on the three Agents.']\n"
     ]
    }
   ],
   "source": [
    "print('Summary:')\n",
    "print(summarize(text, ratio=0.005, split=True))"
   ]
  },
  {
   "cell_type": "markdown",
   "id": "123c54c0",
   "metadata": {},
   "source": [
    "단어 수로 요약문의 크기를 조절할 수 있다."
   ]
  },
  {
   "cell_type": "code",
   "execution_count": 57,
   "id": "a439d4fc",
   "metadata": {},
   "outputs": [
    {
     "name": "stdout",
     "output_type": "stream",
     "text": [
      "Summary:\n",
      "Trinity takes Neo to Morpheus.\n",
      "Morpheus, Trinity, Neo, Apoc, Switch, Mouse and Cypher are jacked into the Matrix.\n",
      "Trinity brings the helicopter down to the floor that Morpheus is on and Neo opens fire on the three Agents.\n"
     ]
    }
   ],
   "source": [
    "print('Summary:')\n",
    "print(summarize(text, words=50))"
   ]
  }
 ],
 "metadata": {
  "kernelspec": {
   "display_name": "Python 3 (ipykernel)",
   "language": "python",
   "name": "python3"
  },
  "language_info": {
   "codemirror_mode": {
    "name": "ipython",
    "version": 3
   },
   "file_extension": ".py",
   "mimetype": "text/x-python",
   "name": "python",
   "nbconvert_exporter": "python",
   "pygments_lexer": "ipython3",
   "version": "3.9.7"
  }
 },
 "nbformat": 4,
 "nbformat_minor": 5
}
